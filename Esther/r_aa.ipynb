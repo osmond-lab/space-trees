{
 "cells": [
  {
   "cell_type": "code",
   "execution_count": 49,
   "id": "06d1d3d6-a391-4288-baa8-7e334096e3dc",
   "metadata": {},
   "outputs": [],
   "source": [
    "import pyslim, msprime, tskit, random\n",
    "import numpy as np\n",
    "import matplotlib.pyplot as plt\n",
    "import ipympl"
   ]
  },
  {
   "cell_type": "code",
   "execution_count": 50,
   "id": "b474bd42-5600-4528-9969-1f0cd85fa5a4",
   "metadata": {},
   "outputs": [
    {
     "data": {
      "text/html": [
       "\n",
       "            <div>\n",
       "              <style>\n",
       "                .tskit-table thead tr th {text-align: left;padding: 0.5em 0.5em;}\n",
       "                .tskit-table tbody tr td {padding: 0.5em 0.5em;}\n",
       "                .tskit-table tbody tr td:first-of-type {text-align: left;}\n",
       "                .tskit-details-label {vertical-align: top; padding-right:5px;}\n",
       "                .tskit-table-set {display: inline-flex;flex-wrap: wrap;margin: -12px 0 0 -12px;width: calc(100% + 12px);}\n",
       "                .tskit-table-set-table {margin: 12px 0 0 12px;}\n",
       "                details {display: inline-block;}\n",
       "                summary {cursor: pointer; outline: 0; display: list-item;}\n",
       "              </style>\n",
       "              <div class=\"tskit-table-set\">\n",
       "                <div class=\"tskit-table-set-table\">\n",
       "                  <table class=\"tskit-table\">\n",
       "                    <thead>\n",
       "                      <tr>\n",
       "                        <th style=\"padding:0;line-height:21px;\">\n",
       "                          <img style=\"height: 32px;display: inline-block;padding: 3px 5px 3px 0;\" src=\"https://raw.githubusercontent.com/tskit-dev/administrative/main/tskit_logo.svg\"/>\n",
       "                          <a target=\"_blank\" href=\"https://tskit.readthedocs.io/en/latest/python-api.html#the-treesequence-class\"> Tree Sequence </a>\n",
       "                        </th>\n",
       "                      </tr>\n",
       "                    </thead>\n",
       "                    <tbody>\n",
       "                      <tr><td>Trees</td><td>123</td></tr>\n",
       "                      <tr><td>Sequence Length</td><td>100000.0</td></tr>\n",
       "                      <tr><td>Sample Nodes</td><td>95210</td></tr>\n",
       "                      <tr><td>Total Size</td><td>9.3 MiB</td></tr>\n",
       "                      <tr>\n",
       "                        <td>Metadata</td><td style=\"text-align: left;\">\n",
       "                <div>\n",
       "                  <span class=\"tskit-details-label\"></span>\n",
       "                  <details open>\n",
       "                    <summary>dict</summary>\n",
       "                    \n",
       "                <div>\n",
       "                  <span class=\"tskit-details-label\">SLiM:</span>\n",
       "                  <details >\n",
       "                    <summary>dict</summary>\n",
       "                    file_version: 0.6<br/>generation: 2000<br/>model_type: nonWF<br/>nucleotide_based: False<br/>separate_sexes: False<br/>spatial_dimensionality: xy<br/>spatial_periodicity: xy<br/>stage: late<br/>\n",
       "                  </details>\n",
       "                </div>\n",
       "                <br/>\n",
       "                  </details>\n",
       "                </div>\n",
       "                </td></tr>\n",
       "                    </tbody>\n",
       "                  </table>\n",
       "                </div>\n",
       "                <div class=\"tskit-table-set-table\">\n",
       "                  <table class=\"tskit-table\">\n",
       "                    <thead>\n",
       "                      <tr>\n",
       "                        <th style=\"line-height:21px;\">Table</th>\n",
       "                        <th>Rows</th>\n",
       "                        <th>Size</th>\n",
       "                        <th>Has Metadata</th>\n",
       "                      </tr>\n",
       "                    </thead>\n",
       "                    <tbody>\n",
       "                    \n",
       "                  <tr>\n",
       "                    <td>Edges</td>\n",
       "                      <td>95597</td>\n",
       "                      <td>2.6 MiB</td>\n",
       "                      <td style=\"text-align: center;\">\n",
       "                        \n",
       "                      </td>\n",
       "                    </tr>\n",
       "                \n",
       "                  <tr>\n",
       "                    <td>Individuals</td>\n",
       "                      <td>47605</td>\n",
       "                      <td>2.9 MiB</td>\n",
       "                      <td style=\"text-align: center;\">\n",
       "                        ✅\n",
       "                      </td>\n",
       "                    </tr>\n",
       "                \n",
       "                  <tr>\n",
       "                    <td>Migrations</td>\n",
       "                      <td>0</td>\n",
       "                      <td>4 Bytes</td>\n",
       "                      <td style=\"text-align: center;\">\n",
       "                        \n",
       "                      </td>\n",
       "                    </tr>\n",
       "                \n",
       "                  <tr>\n",
       "                    <td>Mutations</td>\n",
       "                      <td>0</td>\n",
       "                      <td>1.2 KiB</td>\n",
       "                      <td style=\"text-align: center;\">\n",
       "                        \n",
       "                      </td>\n",
       "                    </tr>\n",
       "                \n",
       "                  <tr>\n",
       "                    <td>Nodes</td>\n",
       "                      <td>95431</td>\n",
       "                      <td>3.1 MiB</td>\n",
       "                      <td style=\"text-align: center;\">\n",
       "                        ✅\n",
       "                      </td>\n",
       "                    </tr>\n",
       "                \n",
       "                  <tr>\n",
       "                    <td>Populations</td>\n",
       "                      <td>2</td>\n",
       "                      <td>2.8 KiB</td>\n",
       "                      <td style=\"text-align: center;\">\n",
       "                        ✅\n",
       "                      </td>\n",
       "                    </tr>\n",
       "                \n",
       "                  <tr>\n",
       "                    <td>Provenances</td>\n",
       "                      <td>2</td>\n",
       "                      <td>5.6 KiB</td>\n",
       "                      <td style=\"text-align: center;\">\n",
       "                        \n",
       "                      </td>\n",
       "                    </tr>\n",
       "                \n",
       "                  <tr>\n",
       "                    <td>Sites</td>\n",
       "                      <td>0</td>\n",
       "                      <td>8 Bytes</td>\n",
       "                      <td style=\"text-align: center;\">\n",
       "                        \n",
       "                      </td>\n",
       "                    </tr>\n",
       "                \n",
       "                    </tbody>\n",
       "                  </table>\n",
       "                </div>\n",
       "              </div>\n",
       "            </div>\n",
       "            "
      ],
      "text/plain": [
       "<pyslim.slim_tree_sequence.SlimTreeSequence at 0x7f81799ead30>"
      ]
     },
     "execution_count": 50,
     "metadata": {},
     "output_type": "execute_result"
    }
   ],
   "source": [
    "#recapitate\n",
    "ts = pyslim.load(\"rem3.trees\")\n",
    "ts = ts.recapitate(recombination_rate = 1e-8, Ne=1000)\n",
    "ts"
   ]
  },
  {
   "cell_type": "code",
   "execution_count": 51,
   "id": "59e6eaf7-91fb-40a6-9d54-c8c1e6dcade8",
   "metadata": {
    "tags": []
   },
   "outputs": [],
   "source": [
    "#sample individuals from present day\n",
    "\n",
    "samps = random.sample(sorted(ts.individuals_alive_at(0)), 5)\n",
    "snodes = []\n",
    "for i in range(len(samps)):\n",
    "    snodes.append(ts.individuals()[samps[i]].nodes[0])\n",
    "    snodes.append(ts.individuals()[samps[i]].nodes[1])"
   ]
  },
  {
   "cell_type": "code",
   "execution_count": 22,
   "id": "fe5b60d2-f29c-4086-bbcf-b767a25c6bda",
   "metadata": {},
   "outputs": [],
   "source": [
    "#simplify \n",
    "sts = ts.simplify(snodes)"
   ]
  },
  {
   "cell_type": "code",
   "execution_count": 23,
   "id": "703c2103-8121-44d9-a2ad-7c3a2f24516d",
   "metadata": {},
   "outputs": [
    {
     "data": {
      "text/plain": [
       "[10, 11, 4, 5, 6, 7, 0, 1, 8, 9, 2, 3]"
      ]
     },
     "execution_count": 23,
     "metadata": {},
     "output_type": "execute_result"
    }
   ],
   "source": [
    "simpns = []\n",
    "for i in sts.individuals_alive_at(0):\n",
    "    for n in sts.individual(i).nodes:\n",
    "        simpns.append(n)\n",
    "simpns"
   ]
  },
  {
   "cell_type": "code",
   "execution_count": 24,
   "id": "587c2a07-6564-4306-b1d6-d5f6a021d957",
   "metadata": {},
   "outputs": [],
   "source": [
    "first = sts.first()\n",
    "\n",
    "lists, simpis, ancestors = [], [], [] #lists of xyz coordinates for each individual, \n",
    "                                      #descendant & ancestral individuals in simplified ts\n",
    "for n in simpns:\n",
    "    ind = sts.node(n).individual\n",
    "    if ind not in simpis:\n",
    "        simpis.append(ind)\n",
    "    x = [sts.individual(ind).location[0]]\n",
    "    y = [sts.individual(ind).location[1]]\n",
    "    z = [sts.individual(ind).time]\n",
    "    while first.parent(n) != tskit.NULL and sts.node(first.parent(n)).time < 2000:\n",
    "        n = first.parent(n)\n",
    "        indi = sts.node(n).individual\n",
    "        if indi != -1:\n",
    "            x.append(sts.individual(indi).location[0])\n",
    "            y.append(sts.individual(indi).location[1])\n",
    "            z.append(sts.individual(indi).time)\n",
    "    ancestors.append(sts.node(n).individual)\n",
    "    lists.append([x, y, z])\n",
    "    "
   ]
  },
  {
   "cell_type": "code",
   "execution_count": 32,
   "id": "23488393-8c90-4e3f-b6e6-2fca11b55bff",
   "metadata": {},
   "outputs": [],
   "source": [
    "xan, yan, zan = [], [], []\n",
    "for i in ancestors:\n",
    "    xan.append(sts.individual(i).location[0])\n",
    "    yan.append(sts.individual(i).location[1])\n",
    "    zan.append(sts.individual(i).time)\n",
    "    \n",
    "xde, yde, zde = [], [], []\n",
    "for i in simpis:\n",
    "    xde.append(sts.individual(i).location[0])\n",
    "    yde.append(sts.individual(i).location[1])\n",
    "    zde.append(sts.individual(i).time)"
   ]
  },
  {
   "cell_type": "code",
   "execution_count": 45,
   "id": "8466dfc5-7ef4-4e72-b550-813a88799ff3",
   "metadata": {},
   "outputs": [
    {
     "data": {
      "application/vnd.jupyter.widget-view+json": {
       "model_id": "44bbc82a4b4940499a6443c096591806",
       "version_major": 2,
       "version_minor": 0
      },
      "text/plain": [
       "Canvas(toolbar=Toolbar(toolitems=[('Home', 'Reset original view', 'home', 'home'), ('Back', 'Back to previous …"
      ]
     },
     "metadata": {},
     "output_type": "display_data"
    },
    {
     "data": {
      "text/plain": [
       "<mpl_toolkits.mplot3d.art3d.Path3DCollection at 0x7f817a333fa0>"
      ]
     },
     "execution_count": 45,
     "metadata": {},
     "output_type": "execute_result"
    }
   ],
   "source": [
    "fig = plt.figure()\n",
    "ax = fig.add_subplot(projection='3d')\n",
    "ax.set_zlim([2000, 0])\n",
    "\n",
    "for i in range(len(lists)):\n",
    "    ax.plot(lists[i][0], lists[i][1], lists[i][2], color=\"black\", linewidth=0.7)\n",
    "\n",
    "ax.scatter3D(xan, yan, zan, color=\"xkcd:cornflower blue\")\n",
    "ax.scatter3D(xde, yde, zde, color=\"xkcd:pink\")"
   ]
  },
  {
   "cell_type": "code",
   "execution_count": null,
   "id": "b84f05c9-5c6e-4fe8-9292-f0654c3f5c17",
   "metadata": {},
   "outputs": [],
   "source": []
  }
 ],
 "metadata": {
  "kernelspec": {
   "display_name": "Python 3",
   "language": "python",
   "name": "python3"
  },
  "language_info": {
   "codemirror_mode": {
    "name": "ipython",
    "version": 3
   },
   "file_extension": ".py",
   "mimetype": "text/x-python",
   "name": "python",
   "nbconvert_exporter": "python",
   "pygments_lexer": "ipython3",
   "version": "3.9.5"
  }
 },
 "nbformat": 4,
 "nbformat_minor": 5
}
