{
 "cells": [
  {
   "cell_type": "code",
   "execution_count": 12,
   "id": "9ca41629-a33d-4429-ab2e-7819bc8e2209",
   "metadata": {},
   "outputs": [],
   "source": [
    "%matplotlib widget\n",
    "import pyslim, msprime, tskit, random, math\n",
    "import numpy as np\n",
    "import matplotlib.pyplot as plt\n",
    "from IPython.display import SVG, display\n",
    "\n",
    "#load tree sequence file, recapitate/mutate if desired\n",
    "#not recapitating now because that makes tree roots inaccessible individual-wise\n",
    "\n",
    "ts = pyslim.load(\"/Users/alexanderwhitwam/Dropbox/university/research/space-trees/alex/disp.trees\")\n",
    "#ts = ts.recapitate(recombination_rate = 1e-8, Ne=500)\n",
    "#ts = pyslim.SlimTreeSequence(msprime.mutate(ts, rate=1e-7))"
   ]
  },
  {
   "cell_type": "code",
   "execution_count": 13,
   "id": "f3733246-0a6e-451c-b01e-e6b1b3cab9e0",
   "metadata": {},
   "outputs": [],
   "source": [
    "samps = random.sample(sorted(ts.individuals_alive_at(0)), 5)\n",
    "snodes = []\n",
    "for i in samps:\n",
    "    snodes.append(ts.individuals()[i].nodes[0])\n",
    "    snodes.append(ts.individuals()[i].nodes[1])\n",
    "sts = ts.simplify(snodes, keep_unary = False, keep_input_roots = True)"
   ]
  },
  {
   "cell_type": "code",
   "execution_count": 14,
   "id": "141fdf3b-5cf5-4e69-8040-5f3374005e13",
   "metadata": {},
   "outputs": [
    {
     "data": {
      "image/svg+xml": [
       "<svg xmlns=\"http://www.w3.org/2000/svg\" xmlns:ev=\"http://www.w3.org/2001/xml-events\" xmlns:xlink=\"http://www.w3.org/1999/xlink\" baseProfile=\"full\" height=\"200\" version=\"1.1\" width=\"400\"><defs><style type=\"text/css\"><![CDATA[.background path {fill: #808080; fill-opacity:0}.background path:nth-child(odd) {fill-opacity:.1}.axes {font-size: 14px}.x-axis .tick .lab {font-weight: bold}.axes, .tree {font-size: 14px; text-anchor:middle}.y-axis line.grid {stroke: #FAFAFA}.y-axis > .lab text {transform: translateX(0.8em) rotate(-90deg)}.x-axis .tick g {transform: translateY(0.9em)}.x-axis > .lab text {transform: translateY(-0.8em)}.axes line, .edge {stroke:black; fill:none}.node > .sym {fill: black; stroke: none}.site > .sym {stroke: black}.mut text {fill: red; font-style: italic}.mut.extra text {fill: hotpink}.mut line {fill: none; stroke: none}.mut .sym {fill: none; stroke: red}.mut.extra .sym {stroke: hotpink}.node .mut .sym {stroke-width: 1.5px}.tree text, .tree-sequence text {dominant-baseline: central}.plotbox .lab.lft {text-anchor: end}.plotbox .lab.rgt {text-anchor: start}]]></style></defs><g class=\"tree-sequence\"><g class=\"background\"><path d=\"M20,0 l180,0 l0,138.2 l33.6528,25 l0,5 l-213.653,0 l0,-5 l0,-25 l0,-138.2z\"/><path d=\"M200,0 l180,0 l0,138.2 l0,25 l0,5 l-146.347,0 l0,-5 l-33.6528,-25 l0,-138.2z\"/></g><g class=\"axes\"><g class=\"x-axis\"><g class=\"lab\" transform=\"translate(200,200)\"><text text-anchor=\"middle\">Genome position</text></g><line x1=\"20\" x2=\"380\" y1=\"163.2\" y2=\"163.2\"/><g class=\"tick\" transform=\"translate(20 163.2)\"><line x1=\"0\" x2=\"0\" y1=\"0\" y2=\"5\"/><g class=\"lab\" transform=\"translate(0,5)\"><text>0</text></g></g><g class=\"tick\" transform=\"translate(233.653 163.2)\"><line x1=\"0\" x2=\"0\" y1=\"0\" y2=\"5\"/><g class=\"lab\" transform=\"translate(0,5)\"><text>59348</text></g></g><g class=\"tick\" transform=\"translate(380 163.2)\"><line x1=\"0\" x2=\"0\" y1=\"0\" y2=\"5\"/><g class=\"lab\" transform=\"translate(0,5)\"><text>100000</text></g></g><g class=\"site s0\" transform=\"translate(54.2648 163.2)\"><line class=\"sym\" x1=\"0\" x2=\"0\" y1=\"0\" y2=\"-10\"/><g class=\"mut m0\"><polyline class=\"sym\" points=\"2.5,-6.5 0,-1.5 -2.5,-6.5\"/></g></g><g class=\"site s1\" transform=\"translate(62.4548 163.2)\"><line class=\"sym\" x1=\"0\" x2=\"0\" y1=\"0\" y2=\"-10\"/><g class=\"mut m1\"><polyline class=\"sym\" points=\"2.5,-6.5 0,-1.5 -2.5,-6.5\"/></g></g><g class=\"site s2\" transform=\"translate(74.2088 163.2)\"><line class=\"sym\" x1=\"0\" x2=\"0\" y1=\"0\" y2=\"-10\"/><g class=\"mut m2\"><polyline class=\"sym\" points=\"2.5,-6.5 0,-1.5 -2.5,-6.5\"/></g></g><g class=\"site s3\" transform=\"translate(97.6808 163.2)\"><line class=\"sym\" x1=\"0\" x2=\"0\" y1=\"0\" y2=\"-10\"/><g class=\"mut m3\"><polyline class=\"sym\" points=\"2.5,-6.5 0,-1.5 -2.5,-6.5\"/></g></g><g class=\"site s4\" transform=\"translate(129.123 163.2)\"><line class=\"sym\" x1=\"0\" x2=\"0\" y1=\"0\" y2=\"-10\"/><g class=\"mut m4\"><polyline class=\"sym\" points=\"2.5,-6.5 0,-1.5 -2.5,-6.5\"/></g></g><g class=\"site s5\" transform=\"translate(157.66 163.2)\"><line class=\"sym\" x1=\"0\" x2=\"0\" y1=\"0\" y2=\"-10\"/><g class=\"mut m5\"><polyline class=\"sym\" points=\"2.5,-6.5 0,-1.5 -2.5,-6.5\"/></g></g><g class=\"site s6\" transform=\"translate(160.371 163.2)\"><line class=\"sym\" x1=\"0\" x2=\"0\" y1=\"0\" y2=\"-10\"/><g class=\"mut m6\"><polyline class=\"sym\" points=\"2.5,-6.5 0,-1.5 -2.5,-6.5\"/></g></g><g class=\"site s7\" transform=\"translate(172.309 163.2)\"><line class=\"sym\" x1=\"0\" x2=\"0\" y1=\"0\" y2=\"-10\"/><g class=\"mut m7\"><polyline class=\"sym\" points=\"2.5,-6.5 0,-1.5 -2.5,-6.5\"/></g></g><g class=\"site s8\" transform=\"translate(213.975 163.2)\"><line class=\"sym\" x1=\"0\" x2=\"0\" y1=\"0\" y2=\"-10\"/><g class=\"mut m8\"><polyline class=\"sym\" points=\"2.5,-6.5 0,-1.5 -2.5,-6.5\"/></g></g><g class=\"site s9\" transform=\"translate(255.814 163.2)\"><line class=\"sym\" x1=\"0\" x2=\"0\" y1=\"0\" y2=\"-10\"/><g class=\"mut m9\"><polyline class=\"sym\" points=\"2.5,-6.5 0,-1.5 -2.5,-6.5\"/></g></g><g class=\"site s10\" transform=\"translate(258.5 163.2)\"><line class=\"sym\" x1=\"0\" x2=\"0\" y1=\"0\" y2=\"-10\"/><g class=\"mut m10\"><polyline class=\"sym\" points=\"2.5,-6.5 0,-1.5 -2.5,-6.5\"/></g></g><g class=\"site s11\" transform=\"translate(261.574 163.2)\"><line class=\"sym\" x1=\"0\" x2=\"0\" y1=\"0\" y2=\"-10\"/><g class=\"mut m11\"><polyline class=\"sym\" points=\"2.5,-6.5 0,-1.5 -2.5,-6.5\"/></g></g><g class=\"site s12\" transform=\"translate(278.163 163.2)\"><line class=\"sym\" x1=\"0\" x2=\"0\" y1=\"0\" y2=\"-10\"/><g class=\"mut m12\"><polyline class=\"sym\" points=\"2.5,-6.5 0,-1.5 -2.5,-6.5\"/></g></g><g class=\"site s13\" transform=\"translate(288.499 163.2)\"><line class=\"sym\" x1=\"0\" x2=\"0\" y1=\"0\" y2=\"-10\"/><g class=\"mut m13\"><polyline class=\"sym\" points=\"2.5,-6.5 0,-1.5 -2.5,-6.5\"/></g></g><g class=\"site s14\" transform=\"translate(305.624 163.2)\"><line class=\"sym\" x1=\"0\" x2=\"0\" y1=\"0\" y2=\"-10\"/><g class=\"mut m14\"><polyline class=\"sym\" points=\"2.5,-6.5 0,-1.5 -2.5,-6.5\"/></g></g><g class=\"site s15\" transform=\"translate(307.795 163.2)\"><line class=\"sym\" x1=\"0\" x2=\"0\" y1=\"0\" y2=\"-10\"/><g class=\"mut m15\"><polyline class=\"sym\" points=\"2.5,-6.5 0,-1.5 -2.5,-6.5\"/></g></g><g class=\"site s16\" transform=\"translate(310.365 163.2)\"><line class=\"sym\" x1=\"0\" x2=\"0\" y1=\"0\" y2=\"-10\"/><g class=\"mut m16\"><polyline class=\"sym\" points=\"2.5,-6.5 0,-1.5 -2.5,-6.5\"/></g></g><g class=\"site s17\" transform=\"translate(315.607 163.2)\"><line class=\"sym\" x1=\"0\" x2=\"0\" y1=\"0\" y2=\"-10\"/><g class=\"mut m17\"><polyline class=\"sym\" points=\"2.5,-6.5 0,-1.5 -2.5,-6.5\"/></g></g><g class=\"site s18\" transform=\"translate(320.463 163.2)\"><line class=\"sym\" x1=\"0\" x2=\"0\" y1=\"0\" y2=\"-10\"/><g class=\"mut m18\"><polyline class=\"sym\" points=\"2.5,-6.5 0,-1.5 -2.5,-6.5\"/></g></g><g class=\"site s19\" transform=\"translate(332.833 163.2)\"><line class=\"sym\" x1=\"0\" x2=\"0\" y1=\"0\" y2=\"-10\"/><g class=\"mut m19\"><polyline class=\"sym\" points=\"2.5,-6.5 0,-1.5 -2.5,-6.5\"/></g></g><g class=\"site s20\" transform=\"translate(343.6 163.2)\"><line class=\"sym\" x1=\"0\" x2=\"0\" y1=\"0\" y2=\"-10\"/><g class=\"mut m20\"><polyline class=\"sym\" points=\"2.5,-6.5 0,-1.5 -2.5,-6.5\"/></g></g><g class=\"site s21\" transform=\"translate(360.7 163.2)\"><line class=\"sym\" x1=\"0\" x2=\"0\" y1=\"0\" y2=\"-10\"/><g class=\"mut m21\"><polyline class=\"sym\" points=\"2.5,-6.5 0,-1.5 -2.5,-6.5\"/></g></g><g class=\"site s22\" transform=\"translate(372.314 163.2)\"><line class=\"sym\" x1=\"0\" x2=\"0\" y1=\"0\" y2=\"-10\"/><g class=\"mut m22\"><polyline class=\"sym\" points=\"2.5,-6.5 0,-1.5 -2.5,-6.5\"/></g></g></g></g><g class=\"plotbox trees\"><g class=\"tree t0\" transform=\"translate(20 0)\"><g class=\"plotbox\"><g class=\"i6 node n20 p0 root\" transform=\"translate(70.3125 26.8)\"><g class=\"a20 i7 m1 m2 m6 m8 node n19 p0 s1 s2 s6 s8\" transform=\"translate(0.0 16.7999)\"><g class=\"a19 i13 m0 node n13 p0 s0\" transform=\"translate(-36.3125 70.5596)\"><g class=\"a13 i2 leaf node n0 p0 sample\" transform=\"translate(-7 6.43602)\"><path class=\"edge\" d=\"M 0 0 V -6.43602 H 7\"/><rect class=\"sym\" height=\"6\" width=\"6\" x=\"-3\" y=\"-3\"/><text class=\"lab\" transform=\"translate(0 11)\">0</text></g><g class=\"a13 i2 leaf node n1 p0 sample\" transform=\"translate(7 6.43602)\"><path class=\"edge\" d=\"M 0 0 V -6.43602 H -7\"/><rect class=\"sym\" height=\"6\" width=\"6\" x=\"-3\" y=\"-3\"/><text class=\"lab\" transform=\"translate(0 11)\">1</text></g><path class=\"edge\" d=\"M 0 0 V -70.5596 H 36.3125\"/><g class=\"mut m0 s0\" transform=\"translate(0 -34.8302)\"><line x1=\"0\" x2=\"0\" y1=\"0\" y2=\"34.8302\"/><path class=\"sym\" d=\"M -3,-3 l 6,6 M -3,3 l 6,-6\"/><text class=\"lab lft\" transform=\"translate(-5 0)\">0</text></g><circle class=\"sym\" cx=\"0\" cy=\"0\" r=\"3\"/><text class=\"lab lft\" transform=\"translate(-3 -7.0)\">13</text></g><g class=\"a19 i8 node n18 p0\" transform=\"translate(36.3125 16.7053)\"><g class=\"a18 i11 m4 m5 node n15 p0 s4 s5\" transform=\"translate(25.375 34.1677)\"><g class=\"a15 i0 node n12 p0\" transform=\"translate(-14 23.8511)\"><g class=\"a12 i3 leaf node n4 p0 sample\" transform=\"translate(-7 2.65013)\"><path class=\"edge\" d=\"M 0 0 V -2.65013 H 7\"/><rect class=\"sym\" height=\"6\" width=\"6\" x=\"-3\" y=\"-3\"/><text class=\"lab\" transform=\"translate(0 11)\">4</text></g><g class=\"a12 i3 leaf node n5 p0 sample\" transform=\"translate(7 2.65013)\"><path class=\"edge\" d=\"M 0 0 V -2.65013 H -7\"/><rect class=\"sym\" height=\"6\" width=\"6\" x=\"-3\" y=\"-3\"/><text class=\"lab\" transform=\"translate(0 11)\">5</text></g><path class=\"edge\" d=\"M 0 0 V -23.8511 H 14\"/><circle class=\"sym\" cx=\"0\" cy=\"0\" r=\"3\"/><text class=\"lab lft\" transform=\"translate(-3 -7.0)\">12</text></g><g class=\"a15 i12 node n14 p0\" transform=\"translate(14 2.55548)\"><g class=\"a14 i4 leaf node n8 p0 sample\" transform=\"translate(-7 23.9458)\"><path class=\"edge\" d=\"M 0 0 V -23.9458 H 7\"/><rect class=\"sym\" height=\"6\" width=\"6\" x=\"-3\" y=\"-3\"/><text class=\"lab\" transform=\"translate(0 11)\">8</text></g><g class=\"a14 i4 leaf node n9 p0 sample\" transform=\"translate(7 23.9458)\"><path class=\"edge\" d=\"M 0 0 V -23.9458 H -7\"/><rect class=\"sym\" height=\"6\" width=\"6\" x=\"-3\" y=\"-3\"/><text class=\"lab\" transform=\"translate(0 11)\">9</text></g><path class=\"edge\" d=\"M 0 0 V -2.55548 H -14\"/><circle class=\"sym\" cx=\"0\" cy=\"0\" r=\"3\"/><text class=\"lab rgt\" transform=\"translate(3 -7.0)\">14</text></g><path class=\"edge\" d=\"M 0 0 V -34.1677 H -25.375\"/><g class=\"mut m4 s4\" transform=\"translate(0 -23.5672)\"><line x1=\"0\" x2=\"0\" y1=\"0\" y2=\"23.5672\"/><path class=\"sym\" d=\"M -3,-3 l 6,6 M -3,3 l 6,-6\"/><text class=\"lab rgt\" transform=\"translate(5 0)\">4</text></g><g class=\"mut m5 s5\" transform=\"translate(0 -1.609)\"><line x1=\"0\" x2=\"0\" y1=\"0\" y2=\"1.609\"/><path class=\"sym\" d=\"M -3,-3 l 6,6 M -3,3 l 6,-6\"/><text class=\"lab rgt\" transform=\"translate(5 0)\">5</text></g><circle class=\"sym\" cx=\"0\" cy=\"0\" r=\"3\"/><text class=\"lab rgt\" transform=\"translate(3 -7.0)\">15</text></g><g class=\"a18 i10 m7 node n16 p0 s7\" transform=\"translate(-25.375 28.2995)\"><g class=\"a16 i1 leaf node n6 p0 sample\" transform=\"translate(15.75 31.8015)\"><path class=\"edge\" d=\"M 0 0 V -31.8015 H -15.75\"/><rect class=\"sym\" height=\"6\" width=\"6\" x=\"-3\" y=\"-3\"/><text class=\"lab\" transform=\"translate(0 11)\">6</text></g><g class=\"a16 i14 m3 node n11 p0 s3\" transform=\"translate(-15.75 29.8612)\"><g class=\"a11 i5 leaf node n2 p0 sample\" transform=\"translate(-10.5 2.74477)\"><path class=\"edge\" d=\"M 0 0 V -2.74477 H 10.5\"/><rect class=\"sym\" height=\"6\" width=\"6\" x=\"-3\" y=\"-3\"/><text class=\"lab\" transform=\"translate(0 11)\">2</text></g><g class=\"a11 i15 node n10 p0\" transform=\"translate(10.5 0.283942)\"><g class=\"a10 i5 leaf node n3 p0 sample\" transform=\"translate(-7 2.46083)\"><path class=\"edge\" d=\"M 0 0 V -2.46083 H 7\"/><rect class=\"sym\" height=\"6\" width=\"6\" x=\"-3\" y=\"-3\"/><text class=\"lab\" transform=\"translate(0 11)\">3</text></g><g class=\"a10 i1 leaf node n7 p0 sample\" transform=\"translate(7 1.65633)\"><path class=\"edge\" d=\"M 0 0 V -1.65633 H -7\"/><rect class=\"sym\" height=\"6\" width=\"6\" x=\"-3\" y=\"-3\"/><text class=\"lab\" transform=\"translate(0 11)\">7</text></g><path class=\"edge\" d=\"M 0 0 V -0.283942 H -10.5\"/><circle class=\"sym\" cx=\"0\" cy=\"0\" r=\"3\"/><text class=\"lab rgt\" transform=\"translate(3 -7.0)\">10</text></g><path class=\"edge\" d=\"M 0 0 V -29.8612 H 15.75\"/><g class=\"mut m3 s3\" transform=\"translate(0 -24.4663)\"><line x1=\"0\" x2=\"0\" y1=\"0\" y2=\"24.4663\"/><path class=\"sym\" d=\"M -3,-3 l 6,6 M -3,3 l 6,-6\"/><text class=\"lab lft\" transform=\"translate(-5 0)\">3</text></g><circle class=\"sym\" cx=\"0\" cy=\"0\" r=\"3\"/><text class=\"lab lft\" transform=\"translate(-3 -7.0)\">11</text></g><path class=\"edge\" d=\"M 0 0 V -28.2995 H 25.375\"/><g class=\"mut m7 s7\" transform=\"translate(0 -9.98529)\"><line x1=\"0\" x2=\"0\" y1=\"0\" y2=\"9.98529\"/><path class=\"sym\" d=\"M -3,-3 l 6,6 M -3,3 l 6,-6\"/><text class=\"lab lft\" transform=\"translate(-5 0)\">7</text></g><circle class=\"sym\" cx=\"0\" cy=\"0\" r=\"3\"/><text class=\"lab lft\" transform=\"translate(-3 -7.0)\">16</text></g><path class=\"edge\" d=\"M 0 0 V -16.7053 H -36.3125\"/><circle class=\"sym\" cx=\"0\" cy=\"0\" r=\"3\"/><text class=\"lab rgt\" transform=\"translate(3 -7.0)\">18</text></g><path class=\"edge\" d=\"M 0 0 V -16.7999 H 0.0\"/><g class=\"mut m1 s1\" transform=\"translate(0 -12.2568)\"><line x1=\"0\" x2=\"0\" y1=\"0\" y2=\"12.2568\"/><path class=\"sym\" d=\"M -3,-3 l 6,6 M -3,3 l 6,-6\"/><text class=\"lab lft\" transform=\"translate(-5 0)\">1</text></g><g class=\"mut m2 s2\" transform=\"translate(0 -6.24672)\"><line x1=\"0\" x2=\"0\" y1=\"0\" y2=\"6.24672\"/><path class=\"sym\" d=\"M -3,-3 l 6,6 M -3,3 l 6,-6\"/><text class=\"lab lft\" transform=\"translate(-5 0)\">2</text></g><g class=\"mut m6 s6\" transform=\"translate(0 -4.73237)\"><line x1=\"0\" x2=\"0\" y1=\"0\" y2=\"4.73237\"/><path class=\"sym\" d=\"M -3,-3 l 6,6 M -3,3 l 6,-6\"/><text class=\"lab lft\" transform=\"translate(-5 0)\">6</text></g><g class=\"mut m8 s8\" transform=\"translate(0 -3.92786)\"><line x1=\"0\" x2=\"0\" y1=\"0\" y2=\"3.92786\"/><path class=\"sym\" d=\"M -3,-3 l 6,6 M -3,3 l 6,-6\"/><text class=\"lab lft\" transform=\"translate(-5 0)\">8</text></g><circle class=\"sym\" cx=\"0\" cy=\"0\" r=\"3\"/><text class=\"lab lft\" transform=\"translate(-3 -7.0)\">19</text></g><circle class=\"sym\" cx=\"0\" cy=\"0\" r=\"3\"/><text class=\"lab\" transform=\"translate(0 -11)\">20</text></g></g></g><g class=\"tree t1\" transform=\"translate(200 0)\"><g class=\"plotbox\"><g class=\"i6 node n20 p0 root\" transform=\"translate(96.125 26.8)\"><g class=\"a20 i8 m10 m12 m17 m21 m22 m9 node n18 p0 s10 s12 s17 s21 s22 s9\" transform=\"translate(0.0 33.5052)\"><g class=\"a18 i10 m20 node n16 p0 s20\" transform=\"translate(41.125 28.2995)\"><g class=\"a16 i1 leaf m16 node n6 p0 s16 sample\" transform=\"translate(15.75 31.8015)\"><path class=\"edge\" d=\"M 0 0 V -31.8015 H -15.75\"/><g class=\"mut m16 s16\" transform=\"translate(0 -25.5548)\"><line x1=\"0\" x2=\"0\" y1=\"0\" y2=\"25.5548\"/><path class=\"sym\" d=\"M -3,-3 l 6,6 M -3,3 l 6,-6\"/><text class=\"lab rgt\" transform=\"translate(5 0)\">16</text></g><rect class=\"sym\" height=\"6\" width=\"6\" x=\"-3\" y=\"-3\"/><text class=\"lab\" transform=\"translate(0 11)\">6</text></g><g class=\"a16 i14 m15 node n11 p0 s15\" transform=\"translate(-15.75 29.8612)\"><g class=\"a11 i5 leaf m13 node n2 p0 s13 sample\" transform=\"translate(-10.5 2.74477)\"><path class=\"edge\" d=\"M 0 0 V -2.74477 H 10.5\"/><g class=\"mut m13 s13\" transform=\"translate(0 -0.662531)\"><line x1=\"0\" x2=\"0\" y1=\"0\" y2=\"0.662531\"/><path class=\"sym\" d=\"M -3,-3 l 6,6 M -3,3 l 6,-6\"/><text class=\"lab lft\" transform=\"translate(-5 0)\">13</text></g><rect class=\"sym\" height=\"6\" width=\"6\" x=\"-3\" y=\"-3\"/><text class=\"lab\" transform=\"translate(0 11)\">2</text></g><g class=\"a11 i15 node n10 p0\" transform=\"translate(10.5 0.283942)\"><g class=\"a10 i5 leaf node n3 p0 sample\" transform=\"translate(-7 2.46083)\"><path class=\"edge\" d=\"M 0 0 V -2.46083 H 7\"/><rect class=\"sym\" height=\"6\" width=\"6\" x=\"-3\" y=\"-3\"/><text class=\"lab\" transform=\"translate(0 11)\">3</text></g><g class=\"a10 i1 leaf node n7 p0 sample\" transform=\"translate(7 1.65633)\"><path class=\"edge\" d=\"M 0 0 V -1.65633 H -7\"/><rect class=\"sym\" height=\"6\" width=\"6\" x=\"-3\" y=\"-3\"/><text class=\"lab\" transform=\"translate(0 11)\">7</text></g><path class=\"edge\" d=\"M 0 0 V -0.283942 H -10.5\"/><circle class=\"sym\" cx=\"0\" cy=\"0\" r=\"3\"/><text class=\"lab rgt\" transform=\"translate(3 -7.0)\">10</text></g><path class=\"edge\" d=\"M 0 0 V -29.8612 H 15.75\"/><g class=\"mut m15 s15\" transform=\"translate(0 -10.0326)\"><line x1=\"0\" x2=\"0\" y1=\"0\" y2=\"10.0326\"/><path class=\"sym\" d=\"M -3,-3 l 6,6 M -3,3 l 6,-6\"/><text class=\"lab lft\" transform=\"translate(-5 0)\">15</text></g><circle class=\"sym\" cx=\"0\" cy=\"0\" r=\"3\"/><text class=\"lab lft\" transform=\"translate(-3 -7.0)\">11</text></g><path class=\"edge\" d=\"M 0 0 V -28.2995 H -41.125\"/><g class=\"mut m20 s20\" transform=\"translate(0 -8.13967)\"><line x1=\"0\" x2=\"0\" y1=\"0\" y2=\"8.13967\"/><path class=\"sym\" d=\"M -3,-3 l 6,6 M -3,3 l 6,-6\"/><text class=\"lab rgt\" transform=\"translate(5 0)\">20</text></g><circle class=\"sym\" cx=\"0\" cy=\"0\" r=\"3\"/><text class=\"lab rgt\" transform=\"translate(3 -7.0)\">16</text></g><g class=\"a18 i9 node n17 p0\" transform=\"translate(-41.125 5.25293)\"><g class=\"a17 i13 m14 m18 m19 node n13 p0 s14 s18 s19\" transform=\"translate(-21 48.6014)\"><g class=\"a13 i2 leaf node n0 p0 sample\" transform=\"translate(-7 6.43602)\"><path class=\"edge\" d=\"M 0 0 V -6.43602 H 7\"/><rect class=\"sym\" height=\"6\" width=\"6\" x=\"-3\" y=\"-3\"/><text class=\"lab\" transform=\"translate(0 11)\">0</text></g><g class=\"a13 i2 leaf node n1 p0 sample\" transform=\"translate(7 6.43602)\"><path class=\"edge\" d=\"M 0 0 V -6.43602 H -7\"/><rect class=\"sym\" height=\"6\" width=\"6\" x=\"-3\" y=\"-3\"/><text class=\"lab\" transform=\"translate(0 11)\">1</text></g><path class=\"edge\" d=\"M 0 0 V -48.6014 H 21\"/><g class=\"mut m19 s19\" transform=\"translate(0 -47.229)\"><line x1=\"0\" x2=\"0\" y1=\"0\" y2=\"47.229\"/><path class=\"sym\" d=\"M -3,-3 l 6,6 M -3,3 l 6,-6\"/><text class=\"lab lft\" transform=\"translate(-5 0)\">19</text></g><g class=\"mut m14 s14\" transform=\"translate(0 -24.9396)\"><line x1=\"0\" x2=\"0\" y1=\"0\" y2=\"24.9396\"/><path class=\"sym\" d=\"M -3,-3 l 6,6 M -3,3 l 6,-6\"/><text class=\"lab lft\" transform=\"translate(-5 0)\">14</text></g><g class=\"mut m18 s18\" transform=\"translate(0 -20.7278)\"><line x1=\"0\" x2=\"0\" y1=\"0\" y2=\"20.7278\"/><path class=\"sym\" d=\"M -3,-3 l 6,6 M -3,3 l 6,-6\"/><text class=\"lab lft\" transform=\"translate(-5 0)\">18</text></g><circle class=\"sym\" cx=\"0\" cy=\"0\" r=\"3\"/><text class=\"lab lft\" transform=\"translate(-3 -7.0)\">13</text></g><g class=\"a17 i11 node n15 p0\" transform=\"translate(21 28.9148)\"><g class=\"a15 i0 node n12 p0\" transform=\"translate(-14 23.8511)\"><g class=\"a12 i3 leaf node n4 p0 sample\" transform=\"translate(-7 2.65013)\"><path class=\"edge\" d=\"M 0 0 V -2.65013 H 7\"/><rect class=\"sym\" height=\"6\" width=\"6\" x=\"-3\" y=\"-3\"/><text class=\"lab\" transform=\"translate(0 11)\">4</text></g><g class=\"a12 i3 leaf node n5 p0 sample\" transform=\"translate(7 2.65013)\"><path class=\"edge\" d=\"M 0 0 V -2.65013 H -7\"/><rect class=\"sym\" height=\"6\" width=\"6\" x=\"-3\" y=\"-3\"/><text class=\"lab\" transform=\"translate(0 11)\">5</text></g><path class=\"edge\" d=\"M 0 0 V -23.8511 H 14\"/><circle class=\"sym\" cx=\"0\" cy=\"0\" r=\"3\"/><text class=\"lab lft\" transform=\"translate(-3 -7.0)\">12</text></g><g class=\"a15 i12 node n14 p0\" transform=\"translate(14 2.55548)\"><g class=\"a14 i4 leaf m11 node n8 p0 s11 sample\" transform=\"translate(-7 23.9458)\"><path class=\"edge\" d=\"M 0 0 V -23.9458 H 7\"/><g class=\"mut m11 s11\" transform=\"translate(0 -2.6028)\"><line x1=\"0\" x2=\"0\" y1=\"0\" y2=\"2.6028\"/><path class=\"sym\" d=\"M -3,-3 l 6,6 M -3,3 l 6,-6\"/><text class=\"lab lft\" transform=\"translate(-5 0)\">11</text></g><rect class=\"sym\" height=\"6\" width=\"6\" x=\"-3\" y=\"-3\"/><text class=\"lab\" transform=\"translate(0 11)\">8</text></g><g class=\"a14 i4 leaf node n9 p0 sample\" transform=\"translate(7 23.9458)\"><path class=\"edge\" d=\"M 0 0 V -23.9458 H -7\"/><rect class=\"sym\" height=\"6\" width=\"6\" x=\"-3\" y=\"-3\"/><text class=\"lab\" transform=\"translate(0 11)\">9</text></g><path class=\"edge\" d=\"M 0 0 V -2.55548 H -14\"/><circle class=\"sym\" cx=\"0\" cy=\"0\" r=\"3\"/><text class=\"lab rgt\" transform=\"translate(3 -7.0)\">14</text></g><path class=\"edge\" d=\"M 0 0 V -28.9148 H -21\"/><circle class=\"sym\" cx=\"0\" cy=\"0\" r=\"3\"/><text class=\"lab rgt\" transform=\"translate(3 -7.0)\">15</text></g><path class=\"edge\" d=\"M 0 0 V -5.25293 H 41.125\"/><circle class=\"sym\" cx=\"0\" cy=\"0\" r=\"3\"/><text class=\"lab lft\" transform=\"translate(-3 -7.0)\">17</text></g><path class=\"edge\" d=\"M 0 0 V -33.5052 H 0.0\"/><g class=\"mut m21 s21\" transform=\"translate(0 -32.5114)\"><line x1=\"0\" x2=\"0\" y1=\"0\" y2=\"32.5114\"/><path class=\"sym\" d=\"M -3,-3 l 6,6 M -3,3 l 6,-6\"/><text class=\"lab lft\" transform=\"translate(-5 0)\">21</text></g><g class=\"mut m17 s17\" transform=\"translate(0 -31.7069)\"><line x1=\"0\" x2=\"0\" y1=\"0\" y2=\"31.7069\"/><path class=\"sym\" d=\"M -3,-3 l 6,6 M -3,3 l 6,-6\"/><text class=\"lab lft\" transform=\"translate(-5 0)\">17</text></g><g class=\"mut m10 s10\" transform=\"translate(0 -24.7976)\"><line x1=\"0\" x2=\"0\" y1=\"0\" y2=\"24.7976\"/><path class=\"sym\" d=\"M -3,-3 l 6,6 M -3,3 l 6,-6\"/><text class=\"lab lft\" transform=\"translate(-5 0)\">10</text></g><g class=\"mut m12 s12\" transform=\"translate(0 -16.9419)\"><line x1=\"0\" x2=\"0\" y1=\"0\" y2=\"16.9419\"/><path class=\"sym\" d=\"M -3,-3 l 6,6 M -3,3 l 6,-6\"/><text class=\"lab lft\" transform=\"translate(-5 0)\">12</text></g><g class=\"mut m9 s9\" transform=\"translate(0 -7.09855)\"><line x1=\"0\" x2=\"0\" y1=\"0\" y2=\"7.09855\"/><path class=\"sym\" d=\"M -3,-3 l 6,6 M -3,3 l 6,-6\"/><text class=\"lab lft\" transform=\"translate(-5 0)\">9</text></g><g class=\"mut m22 s22\" transform=\"translate(0 -7.09855)\"><line x1=\"0\" x2=\"0\" y1=\"0\" y2=\"7.09855\"/><path class=\"sym\" d=\"M -3,-3 l 6,6 M -3,3 l 6,-6\"/><text class=\"lab lft\" transform=\"translate(-5 0)\">22</text></g><circle class=\"sym\" cx=\"0\" cy=\"0\" r=\"3\"/><text class=\"lab lft\" transform=\"translate(-3 -7.0)\">18</text></g><circle class=\"sym\" cx=\"0\" cy=\"0\" r=\"3\"/><text class=\"lab\" transform=\"translate(0 -11)\">20</text></g></g></g></g></g></svg>"
      ],
      "text/plain": [
       "<IPython.core.display.SVG object>"
      ]
     },
     "execution_count": 14,
     "metadata": {},
     "output_type": "execute_result"
    }
   ],
   "source": [
    "SVG(sts.draw_svg())"
   ]
  },
  {
   "cell_type": "code",
   "execution_count": 15,
   "id": "059bd099-c4e8-44ed-9a2c-e6392b0c1084",
   "metadata": {
    "tags": []
   },
   "outputs": [
    {
     "name": "stdout",
     "output_type": "stream",
     "text": [
      "-0.011751007288694382\n"
     ]
    }
   ],
   "source": [
    "print(ts.mutation(0).metadata['mutation_list'][0]['selection_coeff'])"
   ]
  },
  {
   "cell_type": "code",
   "execution_count": 16,
   "id": "8a681ac2-ba39-4afe-92e9-247f22cb6589",
   "metadata": {},
   "outputs": [
    {
     "name": "stdout",
     "output_type": "stream",
     "text": [
      "{'mutation_list': [{'mutation_type': 1, 'selection_coeff': -0.011898556724190712, 'subpopulation': 1, 'slim_time': 1111, 'nucleotide': -1}]}\n"
     ]
    }
   ],
   "source": [
    "for var in sts.variants(isolated_as_missing=False):\n",
    "    print(var.site.mutations[0].metadata)\n",
    "    break"
   ]
  },
  {
   "cell_type": "code",
   "execution_count": 19,
   "id": "fb29981f-ca12-4f78-af48-5c6f352552c9",
   "metadata": {},
   "outputs": [],
   "source": [
    "def movingmuts(ts):\n",
    "    dist, muts, mis = [], [], []\n",
    "    for i in range(ts.num_individuals):\n",
    "        mis.append(0)\n",
    "    for var in sts.variants(samples=range(sts.num_nodes), isolated_as_missing=False):\n",
    "        for i in range(sts.num_nodes):\n",
    "            if var.genotypes[i] == 1:\n",
    "                char = sts.node(i).individual\n",
    "                if char != -1:\n",
    "                    for mut in var.site.mutations:\n",
    "                        mis[char] += mut.metadata['mutation_list'][0]['selection_coeff']\n",
    "\n",
    "    for i in ts.individuals_alive_at(0):\n",
    "        loc = ts.individual(i).location\n",
    "        if loc[0] < 0.5:\n",
    "            loc[0] = 0.5\n",
    "        if loc[1] < 0.5:\n",
    "            loc[1] = 0.5\n",
    "        d = math.sqrt((loc[0] - 0.5)**2 + (loc[1] - 0.5)**2)\n",
    "        m = mis[i]\n",
    "        if m != 0:\n",
    "            dist.append(d)\n",
    "            muts.append(m)\n",
    "    fig = plt.figure()\n",
    "    plt.scatter(dist, muts, color=\"blue\", s=5.0) "
   ]
  },
  {
   "cell_type": "code",
   "execution_count": 20,
   "id": "72a512be-4516-48fa-8a6e-881df8c5c1e8",
   "metadata": {},
   "outputs": [
    {
     "data": {
      "application/vnd.jupyter.widget-view+json": {
       "model_id": "0787f3d48da442c8825125f0089f5343",
       "version_major": 2,
       "version_minor": 0
      },
      "text/plain": [
       "Canvas(toolbar=Toolbar(toolitems=[('Home', 'Reset original view', 'home', 'home'), ('Back', 'Back to previous …"
      ]
     },
     "metadata": {},
     "output_type": "display_data"
    },
    {
     "data": {
      "application/vnd.jupyter.widget-view+json": {
       "model_id": "9725baa411a04551804307325c76daba",
       "version_major": 2,
       "version_minor": 0
      },
      "text/plain": [
       "Canvas(toolbar=Toolbar(toolitems=[('Home', 'Reset original view', 'home', 'home'), ('Back', 'Back to previous …"
      ]
     },
     "metadata": {},
     "output_type": "display_data"
    }
   ],
   "source": [
    "movingmuts(sts)\n",
    "movingmuts(ts)"
   ]
  },
  {
   "cell_type": "code",
   "execution_count": 24,
   "id": "32c7e0e5-6cd8-41c2-9768-dfa8f5e2c184",
   "metadata": {},
   "outputs": [
    {
     "name": "stdout",
     "output_type": "stream",
     "text": [
      "0 red 100\n",
      "1 green 200\n",
      "2 blue 300\n"
     ]
    }
   ],
   "source": [
    "axes = [0, 1, 2]\n",
    "colors = [\"red\", \"green\", \"blue\"]\n",
    "times = [100, 200, 300]\n",
    "\n",
    "for ax, color, time in zip(axes, colors, times):\n",
    "    print(ax, color, time)"
   ]
  },
  {
   "cell_type": "code",
   "execution_count": null,
   "id": "b85b3221-2683-4584-931e-7f52ec8c13a5",
   "metadata": {},
   "outputs": [],
   "source": []
  }
 ],
 "metadata": {
  "kernelspec": {
   "display_name": "Python 3",
   "language": "python",
   "name": "python3"
  },
  "language_info": {
   "codemirror_mode": {
    "name": "ipython",
    "version": 3
   },
   "file_extension": ".py",
   "mimetype": "text/x-python",
   "name": "python",
   "nbconvert_exporter": "python",
   "pygments_lexer": "ipython3",
   "version": "3.9.1"
  }
 },
 "nbformat": 4,
 "nbformat_minor": 5
}
