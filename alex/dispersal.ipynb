{
 "cells": [
  {
   "cell_type": "code",
   "execution_count": 2,
   "id": "9ca41629-a33d-4429-ab2e-7819bc8e2209",
   "metadata": {},
   "outputs": [],
   "source": [
    "%matplotlib widget\n",
    "import pyslim, msprime, tskit, random, math\n",
    "import numpy as np\n",
    "import matplotlib.pyplot as plt\n",
    "from IPython.display import SVG, display\n",
    "\n",
    "#load tree sequence file, recapitate/mutate if desired\n",
    "#not recapitating now because that makes tree roots inaccessible individual-wise\n",
    "\n",
    "ts = pyslim.load(\"/Users/alexanderwhitwam/Dropbox/university/research/space-trees/alex/disp.trees\")\n",
    "#ts = ts.recapitate(recombination_rate = 1e-8, Ne=500)\n",
    "#ts = pyslim.SlimTreeSequence(msprime.mutate(ts, rate=1e-7))"
   ]
  },
  {
   "cell_type": "code",
   "execution_count": 5,
   "id": "f3733246-0a6e-451c-b01e-e6b1b3cab9e0",
   "metadata": {},
   "outputs": [],
   "source": [
    "samps = random.sample(sorted(ts.individuals_alive_at(0)), 5)\n",
    "snodes = []\n",
    "for i in samps:\n",
    "    snodes.append(ts.individuals()[i].nodes[0])\n",
    "    snodes.append(ts.individuals()[i].nodes[1])\n",
    "sts = ts.simplify(snodes, keep_unary = False, keep_input_roots = True)"
   ]
  },
  {
   "cell_type": "code",
   "execution_count": 6,
   "id": "141fdf3b-5cf5-4e69-8040-5f3374005e13",
   "metadata": {},
   "outputs": [
    {
     "data": {
      "image/svg+xml": [
       "<svg xmlns=\"http://www.w3.org/2000/svg\" xmlns:ev=\"http://www.w3.org/2001/xml-events\" xmlns:xlink=\"http://www.w3.org/1999/xlink\" baseProfile=\"full\" height=\"200\" version=\"1.1\" width=\"400\"><defs><style type=\"text/css\"><![CDATA[.background path {fill: #808080; fill-opacity:0}.background path:nth-child(odd) {fill-opacity:.1}.axes {font-size: 14px}.x-axis .tick .lab {font-weight: bold}.axes, .tree {font-size: 14px; text-anchor:middle}.y-axis line.grid {stroke: #FAFAFA}.y-axis > .lab text {transform: translateX(0.8em) rotate(-90deg)}.x-axis .tick g {transform: translateY(0.9em)}.x-axis > .lab text {transform: translateY(-0.8em)}.axes line, .edge {stroke:black; fill:none}.node > .sym {fill: black; stroke: none}.site > .sym {stroke: black}.mut text {fill: red; font-style: italic}.mut.extra text {fill: hotpink}.mut line {fill: none; stroke: none}.mut .sym {fill: none; stroke: red}.mut.extra .sym {stroke: hotpink}.node .mut .sym {stroke-width: 1.5px}.tree text, .tree-sequence text {dominant-baseline: central}.plotbox .lab.lft {text-anchor: end}.plotbox .lab.rgt {text-anchor: start}]]></style></defs><g class=\"tree-sequence\"><g class=\"background\"><path d=\"M20,0 l180,0 l0,138.2 l33.6528,25 l0,5 l-213.653,0 l0,-5 l0,-25 l0,-138.2z\"/><path d=\"M200,0 l180,0 l0,138.2 l0,25 l0,5 l-146.347,0 l0,-5 l-33.6528,-25 l0,-138.2z\"/></g><g class=\"axes\"><g class=\"x-axis\"><g class=\"lab\" transform=\"translate(200,200)\"><text text-anchor=\"middle\">Genome position</text></g><line x1=\"20\" x2=\"380\" y1=\"163.2\" y2=\"163.2\"/><g class=\"tick\" transform=\"translate(20 163.2)\"><line x1=\"0\" x2=\"0\" y1=\"0\" y2=\"5\"/><g class=\"lab\" transform=\"translate(0,5)\"><text>0</text></g></g><g class=\"tick\" transform=\"translate(233.653 163.2)\"><line x1=\"0\" x2=\"0\" y1=\"0\" y2=\"5\"/><g class=\"lab\" transform=\"translate(0,5)\"><text>59348</text></g></g><g class=\"tick\" transform=\"translate(380 163.2)\"><line x1=\"0\" x2=\"0\" y1=\"0\" y2=\"5\"/><g class=\"lab\" transform=\"translate(0,5)\"><text>100000</text></g></g><g class=\"site s0\" transform=\"translate(54.2648 163.2)\"><line class=\"sym\" x1=\"0\" x2=\"0\" y1=\"0\" y2=\"-10\"/><g class=\"mut m0\"><polyline class=\"sym\" points=\"2.5,-6.5 0,-1.5 -2.5,-6.5\"/></g></g><g class=\"site s1\" transform=\"translate(62.4548 163.2)\"><line class=\"sym\" x1=\"0\" x2=\"0\" y1=\"0\" y2=\"-10\"/><g class=\"mut m1\"><polyline class=\"sym\" points=\"2.5,-6.5 0,-1.5 -2.5,-6.5\"/></g></g><g class=\"site s2\" transform=\"translate(74.2088 163.2)\"><line class=\"sym\" x1=\"0\" x2=\"0\" y1=\"0\" y2=\"-10\"/><g class=\"mut m2\"><polyline class=\"sym\" points=\"2.5,-6.5 0,-1.5 -2.5,-6.5\"/></g></g><g class=\"site s3\" transform=\"translate(97.6808 163.2)\"><line class=\"sym\" x1=\"0\" x2=\"0\" y1=\"0\" y2=\"-10\"/><g class=\"mut m3\"><polyline class=\"sym\" points=\"2.5,-6.5 0,-1.5 -2.5,-6.5\"/></g></g><g class=\"site s4\" transform=\"translate(119.832 163.2)\"><line class=\"sym\" x1=\"0\" x2=\"0\" y1=\"0\" y2=\"-10\"/><g class=\"mut m4\"><polyline class=\"sym\" points=\"2.5,-6.5 0,-1.5 -2.5,-6.5\"/></g></g><g class=\"site s5\" transform=\"translate(129.123 163.2)\"><line class=\"sym\" x1=\"0\" x2=\"0\" y1=\"0\" y2=\"-10\"/><g class=\"mut m5\"><polyline class=\"sym\" points=\"2.5,-6.5 0,-1.5 -2.5,-6.5\"/></g></g><g class=\"site s6\" transform=\"translate(157.66 163.2)\"><line class=\"sym\" x1=\"0\" x2=\"0\" y1=\"0\" y2=\"-10\"/><g class=\"mut m6\"><polyline class=\"sym\" points=\"2.5,-6.5 0,-1.5 -2.5,-6.5\"/></g></g><g class=\"site s7\" transform=\"translate(160.371 163.2)\"><line class=\"sym\" x1=\"0\" x2=\"0\" y1=\"0\" y2=\"-10\"/><g class=\"mut m7\"><polyline class=\"sym\" points=\"2.5,-6.5 0,-1.5 -2.5,-6.5\"/></g></g><g class=\"site s8\" transform=\"translate(172.309 163.2)\"><line class=\"sym\" x1=\"0\" x2=\"0\" y1=\"0\" y2=\"-10\"/><g class=\"mut m8\"><polyline class=\"sym\" points=\"2.5,-6.5 0,-1.5 -2.5,-6.5\"/></g></g><g class=\"site s9\" transform=\"translate(213.975 163.2)\"><line class=\"sym\" x1=\"0\" x2=\"0\" y1=\"0\" y2=\"-10\"/><g class=\"mut m9\"><polyline class=\"sym\" points=\"2.5,-6.5 0,-1.5 -2.5,-6.5\"/></g></g><g class=\"site s10\" transform=\"translate(255.814 163.2)\"><line class=\"sym\" x1=\"0\" x2=\"0\" y1=\"0\" y2=\"-10\"/><g class=\"mut m10\"><polyline class=\"sym\" points=\"2.5,-6.5 0,-1.5 -2.5,-6.5\"/></g></g><g class=\"site s11\" transform=\"translate(258.5 163.2)\"><line class=\"sym\" x1=\"0\" x2=\"0\" y1=\"0\" y2=\"-10\"/><g class=\"mut m11\"><polyline class=\"sym\" points=\"2.5,-6.5 0,-1.5 -2.5,-6.5\"/></g></g><g class=\"site s12\" transform=\"translate(278.163 163.2)\"><line class=\"sym\" x1=\"0\" x2=\"0\" y1=\"0\" y2=\"-10\"/><g class=\"mut m12\"><polyline class=\"sym\" points=\"2.5,-6.5 0,-1.5 -2.5,-6.5\"/></g></g><g class=\"site s13\" transform=\"translate(288.499 163.2)\"><line class=\"sym\" x1=\"0\" x2=\"0\" y1=\"0\" y2=\"-10\"/><g class=\"mut m13\"><polyline class=\"sym\" points=\"2.5,-6.5 0,-1.5 -2.5,-6.5\"/></g></g><g class=\"site s14\" transform=\"translate(305.624 163.2)\"><line class=\"sym\" x1=\"0\" x2=\"0\" y1=\"0\" y2=\"-10\"/><g class=\"mut m14\"><polyline class=\"sym\" points=\"2.5,-6.5 0,-1.5 -2.5,-6.5\"/></g></g><g class=\"site s15\" transform=\"translate(307.795 163.2)\"><line class=\"sym\" x1=\"0\" x2=\"0\" y1=\"0\" y2=\"-10\"/><g class=\"mut m15\"><polyline class=\"sym\" points=\"2.5,-6.5 0,-1.5 -2.5,-6.5\"/></g></g><g class=\"site s16\" transform=\"translate(315.607 163.2)\"><line class=\"sym\" x1=\"0\" x2=\"0\" y1=\"0\" y2=\"-10\"/><g class=\"mut m16\"><polyline class=\"sym\" points=\"2.5,-6.5 0,-1.5 -2.5,-6.5\"/></g></g><g class=\"site s17\" transform=\"translate(315.927 163.2)\"><line class=\"sym\" x1=\"0\" x2=\"0\" y1=\"0\" y2=\"-10\"/><g class=\"mut m17\"><polyline class=\"sym\" points=\"2.5,-6.5 0,-1.5 -2.5,-6.5\"/></g></g><g class=\"site s18\" transform=\"translate(320.463 163.2)\"><line class=\"sym\" x1=\"0\" x2=\"0\" y1=\"0\" y2=\"-10\"/><g class=\"mut m18\"><polyline class=\"sym\" points=\"2.5,-6.5 0,-1.5 -2.5,-6.5\"/></g></g><g class=\"site s19\" transform=\"translate(332.833 163.2)\"><line class=\"sym\" x1=\"0\" x2=\"0\" y1=\"0\" y2=\"-10\"/><g class=\"mut m19\"><polyline class=\"sym\" points=\"2.5,-6.5 0,-1.5 -2.5,-6.5\"/></g></g><g class=\"site s20\" transform=\"translate(343.6 163.2)\"><line class=\"sym\" x1=\"0\" x2=\"0\" y1=\"0\" y2=\"-10\"/><g class=\"mut m20\"><polyline class=\"sym\" points=\"2.5,-6.5 0,-1.5 -2.5,-6.5\"/></g></g><g class=\"site s21\" transform=\"translate(360.7 163.2)\"><line class=\"sym\" x1=\"0\" x2=\"0\" y1=\"0\" y2=\"-10\"/><g class=\"mut m21\"><polyline class=\"sym\" points=\"2.5,-6.5 0,-1.5 -2.5,-6.5\"/></g></g><g class=\"site s22\" transform=\"translate(372.314 163.2)\"><line class=\"sym\" x1=\"0\" x2=\"0\" y1=\"0\" y2=\"-10\"/><g class=\"mut m22\"><polyline class=\"sym\" points=\"2.5,-6.5 0,-1.5 -2.5,-6.5\"/></g></g></g></g><g class=\"plotbox trees\"><g class=\"tree t0\" transform=\"translate(20 0)\"><g class=\"plotbox\"><g class=\"i6 node n20 p0 root\" transform=\"translate(79.2812 26.8)\"><g class=\"a20 i7 m1 m2 m7 m9 node n19 p0 s1 s2 s7 s9\" transform=\"translate(0.0 16.7999)\"><g class=\"a19 i12 m0 node n14 p0 s0\" transform=\"translate(-34.7812 60.1011)\"><g class=\"a14 i4 leaf node n4 p0 sample\" transform=\"translate(10.5 17.5571)\"><path class=\"edge\" d=\"M 0 0 V -17.5571 H -10.5\"/><rect class=\"sym\" height=\"6\" width=\"6\" x=\"-3\" y=\"-3\"/><text class=\"lab\" transform=\"translate(0 11)\">4</text></g><g class=\"a14 i15 node n10 p0\" transform=\"translate(-10.5 15.1909)\"><g class=\"a10 i2 leaf node n0 p0 sample\" transform=\"translate(-7 2.22421)\"><path class=\"edge\" d=\"M 0 0 V -2.22421 H 7\"/><rect class=\"sym\" height=\"6\" width=\"6\" x=\"-3\" y=\"-3\"/><text class=\"lab\" transform=\"translate(0 11)\">0</text></g><g class=\"a10 i2 leaf node n1 p0 sample\" transform=\"translate(7 2.22421)\"><path class=\"edge\" d=\"M 0 0 V -2.22421 H -7\"/><rect class=\"sym\" height=\"6\" width=\"6\" x=\"-3\" y=\"-3\"/><text class=\"lab\" transform=\"translate(0 11)\">1</text></g><path class=\"edge\" d=\"M 0 0 V -15.1909 H 10.5\"/><circle class=\"sym\" cx=\"0\" cy=\"0\" r=\"3\"/><text class=\"lab lft\" transform=\"translate(-3 -7.0)\">10</text></g><path class=\"edge\" d=\"M 0 0 V -60.1011 H 34.7812\"/><g class=\"mut m0 s0\" transform=\"translate(0 -24.3717)\"><line x1=\"0\" x2=\"0\" y1=\"0\" y2=\"24.3717\"/><path class=\"sym\" d=\"M -3,-3 l 6,6 M -3,3 l 6,-6\"/><text class=\"lab lft\" transform=\"translate(-5 0)\">0</text></g><circle class=\"sym\" cx=\"0\" cy=\"0\" r=\"3\"/><text class=\"lab lft\" transform=\"translate(-3 -7.0)\">14</text></g><g class=\"a19 i8 node n18 p0\" transform=\"translate(34.7812 16.7053)\"><g class=\"a18 i14 m3 m8 node n12 p0 s3 s8\" transform=\"translate(31.9375 58.1608)\"><g class=\"a12 i3 leaf node n6 p0 sample\" transform=\"translate(-7 2.69745)\"><path class=\"edge\" d=\"M 0 0 V -2.69745 H 7\"/><rect class=\"sym\" height=\"6\" width=\"6\" x=\"-3\" y=\"-3\"/><text class=\"lab\" transform=\"translate(0 11)\">6</text></g><g class=\"a12 i3 leaf node n7 p0 sample\" transform=\"translate(7 2.69745)\"><path class=\"edge\" d=\"M 0 0 V -2.69745 H -7\"/><rect class=\"sym\" height=\"6\" width=\"6\" x=\"-3\" y=\"-3\"/><text class=\"lab\" transform=\"translate(0 11)\">7</text></g><path class=\"edge\" d=\"M 0 0 V -58.1608 H -31.9375\"/><g class=\"mut m8 s8\" transform=\"translate(0 -39.8465)\"><line x1=\"0\" x2=\"0\" y1=\"0\" y2=\"39.8465\"/><path class=\"sym\" d=\"M -3,-3 l 6,6 M -3,3 l 6,-6\"/><text class=\"lab rgt\" transform=\"translate(5 0)\">8</text></g><g class=\"mut m3 s3\" transform=\"translate(0 -24.4663)\"><line x1=\"0\" x2=\"0\" y1=\"0\" y2=\"24.4663\"/><path class=\"sym\" d=\"M -3,-3 l 6,6 M -3,3 l 6,-6\"/><text class=\"lab rgt\" transform=\"translate(5 0)\">3</text></g><circle class=\"sym\" cx=\"0\" cy=\"0\" r=\"3\"/><text class=\"lab rgt\" transform=\"translate(3 -7.0)\">12</text></g><g class=\"a18 i9 node n17 p0\" transform=\"translate(-31.9375 5.25293)\"><g class=\"a17 i1 leaf node n2 p0 sample\" transform=\"translate(-13.125 54.8008)\"><path class=\"edge\" d=\"M 0 0 V -54.8008 H 13.125\"/><rect class=\"sym\" height=\"6\" width=\"6\" x=\"-3\" y=\"-3\"/><text class=\"lab\" transform=\"translate(0 11)\">2</text></g><g class=\"a17 i10 m5 node n16 p0 s5\" transform=\"translate(13.125 6.76728)\"><g class=\"a16 i1 leaf m4 node n3 p0 s4 sample\" transform=\"translate(-12.25 48.0335)\"><path class=\"edge\" d=\"M 0 0 V -48.0335 H 12.25\"/><g class=\"mut m4 s4\" transform=\"translate(0 -7.90305)\"><line x1=\"0\" x2=\"0\" y1=\"0\" y2=\"7.90305\"/><path class=\"sym\" d=\"M -3,-3 l 6,6 M -3,3 l 6,-6\"/><text class=\"lab lft\" transform=\"translate(-5 0)\">4</text></g><rect class=\"sym\" height=\"6\" width=\"6\" x=\"-3\" y=\"-3\"/><text class=\"lab\" transform=\"translate(0 11)\">3</text></g><g class=\"a16 i13 m6 node n13 p0 s6\" transform=\"translate(12.25 32.9373)\"><g class=\"a13 i4 leaf node n5 p0 sample\" transform=\"translate(-10.5 15.9954)\"><path class=\"edge\" d=\"M 0 0 V -15.9954 H 10.5\"/><rect class=\"sym\" height=\"6\" width=\"6\" x=\"-3\" y=\"-3\"/><text class=\"lab\" transform=\"translate(0 11)\">5</text></g><g class=\"a13 i0 node n11 p0\" transform=\"translate(10.5 13.5346)\"><g class=\"a11 i5 leaf node n8 p0 sample\" transform=\"translate(-7 2.46083)\"><path class=\"edge\" d=\"M 0 0 V -2.46083 H 7\"/><rect class=\"sym\" height=\"6\" width=\"6\" x=\"-3\" y=\"-3\"/><text class=\"lab\" transform=\"translate(0 11)\">8</text></g><g class=\"a11 i5 leaf node n9 p0 sample\" transform=\"translate(7 2.46083)\"><path class=\"edge\" d=\"M 0 0 V -2.46083 H -7\"/><rect class=\"sym\" height=\"6\" width=\"6\" x=\"-3\" y=\"-3\"/><text class=\"lab\" transform=\"translate(0 11)\">9</text></g><path class=\"edge\" d=\"M 0 0 V -13.5346 H -10.5\"/><circle class=\"sym\" cx=\"0\" cy=\"0\" r=\"3\"/><text class=\"lab rgt\" transform=\"translate(3 -7.0)\">11</text></g><path class=\"edge\" d=\"M 0 0 V -32.9373 H -12.25\"/><g class=\"mut m6 s6\" transform=\"translate(0 -12.3988)\"><line x1=\"0\" x2=\"0\" y1=\"0\" y2=\"12.3988\"/><path class=\"sym\" d=\"M -3,-3 l 6,6 M -3,3 l 6,-6\"/><text class=\"lab rgt\" transform=\"translate(5 0)\">6</text></g><circle class=\"sym\" cx=\"0\" cy=\"0\" r=\"3\"/><text class=\"lab rgt\" transform=\"translate(3 -7.0)\">13</text></g><path class=\"edge\" d=\"M 0 0 V -6.76728 H -13.125\"/><g class=\"mut m5 s5\" transform=\"translate(0 -1.41971)\"><line x1=\"0\" x2=\"0\" y1=\"0\" y2=\"1.41971\"/><path class=\"sym\" d=\"M -3,-3 l 6,6 M -3,3 l 6,-6\"/><text class=\"lab rgt\" transform=\"translate(5 0)\">5</text></g><circle class=\"sym\" cx=\"0\" cy=\"0\" r=\"3\"/><text class=\"lab rgt\" transform=\"translate(3 -7.0)\">16</text></g><path class=\"edge\" d=\"M 0 0 V -5.25293 H 31.9375\"/><circle class=\"sym\" cx=\"0\" cy=\"0\" r=\"3\"/><text class=\"lab lft\" transform=\"translate(-3 -7.0)\">17</text></g><path class=\"edge\" d=\"M 0 0 V -16.7053 H -34.7812\"/><circle class=\"sym\" cx=\"0\" cy=\"0\" r=\"3\"/><text class=\"lab rgt\" transform=\"translate(3 -7.0)\">18</text></g><path class=\"edge\" d=\"M 0 0 V -16.7999 H 0.0\"/><g class=\"mut m1 s1\" transform=\"translate(0 -12.2568)\"><line x1=\"0\" x2=\"0\" y1=\"0\" y2=\"12.2568\"/><path class=\"sym\" d=\"M -3,-3 l 6,6 M -3,3 l 6,-6\"/><text class=\"lab lft\" transform=\"translate(-5 0)\">1</text></g><g class=\"mut m2 s2\" transform=\"translate(0 -6.24672)\"><line x1=\"0\" x2=\"0\" y1=\"0\" y2=\"6.24672\"/><path class=\"sym\" d=\"M -3,-3 l 6,6 M -3,3 l 6,-6\"/><text class=\"lab lft\" transform=\"translate(-5 0)\">2</text></g><g class=\"mut m7 s7\" transform=\"translate(0 -4.73237)\"><line x1=\"0\" x2=\"0\" y1=\"0\" y2=\"4.73237\"/><path class=\"sym\" d=\"M -3,-3 l 6,6 M -3,3 l 6,-6\"/><text class=\"lab lft\" transform=\"translate(-5 0)\">7</text></g><g class=\"mut m9 s9\" transform=\"translate(0 -3.92786)\"><line x1=\"0\" x2=\"0\" y1=\"0\" y2=\"3.92786\"/><path class=\"sym\" d=\"M -3,-3 l 6,6 M -3,3 l 6,-6\"/><text class=\"lab lft\" transform=\"translate(-5 0)\">9</text></g><circle class=\"sym\" cx=\"0\" cy=\"0\" r=\"3\"/><text class=\"lab lft\" transform=\"translate(-3 -7.0)\">19</text></g><circle class=\"sym\" cx=\"0\" cy=\"0\" r=\"3\"/><text class=\"lab\" transform=\"translate(0 -11)\">20</text></g></g></g><g class=\"tree t1\" transform=\"translate(200 0)\"><g class=\"plotbox\"><g class=\"i6 node n20 p0 root\" transform=\"translate(111 26.8)\"><g class=\"a20 i8 m10 m11 m12 m16 m21 m22 node n18 p0 s10 s11 s12 s16 s21 s22\" transform=\"translate(0.0 33.5052)\"><g class=\"a18 i14 m15 m20 node n12 p0 s15 s20\" transform=\"translate(35 58.1608)\"><g class=\"a12 i3 leaf node n6 p0 sample\" transform=\"translate(-7 2.69745)\"><path class=\"edge\" d=\"M 0 0 V -2.69745 H 7\"/><rect class=\"sym\" height=\"6\" width=\"6\" x=\"-3\" y=\"-3\"/><text class=\"lab\" transform=\"translate(0 11)\">6</text></g><g class=\"a12 i3 leaf m13 node n7 p0 s13 sample\" transform=\"translate(7 2.69745)\"><path class=\"edge\" d=\"M 0 0 V -2.69745 H -7\"/><g class=\"mut m13 s13\" transform=\"translate(0 -0.615208)\"><line x1=\"0\" x2=\"0\" y1=\"0\" y2=\"0.615208\"/><path class=\"sym\" d=\"M -3,-3 l 6,6 M -3,3 l 6,-6\"/><text class=\"lab rgt\" transform=\"translate(5 0)\">13</text></g><rect class=\"sym\" height=\"6\" width=\"6\" x=\"-3\" y=\"-3\"/><text class=\"lab\" transform=\"translate(0 11)\">7</text></g><path class=\"edge\" d=\"M 0 0 V -58.1608 H -35\"/><g class=\"mut m20 s20\" transform=\"translate(0 -38.0009)\"><line x1=\"0\" x2=\"0\" y1=\"0\" y2=\"38.0009\"/><path class=\"sym\" d=\"M -3,-3 l 6,6 M -3,3 l 6,-6\"/><text class=\"lab rgt\" transform=\"translate(5 0)\">20</text></g><g class=\"mut m15 s15\" transform=\"translate(0 -10.0326)\"><line x1=\"0\" x2=\"0\" y1=\"0\" y2=\"10.0326\"/><path class=\"sym\" d=\"M -3,-3 l 6,6 M -3,3 l 6,-6\"/><text class=\"lab rgt\" transform=\"translate(5 0)\">15</text></g><circle class=\"sym\" cx=\"0\" cy=\"0\" r=\"3\"/><text class=\"lab rgt\" transform=\"translate(3 -7.0)\">12</text></g><g class=\"a18 i9 node n17 p0\" transform=\"translate(-35 5.25293)\"><g class=\"a17 i10 node n16 p0\" transform=\"translate(19.25 6.76728)\"><g class=\"a16 i1 leaf m17 node n3 p0 s17 sample\" transform=\"translate(-12.25 48.0335)\"><path class=\"edge\" d=\"M 0 0 V -48.0335 H 12.25\"/><g class=\"mut m17 s17\" transform=\"translate(0 -6.34137)\"><line x1=\"0\" x2=\"0\" y1=\"0\" y2=\"6.34137\"/><path class=\"sym\" d=\"M -3,-3 l 6,6 M -3,3 l 6,-6\"/><text class=\"lab lft\" transform=\"translate(-5 0)\">17</text></g><rect class=\"sym\" height=\"6\" width=\"6\" x=\"-3\" y=\"-3\"/><text class=\"lab\" transform=\"translate(0 11)\">3</text></g><g class=\"a16 i13 node n13 p0\" transform=\"translate(12.25 32.9373)\"><g class=\"a13 i4 leaf node n5 p0 sample\" transform=\"translate(-10.5 15.9954)\"><path class=\"edge\" d=\"M 0 0 V -15.9954 H 10.5\"/><rect class=\"sym\" height=\"6\" width=\"6\" x=\"-3\" y=\"-3\"/><text class=\"lab\" transform=\"translate(0 11)\">5</text></g><g class=\"a13 i0 node n11 p0\" transform=\"translate(10.5 13.5346)\"><g class=\"a11 i5 leaf node n8 p0 sample\" transform=\"translate(-7 2.46083)\"><path class=\"edge\" d=\"M 0 0 V -2.46083 H 7\"/><rect class=\"sym\" height=\"6\" width=\"6\" x=\"-3\" y=\"-3\"/><text class=\"lab\" transform=\"translate(0 11)\">8</text></g><g class=\"a11 i5 leaf node n9 p0 sample\" transform=\"translate(7 2.46083)\"><path class=\"edge\" d=\"M 0 0 V -2.46083 H -7\"/><rect class=\"sym\" height=\"6\" width=\"6\" x=\"-3\" y=\"-3\"/><text class=\"lab\" transform=\"translate(0 11)\">9</text></g><path class=\"edge\" d=\"M 0 0 V -13.5346 H -10.5\"/><circle class=\"sym\" cx=\"0\" cy=\"0\" r=\"3\"/><text class=\"lab rgt\" transform=\"translate(3 -7.0)\">11</text></g><path class=\"edge\" d=\"M 0 0 V -32.9373 H -12.25\"/><circle class=\"sym\" cx=\"0\" cy=\"0\" r=\"3\"/><text class=\"lab rgt\" transform=\"translate(3 -7.0)\">13</text></g><path class=\"edge\" d=\"M 0 0 V -6.76728 H -19.25\"/><circle class=\"sym\" cx=\"0\" cy=\"0\" r=\"3\"/><text class=\"lab rgt\" transform=\"translate(3 -7.0)\">16</text></g><g class=\"a17 i11 m19 node n15 p0 s19\" transform=\"translate(-19.25 18.6928)\"><g class=\"a15 i1 leaf node n2 p0 sample\" transform=\"translate(12.25 36.108)\"><path class=\"edge\" d=\"M 0 0 V -36.108 H -12.25\"/><rect class=\"sym\" height=\"6\" width=\"6\" x=\"-3\" y=\"-3\"/><text class=\"lab\" transform=\"translate(0 11)\">2</text></g><g class=\"a15 i12 m14 m18 node n14 p0 s14 s18\" transform=\"translate(-12.25 19.45)\"><g class=\"a14 i4 leaf node n4 p0 sample\" transform=\"translate(10.5 17.5571)\"><path class=\"edge\" d=\"M 0 0 V -17.5571 H -10.5\"/><rect class=\"sym\" height=\"6\" width=\"6\" x=\"-3\" y=\"-3\"/><text class=\"lab\" transform=\"translate(0 11)\">4</text></g><g class=\"a14 i15 node n10 p0\" transform=\"translate(-10.5 15.1909)\"><g class=\"a10 i2 leaf node n0 p0 sample\" transform=\"translate(-7 2.22421)\"><path class=\"edge\" d=\"M 0 0 V -2.22421 H 7\"/><rect class=\"sym\" height=\"6\" width=\"6\" x=\"-3\" y=\"-3\"/><text class=\"lab\" transform=\"translate(0 11)\">0</text></g><g class=\"a10 i2 leaf node n1 p0 sample\" transform=\"translate(7 2.22421)\"><path class=\"edge\" d=\"M 0 0 V -2.22421 H -7\"/><rect class=\"sym\" height=\"6\" width=\"6\" x=\"-3\" y=\"-3\"/><text class=\"lab\" transform=\"translate(0 11)\">1</text></g><path class=\"edge\" d=\"M 0 0 V -15.1909 H 10.5\"/><circle class=\"sym\" cx=\"0\" cy=\"0\" r=\"3\"/><text class=\"lab lft\" transform=\"translate(-3 -7.0)\">10</text></g><path class=\"edge\" d=\"M 0 0 V -19.45 H 12.25\"/><g class=\"mut m14 s14\" transform=\"translate(0 -14.481)\"><line x1=\"0\" x2=\"0\" y1=\"0\" y2=\"14.481\"/><path class=\"sym\" d=\"M -3,-3 l 6,6 M -3,3 l 6,-6\"/><text class=\"lab lft\" transform=\"translate(-5 0)\">14</text></g><g class=\"mut m18 s18\" transform=\"translate(0 -10.2692)\"><line x1=\"0\" x2=\"0\" y1=\"0\" y2=\"10.2692\"/><path class=\"sym\" d=\"M -3,-3 l 6,6 M -3,3 l 6,-6\"/><text class=\"lab lft\" transform=\"translate(-5 0)\">18</text></g><circle class=\"sym\" cx=\"0\" cy=\"0\" r=\"3\"/><text class=\"lab lft\" transform=\"translate(-3 -7.0)\">14</text></g><path class=\"edge\" d=\"M 0 0 V -18.6928 H 19.25\"/><g class=\"mut m19 s19\" transform=\"translate(0 -17.3205)\"><line x1=\"0\" x2=\"0\" y1=\"0\" y2=\"17.3205\"/><path class=\"sym\" d=\"M -3,-3 l 6,6 M -3,3 l 6,-6\"/><text class=\"lab lft\" transform=\"translate(-5 0)\">19</text></g><circle class=\"sym\" cx=\"0\" cy=\"0\" r=\"3\"/><text class=\"lab lft\" transform=\"translate(-3 -7.0)\">15</text></g><path class=\"edge\" d=\"M 0 0 V -5.25293 H 35\"/><circle class=\"sym\" cx=\"0\" cy=\"0\" r=\"3\"/><text class=\"lab lft\" transform=\"translate(-3 -7.0)\">17</text></g><path class=\"edge\" d=\"M 0 0 V -33.5052 H 0.0\"/><g class=\"mut m21 s21\" transform=\"translate(0 -32.5114)\"><line x1=\"0\" x2=\"0\" y1=\"0\" y2=\"32.5114\"/><path class=\"sym\" d=\"M -3,-3 l 6,6 M -3,3 l 6,-6\"/><text class=\"lab lft\" transform=\"translate(-5 0)\">21</text></g><g class=\"mut m16 s16\" transform=\"translate(0 -31.7069)\"><line x1=\"0\" x2=\"0\" y1=\"0\" y2=\"31.7069\"/><path class=\"sym\" d=\"M -3,-3 l 6,6 M -3,3 l 6,-6\"/><text class=\"lab lft\" transform=\"translate(-5 0)\">16</text></g><g class=\"mut m11 s11\" transform=\"translate(0 -24.7976)\"><line x1=\"0\" x2=\"0\" y1=\"0\" y2=\"24.7976\"/><path class=\"sym\" d=\"M -3,-3 l 6,6 M -3,3 l 6,-6\"/><text class=\"lab lft\" transform=\"translate(-5 0)\">11</text></g><g class=\"mut m12 s12\" transform=\"translate(0 -16.9419)\"><line x1=\"0\" x2=\"0\" y1=\"0\" y2=\"16.9419\"/><path class=\"sym\" d=\"M -3,-3 l 6,6 M -3,3 l 6,-6\"/><text class=\"lab lft\" transform=\"translate(-5 0)\">12</text></g><g class=\"mut m10 s10\" transform=\"translate(0 -7.09855)\"><line x1=\"0\" x2=\"0\" y1=\"0\" y2=\"7.09855\"/><path class=\"sym\" d=\"M -3,-3 l 6,6 M -3,3 l 6,-6\"/><text class=\"lab lft\" transform=\"translate(-5 0)\">10</text></g><g class=\"mut m22 s22\" transform=\"translate(0 -7.09855)\"><line x1=\"0\" x2=\"0\" y1=\"0\" y2=\"7.09855\"/><path class=\"sym\" d=\"M -3,-3 l 6,6 M -3,3 l 6,-6\"/><text class=\"lab lft\" transform=\"translate(-5 0)\">22</text></g><circle class=\"sym\" cx=\"0\" cy=\"0\" r=\"3\"/><text class=\"lab lft\" transform=\"translate(-3 -7.0)\">18</text></g><circle class=\"sym\" cx=\"0\" cy=\"0\" r=\"3\"/><text class=\"lab\" transform=\"translate(0 -11)\">20</text></g></g></g></g></g></svg>"
      ],
      "text/plain": [
       "<IPython.core.display.SVG object>"
      ]
     },
     "execution_count": 6,
     "metadata": {},
     "output_type": "execute_result"
    }
   ],
   "source": [
    "SVG(sts.draw_svg())"
   ]
  },
  {
   "cell_type": "code",
   "execution_count": 12,
   "id": "059bd099-c4e8-44ed-9a2c-e6392b0c1084",
   "metadata": {
    "tags": []
   },
   "outputs": [
    {
     "name": "stdout",
     "output_type": "stream",
     "text": [
      "-0.011751007288694382\n"
     ]
    }
   ],
   "source": [
    "print(ts.mutation(0).metadata['mutation_list'][0]['selection_coeff'])"
   ]
  },
  {
   "cell_type": "code",
   "execution_count": 21,
   "id": "8a681ac2-ba39-4afe-92e9-247f22cb6589",
   "metadata": {},
   "outputs": [
    {
     "name": "stdout",
     "output_type": "stream",
     "text": [
      "{'mutation_list': [{'mutation_type': 1, 'selection_coeff': -0.011898556724190712, 'subpopulation': 1, 'slim_time': 1111, 'nucleotide': -1}]}\n"
     ]
    }
   ],
   "source": [
    "for var in sts.variants(isolated_as_missing=False):\n",
    "    print(var.site.mutations[0].metadata)\n",
    "    break"
   ]
  },
  {
   "cell_type": "code",
   "execution_count": 37,
   "id": "fb29981f-ca12-4f78-af48-5c6f352552c9",
   "metadata": {},
   "outputs": [],
   "source": [
    "def movingmuts(ts):\n",
    "    dist, muts, mis = [], [], []\n",
    "    for i in range(ts.num_individuals):\n",
    "        mis.append(0)\n",
    "    for var in sts.variants(samples=range(sts.num_nodes), isolated_as_missing=False):\n",
    "        for i in range(sts.num_nodes):\n",
    "            if var.genotypes[i] == 1:\n",
    "                char = sts.node(i).individual\n",
    "                if char != -1:\n",
    "                    for mut in var.site.mutations:\n",
    "                        mis[char] += mut.metadata['mutation_list'][0]['selection_coeff']\n",
    "\n",
    "    for i in ts.individuals():\n",
    "        loc = i.location\n",
    "        if loc[0] < 0.5:\n",
    "            loc[0] = 0.5\n",
    "        if loc[1] < 0.5:\n",
    "            loc[1] = 0.5\n",
    "        d = math.sqrt((loc[0] - 0.5)**2 + (loc[1] - 0.5)**2)\n",
    "        m = mis[i.id]\n",
    "        dist.append(d)\n",
    "        muts.append(m)\n",
    "    fig = plt.figure()\n",
    "    plt.scatter(dist, muts, color=\"blue\", s=5.0) "
   ]
  },
  {
   "cell_type": "code",
   "execution_count": 40,
   "id": "72a512be-4516-48fa-8a6e-881df8c5c1e8",
   "metadata": {},
   "outputs": [
    {
     "data": {
      "application/vnd.jupyter.widget-view+json": {
       "model_id": "271136ae4585455b9e7560dbbace8546",
       "version_major": 2,
       "version_minor": 0
      },
      "text/plain": [
       "Canvas(toolbar=Toolbar(toolitems=[('Home', 'Reset original view', 'home', 'home'), ('Back', 'Back to previous …"
      ]
     },
     "metadata": {},
     "output_type": "display_data"
    }
   ],
   "source": [
    "movingmuts(sts)"
   ]
  },
  {
   "cell_type": "code",
   "execution_count": null,
   "id": "32c7e0e5-6cd8-41c2-9768-dfa8f5e2c184",
   "metadata": {},
   "outputs": [],
   "source": []
  }
 ],
 "metadata": {
  "kernelspec": {
   "display_name": "Python 3",
   "language": "python",
   "name": "python3"
  },
  "language_info": {
   "codemirror_mode": {
    "name": "ipython",
    "version": 3
   },
   "file_extension": ".py",
   "mimetype": "text/x-python",
   "name": "python",
   "nbconvert_exporter": "python",
   "pygments_lexer": "ipython3",
   "version": "3.9.1"
  }
 },
 "nbformat": 4,
 "nbformat_minor": 5
}
