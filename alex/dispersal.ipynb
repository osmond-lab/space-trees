{
 "cells": [
  {
   "cell_type": "code",
   "execution_count": 14,
   "id": "9ca41629-a33d-4429-ab2e-7819bc8e2209",
   "metadata": {},
   "outputs": [],
   "source": [
    "%matplotlib widget\n",
    "import pyslim, msprime, tskit, random, math\n",
    "import numpy as np\n",
    "import matplotlib.pyplot as plt\n",
    "from IPython.display import SVG, display\n",
    "\n",
    "#load tree sequence file, recapitate/mutate if desired\n",
    "#not recapitating now because that makes tree roots inaccessible individual-wise\n",
    "\n",
    "ts = pyslim.load(\"/Users/alexanderwhitwam/Dropbox/university/research/space-trees/alex/displess.trees\")\n",
    "#ts = ts.recapitate(recombination_rate = 1e-8, Ne=500)\n",
    "#ts = pyslim.SlimTreeSequence(msprime.mutate(ts, rate=1e-7))"
   ]
  },
  {
   "cell_type": "code",
   "execution_count": 15,
   "id": "f3733246-0a6e-451c-b01e-e6b1b3cab9e0",
   "metadata": {},
   "outputs": [],
   "source": [
    "samps = random.sample(sorted(ts.individuals_alive_at(0)), 5)\n",
    "snodes = []\n",
    "for i in samps:\n",
    "    snodes.append(ts.individuals()[i].nodes[0])\n",
    "    snodes.append(ts.individuals()[i].nodes[1])\n",
    "sts = ts.simplify(snodes, keep_unary = False, keep_input_roots = True)"
   ]
  },
  {
   "cell_type": "code",
   "execution_count": 16,
   "id": "141fdf3b-5cf5-4e69-8040-5f3374005e13",
   "metadata": {},
   "outputs": [
    {
     "data": {
      "image/svg+xml": [
       "<svg xmlns=\"http://www.w3.org/2000/svg\" xmlns:ev=\"http://www.w3.org/2001/xml-events\" xmlns:xlink=\"http://www.w3.org/1999/xlink\" baseProfile=\"full\" height=\"200\" version=\"1.1\" width=\"200\"><defs><style type=\"text/css\"><![CDATA[.background path {fill: #808080; fill-opacity:0}.background path:nth-child(odd) {fill-opacity:.1}.axes {font-size: 14px}.x-axis .tick .lab {font-weight: bold}.axes, .tree {font-size: 14px; text-anchor:middle}.y-axis line.grid {stroke: #FAFAFA}.y-axis > .lab text {transform: translateX(0.8em) rotate(-90deg)}.x-axis .tick g {transform: translateY(0.9em)}.x-axis > .lab text {transform: translateY(-0.8em)}.axes line, .edge {stroke:black; fill:none}.node > .sym {fill: black; stroke: none}.site > .sym {stroke: black}.mut text {fill: red; font-style: italic}.mut.extra text {fill: hotpink}.mut line {fill: none; stroke: none}.mut .sym {fill: none; stroke: red}.mut.extra .sym {stroke: hotpink}.node .mut .sym {stroke-width: 1.5px}.tree text, .tree-sequence text {dominant-baseline: central}.plotbox .lab.lft {text-anchor: end}.plotbox .lab.rgt {text-anchor: start}]]></style></defs><g class=\"tree-sequence\"><g class=\"background\"><path d=\"M20,0 l160,0 l0,138.2 l0,25 l0,5 l-160,0 l0,-5 l0,-25 l0,-138.2z\"/></g><g class=\"axes\"><g class=\"x-axis\"><g class=\"lab\" transform=\"translate(100,200)\"><text text-anchor=\"middle\">Genome position</text></g><line x1=\"20\" x2=\"180\" y1=\"163.2\" y2=\"163.2\"/><g class=\"tick\" transform=\"translate(20 163.2)\"><line x1=\"0\" x2=\"0\" y1=\"0\" y2=\"5\"/><g class=\"lab\" transform=\"translate(0,5)\"><text>0</text></g></g><g class=\"tick\" transform=\"translate(180 163.2)\"><line x1=\"0\" x2=\"0\" y1=\"0\" y2=\"5\"/><g class=\"lab\" transform=\"translate(0,5)\"><text>100000</text></g></g><g class=\"site s0\" transform=\"translate(28.4448 163.2)\"><line class=\"sym\" x1=\"0\" x2=\"0\" y1=\"0\" y2=\"-10\"/><g class=\"mut m0\"><polyline class=\"sym\" points=\"2.5,-6.5 0,-1.5 -2.5,-6.5\"/></g></g><g class=\"site s1\" transform=\"translate(44.0304 163.2)\"><line class=\"sym\" x1=\"0\" x2=\"0\" y1=\"0\" y2=\"-10\"/><g class=\"mut m1\"><polyline class=\"sym\" points=\"2.5,-6.5 0,-1.5 -2.5,-6.5\"/></g></g><g class=\"site s2\" transform=\"translate(44.5744 163.2)\"><line class=\"sym\" x1=\"0\" x2=\"0\" y1=\"0\" y2=\"-10\"/><g class=\"mut m2\"><polyline class=\"sym\" points=\"2.5,-6.5 0,-1.5 -2.5,-6.5\"/></g></g><g class=\"site s3\" transform=\"translate(48.2176 163.2)\"><line class=\"sym\" x1=\"0\" x2=\"0\" y1=\"0\" y2=\"-10\"/><g class=\"mut m3\"><polyline class=\"sym\" points=\"2.5,-6.5 0,-1.5 -2.5,-6.5\"/></g></g><g class=\"site s4\" transform=\"translate(58.7328 163.2)\"><line class=\"sym\" x1=\"0\" x2=\"0\" y1=\"0\" y2=\"-10\"/><g class=\"mut m4\"><polyline class=\"sym\" points=\"2.5,-6.5 0,-1.5 -2.5,-6.5\"/></g></g><g class=\"site s5\" transform=\"translate(60.0672 163.2)\"><line class=\"sym\" x1=\"0\" x2=\"0\" y1=\"0\" y2=\"-10\"/><g class=\"mut m5\"><polyline class=\"sym\" points=\"2.5,-6.5 0,-1.5 -2.5,-6.5\"/></g></g><g class=\"site s6\" transform=\"translate(64.5696 163.2)\"><line class=\"sym\" x1=\"0\" x2=\"0\" y1=\"0\" y2=\"-10\"/><g class=\"mut m6\"><polyline class=\"sym\" points=\"2.5,-6.5 0,-1.5 -2.5,-6.5\"/></g></g><g class=\"site s7\" transform=\"translate(70.9952 163.2)\"><line class=\"sym\" x1=\"0\" x2=\"0\" y1=\"0\" y2=\"-10\"/><g class=\"mut m7\"><polyline class=\"sym\" points=\"2.5,-6.5 0,-1.5 -2.5,-6.5\"/></g></g><g class=\"site s8\" transform=\"translate(71.2 163.2)\"><line class=\"sym\" x1=\"0\" x2=\"0\" y1=\"0\" y2=\"-10\"/><g class=\"mut m8\"><polyline class=\"sym\" points=\"2.5,-6.5 0,-1.5 -2.5,-6.5\"/></g></g><g class=\"site s9\" transform=\"translate(77.2144 163.2)\"><line class=\"sym\" x1=\"0\" x2=\"0\" y1=\"0\" y2=\"-10\"/><g class=\"mut m9\"><polyline class=\"sym\" points=\"2.5,-6.5 0,-1.5 -2.5,-6.5\"/></g></g><g class=\"site s10\" transform=\"translate(79.8704 163.2)\"><line class=\"sym\" x1=\"0\" x2=\"0\" y1=\"0\" y2=\"-10\"/><g class=\"mut m10\"><polyline class=\"sym\" points=\"2.5,-6.5 0,-1.5 -2.5,-6.5\"/></g></g><g class=\"site s11\" transform=\"translate(80.6432 163.2)\"><line class=\"sym\" x1=\"0\" x2=\"0\" y1=\"0\" y2=\"-10\"/><g class=\"mut m11\"><polyline class=\"sym\" points=\"2.5,-6.5 0,-1.5 -2.5,-6.5\"/></g></g><g class=\"site s12\" transform=\"translate(95.3488 163.2)\"><line class=\"sym\" x1=\"0\" x2=\"0\" y1=\"0\" y2=\"-10\"/><g class=\"mut m12\"><polyline class=\"sym\" points=\"2.5,-6.5 0,-1.5 -2.5,-6.5\"/></g></g><g class=\"site s13\" transform=\"translate(95.9648 163.2)\"><line class=\"sym\" x1=\"0\" x2=\"0\" y1=\"0\" y2=\"-10\"/><g class=\"mut m13\"><polyline class=\"sym\" points=\"2.5,-6.5 0,-1.5 -2.5,-6.5\"/></g></g><g class=\"site s14\" transform=\"translate(102.534 163.2)\"><line class=\"sym\" x1=\"0\" x2=\"0\" y1=\"0\" y2=\"-10\"/><g class=\"mut m14\"><polyline class=\"sym\" points=\"2.5,-6.5 0,-1.5 -2.5,-6.5\"/></g></g><g class=\"site s15\" transform=\"translate(105.088 163.2)\"><line class=\"sym\" x1=\"0\" x2=\"0\" y1=\"0\" y2=\"-10\"/><g class=\"mut m15\"><polyline class=\"sym\" points=\"2.5,-6.5 0,-1.5 -2.5,-6.5\"/></g></g><g class=\"site s16\" transform=\"translate(106.456 163.2)\"><line class=\"sym\" x1=\"0\" x2=\"0\" y1=\"0\" y2=\"-10\"/><g class=\"mut m16\"><polyline class=\"sym\" points=\"2.5,-6.5 0,-1.5 -2.5,-6.5\"/></g></g><g class=\"site s17\" transform=\"translate(115.072 163.2)\"><line class=\"sym\" x1=\"0\" x2=\"0\" y1=\"0\" y2=\"-10\"/><g class=\"mut m17\"><polyline class=\"sym\" points=\"2.5,-6.5 0,-1.5 -2.5,-6.5\"/></g></g><g class=\"site s18\" transform=\"translate(116.99 163.2)\"><line class=\"sym\" x1=\"0\" x2=\"0\" y1=\"0\" y2=\"-10\"/><g class=\"mut m18\"><polyline class=\"sym\" points=\"2.5,-6.5 0,-1.5 -2.5,-6.5\"/></g></g><g class=\"site s19\" transform=\"translate(130.41 163.2)\"><line class=\"sym\" x1=\"0\" x2=\"0\" y1=\"0\" y2=\"-10\"/><g class=\"mut m19\"><polyline class=\"sym\" points=\"2.5,-6.5 0,-1.5 -2.5,-6.5\"/></g></g><g class=\"site s20\" transform=\"translate(130.598 163.2)\"><line class=\"sym\" x1=\"0\" x2=\"0\" y1=\"0\" y2=\"-10\"/><g class=\"mut m20\"><polyline class=\"sym\" points=\"2.5,-6.5 0,-1.5 -2.5,-6.5\"/></g></g><g class=\"site s21\" transform=\"translate(130.718 163.2)\"><line class=\"sym\" x1=\"0\" x2=\"0\" y1=\"0\" y2=\"-10\"/><g class=\"mut m21\"><polyline class=\"sym\" points=\"2.5,-6.5 0,-1.5 -2.5,-6.5\"/></g></g><g class=\"site s22\" transform=\"translate(135.613 163.2)\"><line class=\"sym\" x1=\"0\" x2=\"0\" y1=\"0\" y2=\"-10\"/><g class=\"mut m22\"><polyline class=\"sym\" points=\"2.5,-6.5 0,-1.5 -2.5,-6.5\"/></g></g><g class=\"site s23\" transform=\"translate(138.557 163.2)\"><line class=\"sym\" x1=\"0\" x2=\"0\" y1=\"0\" y2=\"-10\"/><g class=\"mut m23\"><polyline class=\"sym\" points=\"2.5,-6.5 0,-1.5 -2.5,-6.5\"/></g></g><g class=\"site s24\" transform=\"translate(145.274 163.2)\"><line class=\"sym\" x1=\"0\" x2=\"0\" y1=\"0\" y2=\"-10\"/><g class=\"mut m24\"><polyline class=\"sym\" points=\"2.5,-6.5 0,-1.5 -2.5,-6.5\"/></g></g><g class=\"site s25\" transform=\"translate(160.437 163.2)\"><line class=\"sym\" x1=\"0\" x2=\"0\" y1=\"0\" y2=\"-10\"/><g class=\"mut m25\"><polyline class=\"sym\" points=\"2.5,-6.5 0,-1.5 -2.5,-6.5\"/></g></g><g class=\"site s26\" transform=\"translate(166.314 163.2)\"><line class=\"sym\" x1=\"0\" x2=\"0\" y1=\"0\" y2=\"-10\"/><g class=\"mut m26\"><polyline class=\"sym\" points=\"2.5,-6.5 0,-1.5 -2.5,-6.5\"/></g></g><g class=\"site s27\" transform=\"translate(173.269 163.2)\"><line class=\"sym\" x1=\"0\" x2=\"0\" y1=\"0\" y2=\"-10\"/><g class=\"mut m27\"><polyline class=\"sym\" points=\"2.5,-6.5 0,-1.5 -2.5,-6.5\"/></g></g><g class=\"site s28\" transform=\"translate(177.883 163.2)\"><line class=\"sym\" x1=\"0\" x2=\"0\" y1=\"0\" y2=\"-10\"/><g class=\"mut m28\"><polyline class=\"sym\" points=\"2.5,-6.5 0,-1.5 -2.5,-6.5\"/></g></g><g class=\"site s29\" transform=\"translate(179.33 163.2)\"><line class=\"sym\" x1=\"0\" x2=\"0\" y1=\"0\" y2=\"-10\"/><g class=\"mut m29\"><polyline class=\"sym\" points=\"2.5,-6.5 0,-1.5 -2.5,-6.5\"/></g></g></g></g><g class=\"plotbox trees\"><g class=\"tree t0\" transform=\"translate(20 0)\"><g class=\"plotbox\"><g class=\"i6 node n18 p0 root\" transform=\"translate(105.417 26.8)\"><g class=\"a18 i7 m1 m12 m24 m26 m28 m3 m5 node n17 p0 s1 s12 s24 s26 s28 s3 s5\" transform=\"translate(0.0 6.49086)\"><g class=\"a17 i2 leaf m0 m17 m19 m22 m23 m27 m4 m7 m9 node n4 p0 s0 s17 s19 s22 s23 s27 s4 s7 s9 sample\" transform=\"translate(27.9167 87.9956)\"><path class=\"edge\" d=\"M 0 0 V -87.9956 H -27.9167\"/><g class=\"mut m0 s0\" transform=\"translate(0 -82.7537)\"><line x1=\"0\" x2=\"0\" y1=\"0\" y2=\"82.7537\"/><path class=\"sym\" d=\"M -3,-3 l 6,6 M -3,3 l 6,-6\"/><text class=\"lab rgt\" transform=\"translate(5 0)\">0</text></g><g class=\"mut m27 s27\" transform=\"translate(0 -70.1694)\"><line x1=\"0\" x2=\"0\" y1=\"0\" y2=\"70.1694\"/><path class=\"sym\" d=\"M -3,-3 l 6,6 M -3,3 l 6,-6\"/><text class=\"lab rgt\" transform=\"translate(5 0)\">27</text></g><g class=\"mut m23 s23\" transform=\"translate(0 -62.5431)\"><line x1=\"0\" x2=\"0\" y1=\"0\" y2=\"62.5431\"/><path class=\"sym\" d=\"M -3,-3 l 6,6 M -3,3 l 6,-6\"/><text class=\"lab rgt\" transform=\"translate(5 0)\">23</text></g><g class=\"mut m7 s7\" transform=\"translate(0 -58.3799)\"><line x1=\"0\" x2=\"0\" y1=\"0\" y2=\"58.3799\"/><path class=\"sym\" d=\"M -3,-3 l 6,6 M -3,3 l 6,-6\"/><text class=\"lab rgt\" transform=\"translate(5 0)\">7</text></g><g class=\"mut m19 s19\" transform=\"translate(0 -52.9677)\"><line x1=\"0\" x2=\"0\" y1=\"0\" y2=\"52.9677\"/><path class=\"sym\" d=\"M -3,-3 l 6,6 M -3,3 l 6,-6\"/><text class=\"lab rgt\" transform=\"translate(5 0)\">19</text></g><g class=\"mut m22 s22\" transform=\"translate(0 -46.4011)\"><line x1=\"0\" x2=\"0\" y1=\"0\" y2=\"46.4011\"/><path class=\"sym\" d=\"M -3,-3 l 6,6 M -3,3 l 6,-6\"/><text class=\"lab rgt\" transform=\"translate(5 0)\">22</text></g><g class=\"mut m4 s4\" transform=\"translate(0 -36.75)\"><line x1=\"0\" x2=\"0\" y1=\"0\" y2=\"36.75\"/><path class=\"sym\" d=\"M -3,-3 l 6,6 M -3,3 l 6,-6\"/><text class=\"lab rgt\" transform=\"translate(5 0)\">4</text></g><g class=\"mut m9 s9\" transform=\"translate(0 -16.142)\"><line x1=\"0\" x2=\"0\" y1=\"0\" y2=\"16.142\"/><path class=\"sym\" d=\"M -3,-3 l 6,6 M -3,3 l 6,-6\"/><text class=\"lab rgt\" transform=\"translate(5 0)\">9</text></g><g class=\"mut m17 s17\" transform=\"translate(0 -3.65229)\"><line x1=\"0\" x2=\"0\" y1=\"0\" y2=\"3.65229\"/><path class=\"sym\" d=\"M -3,-3 l 6,6 M -3,3 l 6,-6\"/><text class=\"lab rgt\" transform=\"translate(5 0)\">17</text></g><rect class=\"sym\" height=\"6\" width=\"6\" x=\"-3\" y=\"-3\"/><text class=\"lab\" transform=\"translate(0 11)\">4</text></g><g class=\"a17 i8 m11 m13 m14 m15 m16 m18 m20 m25 m29 m6 m8 node n16 p0 s11 s13 s14 s15 s16 s18 s20 s25 s29 s6 s8\" transform=\"translate(-27.9167 70.6993)\"><g class=\"a16 i10 node n14 p0\" transform=\"translate(-22.5 12.7925)\"><g class=\"a14 i2 leaf node n5 p0 sample\" transform=\"translate(11.6667 4.50386)\"><path class=\"edge\" d=\"M 0 0 V -4.50386 H -11.6667\"/><rect class=\"sym\" height=\"6\" width=\"6\" x=\"-3\" y=\"-3\"/><text class=\"lab\" transform=\"translate(0 11)\">5</text></g><g class=\"a14 i11 node n13 p0\" transform=\"translate(-11.6667 2.61148)\"><g class=\"a13 i3 leaf node n7 p0 sample\" transform=\"translate(10 1.89238)\"><path class=\"edge\" d=\"M 0 0 V -1.89238 H -10\"/><rect class=\"sym\" height=\"6\" width=\"6\" x=\"-3\" y=\"-3\"/><text class=\"lab\" transform=\"translate(0 11)\">7</text></g><g class=\"a13 i1 node n9 p0 sample\" transform=\"translate(-10 1.60852)\"><g class=\"a9 i13 node n10 p0\" transform=\"translate(0.0 0.340628)\"><g class=\"a10 i5 leaf node n0 p0 sample\" transform=\"translate(-6.66667 0.0378476)\"><path class=\"edge\" d=\"M 0 0 V -0.0378476 H 6.66667\"/><rect class=\"sym\" height=\"6\" width=\"6\" x=\"-3\" y=\"-3\"/><text class=\"lab\" transform=\"translate(0 11)\">0</text></g><g class=\"a10 i5 leaf node n1 p0 sample\" transform=\"translate(6.66667 0.0378476)\"><path class=\"edge\" d=\"M 0 0 V -0.0378476 H -6.66667\"/><rect class=\"sym\" height=\"6\" width=\"6\" x=\"-3\" y=\"-3\"/><text class=\"lab\" transform=\"translate(0 11)\">1</text></g><path class=\"edge\" d=\"M 0 0 V -0.340628 H 0.0\"/><circle class=\"sym\" cx=\"0\" cy=\"0\" r=\"3\"/><text class=\"lab lft\" transform=\"translate(-3 -7.0)\">10</text></g><path class=\"edge\" d=\"M 0 0 V -1.60852 H 10\"/><rect class=\"sym\" height=\"6\" width=\"6\" x=\"-3\" y=\"-3\"/><text class=\"lab lft\" transform=\"translate(-3 -7.0)\">9</text></g><path class=\"edge\" d=\"M 0 0 V -2.61148 H 11.6667\"/><circle class=\"sym\" cx=\"0\" cy=\"0\" r=\"3\"/><text class=\"lab lft\" transform=\"translate(-3 -7.0)\">13</text></g><path class=\"edge\" d=\"M 0 0 V -12.7925 H 22.5\"/><circle class=\"sym\" cx=\"0\" cy=\"0\" r=\"3\"/><text class=\"lab lft\" transform=\"translate(-3 -7.0)\">14</text></g><g class=\"a16 i9 m10 m2 node n15 p0 s10 s2\" transform=\"translate(22.5 12.7357)\"><g class=\"a15 i12 node n11 p0\" transform=\"translate(13.3333 4.08754)\"><g class=\"a11 i3 leaf node n6 p0 sample\" transform=\"translate(-6.66667 0.473095)\"><path class=\"edge\" d=\"M 0 0 V -0.473095 H 6.66667\"/><rect class=\"sym\" height=\"6\" width=\"6\" x=\"-3\" y=\"-3\"/><text class=\"lab\" transform=\"translate(0 11)\">6</text></g><g class=\"a11 i1 leaf node n8 p0 sample\" transform=\"translate(6.66667 0.189238)\"><path class=\"edge\" d=\"M 0 0 V -0.189238 H -6.66667\"/><rect class=\"sym\" height=\"6\" width=\"6\" x=\"-3\" y=\"-3\"/><text class=\"lab\" transform=\"translate(0 11)\">8</text></g><path class=\"edge\" d=\"M 0 0 V -4.08754 H -13.3333\"/><circle class=\"sym\" cx=\"0\" cy=\"0\" r=\"3\"/><text class=\"lab rgt\" transform=\"translate(3 -7.0)\">11</text></g><g class=\"a15 i0 m21 node n12 p0 s21\" transform=\"translate(-13.3333 3.59552)\"><g class=\"a12 i4 leaf node n2 p0 sample\" transform=\"translate(-6.66667 1.02188)\"><path class=\"edge\" d=\"M 0 0 V -1.02188 H 6.66667\"/><rect class=\"sym\" height=\"6\" width=\"6\" x=\"-3\" y=\"-3\"/><text class=\"lab\" transform=\"translate(0 11)\">2</text></g><g class=\"a12 i4 leaf node n3 p0 sample\" transform=\"translate(6.66667 1.02188)\"><path class=\"edge\" d=\"M 0 0 V -1.02188 H -6.66667\"/><rect class=\"sym\" height=\"6\" width=\"6\" x=\"-3\" y=\"-3\"/><text class=\"lab\" transform=\"translate(0 11)\">3</text></g><path class=\"edge\" d=\"M 0 0 V -3.59552 H 13.3333\"/><g class=\"mut m21 s21\" transform=\"translate(0 -0.813723)\"><line x1=\"0\" x2=\"0\" y1=\"0\" y2=\"0.813723\"/><path class=\"sym\" d=\"M -3,-3 l 6,6 M -3,3 l 6,-6\"/><text class=\"lab lft\" transform=\"translate(-5 0)\">21</text></g><circle class=\"sym\" cx=\"0\" cy=\"0\" r=\"3\"/><text class=\"lab lft\" transform=\"translate(-3 -7.0)\">12</text></g><path class=\"edge\" d=\"M 0 0 V -12.7357 H -22.5\"/><g class=\"mut m2 s2\" transform=\"translate(0 -11.0136)\"><line x1=\"0\" x2=\"0\" y1=\"0\" y2=\"11.0136\"/><path class=\"sym\" d=\"M -3,-3 l 6,6 M -3,3 l 6,-6\"/><text class=\"lab rgt\" transform=\"translate(5 0)\">2</text></g><g class=\"mut m10 s10\" transform=\"translate(0 -11.0136)\"><line x1=\"0\" x2=\"0\" y1=\"0\" y2=\"11.0136\"/><path class=\"sym\" d=\"M -3,-3 l 6,6 M -3,3 l 6,-6\"/><text class=\"lab rgt\" transform=\"translate(5 0)\">10</text></g><circle class=\"sym\" cx=\"0\" cy=\"0\" r=\"3\"/><text class=\"lab rgt\" transform=\"translate(3 -7.0)\">15</text></g><path class=\"edge\" d=\"M 0 0 V -70.6993 H 27.9167\"/><g class=\"mut m15 s15\" transform=\"translate(0 -58.2853)\"><line x1=\"0\" x2=\"0\" y1=\"0\" y2=\"58.2853\"/><path class=\"sym\" d=\"M -3,-3 l 6,6 M -3,3 l 6,-6\"/><text class=\"lab lft\" transform=\"translate(-5 0)\">15</text></g><g class=\"mut m6 s6\" transform=\"translate(0 -57.9257)\"><line x1=\"0\" x2=\"0\" y1=\"0\" y2=\"57.9257\"/><path class=\"sym\" d=\"M -3,-3 l 6,6 M -3,3 l 6,-6\"/><text class=\"lab lft\" transform=\"translate(-5 0)\">6</text></g><g class=\"mut m14 s14\" transform=\"translate(0 -54.5573)\"><line x1=\"0\" x2=\"0\" y1=\"0\" y2=\"54.5573\"/><path class=\"sym\" d=\"M -3,-3 l 6,6 M -3,3 l 6,-6\"/><text class=\"lab lft\" transform=\"translate(-5 0)\">14</text></g><g class=\"mut m13 s13\" transform=\"translate(0 -54.4059)\"><line x1=\"0\" x2=\"0\" y1=\"0\" y2=\"54.4059\"/><path class=\"sym\" d=\"M -3,-3 l 6,6 M -3,3 l 6,-6\"/><text class=\"lab lft\" transform=\"translate(-5 0)\">13</text></g><g class=\"mut m8 s8\" transform=\"translate(0 -52.5324)\"><line x1=\"0\" x2=\"0\" y1=\"0\" y2=\"52.5324\"/><path class=\"sym\" d=\"M -3,-3 l 6,6 M -3,3 l 6,-6\"/><text class=\"lab lft\" transform=\"translate(-5 0)\">8</text></g><g class=\"mut m25 s25\" transform=\"translate(0 -39.7589)\"><line x1=\"0\" x2=\"0\" y1=\"0\" y2=\"39.7589\"/><path class=\"sym\" d=\"M -3,-3 l 6,6 M -3,3 l 6,-6\"/><text class=\"lab lft\" transform=\"translate(-5 0)\">25</text></g><g class=\"mut m20 s20\" transform=\"translate(0 -14.9498)\"><line x1=\"0\" x2=\"0\" y1=\"0\" y2=\"14.9498\"/><path class=\"sym\" d=\"M -3,-3 l 6,6 M -3,3 l 6,-6\"/><text class=\"lab lft\" transform=\"translate(-5 0)\">20</text></g><g class=\"mut m29 s29\" transform=\"translate(0 -14.0036)\"><line x1=\"0\" x2=\"0\" y1=\"0\" y2=\"14.0036\"/><path class=\"sym\" d=\"M -3,-3 l 6,6 M -3,3 l 6,-6\"/><text class=\"lab lft\" transform=\"translate(-5 0)\">29</text></g><g class=\"mut m11 s11\" transform=\"translate(0 -10.7487)\"><line x1=\"0\" x2=\"0\" y1=\"0\" y2=\"10.7487\"/><path class=\"sym\" d=\"M -3,-3 l 6,6 M -3,3 l 6,-6\"/><text class=\"lab lft\" transform=\"translate(-5 0)\">11</text></g><g class=\"mut m18 s18\" transform=\"translate(0 -8.04261)\"><line x1=\"0\" x2=\"0\" y1=\"0\" y2=\"8.04261\"/><path class=\"sym\" d=\"M -3,-3 l 6,6 M -3,3 l 6,-6\"/><text class=\"lab lft\" transform=\"translate(-5 0)\">18</text></g><g class=\"mut m16 s16\" transform=\"translate(0 -7.19104)\"><line x1=\"0\" x2=\"0\" y1=\"0\" y2=\"7.19104\"/><path class=\"sym\" d=\"M -3,-3 l 6,6 M -3,3 l 6,-6\"/><text class=\"lab lft\" transform=\"translate(-5 0)\">16</text></g><circle class=\"sym\" cx=\"0\" cy=\"0\" r=\"3\"/><text class=\"lab lft\" transform=\"translate(-3 -7.0)\">16</text></g><path class=\"edge\" d=\"M 0 0 V -6.49086 H 0.0\"/><g class=\"mut m28 s28\" transform=\"translate(0 -6.207)\"><line x1=\"0\" x2=\"0\" y1=\"0\" y2=\"6.207\"/><path class=\"sym\" d=\"M -3,-3 l 6,6 M -3,3 l 6,-6\"/><text class=\"lab lft\" transform=\"translate(-5 0)\">28</text></g><g class=\"mut m5 s5\" transform=\"translate(0 -5.4879)\"><line x1=\"0\" x2=\"0\" y1=\"0\" y2=\"5.4879\"/><path class=\"sym\" d=\"M -3,-3 l 6,6 M -3,3 l 6,-6\"/><text class=\"lab lft\" transform=\"translate(-5 0)\">5</text></g><g class=\"mut m26 s26\" transform=\"translate(0 -4.95803)\"><line x1=\"0\" x2=\"0\" y1=\"0\" y2=\"4.95803\"/><path class=\"sym\" d=\"M -3,-3 l 6,6 M -3,3 l 6,-6\"/><text class=\"lab lft\" transform=\"translate(-5 0)\">26</text></g><g class=\"mut m1 s1\" transform=\"translate(0 -3.06565)\"><line x1=\"0\" x2=\"0\" y1=\"0\" y2=\"3.06565\"/><path class=\"sym\" d=\"M -3,-3 l 6,6 M -3,3 l 6,-6\"/><text class=\"lab lft\" transform=\"translate(-5 0)\">1</text></g><g class=\"mut m12 s12\" transform=\"translate(0 -2.49794)\"><line x1=\"0\" x2=\"0\" y1=\"0\" y2=\"2.49794\"/><path class=\"sym\" d=\"M -3,-3 l 6,6 M -3,3 l 6,-6\"/><text class=\"lab lft\" transform=\"translate(-5 0)\">12</text></g><g class=\"mut m3 s3\" transform=\"translate(0 -1.64637)\"><line x1=\"0\" x2=\"0\" y1=\"0\" y2=\"1.64637\"/><path class=\"sym\" d=\"M -3,-3 l 6,6 M -3,3 l 6,-6\"/><text class=\"lab lft\" transform=\"translate(-5 0)\">3</text></g><g class=\"mut m24 s24\" transform=\"translate(0 -0.813723)\"><line x1=\"0\" x2=\"0\" y1=\"0\" y2=\"0.813723\"/><path class=\"sym\" d=\"M -3,-3 l 6,6 M -3,3 l 6,-6\"/><text class=\"lab lft\" transform=\"translate(-5 0)\">24</text></g><circle class=\"sym\" cx=\"0\" cy=\"0\" r=\"3\"/><text class=\"lab lft\" transform=\"translate(-3 -7.0)\">17</text></g><circle class=\"sym\" cx=\"0\" cy=\"0\" r=\"3\"/><text class=\"lab\" transform=\"translate(0 -11)\">18</text></g></g></g></g></g></svg>"
      ],
      "text/plain": [
       "<IPython.core.display.SVG object>"
      ]
     },
     "execution_count": 16,
     "metadata": {},
     "output_type": "execute_result"
    }
   ],
   "source": [
    "SVG(sts.draw_svg())"
   ]
  },
  {
   "cell_type": "code",
   "execution_count": 17,
   "id": "059bd099-c4e8-44ed-9a2c-e6392b0c1084",
   "metadata": {
    "tags": []
   },
   "outputs": [
    {
     "name": "stdout",
     "output_type": "stream",
     "text": [
      "-0.0016241748817265034\n"
     ]
    }
   ],
   "source": [
    "print(ts.mutation(0).metadata['mutation_list'][0]['selection_coeff'])"
   ]
  },
  {
   "cell_type": "code",
   "execution_count": 18,
   "id": "8a681ac2-ba39-4afe-92e9-247f22cb6589",
   "metadata": {},
   "outputs": [
    {
     "name": "stdout",
     "output_type": "stream",
     "text": [
      "{'mutation_list': [{'mutation_type': 1, 'selection_coeff': -0.0011217609280720353, 'subpopulation': 1, 'slim_time': 621, 'nucleotide': -1}]}\n"
     ]
    }
   ],
   "source": [
    "for var in sts.variants(isolated_as_missing=False):\n",
    "    print(var.site.mutations[0].metadata)\n",
    "    break"
   ]
  },
  {
   "cell_type": "code",
   "execution_count": 21,
   "id": "fb29981f-ca12-4f78-af48-5c6f352552c9",
   "metadata": {},
   "outputs": [],
   "source": [
    "def movingmuts(ts):\n",
    "    dist, muts, mis = [], [], []\n",
    "    for i in range(ts.num_individuals):\n",
    "        mis.append(0)\n",
    "    for var in sts.variants(samples=range(sts.num_nodes), isolated_as_missing=False):\n",
    "        for i in range(sts.num_nodes):\n",
    "            if var.genotypes[i] == 1:\n",
    "                char = sts.node(i).individual\n",
    "                if char != -1:\n",
    "                    for mut in var.site.mutations:\n",
    "                        mis[char] += mut.metadata['mutation_list'][0]['selection_coeff']\n",
    "\n",
    "    for i in ts.individuals_alive_at(0):\n",
    "        loc = ts.individual(i).location\n",
    "        if loc[0] < 0.5:\n",
    "            loc[0] = 0.5\n",
    "        if loc[1] < 0.5:\n",
    "            loc[1] = 0.5\n",
    "        d = math.sqrt((loc[0] - 0.5)**2 + (loc[1] - 0.5)**2)\n",
    "        m = mis[i]\n",
    "        if m != 0:\n",
    "            dist.append(d)\n",
    "            muts.append(m)\n",
    "    fig = plt.figure()\n",
    "    plt.scatter(dist, muts, color=\"blue\", s=5.0) "
   ]
  },
  {
   "cell_type": "code",
   "execution_count": 22,
   "id": "72a512be-4516-48fa-8a6e-881df8c5c1e8",
   "metadata": {},
   "outputs": [
    {
     "data": {
      "application/vnd.jupyter.widget-view+json": {
       "model_id": "beb81a628dc24089b45fa4b2b745a770",
       "version_major": 2,
       "version_minor": 0
      },
      "text/plain": [
       "Canvas(toolbar=Toolbar(toolitems=[('Home', 'Reset original view', 'home', 'home'), ('Back', 'Back to previous …"
      ]
     },
     "metadata": {},
     "output_type": "display_data"
    },
    {
     "data": {
      "application/vnd.jupyter.widget-view+json": {
       "model_id": "4478910ec0734321a08d7d0a4eca38b5",
       "version_major": 2,
       "version_minor": 0
      },
      "text/plain": [
       "Canvas(toolbar=Toolbar(toolitems=[('Home', 'Reset original view', 'home', 'home'), ('Back', 'Back to previous …"
      ]
     },
     "metadata": {},
     "output_type": "display_data"
    }
   ],
   "source": [
    "movingmuts(sts)\n",
    "movingmuts(ts)"
   ]
  },
  {
   "cell_type": "code",
   "execution_count": null,
   "id": "32c7e0e5-6cd8-41c2-9768-dfa8f5e2c184",
   "metadata": {},
   "outputs": [],
   "source": []
  }
 ],
 "metadata": {
  "kernelspec": {
   "display_name": "Python 3",
   "language": "python",
   "name": "python3"
  },
  "language_info": {
   "codemirror_mode": {
    "name": "ipython",
    "version": 3
   },
   "file_extension": ".py",
   "mimetype": "text/x-python",
   "name": "python",
   "nbconvert_exporter": "python",
   "pygments_lexer": "ipython3",
   "version": "3.9.1"
  }
 },
 "nbformat": 4,
 "nbformat_minor": 5
}
