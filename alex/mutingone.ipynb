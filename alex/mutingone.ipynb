{
 "cells": [
  {
   "cell_type": "code",
   "execution_count": 6,
   "id": "3dbd3433-ed3c-4274-8901-dd741a7ca3bb",
   "metadata": {},
   "outputs": [],
   "source": [
    "import msprime, pyslim\n",
    "\n",
    "ts = pyslim.load(\"/Users/alexanderwhitwam/Desktop/one.trees\").simplify()\n",
    "mutated = msprime.mutate(ts, rate=1e-7, random_seed=1, keep=True)\n",
    "mutated.dump(\"/Users/alexanderwhitwam/Desktop/one_mut.trees\")\n",
    "tst = pyslim.load(\"/Users/alexanderwhitwam/Desktop/one_mut.trees\").simplify()"
   ]
  },
  {
   "cell_type": "code",
   "execution_count": 7,
   "id": "d932c176-5790-43d2-a141-b633f5e663b2",
   "metadata": {},
   "outputs": [
    {
     "name": "stdout",
     "output_type": "stream",
     "text": [
      "╔═════════════════════════╗\n",
      "║TreeSequence             ║\n",
      "╠═══════════════╤═════════╣\n",
      "║Trees          │       13║\n",
      "╟───────────────┼─────────╢\n",
      "║Sequence Length│ 100000.0║\n",
      "╟───────────────┼─────────╢\n",
      "║Sample Nodes   │     1000║\n",
      "╟───────────────┼─────────╢\n",
      "║Total Size     │167.7 KiB║\n",
      "╚═══════════════╧═════════╝\n",
      "╔═══════════╤════╤════════╤════════════╗\n",
      "║Table      │Rows│Size    │Has Metadata║\n",
      "╠═══════════╪════╪════════╪════════════╣\n",
      "║Edges      │1852│50.6 KiB│          No║\n",
      "╟───────────┼────┼────────┼────────────╢\n",
      "║Individuals│ 500│32.7 KiB│         Yes║\n",
      "╟───────────┼────┼────────┼────────────╢\n",
      "║Migrations │   0│ 4 Bytes│          No║\n",
      "╟───────────┼────┼────────┼────────────╢\n",
      "║Mutations  │   0│ 1.2 KiB│          No║\n",
      "╟───────────┼────┼────────┼────────────╢\n",
      "║Nodes      │1824│61.2 KiB│         Yes║\n",
      "╟───────────┼────┼────────┼────────────╢\n",
      "║Populations│   1│ 2.8 KiB│         Yes║\n",
      "╟───────────┼────┼────────┼────────────╢\n",
      "║Provenances│   2│ 3.0 KiB│          No║\n",
      "╟───────────┼────┼────────┼────────────╢\n",
      "║Sites      │   0│ 8 Bytes│          No║\n",
      "╚═══════════╧════╧════════╧════════════╝\n",
      "\n",
      "╔═════════════════════════╗\n",
      "║TreeSequence             ║\n",
      "╠═══════════════╤═════════╣\n",
      "║Trees          │       13║\n",
      "╟───────────────┼─────────╢\n",
      "║Sequence Length│ 100000.0║\n",
      "╟───────────────┼─────────╢\n",
      "║Sample Nodes   │     1000║\n",
      "╟───────────────┼─────────╢\n",
      "║Total Size     │173.4 KiB║\n",
      "╚═══════════════╧═════════╝\n",
      "╔═══════════╤════╤════════╤════════════╗\n",
      "║Table      │Rows│Size    │Has Metadata║\n",
      "╠═══════════╪════╪════════╪════════════╣\n",
      "║Edges      │1852│50.6 KiB│          No║\n",
      "╟───────────┼────┼────────┼────────────╢\n",
      "║Individuals│ 500│32.7 KiB│         Yes║\n",
      "╟───────────┼────┼────────┼────────────╢\n",
      "║Migrations │   0│ 4 Bytes│          No║\n",
      "╟───────────┼────┼────────┼────────────╢\n",
      "║Mutations  │  97│ 3.9 KiB│          No║\n",
      "╟───────────┼────┼────────┼────────────╢\n",
      "║Nodes      │1824│61.2 KiB│         Yes║\n",
      "╟───────────┼────┼────────┼────────────╢\n",
      "║Populations│   1│ 2.8 KiB│         Yes║\n",
      "╟───────────┼────┼────────┼────────────╢\n",
      "║Provenances│   4│ 4.3 KiB│          No║\n",
      "╟───────────┼────┼────────┼────────────╢\n",
      "║Sites      │  97│ 1.6 KiB│          No║\n",
      "╚═══════════╧════╧════════╧════════════╝\n",
      "\n"
     ]
    }
   ],
   "source": [
    "print(ts)\n",
    "print(tst)"
   ]
  },
  {
   "cell_type": "code",
   "execution_count": null,
   "id": "dc8fab30-2f7e-49e1-8a88-34b3b73efa65",
   "metadata": {},
   "outputs": [],
   "source": []
  }
 ],
 "metadata": {
  "kernelspec": {
   "display_name": "Python 3",
   "language": "python",
   "name": "python3"
  },
  "language_info": {
   "codemirror_mode": {
    "name": "ipython",
    "version": 3
   },
   "file_extension": ".py",
   "mimetype": "text/x-python",
   "name": "python",
   "nbconvert_exporter": "python",
   "pygments_lexer": "ipython3",
   "version": "3.9.1"
  }
 },
 "nbformat": 4,
 "nbformat_minor": 5
}
