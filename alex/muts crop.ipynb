{
 "cells": [
  {
   "cell_type": "code",
   "execution_count": 138,
   "id": "a7ae06c6-b12a-45d2-83d5-0fac866cba67",
   "metadata": {},
   "outputs": [],
   "source": [
    "%matplotlib widget\n",
    "import pyslim, msprime, tskit, random\n",
    "import numpy as np\n",
    "import matplotlib.pyplot as plt\n",
    "from IPython.display import SVG, display\n",
    "\n",
    "#load tree sequence file, recapitate\n",
    "\n",
    "ts = pyslim.load(\"/Users/alexanderwhitwam/Dropbox/university/research/space-trees/alex/mucrop.trees\")\n",
    "ts = ts.recapitate(recombination_rate = 1e-8, Ne=500)\n",
    "#ts = pyslim.SlimTreeSequence(msprime.mutate(ts, rate=1e-7))"
   ]
  },
  {
   "cell_type": "code",
   "execution_count": 144,
   "id": "0ef39ab5-76c0-4cd7-a7c8-fd1d331fecfe",
   "metadata": {},
   "outputs": [],
   "source": [
    "samps = random.sample(sorted(ts.individuals_alive_at(0)), 5)\n",
    "snodes = []\n",
    "for i in samps:\n",
    "    snodes.append(ts.individuals()[i].nodes[0])\n",
    "    snodes.append(ts.individuals()[i].nodes[1])\n",
    "sts = ts.simplify(snodes, keep_input_roots = True)"
   ]
  },
  {
   "cell_type": "code",
   "execution_count": 145,
   "id": "8b109933-1797-41d6-a21f-b3fd49f6953e",
   "metadata": {},
   "outputs": [
    {
     "data": {
      "image/svg+xml": [
       "<svg xmlns=\"http://www.w3.org/2000/svg\" xmlns:ev=\"http://www.w3.org/2001/xml-events\" xmlns:xlink=\"http://www.w3.org/1999/xlink\" baseProfile=\"full\" height=\"200\" version=\"1.1\" width=\"1000\"><defs><style type=\"text/css\"><![CDATA[.background path {fill: #808080; fill-opacity:0}.background path:nth-child(odd) {fill-opacity:.1}.axes {font-size: 14px}.x-axis .tick .lab {font-weight: bold}.axes, .tree {font-size: 14px; text-anchor:middle}.y-axis line.grid {stroke: #FAFAFA}.y-axis > .lab text {transform: translateX(0.8em) rotate(-90deg)}.x-axis .tick g {transform: translateY(0.9em)}.x-axis > .lab text {transform: translateY(-0.8em)}.axes line, .edge {stroke:black; fill:none}.node > .sym {fill: black; stroke: none}.site > .sym {stroke: black}.mut text {fill: red; font-style: italic}.mut.extra text {fill: hotpink}.mut line {fill: none; stroke: none}.mut .sym {fill: none; stroke: red}.mut.extra .sym {stroke: hotpink}.node .mut .sym {stroke-width: 1.5px}.tree text, .tree-sequence text {dominant-baseline: central}.plotbox .lab.lft {text-anchor: end}.plotbox .lab.rgt {text-anchor: start}]]></style></defs><g class=\"tree-sequence\"><g class=\"background\"><path d=\"M20,0 l192,0 l0,138.2 l-124.502,25 l0,5 l-67.4976,0 l0,-5 l0,-25 l0,-138.2z\"/><path d=\"M212,0 l192,0 l0,138.2 l-312.576,25 l0,5 l-3.9264,0 l0,-5 l124.502,-25 l0,-138.2z\"/><path d=\"M404,0 l192,0 l0,138.2 l-244.541,25 l0,5 l-260.035,0 l0,-5 l312.576,-25 l0,-138.2z\"/><path d=\"M596,0 l192,0 l0,138.2 l76.704,25 l0,5 l-513.245,0 l0,-5 l244.541,-25 l0,-138.2z\"/><path d=\"M788,0 l192,0 l0,138.2 l0,25 l0,5 l-115.296,0 l0,-5 l-76.704,-25 l0,-138.2z\"/></g><g class=\"axes\"><g class=\"x-axis\"><g class=\"lab\" transform=\"translate(500,200)\"><text text-anchor=\"middle\">Genome position</text></g><line x1=\"20\" x2=\"980\" y1=\"163.2\" y2=\"163.2\"/><g class=\"tick\" transform=\"translate(20 163.2)\"><line x1=\"0\" x2=\"0\" y1=\"0\" y2=\"5\"/><g class=\"lab\" transform=\"translate(0,5)\"><text>0</text></g></g><g class=\"tick\" transform=\"translate(87.4976 163.2)\"><line x1=\"0\" x2=\"0\" y1=\"0\" y2=\"5\"/><g class=\"lab\" transform=\"translate(0,5)\"><text>7031</text></g></g><g class=\"tick\" transform=\"translate(91.424 163.2)\"><line x1=\"0\" x2=\"0\" y1=\"0\" y2=\"5\"/><g class=\"lab\" transform=\"translate(0,5)\"><text>7440</text></g></g><g class=\"tick\" transform=\"translate(351.459 163.2)\"><line x1=\"0\" x2=\"0\" y1=\"0\" y2=\"5\"/><g class=\"lab\" transform=\"translate(0,5)\"><text>34527</text></g></g><g class=\"tick\" transform=\"translate(864.704 163.2)\"><line x1=\"0\" x2=\"0\" y1=\"0\" y2=\"5\"/><g class=\"lab\" transform=\"translate(0,5)\"><text>87990</text></g></g><g class=\"tick\" transform=\"translate(980 163.2)\"><line x1=\"0\" x2=\"0\" y1=\"0\" y2=\"5\"/><g class=\"lab\" transform=\"translate(0,5)\"><text>100000</text></g></g><g class=\"site s0\" transform=\"translate(167.101 163.2)\"><line class=\"sym\" x1=\"0\" x2=\"0\" y1=\"0\" y2=\"-10\"/><g class=\"mut m0\"><polyline class=\"sym\" points=\"2.5,-6.5 0,-1.5 -2.5,-6.5\"/></g></g><g class=\"site s1\" transform=\"translate(247.866 163.2)\"><line class=\"sym\" x1=\"0\" x2=\"0\" y1=\"0\" y2=\"-10\"/><g class=\"mut m1\"><polyline class=\"sym\" points=\"2.5,-6.5 0,-1.5 -2.5,-6.5\"/></g></g><g class=\"site s2\" transform=\"translate(759.238 163.2)\"><line class=\"sym\" x1=\"0\" x2=\"0\" y1=\"0\" y2=\"-10\"/><g class=\"mut m2\"><polyline class=\"sym\" points=\"2.5,-6.5 0,-1.5 -2.5,-6.5\"/></g></g></g></g><g class=\"plotbox trees\"><g class=\"tree t0\" transform=\"translate(20 0)\"><g class=\"plotbox\"><g class=\"node n22 p0 root\" transform=\"translate(107.4 26.8)\"><g class=\"a22 i4 node n19 p0\" transform=\"translate(0.0 75.4306)\"><g class=\"a19 i6 node n17 p0\" transform=\"translate(38 9.30132)\"><g class=\"a17 i0 leaf node n5 p0 sample\" transform=\"translate(19 9.80139)\"><path class=\"edge\" d=\"M 0 0 V -9.80139 H -19\"/><rect class=\"sym\" height=\"6\" width=\"6\" x=\"-3\" y=\"-3\"/><text class=\"lab\" transform=\"translate(0 11)\">5</text></g><g class=\"a17 i7 node n16 p0\" transform=\"translate(-19 4.13392)\"><g class=\"a16 i13 node n10 p0\" transform=\"translate(-15.2 5.50078)\"><g class=\"a10 i3 leaf node n2 p0 sample\" transform=\"translate(-7.6 0.233367)\"><path class=\"edge\" d=\"M 0 0 V -0.233367 H 7.6\"/><rect class=\"sym\" height=\"6\" width=\"6\" x=\"-3\" y=\"-3\"/><text class=\"lab\" transform=\"translate(0 11)\">2</text></g><g class=\"a10 i3 leaf node n3 p0 sample\" transform=\"translate(7.6 0.233367)\"><path class=\"edge\" d=\"M 0 0 V -0.233367 H -7.6\"/><rect class=\"sym\" height=\"6\" width=\"6\" x=\"-3\" y=\"-3\"/><text class=\"lab\" transform=\"translate(0 11)\">3</text></g><path class=\"edge\" d=\"M 0 0 V -5.50078 H 15.2\"/><circle class=\"sym\" cx=\"0\" cy=\"0\" r=\"3\"/><text class=\"lab lft\" transform=\"translate(-3 -7.0)\">10</text></g><g class=\"a16 i12 node n11 p0\" transform=\"translate(15.2 4.56732)\"><g class=\"a11 i14 leaf node n6 p0 sample\" transform=\"translate(-7.6 1.16683)\"><path class=\"edge\" d=\"M 0 0 V -1.16683 H 7.6\"/><rect class=\"sym\" height=\"6\" width=\"6\" x=\"-3\" y=\"-3\"/><text class=\"lab\" transform=\"translate(0 11)\">6</text></g><g class=\"a11 i14 leaf node n7 p0 sample\" transform=\"translate(7.6 1.16683)\"><path class=\"edge\" d=\"M 0 0 V -1.16683 H -7.6\"/><rect class=\"sym\" height=\"6\" width=\"6\" x=\"-3\" y=\"-3\"/><text class=\"lab\" transform=\"translate(0 11)\">7</text></g><path class=\"edge\" d=\"M 0 0 V -4.56732 H -15.2\"/><circle class=\"sym\" cx=\"0\" cy=\"0\" r=\"3\"/><text class=\"lab rgt\" transform=\"translate(3 -7.0)\">11</text></g><path class=\"edge\" d=\"M 0 0 V -4.13392 H 19\"/><circle class=\"sym\" cx=\"0\" cy=\"0\" r=\"3\"/><text class=\"lab lft\" transform=\"translate(-3 -7.0)\">16</text></g><path class=\"edge\" d=\"M 0 0 V -9.30132 H -38\"/><circle class=\"sym\" cx=\"0\" cy=\"0\" r=\"3\"/><text class=\"lab rgt\" transform=\"translate(3 -7.0)\">17</text></g><g class=\"a19 i5 node n18 p0\" transform=\"translate(-38 2.06696)\"><g class=\"a18 i0 leaf node n4 p0 sample\" transform=\"translate(19 17.0358)\"><path class=\"edge\" d=\"M 0 0 V -17.0358 H -19\"/><rect class=\"sym\" height=\"6\" width=\"6\" x=\"-3\" y=\"-3\"/><text class=\"lab\" transform=\"translate(0 11)\">4</text></g><g class=\"a18 i8 node n15 p0\" transform=\"translate(-19 13.3352)\"><g class=\"a15 i11 node n12 p0\" transform=\"translate(-15.2 2.53369)\"><g class=\"a12 i2 leaf node n0 p0 sample\" transform=\"translate(-7.6 1.23351)\"><path class=\"edge\" d=\"M 0 0 V -1.23351 H 7.6\"/><rect class=\"sym\" height=\"6\" width=\"6\" x=\"-3\" y=\"-3\"/><text class=\"lab\" transform=\"translate(0 11)\">0</text></g><g class=\"a12 i2 leaf node n1 p0 sample\" transform=\"translate(7.6 1.23351)\"><path class=\"edge\" d=\"M 0 0 V -1.23351 H -7.6\"/><rect class=\"sym\" height=\"6\" width=\"6\" x=\"-3\" y=\"-3\"/><text class=\"lab\" transform=\"translate(0 11)\">1</text></g><path class=\"edge\" d=\"M 0 0 V -2.53369 H 15.2\"/><circle class=\"sym\" cx=\"0\" cy=\"0\" r=\"3\"/><text class=\"lab lft\" transform=\"translate(-3 -7.0)\">12</text></g><g class=\"a15 i10 node n13 p0\" transform=\"translate(15.2 1.56689)\"><g class=\"a13 i1 leaf node n8 p0 sample\" transform=\"translate(-7.6 2.16698)\"><path class=\"edge\" d=\"M 0 0 V -2.16698 H 7.6\"/><rect class=\"sym\" height=\"6\" width=\"6\" x=\"-3\" y=\"-3\"/><text class=\"lab\" transform=\"translate(0 11)\">8</text></g><g class=\"a13 i1 leaf node n9 p0 sample\" transform=\"translate(7.6 2.16698)\"><path class=\"edge\" d=\"M 0 0 V -2.16698 H -7.6\"/><rect class=\"sym\" height=\"6\" width=\"6\" x=\"-3\" y=\"-3\"/><text class=\"lab\" transform=\"translate(0 11)\">9</text></g><path class=\"edge\" d=\"M 0 0 V -1.56689 H -15.2\"/><circle class=\"sym\" cx=\"0\" cy=\"0\" r=\"3\"/><text class=\"lab rgt\" transform=\"translate(3 -7.0)\">13</text></g><path class=\"edge\" d=\"M 0 0 V -13.3352 H 19\"/><circle class=\"sym\" cx=\"0\" cy=\"0\" r=\"3\"/><text class=\"lab lft\" transform=\"translate(-3 -7.0)\">15</text></g><path class=\"edge\" d=\"M 0 0 V -2.06696 H 38\"/><circle class=\"sym\" cx=\"0\" cy=\"0\" r=\"3\"/><text class=\"lab lft\" transform=\"translate(-3 -7.0)\">18</text></g><path class=\"edge\" d=\"M 0 0 V -75.4306 H 0.0\"/><circle class=\"sym\" cx=\"0\" cy=\"0\" r=\"3\"/><text class=\"lab lft\" transform=\"translate(-3 -7.0)\">19</text></g><circle class=\"sym\" cx=\"0\" cy=\"0\" r=\"3\"/><text class=\"lab\" transform=\"translate(0 -11)\">22</text></g></g></g><g class=\"tree t1\" transform=\"translate(212 0)\"><g class=\"plotbox\"><g class=\"node n21 p0 root\" transform=\"translate(107.4 44.3341)\"><g class=\"a21 i4 node n19 p0\" transform=\"translate(0.0 57.8965)\"><g class=\"a19 i6 node n17 p0\" transform=\"translate(38 9.30132)\"><g class=\"a17 i0 leaf node n5 p0 sample\" transform=\"translate(19 9.80139)\"><path class=\"edge\" d=\"M 0 0 V -9.80139 H -19\"/><rect class=\"sym\" height=\"6\" width=\"6\" x=\"-3\" y=\"-3\"/><text class=\"lab\" transform=\"translate(0 11)\">5</text></g><g class=\"a17 i7 node n16 p0\" transform=\"translate(-19 4.13392)\"><g class=\"a16 i13 node n10 p0\" transform=\"translate(-15.2 5.50078)\"><g class=\"a10 i3 leaf node n2 p0 sample\" transform=\"translate(-7.6 0.233367)\"><path class=\"edge\" d=\"M 0 0 V -0.233367 H 7.6\"/><rect class=\"sym\" height=\"6\" width=\"6\" x=\"-3\" y=\"-3\"/><text class=\"lab\" transform=\"translate(0 11)\">2</text></g><g class=\"a10 i3 leaf node n3 p0 sample\" transform=\"translate(7.6 0.233367)\"><path class=\"edge\" d=\"M 0 0 V -0.233367 H -7.6\"/><rect class=\"sym\" height=\"6\" width=\"6\" x=\"-3\" y=\"-3\"/><text class=\"lab\" transform=\"translate(0 11)\">3</text></g><path class=\"edge\" d=\"M 0 0 V -5.50078 H 15.2\"/><circle class=\"sym\" cx=\"0\" cy=\"0\" r=\"3\"/><text class=\"lab lft\" transform=\"translate(-3 -7.0)\">10</text></g><g class=\"a16 i12 node n11 p0\" transform=\"translate(15.2 4.56732)\"><g class=\"a11 i14 leaf node n6 p0 sample\" transform=\"translate(-7.6 1.16683)\"><path class=\"edge\" d=\"M 0 0 V -1.16683 H 7.6\"/><rect class=\"sym\" height=\"6\" width=\"6\" x=\"-3\" y=\"-3\"/><text class=\"lab\" transform=\"translate(0 11)\">6</text></g><g class=\"a11 i14 leaf node n7 p0 sample\" transform=\"translate(7.6 1.16683)\"><path class=\"edge\" d=\"M 0 0 V -1.16683 H -7.6\"/><rect class=\"sym\" height=\"6\" width=\"6\" x=\"-3\" y=\"-3\"/><text class=\"lab\" transform=\"translate(0 11)\">7</text></g><path class=\"edge\" d=\"M 0 0 V -4.56732 H -15.2\"/><circle class=\"sym\" cx=\"0\" cy=\"0\" r=\"3\"/><text class=\"lab rgt\" transform=\"translate(3 -7.0)\">11</text></g><path class=\"edge\" d=\"M 0 0 V -4.13392 H 19\"/><circle class=\"sym\" cx=\"0\" cy=\"0\" r=\"3\"/><text class=\"lab lft\" transform=\"translate(-3 -7.0)\">16</text></g><path class=\"edge\" d=\"M 0 0 V -9.30132 H -38\"/><circle class=\"sym\" cx=\"0\" cy=\"0\" r=\"3\"/><text class=\"lab rgt\" transform=\"translate(3 -7.0)\">17</text></g><g class=\"a19 i5 node n18 p0\" transform=\"translate(-38 2.06696)\"><g class=\"a18 i0 leaf node n4 p0 sample\" transform=\"translate(19 17.0358)\"><path class=\"edge\" d=\"M 0 0 V -17.0358 H -19\"/><rect class=\"sym\" height=\"6\" width=\"6\" x=\"-3\" y=\"-3\"/><text class=\"lab\" transform=\"translate(0 11)\">4</text></g><g class=\"a18 i8 node n15 p0\" transform=\"translate(-19 13.3352)\"><g class=\"a15 i11 node n12 p0\" transform=\"translate(-15.2 2.53369)\"><g class=\"a12 i2 leaf node n0 p0 sample\" transform=\"translate(-7.6 1.23351)\"><path class=\"edge\" d=\"M 0 0 V -1.23351 H 7.6\"/><rect class=\"sym\" height=\"6\" width=\"6\" x=\"-3\" y=\"-3\"/><text class=\"lab\" transform=\"translate(0 11)\">0</text></g><g class=\"a12 i2 leaf node n1 p0 sample\" transform=\"translate(7.6 1.23351)\"><path class=\"edge\" d=\"M 0 0 V -1.23351 H -7.6\"/><rect class=\"sym\" height=\"6\" width=\"6\" x=\"-3\" y=\"-3\"/><text class=\"lab\" transform=\"translate(0 11)\">1</text></g><path class=\"edge\" d=\"M 0 0 V -2.53369 H 15.2\"/><circle class=\"sym\" cx=\"0\" cy=\"0\" r=\"3\"/><text class=\"lab lft\" transform=\"translate(-3 -7.0)\">12</text></g><g class=\"a15 i10 node n13 p0\" transform=\"translate(15.2 1.56689)\"><g class=\"a13 i1 leaf node n8 p0 sample\" transform=\"translate(-7.6 2.16698)\"><path class=\"edge\" d=\"M 0 0 V -2.16698 H 7.6\"/><rect class=\"sym\" height=\"6\" width=\"6\" x=\"-3\" y=\"-3\"/><text class=\"lab\" transform=\"translate(0 11)\">8</text></g><g class=\"a13 i1 leaf node n9 p0 sample\" transform=\"translate(7.6 2.16698)\"><path class=\"edge\" d=\"M 0 0 V -2.16698 H -7.6\"/><rect class=\"sym\" height=\"6\" width=\"6\" x=\"-3\" y=\"-3\"/><text class=\"lab\" transform=\"translate(0 11)\">9</text></g><path class=\"edge\" d=\"M 0 0 V -1.56689 H -15.2\"/><circle class=\"sym\" cx=\"0\" cy=\"0\" r=\"3\"/><text class=\"lab rgt\" transform=\"translate(3 -7.0)\">13</text></g><path class=\"edge\" d=\"M 0 0 V -13.3352 H 19\"/><circle class=\"sym\" cx=\"0\" cy=\"0\" r=\"3\"/><text class=\"lab lft\" transform=\"translate(-3 -7.0)\">15</text></g><path class=\"edge\" d=\"M 0 0 V -2.06696 H 38\"/><circle class=\"sym\" cx=\"0\" cy=\"0\" r=\"3\"/><text class=\"lab lft\" transform=\"translate(-3 -7.0)\">18</text></g><path class=\"edge\" d=\"M 0 0 V -57.8965 H 0.0\"/><circle class=\"sym\" cx=\"0\" cy=\"0\" r=\"3\"/><text class=\"lab lft\" transform=\"translate(-3 -7.0)\">19</text></g><circle class=\"sym\" cx=\"0\" cy=\"0\" r=\"3\"/><text class=\"lab\" transform=\"translate(0 -11)\">21</text></g></g></g><g class=\"tree t2\" transform=\"translate(404 0)\"><g class=\"plotbox\"><g class=\"node n22 p0 root\" transform=\"translate(107.4 26.8)\"><g class=\"a22 i4 m1 node n19 p0 s1\" transform=\"translate(0.0 75.4306)\"><g class=\"a19 i6 node n17 p0\" transform=\"translate(38 9.30132)\"><g class=\"a17 i0 leaf node n5 p0 sample\" transform=\"translate(19 9.80139)\"><path class=\"edge\" d=\"M 0 0 V -9.80139 H -19\"/><rect class=\"sym\" height=\"6\" width=\"6\" x=\"-3\" y=\"-3\"/><text class=\"lab\" transform=\"translate(0 11)\">5</text></g><g class=\"a17 i7 node n16 p0\" transform=\"translate(-19 4.13392)\"><g class=\"a16 i13 node n10 p0\" transform=\"translate(-15.2 5.50078)\"><g class=\"a10 i3 leaf node n2 p0 sample\" transform=\"translate(-7.6 0.233367)\"><path class=\"edge\" d=\"M 0 0 V -0.233367 H 7.6\"/><rect class=\"sym\" height=\"6\" width=\"6\" x=\"-3\" y=\"-3\"/><text class=\"lab\" transform=\"translate(0 11)\">2</text></g><g class=\"a10 i3 leaf node n3 p0 sample\" transform=\"translate(7.6 0.233367)\"><path class=\"edge\" d=\"M 0 0 V -0.233367 H -7.6\"/><rect class=\"sym\" height=\"6\" width=\"6\" x=\"-3\" y=\"-3\"/><text class=\"lab\" transform=\"translate(0 11)\">3</text></g><path class=\"edge\" d=\"M 0 0 V -5.50078 H 15.2\"/><circle class=\"sym\" cx=\"0\" cy=\"0\" r=\"3\"/><text class=\"lab lft\" transform=\"translate(-3 -7.0)\">10</text></g><g class=\"a16 i12 node n11 p0\" transform=\"translate(15.2 4.56732)\"><g class=\"a11 i14 leaf m0 node n6 p0 s0 sample\" transform=\"translate(-7.6 1.16683)\"><path class=\"edge\" d=\"M 0 0 V -1.16683 H 7.6\"/><g class=\"mut m0 s0\" transform=\"translate(0 -0.466733)\"><line x1=\"0\" x2=\"0\" y1=\"0\" y2=\"0.466733\"/><path class=\"sym\" d=\"M -3,-3 l 6,6 M -3,3 l 6,-6\"/><text class=\"lab lft\" transform=\"translate(-5 0)\">0</text></g><rect class=\"sym\" height=\"6\" width=\"6\" x=\"-3\" y=\"-3\"/><text class=\"lab\" transform=\"translate(0 11)\">6</text></g><g class=\"a11 i14 leaf node n7 p0 sample\" transform=\"translate(7.6 1.16683)\"><path class=\"edge\" d=\"M 0 0 V -1.16683 H -7.6\"/><rect class=\"sym\" height=\"6\" width=\"6\" x=\"-3\" y=\"-3\"/><text class=\"lab\" transform=\"translate(0 11)\">7</text></g><path class=\"edge\" d=\"M 0 0 V -4.56732 H -15.2\"/><circle class=\"sym\" cx=\"0\" cy=\"0\" r=\"3\"/><text class=\"lab rgt\" transform=\"translate(3 -7.0)\">11</text></g><path class=\"edge\" d=\"M 0 0 V -4.13392 H 19\"/><circle class=\"sym\" cx=\"0\" cy=\"0\" r=\"3\"/><text class=\"lab lft\" transform=\"translate(-3 -7.0)\">16</text></g><path class=\"edge\" d=\"M 0 0 V -9.30132 H -38\"/><circle class=\"sym\" cx=\"0\" cy=\"0\" r=\"3\"/><text class=\"lab rgt\" transform=\"translate(3 -7.0)\">17</text></g><g class=\"a19 i5 node n18 p0\" transform=\"translate(-38 2.06696)\"><g class=\"a18 i0 leaf node n4 p0 sample\" transform=\"translate(19 17.0358)\"><path class=\"edge\" d=\"M 0 0 V -17.0358 H -19\"/><rect class=\"sym\" height=\"6\" width=\"6\" x=\"-3\" y=\"-3\"/><text class=\"lab\" transform=\"translate(0 11)\">4</text></g><g class=\"a18 i8 node n15 p0\" transform=\"translate(-19 13.3352)\"><g class=\"a15 i11 node n12 p0\" transform=\"translate(-15.2 2.53369)\"><g class=\"a12 i2 leaf node n0 p0 sample\" transform=\"translate(-7.6 1.23351)\"><path class=\"edge\" d=\"M 0 0 V -1.23351 H 7.6\"/><rect class=\"sym\" height=\"6\" width=\"6\" x=\"-3\" y=\"-3\"/><text class=\"lab\" transform=\"translate(0 11)\">0</text></g><g class=\"a12 i2 leaf node n1 p0 sample\" transform=\"translate(7.6 1.23351)\"><path class=\"edge\" d=\"M 0 0 V -1.23351 H -7.6\"/><rect class=\"sym\" height=\"6\" width=\"6\" x=\"-3\" y=\"-3\"/><text class=\"lab\" transform=\"translate(0 11)\">1</text></g><path class=\"edge\" d=\"M 0 0 V -2.53369 H 15.2\"/><circle class=\"sym\" cx=\"0\" cy=\"0\" r=\"3\"/><text class=\"lab lft\" transform=\"translate(-3 -7.0)\">12</text></g><g class=\"a15 i10 node n13 p0\" transform=\"translate(15.2 1.56689)\"><g class=\"a13 i1 leaf node n8 p0 sample\" transform=\"translate(-7.6 2.16698)\"><path class=\"edge\" d=\"M 0 0 V -2.16698 H 7.6\"/><rect class=\"sym\" height=\"6\" width=\"6\" x=\"-3\" y=\"-3\"/><text class=\"lab\" transform=\"translate(0 11)\">8</text></g><g class=\"a13 i1 leaf node n9 p0 sample\" transform=\"translate(7.6 2.16698)\"><path class=\"edge\" d=\"M 0 0 V -2.16698 H -7.6\"/><rect class=\"sym\" height=\"6\" width=\"6\" x=\"-3\" y=\"-3\"/><text class=\"lab\" transform=\"translate(0 11)\">9</text></g><path class=\"edge\" d=\"M 0 0 V -1.56689 H -15.2\"/><circle class=\"sym\" cx=\"0\" cy=\"0\" r=\"3\"/><text class=\"lab rgt\" transform=\"translate(3 -7.0)\">13</text></g><path class=\"edge\" d=\"M 0 0 V -13.3352 H 19\"/><circle class=\"sym\" cx=\"0\" cy=\"0\" r=\"3\"/><text class=\"lab lft\" transform=\"translate(-3 -7.0)\">15</text></g><path class=\"edge\" d=\"M 0 0 V -2.06696 H 38\"/><circle class=\"sym\" cx=\"0\" cy=\"0\" r=\"3\"/><text class=\"lab lft\" transform=\"translate(-3 -7.0)\">18</text></g><path class=\"edge\" d=\"M 0 0 V -75.4306 H 0.0\"/><g class=\"mut m1 s1\" transform=\"translate(0 -0.566747)\"><line x1=\"0\" x2=\"0\" y1=\"0\" y2=\"0.566747\"/><path class=\"sym\" d=\"M -3,-3 l 6,6 M -3,3 l 6,-6\"/><text class=\"lab lft\" transform=\"translate(-5 0)\">1</text></g><circle class=\"sym\" cx=\"0\" cy=\"0\" r=\"3\"/><text class=\"lab lft\" transform=\"translate(-3 -7.0)\">19</text></g><circle class=\"sym\" cx=\"0\" cy=\"0\" r=\"3\"/><text class=\"lab\" transform=\"translate(0 -11)\">22</text></g></g></g><g class=\"tree t3\" transform=\"translate(596 0)\"><g class=\"plotbox\"><g class=\"node n20 p0 root\" transform=\"translate(107.4 52.474)\"><g class=\"a20 i4 node n19 p0\" transform=\"translate(0.0 49.7566)\"><g class=\"a19 i6 node n17 p0\" transform=\"translate(38 9.30132)\"><g class=\"a17 i0 leaf node n5 p0 sample\" transform=\"translate(19 9.80139)\"><path class=\"edge\" d=\"M 0 0 V -9.80139 H -19\"/><rect class=\"sym\" height=\"6\" width=\"6\" x=\"-3\" y=\"-3\"/><text class=\"lab\" transform=\"translate(0 11)\">5</text></g><g class=\"a17 i7 node n16 p0\" transform=\"translate(-19 4.13392)\"><g class=\"a16 i13 m2 node n10 p0 s2\" transform=\"translate(-15.2 5.50078)\"><g class=\"a10 i3 leaf node n2 p0 sample\" transform=\"translate(-7.6 0.233367)\"><path class=\"edge\" d=\"M 0 0 V -0.233367 H 7.6\"/><rect class=\"sym\" height=\"6\" width=\"6\" x=\"-3\" y=\"-3\"/><text class=\"lab\" transform=\"translate(0 11)\">2</text></g><g class=\"a10 i3 leaf node n3 p0 sample\" transform=\"translate(7.6 0.233367)\"><path class=\"edge\" d=\"M 0 0 V -0.233367 H -7.6\"/><rect class=\"sym\" height=\"6\" width=\"6\" x=\"-3\" y=\"-3\"/><text class=\"lab\" transform=\"translate(0 11)\">3</text></g><path class=\"edge\" d=\"M 0 0 V -5.50078 H 15.2\"/><g class=\"mut m2 s2\" transform=\"translate(0 -4.13392)\"><line x1=\"0\" x2=\"0\" y1=\"0\" y2=\"4.13392\"/><path class=\"sym\" d=\"M -3,-3 l 6,6 M -3,3 l 6,-6\"/><text class=\"lab lft\" transform=\"translate(-5 0)\">2</text></g><circle class=\"sym\" cx=\"0\" cy=\"0\" r=\"3\"/><text class=\"lab lft\" transform=\"translate(-3 -7.0)\">10</text></g><g class=\"a16 i12 node n11 p0\" transform=\"translate(15.2 4.56732)\"><g class=\"a11 i14 leaf node n6 p0 sample\" transform=\"translate(-7.6 1.16683)\"><path class=\"edge\" d=\"M 0 0 V -1.16683 H 7.6\"/><rect class=\"sym\" height=\"6\" width=\"6\" x=\"-3\" y=\"-3\"/><text class=\"lab\" transform=\"translate(0 11)\">6</text></g><g class=\"a11 i14 leaf node n7 p0 sample\" transform=\"translate(7.6 1.16683)\"><path class=\"edge\" d=\"M 0 0 V -1.16683 H -7.6\"/><rect class=\"sym\" height=\"6\" width=\"6\" x=\"-3\" y=\"-3\"/><text class=\"lab\" transform=\"translate(0 11)\">7</text></g><path class=\"edge\" d=\"M 0 0 V -4.56732 H -15.2\"/><circle class=\"sym\" cx=\"0\" cy=\"0\" r=\"3\"/><text class=\"lab rgt\" transform=\"translate(3 -7.0)\">11</text></g><path class=\"edge\" d=\"M 0 0 V -4.13392 H 19\"/><circle class=\"sym\" cx=\"0\" cy=\"0\" r=\"3\"/><text class=\"lab lft\" transform=\"translate(-3 -7.0)\">16</text></g><path class=\"edge\" d=\"M 0 0 V -9.30132 H -38\"/><circle class=\"sym\" cx=\"0\" cy=\"0\" r=\"3\"/><text class=\"lab rgt\" transform=\"translate(3 -7.0)\">17</text></g><g class=\"a19 i5 node n18 p0\" transform=\"translate(-38 2.06696)\"><g class=\"a18 i0 leaf node n4 p0 sample\" transform=\"translate(19 17.0358)\"><path class=\"edge\" d=\"M 0 0 V -17.0358 H -19\"/><rect class=\"sym\" height=\"6\" width=\"6\" x=\"-3\" y=\"-3\"/><text class=\"lab\" transform=\"translate(0 11)\">4</text></g><g class=\"a18 i8 node n15 p0\" transform=\"translate(-19 13.3352)\"><g class=\"a15 i11 node n12 p0\" transform=\"translate(-15.2 2.53369)\"><g class=\"a12 i2 leaf node n0 p0 sample\" transform=\"translate(-7.6 1.23351)\"><path class=\"edge\" d=\"M 0 0 V -1.23351 H 7.6\"/><rect class=\"sym\" height=\"6\" width=\"6\" x=\"-3\" y=\"-3\"/><text class=\"lab\" transform=\"translate(0 11)\">0</text></g><g class=\"a12 i2 leaf node n1 p0 sample\" transform=\"translate(7.6 1.23351)\"><path class=\"edge\" d=\"M 0 0 V -1.23351 H -7.6\"/><rect class=\"sym\" height=\"6\" width=\"6\" x=\"-3\" y=\"-3\"/><text class=\"lab\" transform=\"translate(0 11)\">1</text></g><path class=\"edge\" d=\"M 0 0 V -2.53369 H 15.2\"/><circle class=\"sym\" cx=\"0\" cy=\"0\" r=\"3\"/><text class=\"lab lft\" transform=\"translate(-3 -7.0)\">12</text></g><g class=\"a15 i10 node n13 p0\" transform=\"translate(15.2 1.56689)\"><g class=\"a13 i1 leaf node n8 p0 sample\" transform=\"translate(-7.6 2.16698)\"><path class=\"edge\" d=\"M 0 0 V -2.16698 H 7.6\"/><rect class=\"sym\" height=\"6\" width=\"6\" x=\"-3\" y=\"-3\"/><text class=\"lab\" transform=\"translate(0 11)\">8</text></g><g class=\"a13 i1 leaf node n9 p0 sample\" transform=\"translate(7.6 2.16698)\"><path class=\"edge\" d=\"M 0 0 V -2.16698 H -7.6\"/><rect class=\"sym\" height=\"6\" width=\"6\" x=\"-3\" y=\"-3\"/><text class=\"lab\" transform=\"translate(0 11)\">9</text></g><path class=\"edge\" d=\"M 0 0 V -1.56689 H -15.2\"/><circle class=\"sym\" cx=\"0\" cy=\"0\" r=\"3\"/><text class=\"lab rgt\" transform=\"translate(3 -7.0)\">13</text></g><path class=\"edge\" d=\"M 0 0 V -13.3352 H 19\"/><circle class=\"sym\" cx=\"0\" cy=\"0\" r=\"3\"/><text class=\"lab lft\" transform=\"translate(-3 -7.0)\">15</text></g><path class=\"edge\" d=\"M 0 0 V -2.06696 H 38\"/><circle class=\"sym\" cx=\"0\" cy=\"0\" r=\"3\"/><text class=\"lab lft\" transform=\"translate(-3 -7.0)\">18</text></g><path class=\"edge\" d=\"M 0 0 V -49.7566 H 0.0\"/><circle class=\"sym\" cx=\"0\" cy=\"0\" r=\"3\"/><text class=\"lab lft\" transform=\"translate(-3 -7.0)\">19</text></g><circle class=\"sym\" cx=\"0\" cy=\"0\" r=\"3\"/><text class=\"lab\" transform=\"translate(0 -11)\">20</text></g></g></g><g class=\"tree t4\" transform=\"translate(788 0)\"><g class=\"plotbox\"><g class=\"node n20 p0 root\" transform=\"translate(107.4 52.474)\"><g class=\"a20 i4 node n19 p0\" transform=\"translate(0.0 49.7566)\"><g class=\"a19 i6 node n17 p0\" transform=\"translate(38 9.30132)\"><g class=\"a17 i0 leaf node n5 p0 sample\" transform=\"translate(19 9.80139)\"><path class=\"edge\" d=\"M 0 0 V -9.80139 H -19\"/><rect class=\"sym\" height=\"6\" width=\"6\" x=\"-3\" y=\"-3\"/><text class=\"lab\" transform=\"translate(0 11)\">5</text></g><g class=\"a17 i7 node n16 p0\" transform=\"translate(-19 4.13392)\"><g class=\"a16 i13 node n10 p0\" transform=\"translate(-15.2 5.50078)\"><g class=\"a10 i3 leaf node n2 p0 sample\" transform=\"translate(-7.6 0.233367)\"><path class=\"edge\" d=\"M 0 0 V -0.233367 H 7.6\"/><rect class=\"sym\" height=\"6\" width=\"6\" x=\"-3\" y=\"-3\"/><text class=\"lab\" transform=\"translate(0 11)\">2</text></g><g class=\"a10 i3 leaf node n3 p0 sample\" transform=\"translate(7.6 0.233367)\"><path class=\"edge\" d=\"M 0 0 V -0.233367 H -7.6\"/><rect class=\"sym\" height=\"6\" width=\"6\" x=\"-3\" y=\"-3\"/><text class=\"lab\" transform=\"translate(0 11)\">3</text></g><path class=\"edge\" d=\"M 0 0 V -5.50078 H 15.2\"/><circle class=\"sym\" cx=\"0\" cy=\"0\" r=\"3\"/><text class=\"lab lft\" transform=\"translate(-3 -7.0)\">10</text></g><g class=\"a16 i12 node n11 p0\" transform=\"translate(15.2 4.56732)\"><g class=\"a11 i14 leaf node n6 p0 sample\" transform=\"translate(-7.6 1.16683)\"><path class=\"edge\" d=\"M 0 0 V -1.16683 H 7.6\"/><rect class=\"sym\" height=\"6\" width=\"6\" x=\"-3\" y=\"-3\"/><text class=\"lab\" transform=\"translate(0 11)\">6</text></g><g class=\"a11 i14 leaf node n7 p0 sample\" transform=\"translate(7.6 1.16683)\"><path class=\"edge\" d=\"M 0 0 V -1.16683 H -7.6\"/><rect class=\"sym\" height=\"6\" width=\"6\" x=\"-3\" y=\"-3\"/><text class=\"lab\" transform=\"translate(0 11)\">7</text></g><path class=\"edge\" d=\"M 0 0 V -4.56732 H -15.2\"/><circle class=\"sym\" cx=\"0\" cy=\"0\" r=\"3\"/><text class=\"lab rgt\" transform=\"translate(3 -7.0)\">11</text></g><path class=\"edge\" d=\"M 0 0 V -4.13392 H 19\"/><circle class=\"sym\" cx=\"0\" cy=\"0\" r=\"3\"/><text class=\"lab lft\" transform=\"translate(-3 -7.0)\">16</text></g><path class=\"edge\" d=\"M 0 0 V -9.30132 H -38\"/><circle class=\"sym\" cx=\"0\" cy=\"0\" r=\"3\"/><text class=\"lab rgt\" transform=\"translate(3 -7.0)\">17</text></g><g class=\"a19 i5 node n18 p0\" transform=\"translate(-38 2.06696)\"><g class=\"a18 i0 leaf node n4 p0 sample\" transform=\"translate(19 17.0358)\"><path class=\"edge\" d=\"M 0 0 V -17.0358 H -19\"/><rect class=\"sym\" height=\"6\" width=\"6\" x=\"-3\" y=\"-3\"/><text class=\"lab\" transform=\"translate(0 11)\">4</text></g><g class=\"a18 i8 node n15 p0\" transform=\"translate(-19 13.3352)\"><g class=\"a15 i11 node n12 p0\" transform=\"translate(-15.2 2.53369)\"><g class=\"a12 i2 leaf node n0 p0 sample\" transform=\"translate(-7.6 1.23351)\"><path class=\"edge\" d=\"M 0 0 V -1.23351 H 7.6\"/><rect class=\"sym\" height=\"6\" width=\"6\" x=\"-3\" y=\"-3\"/><text class=\"lab\" transform=\"translate(0 11)\">0</text></g><g class=\"a12 i2 leaf node n1 p0 sample\" transform=\"translate(7.6 1.23351)\"><path class=\"edge\" d=\"M 0 0 V -1.23351 H -7.6\"/><rect class=\"sym\" height=\"6\" width=\"6\" x=\"-3\" y=\"-3\"/><text class=\"lab\" transform=\"translate(0 11)\">1</text></g><path class=\"edge\" d=\"M 0 0 V -2.53369 H 15.2\"/><circle class=\"sym\" cx=\"0\" cy=\"0\" r=\"3\"/><text class=\"lab lft\" transform=\"translate(-3 -7.0)\">12</text></g><g class=\"a15 i9 node n14 p0\" transform=\"translate(15.2 0.800114)\"><g class=\"a14 i1 leaf node n8 p0 sample\" transform=\"translate(-7.6 2.93375)\"><path class=\"edge\" d=\"M 0 0 V -2.93375 H 7.6\"/><rect class=\"sym\" height=\"6\" width=\"6\" x=\"-3\" y=\"-3\"/><text class=\"lab\" transform=\"translate(0 11)\">8</text></g><g class=\"a14 i1 leaf node n9 p0 sample\" transform=\"translate(7.6 2.93375)\"><path class=\"edge\" d=\"M 0 0 V -2.93375 H -7.6\"/><rect class=\"sym\" height=\"6\" width=\"6\" x=\"-3\" y=\"-3\"/><text class=\"lab\" transform=\"translate(0 11)\">9</text></g><path class=\"edge\" d=\"M 0 0 V -0.800114 H -15.2\"/><circle class=\"sym\" cx=\"0\" cy=\"0\" r=\"3\"/><text class=\"lab rgt\" transform=\"translate(3 -7.0)\">14</text></g><path class=\"edge\" d=\"M 0 0 V -13.3352 H 19\"/><circle class=\"sym\" cx=\"0\" cy=\"0\" r=\"3\"/><text class=\"lab lft\" transform=\"translate(-3 -7.0)\">15</text></g><path class=\"edge\" d=\"M 0 0 V -2.06696 H 38\"/><circle class=\"sym\" cx=\"0\" cy=\"0\" r=\"3\"/><text class=\"lab lft\" transform=\"translate(-3 -7.0)\">18</text></g><path class=\"edge\" d=\"M 0 0 V -49.7566 H 0.0\"/><circle class=\"sym\" cx=\"0\" cy=\"0\" r=\"3\"/><text class=\"lab lft\" transform=\"translate(-3 -7.0)\">19</text></g><circle class=\"sym\" cx=\"0\" cy=\"0\" r=\"3\"/><text class=\"lab\" transform=\"translate(0 -11)\">20</text></g></g></g></g></g></svg>"
      ],
      "text/plain": [
       "<IPython.core.display.SVG object>"
      ]
     },
     "execution_count": 145,
     "metadata": {},
     "output_type": "execute_result"
    }
   ],
   "source": [
    "SVG(sts.draw_svg())"
   ]
  },
  {
   "cell_type": "code",
   "execution_count": 146,
   "id": "9955205a-927f-4e6d-8a52-f341eee1ff83",
   "metadata": {},
   "outputs": [],
   "source": [
    "simpns = []\n",
    "for i in range(0, 5):\n",
    "    for n in sts.individual(i).nodes:\n",
    "        simpns.append(n)"
   ]
  },
  {
   "cell_type": "code",
   "execution_count": 147,
   "id": "bd9cbf4e-3c9c-4eb0-b71e-289b44b10c52",
   "metadata": {},
   "outputs": [],
   "source": [
    "def ancestral_movement(tree):\n",
    "    lists, simpis, ancestors, points, mutis = [], [], [], [], [] #lists of xyz coordinates for each individual, \n",
    "                                          #descendant & ancestral individuals in simplified ts\n",
    "    for n in simpns:\n",
    "        ind = sts.node(n).individual\n",
    "        if ind not in simpis:\n",
    "            simpis.append(ind)\n",
    "        x = [sts.individual(ind).location[0]]\n",
    "        y = [sts.individual(ind).location[1]]\n",
    "        z = [sts.individual(ind).time]\n",
    "        while tree.parent(n) != tskit.NULL and sts.node(tree.parent(n)).time < 2000:\n",
    "            n = tree.parent(n)\n",
    "            indi = sts.node(n).individual\n",
    "            points.append(indi)\n",
    "            if indi != -1:\n",
    "                x.append(sts.individual(indi).location[0])\n",
    "                y.append(sts.individual(indi).location[1])\n",
    "                z.append(sts.individual(indi).time)\n",
    "        lists.append([x, y, z])\n",
    "\n",
    "    xan, yan, zan = [], [], []\n",
    "    for n in tree.roots:\n",
    "        i = sts.node(n).individual\n",
    "        if i != -1:\n",
    "            ancestors.append(i)\n",
    "            xan.append(sts.individual(i).location[0])\n",
    "            yan.append(sts.individual(i).location[1])\n",
    "            zan.append(sts.individual(i).time)\n",
    "\n",
    "    xde, yde, zde = [], [], []\n",
    "    for i in simpis:\n",
    "        xde.append(sts.individual(i).location[0])\n",
    "        yde.append(sts.individual(i).location[1])\n",
    "        zde.append(sts.individual(i).time)\n",
    "        \n",
    "    xm, ym, zm = [], [], []\n",
    "    for mut in tree.mutations():\n",
    "        ind = sts.node(mut.node).individual\n",
    "        mutis.append(ind)\n",
    "        if ind in points:\n",
    "            xm.append(sts.individual(ind).location[0])\n",
    "            ym.append(sts.individual(ind).location[1])\n",
    "            zm.append(sts.individual(ind).time)\n",
    "\n",
    "    fig = plt.figure()\n",
    "    ax = fig.add_subplot(projection='3d')\n",
    "    ax.set_zlim([2000, 0])\n",
    "\n",
    "    for i in range(len(lists)):\n",
    "        ax.plot(lists[i][0], lists[i][1], lists[i][2], color=\"black\", linewidth=0.5)\n",
    "\n",
    "    ax.scatter3D(xan, yan, zan, color=\"xkcd:sky blue\")\n",
    "    ax.scatter3D(xde, yde, zde, color=\"xkcd:orange\")\n",
    "    ax.scatter3D(xm, ym, zm, color=\"green\")"
   ]
  },
  {
   "cell_type": "code",
   "execution_count": 160,
   "id": "ab4a9ccd-ce48-4738-bd50-82a26b892a14",
   "metadata": {},
   "outputs": [
    {
     "data": {
      "application/vnd.jupyter.widget-view+json": {
       "model_id": "d1fd3f4111fb49949444f9d3f0dddf4c",
       "version_major": 2,
       "version_minor": 0
      },
      "text/plain": [
       "Canvas(toolbar=Toolbar(toolitems=[('Home', 'Reset original view', 'home', 'home'), ('Back', 'Back to previous …"
      ]
     },
     "metadata": {},
     "output_type": "display_data"
    },
    {
     "data": {
      "application/vnd.jupyter.widget-view+json": {
       "model_id": "1fcbd72acf0943eea1c7ecfcdc1e1bb1",
       "version_major": 2,
       "version_minor": 0
      },
      "text/plain": [
       "Canvas(toolbar=Toolbar(toolitems=[('Home', 'Reset original view', 'home', 'home'), ('Back', 'Back to previous …"
      ]
     },
     "metadata": {},
     "output_type": "display_data"
    },
    {
     "ename": "AttributeError",
     "evalue": "'Tree' object has no attribute 'node'",
     "output_type": "error",
     "traceback": [
      "\u001b[0;31m---------------------------------------------------------------------------\u001b[0m",
      "\u001b[0;31mAttributeError\u001b[0m                            Traceback (most recent call last)",
      "\u001b[0;32m<ipython-input-160-e262e1559c91>\u001b[0m in \u001b[0;36m<module>\u001b[0;34m\u001b[0m\n\u001b[1;32m      4\u001b[0m     \u001b[0;32mif\u001b[0m \u001b[0mtree\u001b[0m\u001b[0;34m.\u001b[0m\u001b[0mnum_mutations\u001b[0m \u001b[0;34m>\u001b[0m \u001b[0;36m0\u001b[0m\u001b[0;34m:\u001b[0m\u001b[0;34m\u001b[0m\u001b[0;34m\u001b[0m\u001b[0m\n\u001b[1;32m      5\u001b[0m         \u001b[0mancestral_movement\u001b[0m\u001b[0;34m(\u001b[0m\u001b[0mtree\u001b[0m\u001b[0;34m)\u001b[0m\u001b[0;34m\u001b[0m\u001b[0;34m\u001b[0m\u001b[0m\n\u001b[0;32m----> 6\u001b[0;31m \u001b[0msts\u001b[0m\u001b[0;34m.\u001b[0m\u001b[0mfirst\u001b[0m\u001b[0;34m(\u001b[0m\u001b[0;34m)\u001b[0m\u001b[0;34m.\u001b[0m\u001b[0mnode\u001b[0m\u001b[0;34m(\u001b[0m\u001b[0;36m3\u001b[0m\u001b[0;34m)\u001b[0m\u001b[0;34m\u001b[0m\u001b[0;34m\u001b[0m\u001b[0m\n\u001b[0m\u001b[1;32m      7\u001b[0m \u001b[0;34m\u001b[0m\u001b[0m\n",
      "\u001b[0;31mAttributeError\u001b[0m: 'Tree' object has no attribute 'node'"
     ]
    }
   ],
   "source": [
    "# Iterate over the trees from left-to-right\n",
    "tree = tskit.Tree(sts)\n",
    "while tree.next():\n",
    "    if tree.num_mutations > 0:\n",
    "        ancestral_movement(tree)    "
   ]
  },
  {
   "cell_type": "code",
   "execution_count": 110,
   "id": "2a0716c4-75dc-4f26-a19c-b3e694b3c873",
   "metadata": {},
   "outputs": [
    {
     "name": "stdout",
     "output_type": "stream",
     "text": [
      "1\n",
      "Individual(id=509, flags=131072, location=array([0.2312405 , 0.01083174, 0.        ]), parents=array([], dtype=int32), nodes=array([907], dtype=int32), metadata={'pedigree_id': 103655, 'age': 0, 'subpopulation': 1, 'sex': -1, 'flags': 0})\n",
      "2\n",
      "Individual(id=1169, flags=131072, location=array([0.7380567 , 0.05273242, 0.        ]), parents=array([], dtype=int32), nodes=array([245], dtype=int32), metadata={'pedigree_id': 206124, 'age': 0, 'subpopulation': 1, 'sex': -1, 'flags': 0})\n",
      "1\n",
      "Individual(id=398, flags=131072, location=array([0.29464938, 0.96749162, 0.        ]), parents=array([], dtype=int32), nodes=array([1018], dtype=int32), metadata={'pedigree_id': 86298, 'age': 0, 'subpopulation': 1, 'sex': -1, 'flags': 0})\n"
     ]
    }
   ],
   "source": [
    "tree = sts.last()\n",
    "for mut in sts.mutations():\n",
    "    print(mut.metadata['mutation_list'][0]['mutation_type'])\n",
    "    g = sts.node(mut.node).individual\n",
    "    print(sts.individual(g))"
   ]
  },
  {
   "cell_type": "code",
   "execution_count": 157,
   "id": "9c146dc4-5037-4c17-bc52-339a40e3bc0a",
   "metadata": {},
   "outputs": [
    {
     "name": "stdout",
     "output_type": "stream",
     "text": [
      "[22]\n"
     ]
    },
    {
     "data": {
      "text/plain": [
       "Node(id=20, flags=0, time=2067.4867723700518, population=0, individual=-1, metadata=None)"
      ]
     },
     "execution_count": 157,
     "metadata": {},
     "output_type": "execute_result"
    }
   ],
   "source": [
    "print(sts.first().roots)\n",
    "sts.node(20)"
   ]
  },
  {
   "cell_type": "code",
   "execution_count": 162,
   "id": "cc99001b-fc12-48c4-bcbc-94ad8564dc87",
   "metadata": {},
   "outputs": [
    {
     "data": {
      "text/plain": [
       "10"
      ]
     },
     "execution_count": 162,
     "metadata": {},
     "output_type": "execute_result"
    }
   ],
   "source": [
    "sts.last().get_parent(3)\n",
    "sts.last().parent(3)"
   ]
  },
  {
   "cell_type": "code",
   "execution_count": null,
   "id": "8f074800-7ad6-46c2-a785-37e6afdcbafa",
   "metadata": {},
   "outputs": [],
   "source": []
  }
 ],
 "metadata": {
  "kernelspec": {
   "display_name": "Python 3",
   "language": "python",
   "name": "python3"
  },
  "language_info": {
   "codemirror_mode": {
    "name": "ipython",
    "version": 3
   },
   "file_extension": ".py",
   "mimetype": "text/x-python",
   "name": "python",
   "nbconvert_exporter": "python",
   "pygments_lexer": "ipython3",
   "version": "3.9.1"
  }
 },
 "nbformat": 4,
 "nbformat_minor": 5
}
