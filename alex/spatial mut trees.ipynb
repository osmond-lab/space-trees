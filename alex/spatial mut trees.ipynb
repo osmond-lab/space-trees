{
 "cells": [
  {
   "cell_type": "code",
   "execution_count": 7,
   "id": "93bb2614-1bae-40d5-a35a-27d8a712d9d7",
   "metadata": {},
   "outputs": [],
   "source": [
    "%matplotlib widget\n",
    "import pyslim, msprime, tskit, random\n",
    "import numpy as np\n",
    "import matplotlib.pyplot as plt\n",
    "from IPython.display import SVG, display\n",
    "\n",
    "#load tree sequence file, recapitate\n",
    "\n",
    "ts = pyslim.load(\"/Users/alexanderwhitwam/Dropbox/university/research/space-trees/alex/memutory.trees\")\n",
    "ts = ts.recapitate(recombination_rate = 1e-8, Ne=500)\n",
    "#ts = pyslim.SlimTreeSequence(msprime.mutate(ts, rate=1e-7))"
   ]
  },
  {
   "cell_type": "code",
   "execution_count": 8,
   "id": "395df3c5-b16f-4e07-9d5c-bac890ca37a6",
   "metadata": {},
   "outputs": [
    {
     "data": {
      "text/html": [
       "\n",
       "            <div>\n",
       "              <style>\n",
       "                .tskit-table thead tr th {text-align: left;padding: 0.5em 0.5em;}\n",
       "                .tskit-table tbody tr td {padding: 0.5em 0.5em;}\n",
       "                .tskit-table tbody tr td:first-of-type {text-align: left;}\n",
       "                .tskit-details-label {vertical-align: top; padding-right:5px;}\n",
       "                .tskit-table-set {display: inline-flex;flex-wrap: wrap;margin: -12px 0 0 -12px;width: calc(100% + 12px);}\n",
       "                .tskit-table-set-table {margin: 12px 0 0 12px;}\n",
       "                details {display: inline-block;}\n",
       "                summary {cursor: pointer; outline: 0; display: list-item;}\n",
       "              </style>\n",
       "              <div class=\"tskit-table-set\">\n",
       "                <div class=\"tskit-table-set-table\">\n",
       "                  <table class=\"tskit-table\">\n",
       "                    <thead>\n",
       "                      <tr>\n",
       "                        <th style=\"padding:0;line-height:21px;\">\n",
       "                          <img style=\"height: 32px;display: inline-block;padding: 3px 5px 3px 0;\" src=\"https://raw.githubusercontent.com/tskit-dev/administrative/main/tskit_logo.svg\"/>\n",
       "                          <a target=\"_blank\" href=\"https://tskit.readthedocs.io/en/latest/python-api.html#the-treesequence-class\"> Tree Sequence </a>\n",
       "                        </th>\n",
       "                      </tr>\n",
       "                    </thead>\n",
       "                    <tbody>\n",
       "                      <tr><td>Trees</td><td>16</td></tr>\n",
       "                      <tr><td>Sequence Length</td><td>100000.0</td></tr>\n",
       "                      <tr><td>Sample Nodes</td><td>1480</td></tr>\n",
       "                      <tr><td>Total Size</td><td>265.0 KiB</td></tr>\n",
       "                      <tr>\n",
       "                        <td>Metadata</td><td style=\"text-align: left;\">\n",
       "                <div>\n",
       "                  <span class=\"tskit-details-label\"></span>\n",
       "                  <details open>\n",
       "                    <summary>dict</summary>\n",
       "                    \n",
       "                <div>\n",
       "                  <span class=\"tskit-details-label\">SLiM:</span>\n",
       "                  <details >\n",
       "                    <summary>dict</summary>\n",
       "                    file_version: 0.6<br/>generation: 2000<br/>model_type: nonWF<br/>nucleotide_based: False<br/>separate_sexes: False<br/>spatial_dimensionality: xy<br/>spatial_periodicity: <br/>stage: late<br/>\n",
       "                  </details>\n",
       "                </div>\n",
       "                <br/>\n",
       "                  </details>\n",
       "                </div>\n",
       "                </td></tr>\n",
       "                    </tbody>\n",
       "                  </table>\n",
       "                </div>\n",
       "                <div class=\"tskit-table-set-table\">\n",
       "                  <table class=\"tskit-table\">\n",
       "                    <thead>\n",
       "                      <tr>\n",
       "                        <th style=\"line-height:21px;\">Table</th>\n",
       "                        <th>Rows</th>\n",
       "                        <th>Size</th>\n",
       "                        <th>Has Metadata</th>\n",
       "                      </tr>\n",
       "                    </thead>\n",
       "                    <tbody>\n",
       "                    \n",
       "                  <tr>\n",
       "                    <td>Edges</td>\n",
       "                      <td>2333</td>\n",
       "                      <td>63.8 KiB</td>\n",
       "                      <td style=\"text-align: center;\">\n",
       "                        \n",
       "                      </td>\n",
       "                    </tr>\n",
       "                \n",
       "                  <tr>\n",
       "                    <td>Individuals</td>\n",
       "                      <td>1497</td>\n",
       "                      <td>95.0 KiB</td>\n",
       "                      <td style=\"text-align: center;\">\n",
       "                        ✅\n",
       "                      </td>\n",
       "                    </tr>\n",
       "                \n",
       "                  <tr>\n",
       "                    <td>Migrations</td>\n",
       "                      <td>0</td>\n",
       "                      <td>4 Bytes</td>\n",
       "                      <td style=\"text-align: center;\">\n",
       "                        \n",
       "                      </td>\n",
       "                    </tr>\n",
       "                \n",
       "                  <tr>\n",
       "                    <td>Mutations</td>\n",
       "                      <td>1</td>\n",
       "                      <td>1.2 KiB</td>\n",
       "                      <td style=\"text-align: center;\">\n",
       "                        ✅\n",
       "                      </td>\n",
       "                    </tr>\n",
       "                \n",
       "                  <tr>\n",
       "                    <td>Nodes</td>\n",
       "                      <td>2295</td>\n",
       "                      <td>76.7 KiB</td>\n",
       "                      <td style=\"text-align: center;\">\n",
       "                        ✅\n",
       "                      </td>\n",
       "                    </tr>\n",
       "                \n",
       "                  <tr>\n",
       "                    <td>Populations</td>\n",
       "                      <td>2</td>\n",
       "                      <td>2.8 KiB</td>\n",
       "                      <td style=\"text-align: center;\">\n",
       "                        ✅\n",
       "                      </td>\n",
       "                    </tr>\n",
       "                \n",
       "                  <tr>\n",
       "                    <td>Provenances</td>\n",
       "                      <td>2</td>\n",
       "                      <td>5.5 KiB</td>\n",
       "                      <td style=\"text-align: center;\">\n",
       "                        \n",
       "                      </td>\n",
       "                    </tr>\n",
       "                \n",
       "                  <tr>\n",
       "                    <td>Sites</td>\n",
       "                      <td>1</td>\n",
       "                      <td>24 Bytes</td>\n",
       "                      <td style=\"text-align: center;\">\n",
       "                        \n",
       "                      </td>\n",
       "                    </tr>\n",
       "                \n",
       "                    </tbody>\n",
       "                  </table>\n",
       "                </div>\n",
       "              </div>\n",
       "            </div>\n",
       "            "
      ],
      "text/plain": [
       "<pyslim.slim_tree_sequence.SlimTreeSequence at 0x1177fbee0>"
      ]
     },
     "execution_count": 8,
     "metadata": {},
     "output_type": "execute_result"
    }
   ],
   "source": [
    "ts"
   ]
  },
  {
   "cell_type": "code",
   "execution_count": 9,
   "id": "5bb847c1-0bef-4b12-a938-8010e3cc3d8d",
   "metadata": {},
   "outputs": [],
   "source": [
    "samps = random.sample(sorted(ts.individuals_alive_at(0)), 5)\n",
    "snodes = []\n",
    "for i in range(len(samps)):\n",
    "    snodes.append(ts.individuals()[samps[i]].nodes[0])\n",
    "    snodes.append(ts.individuals()[samps[i]].nodes[1])"
   ]
  },
  {
   "cell_type": "code",
   "execution_count": 10,
   "id": "4f5a11c9-79ee-4998-be23-3c357dad90d1",
   "metadata": {},
   "outputs": [
    {
     "data": {
      "image/svg+xml": [
       "<svg xmlns=\"http://www.w3.org/2000/svg\" xmlns:ev=\"http://www.w3.org/2001/xml-events\" xmlns:xlink=\"http://www.w3.org/1999/xlink\" baseProfile=\"full\" height=\"200\" version=\"1.1\" width=\"200\"><defs><style type=\"text/css\"><![CDATA[.background path {fill: #808080; fill-opacity:0}.background path:nth-child(odd) {fill-opacity:.1}.axes {font-size: 14px}.x-axis .tick .lab {font-weight: bold}.axes, .tree {font-size: 14px; text-anchor:middle}.y-axis line.grid {stroke: #FAFAFA}.y-axis > .lab text {transform: translateX(0.8em) rotate(-90deg)}.x-axis .tick g {transform: translateY(0.9em)}.x-axis > .lab text {transform: translateY(-0.8em)}.axes line, .edge {stroke:black; fill:none}.node > .sym {fill: black; stroke: none}.site > .sym {stroke: black}.mut text {fill: red; font-style: italic}.mut.extra text {fill: hotpink}.mut line {fill: none; stroke: none}.mut .sym {fill: none; stroke: red}.mut.extra .sym {stroke: hotpink}.node .mut .sym {stroke-width: 1.5px}.tree text, .tree-sequence text {dominant-baseline: central}.plotbox .lab.lft {text-anchor: end}.plotbox .lab.rgt {text-anchor: start}]]></style></defs><g class=\"tree t0\"><g class=\"plotbox\"><g class=\"node n85 p0 root\" transform=\"translate(111.5 26.8)\"><g class=\"a85 node n83 p0\" transform=\"translate(0.0 42.9801)\"><g class=\"a83 node n82 p0\" transform=\"translate(0.0 7.97033)\"><g class=\"a82 node n81 p0\" transform=\"translate(0.0 0.15072)\"><g class=\"a81 node n80 p0\" transform=\"translate(0.0 1.38404)\"><g class=\"a80 node n78 p0\" transform=\"translate(0.0 4.02471)\"><g class=\"a78 node n77 p0\" transform=\"translate(0.0 2.62156)\"><g class=\"a77 i14 node n76 p0\" transform=\"translate(0.0 5.06426)\"><g class=\"a76 i15 m0 node n74 p0 s0\" transform=\"translate(0.0 39.7801)\"><g class=\"a74 i17 node n72 p0\" transform=\"translate(-48.5 0.424836)\"><g class=\"a72 i21 node n68 p0\" transform=\"translate(-27 9.84847)\"><g class=\"a68 i26 node n63 p0\" transform=\"translate(8 7.45394)\"><g class=\"a63 i30 node n59 p0\" transform=\"translate(0.0 8.14913)\"><g class=\"a59 i33 node n56 p0\" transform=\"translate(0.0 1.46762)\"><g class=\"a56 i46 node n43 p0\" transform=\"translate(0.0 8.26499)\"><g class=\"a43 i53 node n37 p0\" transform=\"translate(0.0 0.695186)\"><g class=\"a37 i58 node n30 p0\" transform=\"translate(0.0 0.231729)\"><g class=\"a30 i63 node n24 p0\" transform=\"translate(0.0 0.502079)\"><g class=\"a24 i69 node n13 p0\" transform=\"translate(0.0 0.308972)\"><g class=\"a13 i10 leaf node n5 p0 sample\" transform=\"translate(0.0 0.0772429)\"><path class=\"edge\" d=\"M 0 0 V -0.0772429 H 0.0\"/><rect class=\"sym\" height=\"6\" width=\"6\" x=\"-3\" y=\"-3\"/><text class=\"lab\" transform=\"translate(0 11)\">5</text></g><path class=\"edge\" d=\"M 0 0 V -0.308972 H 0.0\"/><circle class=\"sym\" cx=\"0\" cy=\"0\" r=\"3\"/><text class=\"lab lft\" transform=\"translate(-3 -7.0)\">13</text></g><path class=\"edge\" d=\"M 0 0 V -0.502079 H 0.0\"/><circle class=\"sym\" cx=\"0\" cy=\"0\" r=\"3\"/><text class=\"lab lft\" transform=\"translate(-3 -7.0)\">24</text></g><path class=\"edge\" d=\"M 0 0 V -0.231729 H 0.0\"/><circle class=\"sym\" cx=\"0\" cy=\"0\" r=\"3\"/><text class=\"lab lft\" transform=\"translate(-3 -7.0)\">30</text></g><path class=\"edge\" d=\"M 0 0 V -0.695186 H 0.0\"/><circle class=\"sym\" cx=\"0\" cy=\"0\" r=\"3\"/><text class=\"lab lft\" transform=\"translate(-3 -7.0)\">37</text></g><path class=\"edge\" d=\"M 0 0 V -8.26499 H 0.0\"/><circle class=\"sym\" cx=\"0\" cy=\"0\" r=\"3\"/><text class=\"lab lft\" transform=\"translate(-3 -7.0)\">43</text></g><path class=\"edge\" d=\"M 0 0 V -1.46762 H 0.0\"/><circle class=\"sym\" cx=\"0\" cy=\"0\" r=\"3\"/><text class=\"lab lft\" transform=\"translate(-3 -7.0)\">56</text></g><path class=\"edge\" d=\"M 0 0 V -8.14913 H 0.0\"/><circle class=\"sym\" cx=\"0\" cy=\"0\" r=\"3\"/><text class=\"lab lft\" transform=\"translate(-3 -7.0)\">59</text></g><path class=\"edge\" d=\"M 0 0 V -7.45394 H -8\"/><circle class=\"sym\" cx=\"0\" cy=\"0\" r=\"3\"/><text class=\"lab rgt\" transform=\"translate(3 -7.0)\">63</text></g><g class=\"a68 i25 node n64 p0\" transform=\"translate(-8 6.14081)\"><g class=\"a64 i27 node n62 p0\" transform=\"translate(0.0 3.12834)\"><g class=\"a62 i44 node n45 p0\" transform=\"translate(0.0 15.4486)\"><g class=\"a45 i49 node n40 p0\" transform=\"translate(0.0 0.888294)\"><g class=\"a40 i61 node n27 p0\" transform=\"translate(0.0 1.04278)\"><g class=\"a27 i67 node n21 p0\" transform=\"translate(0.0 0.308972)\"><g class=\"a21 i68 node n18 p0\" transform=\"translate(0.0 0.0772429)\"><g class=\"a18 i6 node n10 p0\" transform=\"translate(0.0 0.0772429)\"><g class=\"a10 i11 leaf node n0 p0 sample\" transform=\"translate(0.0 0.0386215)\"><path class=\"edge\" d=\"M 0 0 V -0.0386215 H 0.0\"/><rect class=\"sym\" height=\"6\" width=\"6\" x=\"-3\" y=\"-3\"/><text class=\"lab\" transform=\"translate(0 11)\">0</text></g><path class=\"edge\" d=\"M 0 0 V -0.0772429 H 0.0\"/><circle class=\"sym\" cx=\"0\" cy=\"0\" r=\"3\"/><text class=\"lab lft\" transform=\"translate(-3 -7.0)\">10</text></g><path class=\"edge\" d=\"M 0 0 V -0.0772429 H 0.0\"/><circle class=\"sym\" cx=\"0\" cy=\"0\" r=\"3\"/><text class=\"lab lft\" transform=\"translate(-3 -7.0)\">18</text></g><path class=\"edge\" d=\"M 0 0 V -0.308972 H 0.0\"/><circle class=\"sym\" cx=\"0\" cy=\"0\" r=\"3\"/><text class=\"lab lft\" transform=\"translate(-3 -7.0)\">21</text></g><path class=\"edge\" d=\"M 0 0 V -1.04278 H 0.0\"/><circle class=\"sym\" cx=\"0\" cy=\"0\" r=\"3\"/><text class=\"lab lft\" transform=\"translate(-3 -7.0)\">27</text></g><path class=\"edge\" d=\"M 0 0 V -0.888294 H 0.0\"/><circle class=\"sym\" cx=\"0\" cy=\"0\" r=\"3\"/><text class=\"lab lft\" transform=\"translate(-3 -7.0)\">40</text></g><path class=\"edge\" d=\"M 0 0 V -15.4486 H 0.0\"/><circle class=\"sym\" cx=\"0\" cy=\"0\" r=\"3\"/><text class=\"lab lft\" transform=\"translate(-3 -7.0)\">45</text></g><path class=\"edge\" d=\"M 0 0 V -3.12834 H 0.0\"/><circle class=\"sym\" cx=\"0\" cy=\"0\" r=\"3\"/><text class=\"lab lft\" transform=\"translate(-3 -7.0)\">62</text></g><path class=\"edge\" d=\"M 0 0 V -6.14081 H 8\"/><circle class=\"sym\" cx=\"0\" cy=\"0\" r=\"3\"/><text class=\"lab lft\" transform=\"translate(-3 -7.0)\">64</text></g><path class=\"edge\" d=\"M 0 0 V -9.84847 H 27\"/><circle class=\"sym\" cx=\"0\" cy=\"0\" r=\"3\"/><text class=\"lab lft\" transform=\"translate(-3 -7.0)\">68</text></g><g class=\"a72 i18 node n71 p0\" transform=\"translate(27 0.502079)\"><g class=\"a71 i34 node n55 p0\" transform=\"translate(0.0 26.9964)\"><g class=\"a55 i42 node n47 p0\" transform=\"translate(22 6.44978)\"><g class=\"a47 i48 node n41 p0\" transform=\"translate(0.0 1.39037)\"><g class=\"a41 i50 node n39 p0\" transform=\"translate(0.0 0.193107)\"><g class=\"a39 i55 node n33 p0\" transform=\"translate(0.0 0.386215)\"><g class=\"a33 i1 node n16 p0\" transform=\"translate(-12 0.965537)\"><g class=\"a16 i9 leaf node n2 p0 sample\" transform=\"translate(-8 0.115864)\"><path class=\"edge\" d=\"M 0 0 V -0.115864 H 8\"/><rect class=\"sym\" height=\"6\" width=\"6\" x=\"-3\" y=\"-3\"/><text class=\"lab\" transform=\"translate(0 11)\">2</text></g><g class=\"a16 i12 leaf node n9 p0 sample\" transform=\"translate(8 0.115864)\"><path class=\"edge\" d=\"M 0 0 V -0.115864 H -8\"/><rect class=\"sym\" height=\"6\" width=\"6\" x=\"-3\" y=\"-3\"/><text class=\"lab\" transform=\"translate(0 11)\">9</text></g><path class=\"edge\" d=\"M 0 0 V -0.965537 H 12\"/><circle class=\"sym\" cx=\"0\" cy=\"0\" r=\"3\"/><text class=\"lab lft\" transform=\"translate(-3 -7.0)\">16</text></g><g class=\"a33 i0 node n20 p0\" transform=\"translate(12 0.888294)\"><g class=\"a20 i8 leaf node n6 p0 sample\" transform=\"translate(0.0 0.193107)\"><path class=\"edge\" d=\"M 0 0 V -0.193107 H 0.0\"/><rect class=\"sym\" height=\"6\" width=\"6\" x=\"-3\" y=\"-3\"/><text class=\"lab\" transform=\"translate(0 11)\">6</text></g><path class=\"edge\" d=\"M 0 0 V -0.888294 H -12\"/><circle class=\"sym\" cx=\"0\" cy=\"0\" r=\"3\"/><text class=\"lab rgt\" transform=\"translate(3 -7.0)\">20</text></g><path class=\"edge\" d=\"M 0 0 V -0.386215 H 0.0\"/><circle class=\"sym\" cx=\"0\" cy=\"0\" r=\"3\"/><text class=\"lab lft\" transform=\"translate(-3 -7.0)\">33</text></g><path class=\"edge\" d=\"M 0 0 V -0.193107 H 0.0\"/><circle class=\"sym\" cx=\"0\" cy=\"0\" r=\"3\"/><text class=\"lab lft\" transform=\"translate(-3 -7.0)\">39</text></g><path class=\"edge\" d=\"M 0 0 V -1.39037 H 0.0\"/><circle class=\"sym\" cx=\"0\" cy=\"0\" r=\"3\"/><text class=\"lab lft\" transform=\"translate(-3 -7.0)\">41</text></g><path class=\"edge\" d=\"M 0 0 V -6.44978 H -22\"/><circle class=\"sym\" cx=\"0\" cy=\"0\" r=\"3\"/><text class=\"lab rgt\" transform=\"translate(3 -7.0)\">47</text></g><g class=\"a55 i35 node n54 p0\" transform=\"translate(-22 0.154486)\"><g class=\"a54 i43 node n46 p0\" transform=\"translate(0.0 6.87462)\"><g class=\"a46 i52 node n36 p0\" transform=\"translate(0.0 1.35175)\"><g class=\"a36 i57 node n32 p0\" transform=\"translate(-8 0.115864)\"><g class=\"a32 i64 node n25 p0\" transform=\"translate(0.0 0.617943)\"><g class=\"a25 i2 node n17 p0\" transform=\"translate(0.0 0.27035)\"><g class=\"a17 i70 node n15 p0\" transform=\"translate(0.0 0.0386215)\"><g class=\"a15 i11 leaf node n1 p0 sample\" transform=\"translate(0.0 0.0772429)\"><path class=\"edge\" d=\"M 0 0 V -0.0772429 H 0.0\"/><rect class=\"sym\" height=\"6\" width=\"6\" x=\"-3\" y=\"-3\"/><text class=\"lab\" transform=\"translate(0 11)\">1</text></g><path class=\"edge\" d=\"M 0 0 V -0.0386215 H 0.0\"/><circle class=\"sym\" cx=\"0\" cy=\"0\" r=\"3\"/><text class=\"lab lft\" transform=\"translate(-3 -7.0)\">15</text></g><path class=\"edge\" d=\"M 0 0 V -0.27035 H 0.0\"/><circle class=\"sym\" cx=\"0\" cy=\"0\" r=\"3\"/><text class=\"lab lft\" transform=\"translate(-3 -7.0)\">17</text></g><path class=\"edge\" d=\"M 0 0 V -0.617943 H 0.0\"/><circle class=\"sym\" cx=\"0\" cy=\"0\" r=\"3\"/><text class=\"lab lft\" transform=\"translate(-3 -7.0)\">25</text></g><path class=\"edge\" d=\"M 0 0 V -0.115864 H 8\"/><circle class=\"sym\" cx=\"0\" cy=\"0\" r=\"3\"/><text class=\"lab lft\" transform=\"translate(-3 -7.0)\">32</text></g><g class=\"a36 i54 node n34 p0\" transform=\"translate(8 0.0386215)\"><g class=\"a34 i57 node n31 p0\" transform=\"translate(0.0 0.0772429)\"><g class=\"a31 i60 node n28 p0\" transform=\"translate(0.0 0.386215)\"><g class=\"a28 i3 node n19 p0\" transform=\"translate(0.0 0.502079)\"><g class=\"a19 i10 leaf node n4 p0 sample\" transform=\"translate(0.0 0.115864)\"><path class=\"edge\" d=\"M 0 0 V -0.115864 H 0.0\"/><rect class=\"sym\" height=\"6\" width=\"6\" x=\"-3\" y=\"-3\"/><text class=\"lab\" transform=\"translate(0 11)\">4</text></g><path class=\"edge\" d=\"M 0 0 V -0.502079 H 0.0\"/><circle class=\"sym\" cx=\"0\" cy=\"0\" r=\"3\"/><text class=\"lab lft\" transform=\"translate(-3 -7.0)\">19</text></g><path class=\"edge\" d=\"M 0 0 V -0.386215 H 0.0\"/><circle class=\"sym\" cx=\"0\" cy=\"0\" r=\"3\"/><text class=\"lab lft\" transform=\"translate(-3 -7.0)\">28</text></g><path class=\"edge\" d=\"M 0 0 V -0.0772429 H 0.0\"/><circle class=\"sym\" cx=\"0\" cy=\"0\" r=\"3\"/><text class=\"lab lft\" transform=\"translate(-3 -7.0)\">31</text></g><path class=\"edge\" d=\"M 0 0 V -0.0386215 H -8\"/><circle class=\"sym\" cx=\"0\" cy=\"0\" r=\"3\"/><text class=\"lab rgt\" transform=\"translate(3 -7.0)\">34</text></g><path class=\"edge\" d=\"M 0 0 V -1.35175 H 0.0\"/><circle class=\"sym\" cx=\"0\" cy=\"0\" r=\"3\"/><text class=\"lab lft\" transform=\"translate(-3 -7.0)\">36</text></g><path class=\"edge\" d=\"M 0 0 V -6.87462 H 0.0\"/><circle class=\"sym\" cx=\"0\" cy=\"0\" r=\"3\"/><text class=\"lab lft\" transform=\"translate(-3 -7.0)\">46</text></g><path class=\"edge\" d=\"M 0 0 V -0.154486 H 22\"/><circle class=\"sym\" cx=\"0\" cy=\"0\" r=\"3\"/><text class=\"lab lft\" transform=\"translate(-3 -7.0)\">54</text></g><path class=\"edge\" d=\"M 0 0 V -26.9964 H 0.0\"/><circle class=\"sym\" cx=\"0\" cy=\"0\" r=\"3\"/><text class=\"lab lft\" transform=\"translate(-3 -7.0)\">55</text></g><path class=\"edge\" d=\"M 0 0 V -0.502079 H -27\"/><circle class=\"sym\" cx=\"0\" cy=\"0\" r=\"3\"/><text class=\"lab rgt\" transform=\"translate(3 -7.0)\">71</text></g><path class=\"edge\" d=\"M 0 0 V -0.424836 H 48.5\"/><circle class=\"sym\" cx=\"0\" cy=\"0\" r=\"3\"/><text class=\"lab lft\" transform=\"translate(-3 -7.0)\">72</text></g><g class=\"a74 i16 node n73 p0\" transform=\"translate(48.5 0.115864)\"><g class=\"a73 i28 node n61 p0\" transform=\"translate(-12 21.5894)\"><g class=\"a61 i31 node n58 p0\" transform=\"translate(0.0 4.36423)\"><g class=\"a58 i32 node n57 p0\" transform=\"translate(0.0 1.19727)\"><g class=\"a57 i36 node n53 p0\" transform=\"translate(0.0 1.04278)\"><g class=\"a53 i37 node n52 p0\" transform=\"translate(0.0 1.58348)\"><g class=\"a52 i38 node n51 p0\" transform=\"translate(0.0 1.39037)\"><g class=\"a51 i39 node n50 p0\" transform=\"translate(0.0 0.115864)\"><g class=\"a50 i40 node n49 p0\" transform=\"translate(0.0 2.35591)\"><g class=\"a49 i47 node n42 p0\" transform=\"translate(0.0 1.96969)\"><g class=\"a42 i51 node n38 p0\" transform=\"translate(0.0 0.5407)\"><g class=\"a38 i56 node n35 p0\" transform=\"translate(0.0 0.0772429)\"><g class=\"a35 i59 node n29 p0\" transform=\"translate(0.0 0.424836)\"><g class=\"a29 i62 node n26 p0\" transform=\"translate(0.0 0.231729)\"><g class=\"a26 i7 node n11 p0\" transform=\"translate(8 0.386215)\"><g class=\"a11 i12 leaf node n8 p0 sample\" transform=\"translate(0.0 0.0386215)\"><path class=\"edge\" d=\"M 0 0 V -0.0386215 H 0.0\"/><rect class=\"sym\" height=\"6\" width=\"6\" x=\"-3\" y=\"-3\"/><text class=\"lab\" transform=\"translate(0 11)\">8</text></g><path class=\"edge\" d=\"M 0 0 V -0.386215 H -8\"/><circle class=\"sym\" cx=\"0\" cy=\"0\" r=\"3\"/><text class=\"lab rgt\" transform=\"translate(3 -7.0)\">11</text></g><g class=\"a26 i65 node n23 p0\" transform=\"translate(-8 0.0772429)\"><g class=\"a23 i4 node n12 p0\" transform=\"translate(0.0 0.27035)\"><g class=\"a12 i9 leaf node n3 p0 sample\" transform=\"translate(0.0 0.0772429)\"><path class=\"edge\" d=\"M 0 0 V -0.0772429 H 0.0\"/><rect class=\"sym\" height=\"6\" width=\"6\" x=\"-3\" y=\"-3\"/><text class=\"lab\" transform=\"translate(0 11)\">3</text></g><path class=\"edge\" d=\"M 0 0 V -0.27035 H 0.0\"/><circle class=\"sym\" cx=\"0\" cy=\"0\" r=\"3\"/><text class=\"lab lft\" transform=\"translate(-3 -7.0)\">12</text></g><path class=\"edge\" d=\"M 0 0 V -0.0772429 H 8\"/><circle class=\"sym\" cx=\"0\" cy=\"0\" r=\"3\"/><text class=\"lab lft\" transform=\"translate(-3 -7.0)\">23</text></g><path class=\"edge\" d=\"M 0 0 V -0.231729 H 0.0\"/><circle class=\"sym\" cx=\"0\" cy=\"0\" r=\"3\"/><text class=\"lab lft\" transform=\"translate(-3 -7.0)\">26</text></g><path class=\"edge\" d=\"M 0 0 V -0.424836 H 0.0\"/><circle class=\"sym\" cx=\"0\" cy=\"0\" r=\"3\"/><text class=\"lab lft\" transform=\"translate(-3 -7.0)\">29</text></g><path class=\"edge\" d=\"M 0 0 V -0.0772429 H 0.0\"/><circle class=\"sym\" cx=\"0\" cy=\"0\" r=\"3\"/><text class=\"lab lft\" transform=\"translate(-3 -7.0)\">35</text></g><path class=\"edge\" d=\"M 0 0 V -0.5407 H 0.0\"/><circle class=\"sym\" cx=\"0\" cy=\"0\" r=\"3\"/><text class=\"lab lft\" transform=\"translate(-3 -7.0)\">38</text></g><path class=\"edge\" d=\"M 0 0 V -1.96969 H 0.0\"/><circle class=\"sym\" cx=\"0\" cy=\"0\" r=\"3\"/><text class=\"lab lft\" transform=\"translate(-3 -7.0)\">42</text></g><path class=\"edge\" d=\"M 0 0 V -2.35591 H 0.0\"/><circle class=\"sym\" cx=\"0\" cy=\"0\" r=\"3\"/><text class=\"lab lft\" transform=\"translate(-3 -7.0)\">49</text></g><path class=\"edge\" d=\"M 0 0 V -0.115864 H 0.0\"/><circle class=\"sym\" cx=\"0\" cy=\"0\" r=\"3\"/><text class=\"lab lft\" transform=\"translate(-3 -7.0)\">50</text></g><path class=\"edge\" d=\"M 0 0 V -1.39037 H 0.0\"/><circle class=\"sym\" cx=\"0\" cy=\"0\" r=\"3\"/><text class=\"lab lft\" transform=\"translate(-3 -7.0)\">51</text></g><path class=\"edge\" d=\"M 0 0 V -1.58348 H 0.0\"/><circle class=\"sym\" cx=\"0\" cy=\"0\" r=\"3\"/><text class=\"lab lft\" transform=\"translate(-3 -7.0)\">52</text></g><path class=\"edge\" d=\"M 0 0 V -1.04278 H 0.0\"/><circle class=\"sym\" cx=\"0\" cy=\"0\" r=\"3\"/><text class=\"lab lft\" transform=\"translate(-3 -7.0)\">53</text></g><path class=\"edge\" d=\"M 0 0 V -1.19727 H 0.0\"/><circle class=\"sym\" cx=\"0\" cy=\"0\" r=\"3\"/><text class=\"lab lft\" transform=\"translate(-3 -7.0)\">57</text></g><path class=\"edge\" d=\"M 0 0 V -4.36423 H 0.0\"/><circle class=\"sym\" cx=\"0\" cy=\"0\" r=\"3\"/><text class=\"lab lft\" transform=\"translate(-3 -7.0)\">58</text></g><path class=\"edge\" d=\"M 0 0 V -21.5894 H 12\"/><circle class=\"sym\" cx=\"0\" cy=\"0\" r=\"3\"/><text class=\"lab lft\" transform=\"translate(-3 -7.0)\">61</text></g><g class=\"a73 i20 node n69 p0\" transform=\"translate(12 4.1325)\"><g class=\"a69 i23 node n66 p0\" transform=\"translate(0.0 9.07604)\"><g class=\"a66 i29 node n60 p0\" transform=\"translate(0.0 12.0885)\"><g class=\"a60 i41 node n48 p0\" transform=\"translate(0.0 8.84431)\"><g class=\"a48 i45 node n44 p0\" transform=\"translate(0.0 1.27451)\"><g class=\"a44 i66 node n22 p0\" transform=\"translate(0.0 1.6221)\"><g class=\"a22 i5 node n14 p0\" transform=\"translate(0.0 0.193107)\"><g class=\"a14 i8 leaf node n7 p0 sample\" transform=\"translate(0.0 0.0772429)\"><path class=\"edge\" d=\"M 0 0 V -0.0772429 H 0.0\"/><rect class=\"sym\" height=\"6\" width=\"6\" x=\"-3\" y=\"-3\"/><text class=\"lab\" transform=\"translate(0 11)\">7</text></g><path class=\"edge\" d=\"M 0 0 V -0.193107 H 0.0\"/><circle class=\"sym\" cx=\"0\" cy=\"0\" r=\"3\"/><text class=\"lab lft\" transform=\"translate(-3 -7.0)\">14</text></g><path class=\"edge\" d=\"M 0 0 V -1.6221 H 0.0\"/><circle class=\"sym\" cx=\"0\" cy=\"0\" r=\"3\"/><text class=\"lab lft\" transform=\"translate(-3 -7.0)\">22</text></g><path class=\"edge\" d=\"M 0 0 V -1.27451 H 0.0\"/><circle class=\"sym\" cx=\"0\" cy=\"0\" r=\"3\"/><text class=\"lab lft\" transform=\"translate(-3 -7.0)\">44</text></g><path class=\"edge\" d=\"M 0 0 V -8.84431 H 0.0\"/><circle class=\"sym\" cx=\"0\" cy=\"0\" r=\"3\"/><text class=\"lab lft\" transform=\"translate(-3 -7.0)\">48</text></g><path class=\"edge\" d=\"M 0 0 V -12.0885 H 0.0\"/><circle class=\"sym\" cx=\"0\" cy=\"0\" r=\"3\"/><text class=\"lab lft\" transform=\"translate(-3 -7.0)\">60</text></g><path class=\"edge\" d=\"M 0 0 V -9.07604 H 0.0\"/><circle class=\"sym\" cx=\"0\" cy=\"0\" r=\"3\"/><text class=\"lab lft\" transform=\"translate(-3 -7.0)\">66</text></g><path class=\"edge\" d=\"M 0 0 V -4.1325 H -12\"/><circle class=\"sym\" cx=\"0\" cy=\"0\" r=\"3\"/><text class=\"lab rgt\" transform=\"translate(3 -7.0)\">69</text></g><path class=\"edge\" d=\"M 0 0 V -0.115864 H -48.5\"/><circle class=\"sym\" cx=\"0\" cy=\"0\" r=\"3\"/><text class=\"lab rgt\" transform=\"translate(3 -7.0)\">73</text></g><path class=\"edge\" d=\"M 0 0 V -39.7801 H 0.0\"/><g class=\"mut m0 s0\" transform=\"translate(0 -1.19727)\"><line x1=\"0\" x2=\"0\" y1=\"0\" y2=\"1.19727\"/><path class=\"sym\" d=\"M -3,-3 l 6,6 M -3,3 l 6,-6\"/><text class=\"lab lft\" transform=\"translate(-5 0)\">0</text></g><circle class=\"sym\" cx=\"0\" cy=\"0\" r=\"3\"/><text class=\"lab lft\" transform=\"translate(-3 -7.0)\">74</text></g><path class=\"edge\" d=\"M 0 0 V -5.06426 H 0.0\"/><circle class=\"sym\" cx=\"0\" cy=\"0\" r=\"3\"/><text class=\"lab lft\" transform=\"translate(-3 -7.0)\">76</text></g><path class=\"edge\" d=\"M 0 0 V -2.62156 H 0.0\"/><circle class=\"sym\" cx=\"0\" cy=\"0\" r=\"3\"/><text class=\"lab lft\" transform=\"translate(-3 -7.0)\">77</text></g><path class=\"edge\" d=\"M 0 0 V -4.02471 H 0.0\"/><circle class=\"sym\" cx=\"0\" cy=\"0\" r=\"3\"/><text class=\"lab lft\" transform=\"translate(-3 -7.0)\">78</text></g><path class=\"edge\" d=\"M 0 0 V -1.38404 H 0.0\"/><circle class=\"sym\" cx=\"0\" cy=\"0\" r=\"3\"/><text class=\"lab lft\" transform=\"translate(-3 -7.0)\">80</text></g><path class=\"edge\" d=\"M 0 0 V -0.15072 H 0.0\"/><circle class=\"sym\" cx=\"0\" cy=\"0\" r=\"3\"/><text class=\"lab lft\" transform=\"translate(-3 -7.0)\">81</text></g><path class=\"edge\" d=\"M 0 0 V -7.97033 H 0.0\"/><circle class=\"sym\" cx=\"0\" cy=\"0\" r=\"3\"/><text class=\"lab lft\" transform=\"translate(-3 -7.0)\">82</text></g><path class=\"edge\" d=\"M 0 0 V -42.9801 H 0.0\"/><circle class=\"sym\" cx=\"0\" cy=\"0\" r=\"3\"/><text class=\"lab lft\" transform=\"translate(-3 -7.0)\">83</text></g><circle class=\"sym\" cx=\"0\" cy=\"0\" r=\"3\"/><text class=\"lab\" transform=\"translate(0 -11)\">85</text></g></g></g></svg>"
      ],
      "text/plain": [
       "<IPython.core.display.SVG object>"
      ]
     },
     "execution_count": 10,
     "metadata": {},
     "output_type": "execute_result"
    }
   ],
   "source": [
    "sts = ts.simplify(snodes, keep_unary=True)\n",
    "muted = sts.first()\n",
    "SVG(muted.draw_svg())"
   ]
  },
  {
   "cell_type": "code",
   "execution_count": 11,
   "id": "fb794ee1-cd3b-4ad3-9412-883321631bee",
   "metadata": {},
   "outputs": [],
   "source": [
    "simpns = []\n",
    "for i in sts.individuals_alive_at(0):\n",
    "    for n in sts.individual(i).nodes:\n",
    "        simpns.append(n)"
   ]
  },
  {
   "cell_type": "code",
   "execution_count": 12,
   "id": "7a3e80a9-297d-4528-ba71-13a23505c7d4",
   "metadata": {},
   "outputs": [
    {
     "data": {
      "application/vnd.jupyter.widget-view+json": {
       "model_id": "e7bfad6fc72c4aae914357067a0cf34e",
       "version_major": 2,
       "version_minor": 0
      },
      "text/plain": [
       "Canvas(toolbar=Toolbar(toolitems=[('Home', 'Reset original view', 'home', 'home'), ('Back', 'Back to previous …"
      ]
     },
     "metadata": {},
     "output_type": "display_data"
    },
    {
     "data": {
      "text/plain": [
       "<mpl_toolkits.mplot3d.art3d.Path3DCollection at 0x1178ad670>"
      ]
     },
     "execution_count": 12,
     "metadata": {},
     "output_type": "execute_result"
    }
   ],
   "source": [
    "lists, simpis, ancestors = [], [], [] #lists of xyz coordinates for each individual, \n",
    "                                      #descendant & ancestral individuals in simplified ts\n",
    "for n in simpns:\n",
    "    ind = sts.node(n).individual\n",
    "    if ind not in simpis:\n",
    "        simpis.append(ind)\n",
    "    x = [sts.individual(ind).location[0]]\n",
    "    y = [sts.individual(ind).location[1]]\n",
    "    z = [sts.individual(ind).time]\n",
    "    while muted.parent(n) != tskit.NULL and sts.node(muted.parent(n)).time < 2000:\n",
    "        n = muted.parent(n)\n",
    "        indi = sts.node(n).individual\n",
    "        if indi != -1:\n",
    "            x.append(sts.individual(indi).location[0])\n",
    "            y.append(sts.individual(indi).location[1])\n",
    "            z.append(sts.individual(indi).time)\n",
    "    ancestors.append(sts.node(n).individual)\n",
    "    lists.append([x, y, z])\n",
    "    \n",
    "xan, yan, zan = [], [], []\n",
    "for i in ancestors:\n",
    "    xan.append(sts.individual(i).location[0])\n",
    "    yan.append(sts.individual(i).location[1])\n",
    "    zan.append(sts.individual(i).time)\n",
    "    \n",
    "xde, yde, zde = [], [], []\n",
    "for i in simpis:\n",
    "    xde.append(sts.individual(i).location[0])\n",
    "    yde.append(sts.individual(i).location[1])\n",
    "    zde.append(sts.individual(i).time)\n",
    "    \n",
    "fig = plt.figure()\n",
    "ax = fig.add_subplot(projection='3d')\n",
    "ax.set_zlim([2000, 0])\n",
    "\n",
    "for i in range(len(lists)):\n",
    "    ax.plot(lists[i][0], lists[i][1], lists[i][2], color=\"black\", linewidth=0.5)\n",
    "\n",
    "ax.scatter3D(xan, yan, zan, color=\"xkcd:sky blue\")\n",
    "ax.scatter3D(xde, yde, zde, color=\"xkcd:orange\")"
   ]
  },
  {
   "cell_type": "code",
   "execution_count": 102,
   "id": "aff90f75-ad9a-49c4-bd6d-83d23baa3620",
   "metadata": {},
   "outputs": [
    {
     "data": {
      "text/html": [
       "\n",
       "            <div>\n",
       "              <style>\n",
       "                .tskit-table thead tr th {text-align: left;padding: 0.5em 0.5em;}\n",
       "                .tskit-table tbody tr td {padding: 0.5em 0.5em;}\n",
       "                .tskit-table tbody tr td:first-of-type {text-align: left;}\n",
       "                .tskit-details-label {vertical-align: top; padding-right:5px;}\n",
       "                .tskit-table-set {display: inline-flex;flex-wrap: wrap;margin: -12px 0 0 -12px;width: calc(100% + 12px);}\n",
       "                .tskit-table-set-table {margin: 12px 0 0 12px;}\n",
       "                details {display: inline-block;}\n",
       "                summary {cursor: pointer; outline: 0; display: list-item;}\n",
       "              </style>\n",
       "              <div class=\"tskit-table-set\">\n",
       "                <div class=\"tskit-table-set-table\">\n",
       "                  <table class=\"tskit-table\">\n",
       "                    <thead>\n",
       "                      <tr>\n",
       "                        <th style=\"padding:0;line-height:21px;\">\n",
       "                          <img style=\"height: 32px;display: inline-block;padding: 3px 5px 3px 0;\" src=\"https://raw.githubusercontent.com/tskit-dev/administrative/main/tskit_logo.svg\"/>\n",
       "                          <a target=\"_blank\" href=\"https://tskit.readthedocs.io/en/latest/python-api.html#the-tree-class\"> Tree </a>\n",
       "                        </th>\n",
       "                      </tr>\n",
       "                    </thead>\n",
       "                    <tbody>\n",
       "                      <tr><td>Index</td><td>0</td></tr>\n",
       "                      <tr><td>Interval</td><td>0-11764 (11764)</td></tr>\n",
       "                      <tr><td>Roots</td><td>1</td></tr>\n",
       "                      <tr><td>Nodes</td><td>78</td></tr>\n",
       "                      <tr><td>Sites</td><td>1</td></tr>\n",
       "                      <tr><td>Mutations</td><td>1</td></tr>\n",
       "                      <tr><td>Total Branch Length</td><td>4654</td></tr>\n",
       "                    </tbody>\n",
       "                  </table>\n",
       "                </div>\n",
       "              </div>\n",
       "            </div>\n",
       "            "
      ],
      "text/plain": [
       "<tskit.trees.Tree at 0x115dfb430>"
      ]
     },
     "execution_count": 102,
     "metadata": {},
     "output_type": "execute_result"
    }
   ],
   "source": [
    "muted"
   ]
  },
  {
   "cell_type": "code",
   "execution_count": null,
   "id": "287515b9-291d-40da-bad2-56f76df95bdb",
   "metadata": {},
   "outputs": [],
   "source": []
  }
 ],
 "metadata": {
  "kernelspec": {
   "display_name": "Python 3",
   "language": "python",
   "name": "python3"
  },
  "language_info": {
   "codemirror_mode": {
    "name": "ipython",
    "version": 3
   },
   "file_extension": ".py",
   "mimetype": "text/x-python",
   "name": "python",
   "nbconvert_exporter": "python",
   "pygments_lexer": "ipython3",
   "version": "3.9.1"
  }
 },
 "nbformat": 4,
 "nbformat_minor": 5
}
