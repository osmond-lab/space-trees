{
 "cells": [
  {
   "cell_type": "markdown",
   "metadata": {},
   "source": [
    "# pyslim spatial tutorial with retained individuals"
   ]
  },
  {
   "cell_type": "code",
   "execution_count": 1,
   "metadata": {},
   "outputs": [],
   "source": [
    "# this makes plots interactive, which i was having some fun with (eg spinning 3d plots around)\n",
    "# %matplotlib widget"
   ]
  },
  {
   "cell_type": "markdown",
   "metadata": {},
   "source": [
    "Load required modules and give required paths"
   ]
  },
  {
   "cell_type": "code",
   "execution_count": 2,
   "metadata": {},
   "outputs": [],
   "source": [
    "import pyslim, tskit #tree sequence tools\n",
    "from IPython.display import SVG #for displaying trees in svg format\n",
    "import matplotlib.pyplot as plt #plotting\n",
    "import numpy as np #lots of stuff\n",
    "import matplotlib.cm as cm #color maps\n",
    "\n",
    "datadir = 'data/'"
   ]
  },
  {
   "cell_type": "markdown",
   "metadata": {},
   "source": [
    "First we borrow the SLiM script from the spatial vignette (https://pyslim.readthedocs.io/en/latest/vignette_space.html), with a few small changes:\n",
    "1) discrete generations\n",
    "2) remember ancestors if they remain in the final tree sequence (whether they are coalescent nodes or not (unary))"
   ]
  },
  {
   "cell_type": "markdown",
   "metadata": {},
   "source": [
    "We then run this simulation with SLiM (see the 'spatial_sim.slim' file) and load the resulting tree sequence here"
   ]
  },
  {
   "cell_type": "code",
   "execution_count": 3,
   "metadata": {},
   "outputs": [],
   "source": [
    "ts = pyslim.load(datadir + 'spatial_sim.trees')"
   ]
  },
  {
   "cell_type": "markdown",
   "metadata": {},
   "source": [
    "Print some info on the tree sequence"
   ]
  },
  {
   "cell_type": "code",
   "execution_count": 4,
   "metadata": {},
   "outputs": [
    {
     "data": {
      "text/html": [
       "\n",
       "            <div>\n",
       "              <style>\n",
       "                .tskit-table thead tr th {text-align: left;}\n",
       "                .tskit-table tbody tr td:first-of-type {text-align: left;}\n",
       "                .tskit-details-label {vertical-align: top; padding-right:5px;}\n",
       "                .tskit-table-set {display: inline-flex;flex-wrap: wrap;margin: -12px 0 0 -12px;width: calc(100% + 12px);}\n",
       "                .tskit-table-set-table {margin: 12px 0 0 12px;}\n",
       "                details {display: inline-block;}\n",
       "                summary {cursor: pointer; outline: 0; display: list-item;}\n",
       "              </style>\n",
       "              <div class=\"tskit-table-set\">\n",
       "                <div class=\"tskit-table-set-table\">\n",
       "                  <table class=\"tskit-table\">\n",
       "                    <thead>\n",
       "                      <tr>\n",
       "                        <th style=\"padding:0;line-height:21px;\">\n",
       "                          <img style=\"height: 32px;display: inline-block;padding: 3px 5px 3px 0;\"src=\"https://raw.githubusercontent.com/tskit-dev/administrative/main/tskit_logo.svg\"/>\n",
       "                          <a target=\"_blank\" href=\"https://tskit.readthedocs.io/en/latest/python-api.html#the-treesequence-class\"> Tree Sequence\n",
       "                        </th>\n",
       "                      </tr>\n",
       "                    </thead>\n",
       "                    <tbody>\n",
       "                      <tr><td>Trees</td><td>43</td></tr>\n",
       "                      <tr><td>Sequence Length</td><td>1000000.0</td></tr>\n",
       "                      <tr><td>Sample Nodes</td><td>666</td></tr>\n",
       "                      <tr><td>Total Size</td><td>714.4 KiB</td></tr>\n",
       "                      <tr>\n",
       "                        <td>Metadata</td><td style=\"text-align: left;\">\n",
       "                <div>\n",
       "                  <span class=\"tskit-details-label\"></span>\n",
       "                  <details open>\n",
       "                    <summary>dict</summary>\n",
       "                    \n",
       "                <div>\n",
       "                  <span class=\"tskit-details-label\">SLiM:</span>\n",
       "                  <details >\n",
       "                    <summary>dict</summary>\n",
       "                    file_version: 0.6<br/>generation: 1000<br/>model_type: nonWF<br/>nucleotide_based: False<br/>separate_sexes: False<br/>spatial_dimensionality: xy<br/>spatial_periodicity: <br/>stage: late<br/>\n",
       "                  </details>\n",
       "                </div>\n",
       "                <br/>\n",
       "                  </details>\n",
       "                </div>\n",
       "                </td></tr>\n",
       "                    </tbody>\n",
       "                  </table>\n",
       "                </div>\n",
       "                <div class=\"tskit-table-set-table\">\n",
       "                  <table class=\"tskit-table\">\n",
       "                    <thead>\n",
       "                      <tr>\n",
       "                        <th style=\"line-height:21px;\">Table</th>\n",
       "                        <th>Rows</th>\n",
       "                        <th>Size</th>\n",
       "                        <th>Has Metadata</th>\n",
       "                      </tr>\n",
       "                    </thead>\n",
       "                    <tbody>\n",
       "                    \n",
       "                  <tr>\n",
       "                    <td>Edges</td>\n",
       "                      <td>5923</td>\n",
       "                      <td>162.0 KiB</td>\n",
       "                      <td style=\"text-align: center;\">\n",
       "                        \n",
       "                      </td>\n",
       "                    </tr>\n",
       "                \n",
       "                  <tr>\n",
       "                    <td>Individuals</td>\n",
       "                      <td>5118</td>\n",
       "                      <td>301.3 KiB</td>\n",
       "                      <td style=\"text-align: center;\">\n",
       "                        ✅\n",
       "                      </td>\n",
       "                    </tr>\n",
       "                \n",
       "                  <tr>\n",
       "                    <td>Migrations</td>\n",
       "                      <td>0</td>\n",
       "                      <td>4 Bytes</td>\n",
       "                      <td style=\"text-align: center;\">\n",
       "                        \n",
       "                      </td>\n",
       "                    </tr>\n",
       "                \n",
       "                  <tr>\n",
       "                    <td>Mutations</td>\n",
       "                      <td>0</td>\n",
       "                      <td>1.2 KiB</td>\n",
       "                      <td style=\"text-align: center;\">\n",
       "                        \n",
       "                      </td>\n",
       "                    </tr>\n",
       "                \n",
       "                  <tr>\n",
       "                    <td>Nodes</td>\n",
       "                      <td>5854</td>\n",
       "                      <td>195.0 KiB</td>\n",
       "                      <td style=\"text-align: center;\">\n",
       "                        ✅\n",
       "                      </td>\n",
       "                    </tr>\n",
       "                \n",
       "                  <tr>\n",
       "                    <td>Populations</td>\n",
       "                      <td>2</td>\n",
       "                      <td>2.8 KiB</td>\n",
       "                      <td style=\"text-align: center;\">\n",
       "                        ✅\n",
       "                      </td>\n",
       "                    </tr>\n",
       "                \n",
       "                  <tr>\n",
       "                    <td>Provenances</td>\n",
       "                      <td>1</td>\n",
       "                      <td>4.1 KiB</td>\n",
       "                      <td style=\"text-align: center;\">\n",
       "                        \n",
       "                      </td>\n",
       "                    </tr>\n",
       "                \n",
       "                  <tr>\n",
       "                    <td>Sites</td>\n",
       "                      <td>0</td>\n",
       "                      <td>8 Bytes</td>\n",
       "                      <td style=\"text-align: center;\">\n",
       "                        \n",
       "                      </td>\n",
       "                    </tr>\n",
       "                \n",
       "                    </tbody>\n",
       "                  </table>\n",
       "                </div>\n",
       "              </div>\n",
       "            </div>\n",
       "            "
      ],
      "text/plain": [
       "<pyslim.slim_tree_sequence.SlimTreeSequence at 0x111bb9c70>"
      ]
     },
     "execution_count": 4,
     "metadata": {},
     "output_type": "execute_result"
    }
   ],
   "source": [
    "ts"
   ]
  },
  {
   "cell_type": "markdown",
   "metadata": {},
   "source": [
    "How many individuals are alive in the present-day?"
   ]
  },
  {
   "cell_type": "code",
   "execution_count": 5,
   "metadata": {},
   "outputs": [
    {
     "data": {
      "text/plain": [
       "333"
      ]
     },
     "execution_count": 5,
     "metadata": {},
     "output_type": "execute_result"
    }
   ],
   "source": [
    "alive = ts.individuals_alive_at(0)\n",
    "len(alive)"
   ]
  },
  {
   "cell_type": "markdown",
   "metadata": {},
   "source": [
    "How many genetic ancestors were there t generations ago?"
   ]
  },
  {
   "cell_type": "code",
   "execution_count": 6,
   "metadata": {},
   "outputs": [
    {
     "data": {
      "text/plain": [
       "12"
      ]
     },
     "execution_count": 6,
     "metadata": {},
     "output_type": "execute_result"
    }
   ],
   "source": [
    "t = 100\n",
    "ancestors = ts.individuals_alive_at(t)\n",
    "len(ancestors)"
   ]
  },
  {
   "cell_type": "markdown",
   "metadata": {},
   "source": [
    "Now let's take a sample of n haploid genomes from the present day"
   ]
  },
  {
   "cell_type": "code",
   "execution_count": 7,
   "metadata": {},
   "outputs": [],
   "source": [
    "n = 3\n",
    "np.random.seed(6)\n",
    "sampled_nodes = np.random.choice(ts.samples(), n, replace=False)"
   ]
  },
  {
   "cell_type": "markdown",
   "metadata": {},
   "source": [
    "Simplify the tree sequence to these samples, while keeping all ancestors (both coalescences and unary nodes)"
   ]
  },
  {
   "cell_type": "code",
   "execution_count": 8,
   "metadata": {},
   "outputs": [
    {
     "data": {
      "text/html": [
       "\n",
       "            <div>\n",
       "              <style>\n",
       "                .tskit-table thead tr th {text-align: left;}\n",
       "                .tskit-table tbody tr td:first-of-type {text-align: left;}\n",
       "                .tskit-details-label {vertical-align: top; padding-right:5px;}\n",
       "                .tskit-table-set {display: inline-flex;flex-wrap: wrap;margin: -12px 0 0 -12px;width: calc(100% + 12px);}\n",
       "                .tskit-table-set-table {margin: 12px 0 0 12px;}\n",
       "                details {display: inline-block;}\n",
       "                summary {cursor: pointer; outline: 0; display: list-item;}\n",
       "              </style>\n",
       "              <div class=\"tskit-table-set\">\n",
       "                <div class=\"tskit-table-set-table\">\n",
       "                  <table class=\"tskit-table\">\n",
       "                    <thead>\n",
       "                      <tr>\n",
       "                        <th style=\"padding:0;line-height:21px;\">\n",
       "                          <img style=\"height: 32px;display: inline-block;padding: 3px 5px 3px 0;\"src=\"https://raw.githubusercontent.com/tskit-dev/administrative/main/tskit_logo.svg\"/>\n",
       "                          <a target=\"_blank\" href=\"https://tskit.readthedocs.io/en/latest/python-api.html#the-treesequence-class\"> Tree Sequence\n",
       "                        </th>\n",
       "                      </tr>\n",
       "                    </thead>\n",
       "                    <tbody>\n",
       "                      <tr><td>Trees</td><td>15</td></tr>\n",
       "                      <tr><td>Sequence Length</td><td>1000000.0</td></tr>\n",
       "                      <tr><td>Sample Nodes</td><td>3</td></tr>\n",
       "                      <tr><td>Total Size</td><td>277.7 KiB</td></tr>\n",
       "                      <tr>\n",
       "                        <td>Metadata</td><td style=\"text-align: left;\">\n",
       "                <div>\n",
       "                  <span class=\"tskit-details-label\"></span>\n",
       "                  <details open>\n",
       "                    <summary>dict</summary>\n",
       "                    \n",
       "                <div>\n",
       "                  <span class=\"tskit-details-label\">SLiM:</span>\n",
       "                  <details >\n",
       "                    <summary>dict</summary>\n",
       "                    file_version: 0.6<br/>generation: 1000<br/>model_type: nonWF<br/>nucleotide_based: False<br/>separate_sexes: False<br/>spatial_dimensionality: xy<br/>spatial_periodicity: <br/>stage: late<br/>\n",
       "                  </details>\n",
       "                </div>\n",
       "                <br/>\n",
       "                  </details>\n",
       "                </div>\n",
       "                </td></tr>\n",
       "                    </tbody>\n",
       "                  </table>\n",
       "                </div>\n",
       "                <div class=\"tskit-table-set-table\">\n",
       "                  <table class=\"tskit-table\">\n",
       "                    <thead>\n",
       "                      <tr>\n",
       "                        <th style=\"line-height:21px;\">Table</th>\n",
       "                        <th>Rows</th>\n",
       "                        <th>Size</th>\n",
       "                        <th>Has Metadata</th>\n",
       "                      </tr>\n",
       "                    </thead>\n",
       "                    <tbody>\n",
       "                    \n",
       "                  <tr>\n",
       "                    <td>Edges</td>\n",
       "                      <td>2112</td>\n",
       "                      <td>57.8 KiB</td>\n",
       "                      <td style=\"text-align: center;\">\n",
       "                        \n",
       "                      </td>\n",
       "                    </tr>\n",
       "                \n",
       "                  <tr>\n",
       "                    <td>Individuals</td>\n",
       "                      <td>2071</td>\n",
       "                      <td>122.8 KiB</td>\n",
       "                      <td style=\"text-align: center;\">\n",
       "                        ✅\n",
       "                      </td>\n",
       "                    </tr>\n",
       "                \n",
       "                  <tr>\n",
       "                    <td>Migrations</td>\n",
       "                      <td>0</td>\n",
       "                      <td>4 Bytes</td>\n",
       "                      <td style=\"text-align: center;\">\n",
       "                        \n",
       "                      </td>\n",
       "                    </tr>\n",
       "                \n",
       "                  <tr>\n",
       "                    <td>Mutations</td>\n",
       "                      <td>0</td>\n",
       "                      <td>1.2 KiB</td>\n",
       "                      <td style=\"text-align: center;\">\n",
       "                        \n",
       "                      </td>\n",
       "                    </tr>\n",
       "                \n",
       "                  <tr>\n",
       "                    <td>Nodes</td>\n",
       "                      <td>2099</td>\n",
       "                      <td>70.4 KiB</td>\n",
       "                      <td style=\"text-align: center;\">\n",
       "                        ✅\n",
       "                      </td>\n",
       "                    </tr>\n",
       "                \n",
       "                  <tr>\n",
       "                    <td>Populations</td>\n",
       "                      <td>1</td>\n",
       "                      <td>2.8 KiB</td>\n",
       "                      <td style=\"text-align: center;\">\n",
       "                        ✅\n",
       "                      </td>\n",
       "                    </tr>\n",
       "                \n",
       "                  <tr>\n",
       "                    <td>Provenances</td>\n",
       "                      <td>2</td>\n",
       "                      <td>4.6 KiB</td>\n",
       "                      <td style=\"text-align: center;\">\n",
       "                        \n",
       "                      </td>\n",
       "                    </tr>\n",
       "                \n",
       "                  <tr>\n",
       "                    <td>Sites</td>\n",
       "                      <td>0</td>\n",
       "                      <td>8 Bytes</td>\n",
       "                      <td style=\"text-align: center;\">\n",
       "                        \n",
       "                      </td>\n",
       "                    </tr>\n",
       "                \n",
       "                    </tbody>\n",
       "                  </table>\n",
       "                </div>\n",
       "              </div>\n",
       "            </div>\n",
       "            "
      ],
      "text/plain": [
       "<pyslim.slim_tree_sequence.SlimTreeSequence at 0x1291151f0>"
      ]
     },
     "execution_count": 8,
     "metadata": {},
     "output_type": "execute_result"
    }
   ],
   "source": [
    "sts = ts.simplify(sampled_nodes, keep_unary=True)\n",
    "sts"
   ]
  },
  {
   "cell_type": "markdown",
   "metadata": {},
   "source": [
    "which we can take a look at after dropping the unary nodes (so we only remember ancestors if they occur at coalescent points)"
   ]
  },
  {
   "cell_type": "code",
   "execution_count": 9,
   "metadata": {},
   "outputs": [
    {
     "data": {
      "text/html": [
       "\n",
       "            <div>\n",
       "              <style>\n",
       "                .tskit-table thead tr th {text-align: left;}\n",
       "                .tskit-table tbody tr td:first-of-type {text-align: left;}\n",
       "                .tskit-details-label {vertical-align: top; padding-right:5px;}\n",
       "                .tskit-table-set {display: inline-flex;flex-wrap: wrap;margin: -12px 0 0 -12px;width: calc(100% + 12px);}\n",
       "                .tskit-table-set-table {margin: 12px 0 0 12px;}\n",
       "                details {display: inline-block;}\n",
       "                summary {cursor: pointer; outline: 0; display: list-item;}\n",
       "              </style>\n",
       "              <div class=\"tskit-table-set\">\n",
       "                <div class=\"tskit-table-set-table\">\n",
       "                  <table class=\"tskit-table\">\n",
       "                    <thead>\n",
       "                      <tr>\n",
       "                        <th style=\"padding:0;line-height:21px;\">\n",
       "                          <img style=\"height: 32px;display: inline-block;padding: 3px 5px 3px 0;\"src=\"https://raw.githubusercontent.com/tskit-dev/administrative/main/tskit_logo.svg\"/>\n",
       "                          <a target=\"_blank\" href=\"https://tskit.readthedocs.io/en/latest/python-api.html#the-treesequence-class\"> Tree Sequence\n",
       "                        </th>\n",
       "                      </tr>\n",
       "                    </thead>\n",
       "                    <tbody>\n",
       "                      <tr><td>Trees</td><td>3</td></tr>\n",
       "                      <tr><td>Sequence Length</td><td>1000000.0</td></tr>\n",
       "                      <tr><td>Sample Nodes</td><td>3</td></tr>\n",
       "                      <tr><td>Total Size</td><td>13.4 KiB</td></tr>\n",
       "                      <tr>\n",
       "                        <td>Metadata</td><td style=\"text-align: left;\">\n",
       "                <div>\n",
       "                  <span class=\"tskit-details-label\"></span>\n",
       "                  <details open>\n",
       "                    <summary>dict</summary>\n",
       "                    \n",
       "                <div>\n",
       "                  <span class=\"tskit-details-label\">SLiM:</span>\n",
       "                  <details >\n",
       "                    <summary>dict</summary>\n",
       "                    file_version: 0.6<br/>generation: 1000<br/>model_type: nonWF<br/>nucleotide_based: False<br/>separate_sexes: False<br/>spatial_dimensionality: xy<br/>spatial_periodicity: <br/>stage: late<br/>\n",
       "                  </details>\n",
       "                </div>\n",
       "                <br/>\n",
       "                  </details>\n",
       "                </div>\n",
       "                </td></tr>\n",
       "                    </tbody>\n",
       "                  </table>\n",
       "                </div>\n",
       "                <div class=\"tskit-table-set-table\">\n",
       "                  <table class=\"tskit-table\">\n",
       "                    <thead>\n",
       "                      <tr>\n",
       "                        <th style=\"line-height:21px;\">Table</th>\n",
       "                        <th>Rows</th>\n",
       "                        <th>Size</th>\n",
       "                        <th>Has Metadata</th>\n",
       "                      </tr>\n",
       "                    </thead>\n",
       "                    <tbody>\n",
       "                    \n",
       "                  <tr>\n",
       "                    <td>Edges</td>\n",
       "                      <td>9</td>\n",
       "                      <td>256 Bytes</td>\n",
       "                      <td style=\"text-align: center;\">\n",
       "                        \n",
       "                      </td>\n",
       "                    </tr>\n",
       "                \n",
       "                  <tr>\n",
       "                    <td>Individuals</td>\n",
       "                      <td>7</td>\n",
       "                      <td>1.9 KiB</td>\n",
       "                      <td style=\"text-align: center;\">\n",
       "                        ✅\n",
       "                      </td>\n",
       "                    </tr>\n",
       "                \n",
       "                  <tr>\n",
       "                    <td>Migrations</td>\n",
       "                      <td>0</td>\n",
       "                      <td>4 Bytes</td>\n",
       "                      <td style=\"text-align: center;\">\n",
       "                        \n",
       "                      </td>\n",
       "                    </tr>\n",
       "                \n",
       "                  <tr>\n",
       "                    <td>Mutations</td>\n",
       "                      <td>0</td>\n",
       "                      <td>1.2 KiB</td>\n",
       "                      <td style=\"text-align: center;\">\n",
       "                        \n",
       "                      </td>\n",
       "                    </tr>\n",
       "                \n",
       "                  <tr>\n",
       "                    <td>Nodes</td>\n",
       "                      <td>7</td>\n",
       "                      <td>925 Bytes</td>\n",
       "                      <td style=\"text-align: center;\">\n",
       "                        ✅\n",
       "                      </td>\n",
       "                    </tr>\n",
       "                \n",
       "                  <tr>\n",
       "                    <td>Populations</td>\n",
       "                      <td>1</td>\n",
       "                      <td>2.8 KiB</td>\n",
       "                      <td style=\"text-align: center;\">\n",
       "                        ✅\n",
       "                      </td>\n",
       "                    </tr>\n",
       "                \n",
       "                  <tr>\n",
       "                    <td>Provenances</td>\n",
       "                      <td>2</td>\n",
       "                      <td>4.6 KiB</td>\n",
       "                      <td style=\"text-align: center;\">\n",
       "                        \n",
       "                      </td>\n",
       "                    </tr>\n",
       "                \n",
       "                  <tr>\n",
       "                    <td>Sites</td>\n",
       "                      <td>0</td>\n",
       "                      <td>8 Bytes</td>\n",
       "                      <td style=\"text-align: center;\">\n",
       "                        \n",
       "                      </td>\n",
       "                    </tr>\n",
       "                \n",
       "                    </tbody>\n",
       "                  </table>\n",
       "                </div>\n",
       "              </div>\n",
       "            </div>\n",
       "            "
      ],
      "text/plain": [
       "<pyslim.slim_tree_sequence.SlimTreeSequence at 0x12916e6d0>"
      ]
     },
     "execution_count": 9,
     "metadata": {},
     "output_type": "execute_result"
    }
   ],
   "source": [
    "stsnu = ts.simplify(sampled_nodes, keep_unary=False)\n",
    "stsnu"
   ]
  },
  {
   "cell_type": "code",
   "execution_count": 10,
   "metadata": {},
   "outputs": [
    {
     "data": {
      "image/svg+xml": [
       "<svg xmlns=\"http://www.w3.org/2000/svg\" xmlns:ev=\"http://www.w3.org/2001/xml-events\" xmlns:xlink=\"http://www.w3.org/1999/xlink\" baseProfile=\"full\" height=\"200\" version=\"1.1\" width=\"600\"><defs><style type=\"text/css\"><![CDATA[.axis {font-weight: bold}.tree, .axis {font-size: 14px; text-anchor:middle}.edge {stroke: black; fill: none}.node > .sym {fill: black; stroke: none}.tree text {dominant-baseline: middle}.tree .lab.lft {text-anchor: end}.tree .lab.rgt {text-anchor: start}.mut {fill: red; font-style: italic}]]></style></defs><g class=\"tree-sequence\"><g class=\"background\"><polygon fill=\"#F1F1F1\" points=\"20,185 20,180 20,160 20,0 206.667,0 206.667,160 372.354,180 372.354,185\"/><polygon fill=\"#F1F1F1\" points=\"447.109,185 447.109,180 393.333,160 393.333,0 580.0,0 580.0,160 580.0,180 580.0,185\"/></g><g class=\"trees\"><g class=\"treebox t0\" transform=\"translate(20 30)\"><g class=\"tree t0\"><g class=\"i3 node n6 p0 root\" transform=\"translate(103.75 30.0)\"><g class=\"a6 i2 leaf node n2 p0 sample\" transform=\"translate(31.25 80.0)\"><path class=\"edge\" d=\"M 0 0 V -80.0 H -31.25\"/><circle class=\"sym\" cx=\"0\" cy=\"0\" r=\"3\"/><text class=\"lab\" transform=\"translate(0 12)\">2</text></g><g class=\"a6 i5 node n4 p0\" transform=\"translate(-31.25 29.5161)\"><g class=\"a4 i1 leaf node n0 p0 sample\" transform=\"translate(-20.8333 50.4839)\"><path class=\"edge\" d=\"M 0 0 V -50.4839 H 20.8333\"/><circle class=\"sym\" cx=\"0\" cy=\"0\" r=\"3\"/><text class=\"lab\" transform=\"translate(0 12)\">0</text></g><g class=\"a4 i0 leaf node n1 p0 sample\" transform=\"translate(20.8333 50.4839)\"><path class=\"edge\" d=\"M 0 0 V -50.4839 H -20.8333\"/><circle class=\"sym\" cx=\"0\" cy=\"0\" r=\"3\"/><text class=\"lab\" transform=\"translate(0 12)\">1</text></g><path class=\"edge\" d=\"M 0 0 V -29.5161 H 31.25\"/><circle class=\"sym\" cx=\"0\" cy=\"0\" r=\"3\"/><text class=\"lab lft\" transform=\"translate(-3 -6)\">4</text></g><circle class=\"sym\" cx=\"0\" cy=\"0\" r=\"3\"/><text class=\"lab\" transform=\"translate(0 -10)\">6</text></g></g></g><g class=\"treebox t1\" transform=\"translate(206.667 30)\"><g class=\"tree t1\"><g class=\"i4 node n5 p0 root\" transform=\"translate(103.75 33.7097)\"><g class=\"a5 i2 leaf node n2 p0 sample\" transform=\"translate(31.25 76.2903)\"><path class=\"edge\" d=\"M 0 0 V -76.2903 H -31.25\"/><circle class=\"sym\" cx=\"0\" cy=\"0\" r=\"3\"/><text class=\"lab\" transform=\"translate(0 12)\">2</text></g><g class=\"a5 i5 node n4 p0\" transform=\"translate(-31.25 25.8065)\"><g class=\"a4 i1 leaf node n0 p0 sample\" transform=\"translate(-20.8333 50.4839)\"><path class=\"edge\" d=\"M 0 0 V -50.4839 H 20.8333\"/><circle class=\"sym\" cx=\"0\" cy=\"0\" r=\"3\"/><text class=\"lab\" transform=\"translate(0 12)\">0</text></g><g class=\"a4 i0 leaf node n1 p0 sample\" transform=\"translate(20.8333 50.4839)\"><path class=\"edge\" d=\"M 0 0 V -50.4839 H -20.8333\"/><circle class=\"sym\" cx=\"0\" cy=\"0\" r=\"3\"/><text class=\"lab\" transform=\"translate(0 12)\">1</text></g><path class=\"edge\" d=\"M 0 0 V -25.8065 H 31.25\"/><circle class=\"sym\" cx=\"0\" cy=\"0\" r=\"3\"/><text class=\"lab lft\" transform=\"translate(-3 -6)\">4</text></g><circle class=\"sym\" cx=\"0\" cy=\"0\" r=\"3\"/><text class=\"lab\" transform=\"translate(0 -10)\">5</text></g></g></g><g class=\"treebox t2\" transform=\"translate(393.333 30)\"><g class=\"tree t2\"><g class=\"i4 node n5 p0 root\" transform=\"translate(103.75 33.7097)\"><g class=\"a5 i2 leaf node n2 p0 sample\" transform=\"translate(31.25 76.2903)\"><path class=\"edge\" d=\"M 0 0 V -76.2903 H -31.25\"/><circle class=\"sym\" cx=\"0\" cy=\"0\" r=\"3\"/><text class=\"lab\" transform=\"translate(0 12)\">2</text></g><g class=\"a5 i6 node n3 p0\" transform=\"translate(-31.25 26.129)\"><g class=\"a3 i1 leaf node n0 p0 sample\" transform=\"translate(-20.8333 50.1613)\"><path class=\"edge\" d=\"M 0 0 V -50.1613 H 20.8333\"/><circle class=\"sym\" cx=\"0\" cy=\"0\" r=\"3\"/><text class=\"lab\" transform=\"translate(0 12)\">0</text></g><g class=\"a3 i0 leaf node n1 p0 sample\" transform=\"translate(20.8333 50.1613)\"><path class=\"edge\" d=\"M 0 0 V -50.1613 H -20.8333\"/><circle class=\"sym\" cx=\"0\" cy=\"0\" r=\"3\"/><text class=\"lab\" transform=\"translate(0 12)\">1</text></g><path class=\"edge\" d=\"M 0 0 V -26.129 H 31.25\"/><circle class=\"sym\" cx=\"0\" cy=\"0\" r=\"3\"/><text class=\"lab lft\" transform=\"translate(-3 -6)\">3</text></g><circle class=\"sym\" cx=\"0\" cy=\"0\" r=\"3\"/><text class=\"lab\" transform=\"translate(0 -10)\">5</text></g></g></g></g><g class=\"axis\"><line stroke=\"black\" x1=\"20\" x2=\"580\" y1=\"180\" y2=\"180\"/><line stroke=\"black\" x1=\"20\" x2=\"20\" y1=\"180\" y2=\"185\"/><g transform=\"translate(20, 200)\"><text font-size=\"14\" font-weight=\"bold\" text-anchor=\"middle\">0</text></g><line stroke=\"black\" x1=\"372.354\" x2=\"372.354\" y1=\"180\" y2=\"185\"/><g transform=\"translate(372.354, 200)\"><text font-size=\"14\" font-weight=\"bold\" text-anchor=\"middle\">629203</text></g><line stroke=\"black\" x1=\"447.109\" x2=\"447.109\" y1=\"180\" y2=\"185\"/><g transform=\"translate(447.109, 200)\"><text font-size=\"14\" font-weight=\"bold\" text-anchor=\"middle\">762695</text></g><line stroke=\"black\" x1=\"580.0\" x2=\"580.0\" y1=\"180\" y2=\"185\"/><g transform=\"translate(580.0, 200)\"><text font-size=\"14\" font-weight=\"bold\" text-anchor=\"middle\">1000000</text></g></g></g></svg>"
      ],
      "text/plain": [
       "<IPython.core.display.SVG object>"
      ]
     },
     "execution_count": 10,
     "metadata": {},
     "output_type": "execute_result"
    }
   ],
   "source": [
    "SVG(stsnu.draw_svg())"
   ]
  },
  {
   "cell_type": "markdown",
   "metadata": {},
   "source": [
    "Now let's visualize one of these trees in space"
   ]
  },
  {
   "cell_type": "markdown",
   "metadata": {},
   "source": [
    "if we only care about the coalescent events"
   ]
  },
  {
   "cell_type": "code",
   "execution_count": 11,
   "metadata": {},
   "outputs": [
    {
     "data": {
      "image/png": "[encoded data removed]",
      "text/plain": [
       "<Figure size 432x288 with 3 Axes>"
      ]
     },
     "metadata": {
      "needs_background": "light"
     },
     "output_type": "display_data"
    }
   ],
   "source": [
    "treeseq = stsnu #tree sequence of interest\n",
    "trees = [i for i in range(treeseq.num_trees)] #which trees to plot\n",
    "\n",
    "cmap = plt.get_cmap('tab10') #colors\n",
    "fig = plt.figure() #start the figure\n",
    "\n",
    "# loop over trees of interest\n",
    "for i in trees:\n",
    "    \n",
    "    tree = treeseq.at_index(i) #get the current tree\n",
    "#     maxtime = tree.time(tree.root) #time to go back to\n",
    "    maxtime = max([tree.tmrca(i,j) for i in sts.samples() for j in sts.samples()[:i]]) #go back to the most recent common ancestor\n",
    "\n",
    "    ax = fig.add_subplot(1, treeseq.num_trees, i+1, projection='3d') #set up the 3D axis\n",
    "\n",
    "    # loop over samples of interest\n",
    "    for j,node in enumerate(treeseq.samples()): \n",
    "\n",
    "        xs = [] #list for x locations\n",
    "        ys = [] #list for y locations\n",
    "        times = [] #list for times (z axis of our 3D plot)\n",
    "\n",
    "        # get location of sample\n",
    "        ind = treeseq.individual(treeseq.node(node).individual) #individual containing the node of interest\n",
    "        x,y = ind.location[:2] #location of individual\n",
    "        t = ind.time #generation that individual was alive\n",
    "        xs.append(x) #its x location\n",
    "        ys.append(y) #its y location\n",
    "        times.append(t) #its time\n",
    "        ax.scatter(x, y, 1, color=cmap(j), alpha=1, marker='o', s=20) #plot this point\n",
    "        ax.text(x,y,1,node) #add node number as label\n",
    "\n",
    "        # now move up this lineage to maxtime, getting locations of ancestors\n",
    "        # note this is redundant since lineages will coalesce (so we'll trace lineages as many times as they have descendants)\n",
    "        while t < maxtime-1: #while we're not yet at the max time\n",
    "            node = tree.get_parent(node) #get the parent node of our current sample node\n",
    "\n",
    "            ind = treeseq.individual(treeseq.node(node).individual) #individual the parent node was in\n",
    "            x,y = ind.location[:2] #location of the parent\n",
    "            t = ind.time #time the parent was alive\n",
    "            xs.append(x)\n",
    "            ys.append(y)\n",
    "            times.append(t)\n",
    "            ax.text(x,y,t,node)\n",
    "            # now we'll repeat this, appending to our lists (xs, ys, times), finding the parent of the parent, then the parent of that parent, ... until we get to the max time\n",
    "\n",
    "        # now plot the information we just collected in this loop: the locations of all individuals in this lineage\n",
    "        ax.plot(xs, ys, times, color=cmap(j), alpha=0.5) \n",
    "\n",
    "    ax.set_axis_off() #drop the axis lines and labels etc for a clean plot\n",
    "    ax.set_xlim(0,10) #set x limits\n",
    "    ax.set_ylim(0,10) #set y limits\n",
    "    ax.set_xlabel('x') #x axis label (if set_axis is not off)\n",
    "    ax.set_ylabel('y') #y axis label (if set_axis is not off)\n",
    "    ax.set_zlabel('time') #z axis label (if set_axis is not off)\n",
    "    ax.set_title('tree %d' %i) #title as tree index\n",
    "    \n",
    "plt.show() #show what we did!"
   ]
  },
  {
   "cell_type": "markdown",
   "metadata": {},
   "source": [
    "or if we care about the unary nodes too"
   ]
  },
  {
   "cell_type": "code",
   "execution_count": 12,
   "metadata": {},
   "outputs": [
    {
     "data": {
      "image/png": "[encoded data removed]",
      "text/plain": [
       "<Figure size 2880x360 with 15 Axes>"
      ]
     },
     "metadata": {
      "needs_background": "light"
     },
     "output_type": "display_data"
    }
   ],
   "source": [
    "treeseq = sts #tree sequence of interest\n",
    "trees = [i for i in range(treeseq.num_trees)] #which trees to plot\n",
    "\n",
    "cmap = plt.get_cmap('tab10')\n",
    "fig = plt.figure(figsize=(40,5))\n",
    "\n",
    "# loop over trees of interest\n",
    "for i in trees:\n",
    "    \n",
    "    tree = treeseq.at_index(i)\n",
    "#     maxtime = tree.time(tree.root) #time to go back to\n",
    "    maxtime = max([tree.tmrca(i,j) for i in sts.samples() for j in sts.samples()[:i]]) + 1 #tmrca\n",
    "\n",
    "    ax = fig.add_subplot(1, treeseq.num_trees, i+1, projection='3d')\n",
    "\n",
    "    # loop over samples of interest\n",
    "    for j,node in enumerate(treeseq.samples()): \n",
    "\n",
    "        xs = []\n",
    "        ys = []\n",
    "        times = []\n",
    "\n",
    "        # get location of sample\n",
    "        ind = treeseq.individual(treeseq.node(node).individual)\n",
    "        x,y = ind.location[:2]\n",
    "        t = ind.time\n",
    "        xs.append(x)\n",
    "        ys.append(y)\n",
    "        times.append(t)\n",
    "        ax.scatter(x, y, 1, color=cmap(j), alpha=1, marker='o', s=20)\n",
    "        ax.text(x,y,1,node, alpha=0.4, color='k')\n",
    "\n",
    "        # now move up this lineage to maxtime, getting locations of ancestors\n",
    "        # note this is redundant since lineages will coalesce\n",
    "        while t < maxtime-1:\n",
    "            node = tree.get_parent(node)\n",
    "\n",
    "            ind = treeseq.individual(treeseq.node(node).individual)\n",
    "            x,y = ind.location[:2]\n",
    "            t = ind.time\n",
    "            xs.append(x)\n",
    "            ys.append(y)\n",
    "            times.append(t)\n",
    "            if len(tree.get_children(node)) > 1:\n",
    "                ax.scatter(x,y,t,color='k',marker='o',s=20)\n",
    "                ax.text(x,y,t,node, alpha=0.2)\n",
    "\n",
    "        # plot this lineage\n",
    "        ax.plot(xs, ys, times, color=cmap(j), alpha=0.5)\n",
    "\n",
    "    ax.set_axis_off()\n",
    "    ax.set_xlim(0,10)\n",
    "    ax.set_ylim(0,10)\n",
    "    ax.set_title('tree %d' %i)\n",
    "    \n",
    "plt.show()"
   ]
  }
 ],
 "metadata": {
  "kernelspec": {
   "display_name": "Python 3",
   "language": "python",
   "name": "python3"
  },
  "language_info": {
   "codemirror_mode": {
    "name": "ipython",
    "version": 3
   },
   "file_extension": ".py",
   "mimetype": "text/x-python",
   "name": "python",
   "nbconvert_exporter": "python",
   "pygments_lexer": "ipython3",
   "version": "3.9.1"
  }
 },
 "nbformat": 4,
 "nbformat_minor": 4
}
