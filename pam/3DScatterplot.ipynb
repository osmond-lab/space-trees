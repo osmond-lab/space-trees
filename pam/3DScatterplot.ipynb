{
 "cells": [
  {
   "cell_type": "markdown",
   "id": "889fd4fe-a932-4f0d-803a-87ef77d8df1d",
   "metadata": {},
   "source": [
    "# Figuring Out How to Plot in 3D"
   ]
  },
  {
   "cell_type": "markdown",
   "id": "e34ac86e-1bc7-4d6d-b660-d54b79c706fe",
   "metadata": {},
   "source": [
    "This is the notebook I used to organize my thoughts and figure out how to make a 3D scatterplot of the coalescent."
   ]
  },
  {
   "cell_type": "markdown",
   "id": "57d81968-c8cd-4b8b-93ea-c5463a198714",
   "metadata": {},
   "source": [
    "Sections:\n",
    "1. Import & Simplify\n",
    "2. 2D Scatterplot\n",
    "3. How is data stored?\n",
    "4. Experimenting with Creating Arrays\n",
    "5. Making lists of parents and children\n",
    "6. 3D Scatterplot"
   ]
  },
  {
   "cell_type": "markdown",
   "id": "e8ebabea-ef1d-42ca-9003-c6e73ec8ae5a",
   "metadata": {},
   "source": [
    "## Import & Simplify"
   ]
  },
  {
   "cell_type": "code",
   "execution_count": 1,
   "id": "97d85e42-9c72-44b6-b570-7c64a96178ab",
   "metadata": {},
   "outputs": [],
   "source": [
    "import pyslim, tskit, msprime\n",
    "import numpy as np\n",
    "import matplotlib.pyplot as plt\n",
    "from IPython.display import SVG, display\n",
    "\n",
    "ts = pyslim.load(\"/Users/ARIADNA/Desktop/Attempt3.trees\")\n",
    "\n",
    "extant = ts.individuals_alive_at(0)\n",
    "\n",
    "extant_nodes = []\n",
    "for i in extant:\n",
    "    extant_nodes.extend(ts.individual(i).nodes)\n",
    "    \n",
    "sts = ts.simplify(extant_nodes)"
   ]
  },
  {
   "cell_type": "markdown",
   "id": "9fa7be2e-cba6-47a3-ada1-f43ae0048d5c",
   "metadata": {},
   "source": [
    "This simplifies the tree sequence to just the extant nodes in Generation 10 (the last generation), and all of their ancestor nodes. \n",
    "\n",
    "NOTE: In my SLiM code, I saved every individual from Generation 1 through 10, which later allows me to get the individual for each node in the tree sequence, and that individual's location.\n",
    "\n",
    "Not mutating this time around."
   ]
  },
  {
   "cell_type": "code",
   "execution_count": 2,
   "id": "331471e1-4e9d-4840-8421-9cd2368286fc",
   "metadata": {
    "tags": []
   },
   "outputs": [
    {
     "name": "stdout",
     "output_type": "stream",
     "text": [
      "╔════════════════════════╗\n",
      "║TreeSequence            ║\n",
      "╠═══════════════╤════════╣\n",
      "║Trees          │       1║\n",
      "╟───────────────┼────────╢\n",
      "║Sequence Length│ 10000.0║\n",
      "╟───────────────┼────────╢\n",
      "║Sample Nodes   │      40║\n",
      "╟───────────────┼────────╢\n",
      "║Total Size     │18.3 KiB║\n",
      "╚═══════════════╧════════╝\n",
      "╔═══════════╤════╤═══════╤════════════╗\n",
      "║Table      │Rows│Size   │Has Metadata║\n",
      "╠═══════════╪════╪═══════╪════════════╣\n",
      "║Edges      │  60│1.6 KiB│          No║\n",
      "╟───────────┼────┼───────┼────────────╢\n",
      "║Individuals│  46│4.3 KiB│         Yes║\n",
      "╟───────────┼────┼───────┼────────────╢\n",
      "║Migrations │   0│4 Bytes│          No║\n",
      "╟───────────┼────┼───────┼────────────╢\n",
      "║Mutations  │   0│1.2 KiB│          No║\n",
      "╟───────────┼────┼───────┼────────────╢\n",
      "║Nodes      │  68│2.9 KiB│         Yes║\n",
      "╟───────────┼────┼───────┼────────────╢\n",
      "║Populations│   1│2.8 KiB│         Yes║\n",
      "╟───────────┼────┼───────┼────────────╢\n",
      "║Provenances│   2│3.2 KiB│          No║\n",
      "╟───────────┼────┼───────┼────────────╢\n",
      "║Sites      │   0│8 Bytes│          No║\n",
      "╚═══════════╧════╧═══════╧════════════╝\n",
      "\n"
     ]
    },
    {
     "data": {
      "image/svg+xml": [
       "<svg xmlns=\"http://www.w3.org/2000/svg\" xmlns:ev=\"http://www.w3.org/2001/xml-events\" xmlns:xlink=\"http://www.w3.org/1999/xlink\" baseProfile=\"full\" height=\"200\" version=\"1.1\" width=\"200\"><defs><style type=\"text/css\"><![CDATA[.background path {fill: #808080; fill-opacity:0}.background path:nth-child(odd) {fill-opacity:.1}.axes {font-size: 14px}.x-axis .tick .lab {font-weight: bold}.axes, .tree {font-size: 14px; text-anchor:middle}.y-axis line.grid {stroke: #FAFAFA}.y-axis > .lab text {transform: translateX(0.8em) rotate(-90deg)}.x-axis .tick g {transform: translateY(0.9em)}.x-axis > .lab text {transform: translateY(-0.8em)}.axes line, .edge {stroke:black; fill:none}.node > .sym {fill: black; stroke: none}.site > .sym {stroke: black}.mut text {fill: red; font-style: italic}.mut.extra text {fill: hotpink}.mut line {fill: none; stroke: none}.mut .sym {fill: none; stroke: red}.mut.extra .sym {stroke: hotpink}.node .mut .sym {stroke-width: 1.5px}.tree text, .tree-sequence text {dominant-baseline: central}.plotbox .lab.lft {text-anchor: end}.plotbox .lab.rgt {text-anchor: start}]]></style></defs><g class=\"tree-sequence\"><g class=\"background\"><path d=\"M20,0 l160,0 l0,138.2 l0,25 l0,5 l-160,0 l0,-5 l0,-25 l0,-138.2z\"/></g><g class=\"axes\"><g class=\"x-axis\"><g class=\"lab\" transform=\"translate(100,200)\"><text text-anchor=\"middle\">Genome position</text></g><line x1=\"20\" x2=\"180\" y1=\"163.2\" y2=\"163.2\"/><g class=\"tick\" transform=\"translate(20 163.2)\"><line x1=\"0\" x2=\"0\" y1=\"0\" y2=\"5\"/><g class=\"lab\" transform=\"translate(0,5)\"><text>0</text></g></g><g class=\"tick\" transform=\"translate(180 163.2)\"><line x1=\"0\" x2=\"0\" y1=\"0\" y2=\"5\"/><g class=\"lab\" transform=\"translate(0,5)\"><text>10000</text></g></g></g></g><g class=\"plotbox trees\"><g class=\"tree t0\" transform=\"translate(20 0)\"><g class=\"plotbox\"><g class=\"i37 node n40 p0 root\" transform=\"translate(24.5 107.886)\"><g class=\"a40 i0 leaf node n1 p0 sample\" transform=\"translate(-3 13.5143)\"><path class=\"edge\" d=\"M 0 0 V -13.5143 H 3\"/><rect class=\"sym\" height=\"6\" width=\"6\" x=\"-3\" y=\"-3\"/><text class=\"lab\" transform=\"translate(0 11)\">1</text></g><g class=\"a40 i2 leaf node n5 p0 sample\" transform=\"translate(0.0 13.5143)\"><path class=\"edge\" d=\"M 0 0 V -13.5143 H 0.0\"/><rect class=\"sym\" height=\"6\" width=\"6\" x=\"-3\" y=\"-3\"/><text class=\"lab\" transform=\"translate(0 11)\">5</text></g><g class=\"a40 i11 leaf node n22 p0 sample\" transform=\"translate(3 13.5143)\"><path class=\"edge\" d=\"M 0 0 V -13.5143 H -3\"/><rect class=\"sym\" height=\"6\" width=\"6\" x=\"-3\" y=\"-3\"/><text class=\"lab\" transform=\"translate(0 11)\">22</text></g><circle class=\"sym\" cx=\"0\" cy=\"0\" r=\"3\"/><text class=\"lab\" transform=\"translate(0 -11)\">40</text></g><g class=\"i20 node n65 p0 root\" transform=\"translate(47.5625 26.8)\"><g class=\"a65 i36 node n55 p0\" transform=\"translate(9.1875 67.5714)\"><g class=\"a55 i1 leaf node n2 p0 sample\" transform=\"translate(-2.25 27.0286)\"><path class=\"edge\" d=\"M 0 0 V -27.0286 H 2.25\"/><rect class=\"sym\" height=\"6\" width=\"6\" x=\"-3\" y=\"-3\"/><text class=\"lab\" transform=\"translate(0 11)\">2</text></g><g class=\"a55 i38 node n41 p0\" transform=\"translate(2.25 13.5143)\"><g class=\"a41 i10 leaf node n21 p0 sample\" transform=\"translate(-1.5 13.5143)\"><path class=\"edge\" d=\"M 0 0 V -13.5143 H 1.5\"/><rect class=\"sym\" height=\"6\" width=\"6\" x=\"-3\" y=\"-3\"/><text class=\"lab\" transform=\"translate(0 11)\">21</text></g><g class=\"a41 i15 leaf node n30 p0 sample\" transform=\"translate(1.5 13.5143)\"><path class=\"edge\" d=\"M 0 0 V -13.5143 H -1.5\"/><rect class=\"sym\" height=\"6\" width=\"6\" x=\"-3\" y=\"-3\"/><text class=\"lab\" transform=\"translate(0 11)\">30</text></g><path class=\"edge\" d=\"M 0 0 V -13.5143 H -2.25\"/><circle class=\"sym\" cx=\"0\" cy=\"0\" r=\"3\"/><text class=\"lab rgt\" transform=\"translate(3 -7.0)\">41</text></g><path class=\"edge\" d=\"M 0 0 V -67.5714 H -9.1875\"/><circle class=\"sym\" cx=\"0\" cy=\"0\" r=\"3\"/><text class=\"lab rgt\" transform=\"translate(3 -7.0)\">55</text></g><g class=\"a65 i23 node n63 p0\" transform=\"translate(-9.1875 13.5143)\"><g class=\"a63 i35 node n54 p0\" transform=\"translate(-6.375 54.0571)\"><g class=\"a54 i0 leaf node n0 p0 sample\" transform=\"translate(-1.5 27.0286)\"><path class=\"edge\" d=\"M 0 0 V -27.0286 H 1.5\"/><rect class=\"sym\" height=\"6\" width=\"6\" x=\"-3\" y=\"-3\"/><text class=\"lab\" transform=\"translate(0 11)\">0</text></g><g class=\"a54 i10 leaf node n20 p0 sample\" transform=\"translate(1.5 27.0286)\"><path class=\"edge\" d=\"M 0 0 V -27.0286 H -1.5\"/><rect class=\"sym\" height=\"6\" width=\"6\" x=\"-3\" y=\"-3\"/><text class=\"lab\" transform=\"translate(0 11)\">20</text></g><path class=\"edge\" d=\"M 0 0 V -54.0571 H 6.375\"/><circle class=\"sym\" cx=\"0\" cy=\"0\" r=\"3\"/><text class=\"lab lft\" transform=\"translate(-3 -7.0)\">54</text></g><g class=\"a63 i30 node n58 p0\" transform=\"translate(6.375 40.5429)\"><g class=\"a58 i19 leaf node n39 p0 sample\" transform=\"translate(6.75 40.5429)\"><path class=\"edge\" d=\"M 0 0 V -40.5429 H -6.75\"/><rect class=\"sym\" height=\"6\" width=\"6\" x=\"-3\" y=\"-3\"/><text class=\"lab\" transform=\"translate(0 11)\">39</text></g><g class=\"a58 i42 node n45 p0\" transform=\"translate(-6.75 27.0286)\"><g class=\"a45 i2 leaf node n4 p0 sample\" transform=\"translate(-1.5 13.5143)\"><path class=\"edge\" d=\"M 0 0 V -13.5143 H 1.5\"/><rect class=\"sym\" height=\"6\" width=\"6\" x=\"-3\" y=\"-3\"/><text class=\"lab\" transform=\"translate(0 11)\">4</text></g><g class=\"a45 i18 leaf node n37 p0 sample\" transform=\"translate(1.5 13.5143)\"><path class=\"edge\" d=\"M 0 0 V -13.5143 H -1.5\"/><rect class=\"sym\" height=\"6\" width=\"6\" x=\"-3\" y=\"-3\"/><text class=\"lab\" transform=\"translate(0 11)\">37</text></g><path class=\"edge\" d=\"M 0 0 V -27.0286 H 6.75\"/><circle class=\"sym\" cx=\"0\" cy=\"0\" r=\"3\"/><text class=\"lab lft\" transform=\"translate(-3 -7.0)\">45</text></g><g class=\"a58 i34 node n53 p0\" transform=\"translate(1.5 13.5143)\"><g class=\"a53 i5 leaf node n10 p0 sample\" transform=\"translate(2.25 27.0286)\"><path class=\"edge\" d=\"M 0 0 V -27.0286 H -2.25\"/><rect class=\"sym\" height=\"6\" width=\"6\" x=\"-3\" y=\"-3\"/><text class=\"lab\" transform=\"translate(0 11)\">10</text></g><g class=\"a53 i43 node n46 p0\" transform=\"translate(-2.25 13.5143)\"><g class=\"a46 i3 leaf node n7 p0 sample\" transform=\"translate(-1.5 13.5143)\"><path class=\"edge\" d=\"M 0 0 V -13.5143 H 1.5\"/><rect class=\"sym\" height=\"6\" width=\"6\" x=\"-3\" y=\"-3\"/><text class=\"lab\" transform=\"translate(0 11)\">7</text></g><g class=\"a46 i13 leaf node n26 p0 sample\" transform=\"translate(1.5 13.5143)\"><path class=\"edge\" d=\"M 0 0 V -13.5143 H -1.5\"/><rect class=\"sym\" height=\"6\" width=\"6\" x=\"-3\" y=\"-3\"/><text class=\"lab\" transform=\"translate(0 11)\">26</text></g><path class=\"edge\" d=\"M 0 0 V -13.5143 H 2.25\"/><circle class=\"sym\" cx=\"0\" cy=\"0\" r=\"3\"/><text class=\"lab lft\" transform=\"translate(-3 -7.0)\">46</text></g><path class=\"edge\" d=\"M 0 0 V -13.5143 H -1.5\"/><circle class=\"sym\" cx=\"0\" cy=\"0\" r=\"3\"/><text class=\"lab rgt\" transform=\"translate(3 -7.0)\">53</text></g><path class=\"edge\" d=\"M 0 0 V -40.5429 H -6.375\"/><circle class=\"sym\" cx=\"0\" cy=\"0\" r=\"3\"/><text class=\"lab rgt\" transform=\"translate(3 -7.0)\">58</text></g><path class=\"edge\" d=\"M 0 0 V -13.5143 H 9.1875\"/><circle class=\"sym\" cx=\"0\" cy=\"0\" r=\"3\"/><text class=\"lab lft\" transform=\"translate(-3 -7.0)\">63</text></g><circle class=\"sym\" cx=\"0\" cy=\"0\" r=\"3\"/><text class=\"lab\" transform=\"translate(0 -11)\">65</text></g><g class=\"i21 node n66 p0 root\" transform=\"translate(74.375 26.8)\"><g class=\"a66 i29 node n57 p0\" transform=\"translate(-7.125 54.0571)\"><g class=\"a57 i1 leaf node n3 p0 sample\" transform=\"translate(-3.75 40.5429)\"><path class=\"edge\" d=\"M 0 0 V -40.5429 H 3.75\"/><rect class=\"sym\" height=\"6\" width=\"6\" x=\"-3\" y=\"-3\"/><text class=\"lab\" transform=\"translate(0 11)\">3</text></g><g class=\"a57 i9 leaf node n19 p0 sample\" transform=\"translate(-0.75 40.5429)\"><path class=\"edge\" d=\"M 0 0 V -40.5429 H 0.75\"/><rect class=\"sym\" height=\"6\" width=\"6\" x=\"-3\" y=\"-3\"/><text class=\"lab\" transform=\"translate(0 11)\">19</text></g><g class=\"a57 i44 node n47 p0\" transform=\"translate(3.75 27.0286)\"><g class=\"a47 i12 leaf node n25 p0 sample\" transform=\"translate(-1.5 13.5143)\"><path class=\"edge\" d=\"M 0 0 V -13.5143 H 1.5\"/><rect class=\"sym\" height=\"6\" width=\"6\" x=\"-3\" y=\"-3\"/><text class=\"lab\" transform=\"translate(0 11)\">25</text></g><g class=\"a47 i16 leaf node n32 p0 sample\" transform=\"translate(1.5 13.5143)\"><path class=\"edge\" d=\"M 0 0 V -13.5143 H -1.5\"/><rect class=\"sym\" height=\"6\" width=\"6\" x=\"-3\" y=\"-3\"/><text class=\"lab\" transform=\"translate(0 11)\">32</text></g><path class=\"edge\" d=\"M 0 0 V -27.0286 H -3.75\"/><circle class=\"sym\" cx=\"0\" cy=\"0\" r=\"3\"/><text class=\"lab rgt\" transform=\"translate(3 -7.0)\">47</text></g><path class=\"edge\" d=\"M 0 0 V -54.0571 H 7.125\"/><circle class=\"sym\" cx=\"0\" cy=\"0\" r=\"3\"/><text class=\"lab lft\" transform=\"translate(-3 -7.0)\">57</text></g><g class=\"a66 i27 node n62 p0\" transform=\"translate(7.125 40.5429)\"><g class=\"a62 i9 leaf node n18 p0 sample\" transform=\"translate(0.0 54.0571)\"><path class=\"edge\" d=\"M 0 0 V -54.0571 H 0.0\"/><rect class=\"sym\" height=\"6\" width=\"6\" x=\"-3\" y=\"-3\"/><text class=\"lab\" transform=\"translate(0 11)\">18</text></g><g class=\"a62 i45 node n48 p0\" transform=\"translate(-4.5 40.5429)\"><g class=\"a48 i5 leaf node n11 p0 sample\" transform=\"translate(-1.5 13.5143)\"><path class=\"edge\" d=\"M 0 0 V -13.5143 H 1.5\"/><rect class=\"sym\" height=\"6\" width=\"6\" x=\"-3\" y=\"-3\"/><text class=\"lab\" transform=\"translate(0 11)\">11</text></g><g class=\"a48 i18 leaf node n36 p0 sample\" transform=\"translate(1.5 13.5143)\"><path class=\"edge\" d=\"M 0 0 V -13.5143 H -1.5\"/><rect class=\"sym\" height=\"6\" width=\"6\" x=\"-3\" y=\"-3\"/><text class=\"lab\" transform=\"translate(0 11)\">36</text></g><path class=\"edge\" d=\"M 0 0 V -40.5429 H 4.5\"/><circle class=\"sym\" cx=\"0\" cy=\"0\" r=\"3\"/><text class=\"lab lft\" transform=\"translate(-3 -7.0)\">48</text></g><g class=\"a62 i28 node n56 p0\" transform=\"translate(4.5 13.5143)\"><g class=\"a56 i12 leaf node n24 p0 sample\" transform=\"translate(-1.5 40.5429)\"><path class=\"edge\" d=\"M 0 0 V -40.5429 H 1.5\"/><rect class=\"sym\" height=\"6\" width=\"6\" x=\"-3\" y=\"-3\"/><text class=\"lab\" transform=\"translate(0 11)\">24</text></g><g class=\"a56 i13 leaf node n27 p0 sample\" transform=\"translate(1.5 40.5429)\"><path class=\"edge\" d=\"M 0 0 V -40.5429 H -1.5\"/><rect class=\"sym\" height=\"6\" width=\"6\" x=\"-3\" y=\"-3\"/><text class=\"lab\" transform=\"translate(0 11)\">27</text></g><path class=\"edge\" d=\"M 0 0 V -13.5143 H -4.5\"/><circle class=\"sym\" cx=\"0\" cy=\"0\" r=\"3\"/><text class=\"lab rgt\" transform=\"translate(3 -7.0)\">56</text></g><path class=\"edge\" d=\"M 0 0 V -40.5429 H -7.125\"/><circle class=\"sym\" cx=\"0\" cy=\"0\" r=\"3\"/><text class=\"lab rgt\" transform=\"translate(3 -7.0)\">62</text></g><circle class=\"sym\" cx=\"0\" cy=\"0\" r=\"3\"/><text class=\"lab\" transform=\"translate(0 -11)\">66</text></g><g class=\"i39 node n42 p0 root\" transform=\"translate(92 107.886)\"><g class=\"a42 i3 leaf node n6 p0 sample\" transform=\"translate(-1.5 13.5143)\"><path class=\"edge\" d=\"M 0 0 V -13.5143 H 1.5\"/><rect class=\"sym\" height=\"6\" width=\"6\" x=\"-3\" y=\"-3\"/><text class=\"lab\" transform=\"translate(0 11)\">6</text></g><g class=\"a42 i19 leaf node n38 p0 sample\" transform=\"translate(1.5 13.5143)\"><path class=\"edge\" d=\"M 0 0 V -13.5143 H -1.5\"/><rect class=\"sym\" height=\"6\" width=\"6\" x=\"-3\" y=\"-3\"/><text class=\"lab\" transform=\"translate(0 11)\">38</text></g><circle class=\"sym\" cx=\"0\" cy=\"0\" r=\"3\"/><text class=\"lab\" transform=\"translate(0 -11)\">42</text></g><g class=\"i4 leaf node n8 p0 root sample\" transform=\"translate(96.5 121.4)\"><rect class=\"sym\" height=\"6\" width=\"6\" x=\"-3\" y=\"-3\"/><text class=\"lab\" transform=\"translate(0 11)\">8</text></g><g class=\"i32 node n50 p0 root\" transform=\"translate(101 94.3714)\"><g class=\"a50 i6 leaf node n12 p0 sample\" transform=\"translate(-1.5 27.0286)\"><path class=\"edge\" d=\"M 0 0 V -27.0286 H 1.5\"/><rect class=\"sym\" height=\"6\" width=\"6\" x=\"-3\" y=\"-3\"/><text class=\"lab\" transform=\"translate(0 11)\">12</text></g><g class=\"a50 i7 leaf node n15 p0 sample\" transform=\"translate(1.5 27.0286)\"><path class=\"edge\" d=\"M 0 0 V -27.0286 H -1.5\"/><rect class=\"sym\" height=\"6\" width=\"6\" x=\"-3\" y=\"-3\"/><text class=\"lab\" transform=\"translate(0 11)\">15</text></g><circle class=\"sym\" cx=\"0\" cy=\"0\" r=\"3\"/><text class=\"lab\" transform=\"translate(0 -11)\">50</text></g><g class=\"i22 node n67 p0 root\" transform=\"translate(115.062 26.8)\"><g class=\"a67 i25 node n60 p0\" transform=\"translate(-5.8125 40.5429)\"><g class=\"a60 i11 leaf node n23 p0 sample\" transform=\"translate(2.25 54.0571)\"><path class=\"edge\" d=\"M 0 0 V -54.0571 H -2.25\"/><rect class=\"sym\" height=\"6\" width=\"6\" x=\"-3\" y=\"-3\"/><text class=\"lab\" transform=\"translate(0 11)\">23</text></g><g class=\"a60 i33 node n52 p0\" transform=\"translate(-2.25 27.0286)\"><g class=\"a52 i4 leaf node n9 p0 sample\" transform=\"translate(-1.5 27.0286)\"><path class=\"edge\" d=\"M 0 0 V -27.0286 H 1.5\"/><rect class=\"sym\" height=\"6\" width=\"6\" x=\"-3\" y=\"-3\"/><text class=\"lab\" transform=\"translate(0 11)\">9</text></g><g class=\"a52 i17 leaf node n34 p0 sample\" transform=\"translate(1.5 27.0286)\"><path class=\"edge\" d=\"M 0 0 V -27.0286 H -1.5\"/><rect class=\"sym\" height=\"6\" width=\"6\" x=\"-3\" y=\"-3\"/><text class=\"lab\" transform=\"translate(0 11)\">34</text></g><path class=\"edge\" d=\"M 0 0 V -27.0286 H 2.25\"/><circle class=\"sym\" cx=\"0\" cy=\"0\" r=\"3\"/><text class=\"lab lft\" transform=\"translate(-3 -7.0)\">52</text></g><path class=\"edge\" d=\"M 0 0 V -40.5429 H 5.8125\"/><circle class=\"sym\" cx=\"0\" cy=\"0\" r=\"3\"/><text class=\"lab lft\" transform=\"translate(-3 -7.0)\">60</text></g><g class=\"a67 i24 node n64 p0\" transform=\"translate(5.8125 13.5143)\"><g class=\"a64 i15 leaf node n31 p0 sample\" transform=\"translate(2.625 81.0857)\"><path class=\"edge\" d=\"M 0 0 V -81.0857 H -2.625\"/><rect class=\"sym\" height=\"6\" width=\"6\" x=\"-3\" y=\"-3\"/><text class=\"lab\" transform=\"translate(0 11)\">31</text></g><g class=\"a64 i33 node n51 p0\" transform=\"translate(-2.625 54.0571)\"><g class=\"a51 i8 leaf node n17 p0 sample\" transform=\"translate(2.25 27.0286)\"><path class=\"edge\" d=\"M 0 0 V -27.0286 H -2.25\"/><rect class=\"sym\" height=\"6\" width=\"6\" x=\"-3\" y=\"-3\"/><text class=\"lab\" transform=\"translate(0 11)\">17</text></g><g class=\"a51 i40 node n43 p0\" transform=\"translate(-2.25 13.5143)\"><g class=\"a43 i6 leaf node n13 p0 sample\" transform=\"translate(-1.5 13.5143)\"><path class=\"edge\" d=\"M 0 0 V -13.5143 H 1.5\"/><rect class=\"sym\" height=\"6\" width=\"6\" x=\"-3\" y=\"-3\"/><text class=\"lab\" transform=\"translate(0 11)\">13</text></g><g class=\"a43 i16 leaf node n33 p0 sample\" transform=\"translate(1.5 13.5143)\"><path class=\"edge\" d=\"M 0 0 V -13.5143 H -1.5\"/><rect class=\"sym\" height=\"6\" width=\"6\" x=\"-3\" y=\"-3\"/><text class=\"lab\" transform=\"translate(0 11)\">33</text></g><path class=\"edge\" d=\"M 0 0 V -13.5143 H 2.25\"/><circle class=\"sym\" cx=\"0\" cy=\"0\" r=\"3\"/><text class=\"lab lft\" transform=\"translate(-3 -7.0)\">43</text></g><path class=\"edge\" d=\"M 0 0 V -54.0571 H 2.625\"/><circle class=\"sym\" cx=\"0\" cy=\"0\" r=\"3\"/><text class=\"lab lft\" transform=\"translate(-3 -7.0)\">51</text></g><path class=\"edge\" d=\"M 0 0 V -13.5143 H -5.8125\"/><circle class=\"sym\" cx=\"0\" cy=\"0\" r=\"3\"/><text class=\"lab rgt\" transform=\"translate(3 -7.0)\">64</text></g><circle class=\"sym\" cx=\"0\" cy=\"0\" r=\"3\"/><text class=\"lab\" transform=\"translate(0 -11)\">67</text></g><g class=\"i26 node n61 p0 root\" transform=\"translate(134.75 67.3429)\"><g class=\"a61 i17 leaf node n35 p0 sample\" transform=\"translate(3.75 54.0571)\"><path class=\"edge\" d=\"M 0 0 V -54.0571 H -3.75\"/><rect class=\"sym\" height=\"6\" width=\"6\" x=\"-3\" y=\"-3\"/><text class=\"lab\" transform=\"translate(0 11)\">35</text></g><g class=\"a61 i31 node n59 p0\" transform=\"translate(-3.75 13.5143)\"><g class=\"a59 i41 node n44 p0\" transform=\"translate(-3 27.0286)\"><g class=\"a44 i7 leaf node n14 p0 sample\" transform=\"translate(-1.5 13.5143)\"><path class=\"edge\" d=\"M 0 0 V -13.5143 H 1.5\"/><rect class=\"sym\" height=\"6\" width=\"6\" x=\"-3\" y=\"-3\"/><text class=\"lab\" transform=\"translate(0 11)\">14</text></g><g class=\"a44 i14 leaf node n29 p0 sample\" transform=\"translate(1.5 13.5143)\"><path class=\"edge\" d=\"M 0 0 V -13.5143 H -1.5\"/><rect class=\"sym\" height=\"6\" width=\"6\" x=\"-3\" y=\"-3\"/><text class=\"lab\" transform=\"translate(0 11)\">29</text></g><path class=\"edge\" d=\"M 0 0 V -27.0286 H 3\"/><circle class=\"sym\" cx=\"0\" cy=\"0\" r=\"3\"/><text class=\"lab lft\" transform=\"translate(-3 -7.0)\">44</text></g><g class=\"a59 i32 node n49 p0\" transform=\"translate(3 13.5143)\"><g class=\"a49 i8 leaf node n16 p0 sample\" transform=\"translate(-1.5 27.0286)\"><path class=\"edge\" d=\"M 0 0 V -27.0286 H 1.5\"/><rect class=\"sym\" height=\"6\" width=\"6\" x=\"-3\" y=\"-3\"/><text class=\"lab\" transform=\"translate(0 11)\">16</text></g><g class=\"a49 i14 leaf node n28 p0 sample\" transform=\"translate(1.5 27.0286)\"><path class=\"edge\" d=\"M 0 0 V -27.0286 H -1.5\"/><rect class=\"sym\" height=\"6\" width=\"6\" x=\"-3\" y=\"-3\"/><text class=\"lab\" transform=\"translate(0 11)\">28</text></g><path class=\"edge\" d=\"M 0 0 V -13.5143 H -3\"/><circle class=\"sym\" cx=\"0\" cy=\"0\" r=\"3\"/><text class=\"lab rgt\" transform=\"translate(3 -7.0)\">49</text></g><path class=\"edge\" d=\"M 0 0 V -13.5143 H 3.75\"/><circle class=\"sym\" cx=\"0\" cy=\"0\" r=\"3\"/><text class=\"lab lft\" transform=\"translate(-3 -7.0)\">59</text></g><circle class=\"sym\" cx=\"0\" cy=\"0\" r=\"3\"/><text class=\"lab\" transform=\"translate(0 -11)\">61</text></g></g></g></g></g></svg>"
      ],
      "text/plain": [
       "<IPython.core.display.SVG object>"
      ]
     },
     "execution_count": 2,
     "metadata": {},
     "output_type": "execute_result"
    }
   ],
   "source": [
    "print (sts)\n",
    "\n",
    "from IPython.display import SVG\n",
    "SVG(sts.draw_svg())"
   ]
  },
  {
   "cell_type": "markdown",
   "id": "f3027fc1-2676-4106-a288-53d7dfa2daeb",
   "metadata": {},
   "source": [
    "## \n",
    "## 2D Scatterplot"
   ]
  },
  {
   "cell_type": "code",
   "execution_count": 49,
   "id": "aafe34f9-65b4-48e6-9365-2775b11439ba",
   "metadata": {},
   "outputs": [
    {
     "data": {
      "image/png": "[encoded data removed]",
      "text/plain": [
       "<Figure size 432x288 with 1 Axes>"
      ]
     },
     "metadata": {
      "needs_background": "light"
     },
     "output_type": "display_data"
    }
   ],
   "source": [
    "%matplotlib inline\n",
    "## ^ if you use this 'magic' thingy, your plot will print in your notebook but it won't be interactive (which is more for 3D plots)\n",
    "\n",
    "gen9 = ts.individuals_alive_at(1)\n",
    "gen9_locs = ts.individual_locations[gen9, : ]\n",
    "\n",
    "x = gen9_locs[:,0]\n",
    "y = gen9_locs [:,1]\n",
    "\n",
    "plt.scatter(x,y, color = 'pink')\n",
    "\n",
    "plt.title(\"Generation 9\")\n",
    "plt.show()"
   ]
  },
  {
   "cell_type": "markdown",
   "id": "7a264d3e-55eb-4594-9af1-d9bd7d303c71",
   "metadata": {},
   "source": [
    "^This code could be used to plot the locations of individuals in each generation (either as different plots, or all in one)"
   ]
  },
  {
   "cell_type": "markdown",
   "id": "85ac752d-bba2-46c5-9dc4-00b24e45ddaa",
   "metadata": {},
   "source": [
    "## \n",
    "## How is data stored?"
   ]
  },
  {
   "cell_type": "markdown",
   "id": "42ef7126-a8b4-47e8-b2c7-0d9ef6641a08",
   "metadata": {},
   "source": [
    "The following code chunks are just me figuring out how data is stored, and what it looks like by printing it. Could be useful to look through."
   ]
  },
  {
   "cell_type": "code",
   "execution_count": 4,
   "id": "0f1ab0d8-8fa8-4267-aab0-881516b8d9a4",
   "metadata": {},
   "outputs": [
    {
     "name": "stdout",
     "output_type": "stream",
     "text": [
      "0\n",
      "0\n",
      "0\n",
      "0\n",
      "0\n",
      "0\n",
      "0\n",
      "0\n",
      "0\n",
      "0\n",
      "0\n",
      "0\n",
      "0\n",
      "0\n",
      "0\n",
      "0\n",
      "0\n",
      "0\n",
      "0\n",
      "0\n",
      "0\n",
      "0\n",
      "0\n",
      "0\n",
      "0\n",
      "0\n",
      "0\n",
      "0\n",
      "0\n",
      "0\n",
      "0\n",
      "0\n",
      "0\n",
      "0\n",
      "0\n",
      "0\n",
      "0\n",
      "0\n",
      "0\n",
      "0\n",
      "1\n",
      "1\n",
      "1\n",
      "1\n",
      "1\n",
      "1\n",
      "1\n",
      "1\n",
      "1\n",
      "2\n",
      "2\n",
      "2\n",
      "2\n",
      "2\n",
      "2\n",
      "2\n",
      "3\n",
      "3\n",
      "3\n",
      "3\n",
      "4\n",
      "4\n",
      "4\n",
      "6\n",
      "6\n",
      "7\n",
      "7\n",
      "7\n"
     ]
    }
   ],
   "source": [
    "final_nodes = sts.nodes()\n",
    "\n",
    "for node in sts.nodes():\n",
    "    t = node.time\n",
    "    print (int(t))"
   ]
  },
  {
   "cell_type": "code",
   "execution_count": 6,
   "id": "bc55f9b4-6945-456f-ac97-2818168d5195",
   "metadata": {},
   "outputs": [
    {
     "name": "stdout",
     "output_type": "stream",
     "text": [
      "[0.72382112 0.2454417  0.        ]\n",
      "[0.1145785  0.58706439 0.        ]\n",
      "[0.7671865  0.22441584 0.        ]\n",
      "[0.77441855 0.25202644 0.        ]\n",
      "[0.73278211 0.18174257 0.        ]\n",
      "[0.6861373  0.56587198 0.        ]\n",
      "[0.72986576 0.21486449 0.        ]\n",
      "[0.60364716 0.5675226  0.        ]\n",
      "[0.74827516 0.25186965 0.        ]\n",
      "[0.7670342  0.17669777 0.        ]\n",
      "[0.71579101 0.21568983 0.        ]\n",
      "[0.74864991 0.22379185 0.        ]\n",
      "[0.6461277  0.58941739 0.        ]\n",
      "[7.03660256e-001 5.58838626e-001 1.26618200e-255]\n",
      "[7.69135262e-001 2.22862019e-001 1.28822983e-231]\n",
      "[1.20343296e-001 5.60015243e-001 1.28822981e-231]\n",
      "[0.75253951 0.27391788 0.        ]\n",
      "[0.63111073 0.584616   0.        ]\n",
      "[0.62421705 0.60309208 0.        ]\n",
      "[0.77743937 0.24330447 0.        ]\n",
      "[0.09877166 0.55959556 0.        ]\n",
      "[0.6640421  0.52166155 0.        ]\n",
      "[0.78496644 0.24646257 0.        ]\n",
      "[0.77354797 0.27569481 0.        ]\n",
      "[7.28260754e-001 1.72479948e-001 1.28822983e-231]\n",
      "[0.10944047 0.53944882 0.        ]\n",
      "[0.74440976 0.22217613 0.        ]\n",
      "[0.74321014 0.20989165 0.        ]\n",
      "[0.81653466 0.27698017 0.        ]\n",
      "[0.65470059 0.58068616 0.        ]\n",
      "[0.76696097 0.25464675 0.        ]\n",
      "[0.74554181 0.23763587 0.        ]\n",
      "[0.73886604 0.25931126 0.        ]\n",
      "[0.63629863 0.60243857 0.        ]\n",
      "[6.67201341e-001 5.43323903e-001 1.28822983e-231]\n",
      "[0.79746628 0.28275275 0.        ]\n",
      "[0.1208612  0.57721707 0.        ]\n",
      "[0.74720255 0.23176166 0.        ]\n",
      "[0.14065665 0.55528445 0.        ]\n",
      "[0.76904871 0.25218478 0.        ]\n",
      "[0.73394143 0.26323689 0.        ]\n",
      "[0.60355074 0.55200434 0.        ]\n",
      "[0.79986717 0.18199064 0.        ]\n",
      "[0.6797453  0.56299594 0.        ]\n",
      "[0.75045913 0.24435543 0.        ]\n",
      "[0.63154956 0.59111574 0.        ]\n"
     ]
    }
   ],
   "source": [
    "for individual in sts.individuals():\n",
    "    coordinates = individual.location\n",
    "    print (coordinates)"
   ]
  },
  {
   "cell_type": "code",
   "execution_count": 7,
   "id": "b61adafc-52c0-4a0d-8ac0-0c49b4c4b212",
   "metadata": {
    "tags": []
   },
   "outputs": [
    {
     "name": "stdout",
     "output_type": "stream",
     "text": [
      "Node(id=0, flags=1, time=0.0, population=0, individual=0, metadata={'slim_id': 360, 'is_null': False, 'genome_type': 0})\n",
      "Node(id=1, flags=1, time=0.0, population=0, individual=0, metadata={'slim_id': 361, 'is_null': False, 'genome_type': 0})\n",
      "Node(id=2, flags=1, time=0.0, population=0, individual=1, metadata={'slim_id': 362, 'is_null': False, 'genome_type': 0})\n",
      "Node(id=3, flags=1, time=0.0, population=0, individual=1, metadata={'slim_id': 363, 'is_null': False, 'genome_type': 0})\n",
      "Node(id=4, flags=1, time=0.0, population=0, individual=2, metadata={'slim_id': 364, 'is_null': False, 'genome_type': 0})\n",
      "Node(id=5, flags=1, time=0.0, population=0, individual=2, metadata={'slim_id': 365, 'is_null': False, 'genome_type': 0})\n",
      "Node(id=6, flags=1, time=0.0, population=0, individual=3, metadata={'slim_id': 366, 'is_null': False, 'genome_type': 0})\n",
      "Node(id=7, flags=1, time=0.0, population=0, individual=3, metadata={'slim_id': 367, 'is_null': False, 'genome_type': 0})\n",
      "Node(id=8, flags=1, time=0.0, population=0, individual=4, metadata={'slim_id': 368, 'is_null': False, 'genome_type': 0})\n",
      "Node(id=9, flags=1, time=0.0, population=0, individual=4, metadata={'slim_id': 369, 'is_null': False, 'genome_type': 0})\n",
      "Node(id=10, flags=1, time=0.0, population=0, individual=5, metadata={'slim_id': 370, 'is_null': False, 'genome_type': 0})\n",
      "Node(id=11, flags=1, time=0.0, population=0, individual=5, metadata={'slim_id': 371, 'is_null': False, 'genome_type': 0})\n",
      "Node(id=12, flags=1, time=0.0, population=0, individual=6, metadata={'slim_id': 372, 'is_null': False, 'genome_type': 0})\n",
      "Node(id=13, flags=1, time=0.0, population=0, individual=6, metadata={'slim_id': 373, 'is_null': False, 'genome_type': 0})\n",
      "Node(id=14, flags=1, time=0.0, population=0, individual=7, metadata={'slim_id': 374, 'is_null': False, 'genome_type': 0})\n",
      "Node(id=15, flags=1, time=0.0, population=0, individual=7, metadata={'slim_id': 375, 'is_null': False, 'genome_type': 0})\n",
      "Node(id=16, flags=1, time=0.0, population=0, individual=8, metadata={'slim_id': 376, 'is_null': False, 'genome_type': 0})\n",
      "Node(id=17, flags=1, time=0.0, population=0, individual=8, metadata={'slim_id': 377, 'is_null': False, 'genome_type': 0})\n",
      "Node(id=18, flags=1, time=0.0, population=0, individual=9, metadata={'slim_id': 378, 'is_null': False, 'genome_type': 0})\n",
      "Node(id=19, flags=1, time=0.0, population=0, individual=9, metadata={'slim_id': 379, 'is_null': False, 'genome_type': 0})\n",
      "Node(id=20, flags=1, time=0.0, population=0, individual=10, metadata={'slim_id': 380, 'is_null': False, 'genome_type': 0})\n",
      "Node(id=21, flags=1, time=0.0, population=0, individual=10, metadata={'slim_id': 381, 'is_null': False, 'genome_type': 0})\n",
      "Node(id=22, flags=1, time=0.0, population=0, individual=11, metadata={'slim_id': 382, 'is_null': False, 'genome_type': 0})\n",
      "Node(id=23, flags=1, time=0.0, population=0, individual=11, metadata={'slim_id': 383, 'is_null': False, 'genome_type': 0})\n",
      "Node(id=24, flags=1, time=0.0, population=0, individual=12, metadata={'slim_id': 384, 'is_null': False, 'genome_type': 0})\n",
      "Node(id=25, flags=1, time=0.0, population=0, individual=12, metadata={'slim_id': 385, 'is_null': False, 'genome_type': 0})\n",
      "Node(id=26, flags=1, time=0.0, population=0, individual=13, metadata={'slim_id': 386, 'is_null': False, 'genome_type': 0})\n",
      "Node(id=27, flags=1, time=0.0, population=0, individual=13, metadata={'slim_id': 387, 'is_null': False, 'genome_type': 0})\n",
      "Node(id=28, flags=1, time=0.0, population=0, individual=14, metadata={'slim_id': 388, 'is_null': False, 'genome_type': 0})\n",
      "Node(id=29, flags=1, time=0.0, population=0, individual=14, metadata={'slim_id': 389, 'is_null': False, 'genome_type': 0})\n",
      "Node(id=30, flags=1, time=0.0, population=0, individual=15, metadata={'slim_id': 390, 'is_null': False, 'genome_type': 0})\n",
      "Node(id=31, flags=1, time=0.0, population=0, individual=15, metadata={'slim_id': 391, 'is_null': False, 'genome_type': 0})\n",
      "Node(id=32, flags=1, time=0.0, population=0, individual=16, metadata={'slim_id': 392, 'is_null': False, 'genome_type': 0})\n",
      "Node(id=33, flags=1, time=0.0, population=0, individual=16, metadata={'slim_id': 393, 'is_null': False, 'genome_type': 0})\n",
      "Node(id=34, flags=1, time=0.0, population=0, individual=17, metadata={'slim_id': 394, 'is_null': False, 'genome_type': 0})\n",
      "Node(id=35, flags=1, time=0.0, population=0, individual=17, metadata={'slim_id': 395, 'is_null': False, 'genome_type': 0})\n",
      "Node(id=36, flags=1, time=0.0, population=0, individual=18, metadata={'slim_id': 396, 'is_null': False, 'genome_type': 0})\n",
      "Node(id=37, flags=1, time=0.0, population=0, individual=18, metadata={'slim_id': 397, 'is_null': False, 'genome_type': 0})\n",
      "Node(id=38, flags=1, time=0.0, population=0, individual=19, metadata={'slim_id': 398, 'is_null': False, 'genome_type': 0})\n",
      "Node(id=39, flags=1, time=0.0, population=0, individual=19, metadata={'slim_id': 399, 'is_null': False, 'genome_type': 0})\n",
      "Node(id=40, flags=0, time=1.0, population=0, individual=37, metadata={'slim_id': 328, 'is_null': False, 'genome_type': 0})\n",
      "Node(id=41, flags=0, time=1.0, population=0, individual=38, metadata={'slim_id': 332, 'is_null': False, 'genome_type': 0})\n",
      "Node(id=42, flags=0, time=1.0, population=0, individual=39, metadata={'slim_id': 335, 'is_null': False, 'genome_type': 0})\n",
      "Node(id=43, flags=0, time=1.0, population=0, individual=40, metadata={'slim_id': 337, 'is_null': False, 'genome_type': 0})\n",
      "Node(id=44, flags=0, time=1.0, population=0, individual=41, metadata={'slim_id': 341, 'is_null': False, 'genome_type': 0})\n",
      "Node(id=45, flags=0, time=1.0, population=0, individual=42, metadata={'slim_id': 344, 'is_null': False, 'genome_type': 0})\n",
      "Node(id=46, flags=0, time=1.0, population=0, individual=43, metadata={'slim_id': 346, 'is_null': False, 'genome_type': 0})\n",
      "Node(id=47, flags=0, time=1.0, population=0, individual=44, metadata={'slim_id': 350, 'is_null': False, 'genome_type': 0})\n",
      "Node(id=48, flags=0, time=1.0, population=0, individual=45, metadata={'slim_id': 357, 'is_null': False, 'genome_type': 0})\n",
      "Node(id=49, flags=0, time=2.0, population=0, individual=32, metadata={'slim_id': 292, 'is_null': False, 'genome_type': 0})\n",
      "Node(id=50, flags=0, time=2.0, population=0, individual=32, metadata={'slim_id': 293, 'is_null': False, 'genome_type': 0})\n",
      "Node(id=51, flags=0, time=2.0, population=0, individual=33, metadata={'slim_id': 300, 'is_null': False, 'genome_type': 0})\n",
      "Node(id=52, flags=0, time=2.0, population=0, individual=33, metadata={'slim_id': 301, 'is_null': False, 'genome_type': 0})\n",
      "Node(id=53, flags=0, time=2.0, population=0, individual=34, metadata={'slim_id': 309, 'is_null': False, 'genome_type': 0})\n",
      "Node(id=54, flags=0, time=2.0, population=0, individual=35, metadata={'slim_id': 315, 'is_null': False, 'genome_type': 0})\n",
      "Node(id=55, flags=0, time=2.0, population=0, individual=36, metadata={'slim_id': 317, 'is_null': False, 'genome_type': 0})\n",
      "Node(id=56, flags=0, time=3.0, population=0, individual=28, metadata={'slim_id': 255, 'is_null': False, 'genome_type': 0})\n",
      "Node(id=57, flags=0, time=3.0, population=0, individual=29, metadata={'slim_id': 258, 'is_null': False, 'genome_type': 0})\n",
      "Node(id=58, flags=0, time=3.0, population=0, individual=30, metadata={'slim_id': 263, 'is_null': False, 'genome_type': 0})\n",
      "Node(id=59, flags=0, time=3.0, population=0, individual=31, metadata={'slim_id': 268, 'is_null': False, 'genome_type': 0})\n",
      "Node(id=60, flags=0, time=4.0, population=0, individual=25, metadata={'slim_id': 200, 'is_null': False, 'genome_type': 0})\n",
      "Node(id=61, flags=0, time=4.0, population=0, individual=26, metadata={'slim_id': 220, 'is_null': False, 'genome_type': 0})\n",
      "Node(id=62, flags=0, time=4.0, population=0, individual=27, metadata={'slim_id': 222, 'is_null': False, 'genome_type': 0})\n",
      "Node(id=63, flags=0, time=6.0, population=0, individual=23, metadata={'slim_id': 125, 'is_null': False, 'genome_type': 0})\n",
      "Node(id=64, flags=0, time=6.0, population=0, individual=24, metadata={'slim_id': 149, 'is_null': False, 'genome_type': 0})\n",
      "Node(id=65, flags=0, time=7.0, population=0, individual=20, metadata={'slim_id': 110, 'is_null': False, 'genome_type': 0})\n",
      "Node(id=66, flags=0, time=7.0, population=0, individual=21, metadata={'slim_id': 115, 'is_null': False, 'genome_type': 0})\n",
      "Node(id=67, flags=0, time=7.0, population=0, individual=22, metadata={'slim_id': 118, 'is_null': False, 'genome_type': 0})\n"
     ]
    }
   ],
   "source": [
    "for node in final_nodes:\n",
    "    print (node)"
   ]
  },
  {
   "cell_type": "code",
   "execution_count": 10,
   "id": "27f02312-719b-40d3-b63a-e4467bfbbf37",
   "metadata": {},
   "outputs": [
    {
     "name": "stdout",
     "output_type": "stream",
     "text": [
      "0\n",
      "0\n",
      "1\n",
      "1\n",
      "2\n",
      "2\n",
      "3\n",
      "3\n",
      "4\n",
      "4\n",
      "5\n",
      "5\n",
      "6\n",
      "6\n",
      "7\n",
      "7\n",
      "8\n",
      "8\n",
      "9\n",
      "9\n",
      "10\n",
      "10\n",
      "11\n",
      "11\n",
      "12\n",
      "12\n",
      "13\n",
      "13\n",
      "14\n",
      "14\n",
      "15\n",
      "15\n",
      "16\n",
      "16\n",
      "17\n",
      "17\n",
      "18\n",
      "18\n",
      "19\n",
      "19\n",
      "37\n",
      "38\n",
      "39\n",
      "40\n",
      "41\n",
      "42\n",
      "43\n",
      "44\n",
      "45\n",
      "32\n",
      "32\n",
      "33\n",
      "33\n",
      "34\n",
      "35\n",
      "36\n",
      "28\n",
      "29\n",
      "30\n",
      "31\n",
      "25\n",
      "26\n",
      "27\n",
      "23\n",
      "24\n",
      "20\n",
      "21\n",
      "22\n"
     ]
    }
   ],
   "source": [
    "for node in sts.nodes():\n",
    "    folk = node.individual\n",
    "    print (folk)"
   ]
  },
  {
   "cell_type": "markdown",
   "id": "7e92cbd2-37ad-4dec-bd86-cbd95e2b5011",
   "metadata": {},
   "source": [
    "##\n",
    "## Experimenting with Creating Arrays"
   ]
  },
  {
   "cell_type": "code",
   "execution_count": 11,
   "id": "d9775ffb-252c-4a9e-a701-62b836e71772",
   "metadata": {
    "tags": []
   },
   "outputs": [
    {
     "name": "stdout",
     "output_type": "stream",
     "text": [
      "[0, 0, 1, 1, 2, 2, 3, 3, 4, 4, 5, 5, 6, 6, 7, 7, 8, 8, 9, 9, 10, 10, 11, 11, 12, 12, 13, 13, 14, 14, 15, 15, 16, 16, 17, 17, 18, 18, 19, 19, 37, 38, 39, 40, 41, 42, 43, 44, 45, 32, 32, 33, 33, 34, 35, 36, 28, 29, 30, 31, 25, 26, 27, 23, 24, 20, 21, 22]\n"
     ]
    }
   ],
   "source": [
    "##Create array of individuals\n",
    "\n",
    "ind_array = []\n",
    "\n",
    "for node in sts.nodes():\n",
    "    ind_array.append(node.individual)\n",
    "    \n",
    "print (ind_array)"
   ]
  },
  {
   "cell_type": "code",
   "execution_count": 13,
   "id": "568e4c6a-45e2-40e7-b703-762eaf5b6447",
   "metadata": {},
   "outputs": [
    {
     "name": "stdout",
     "output_type": "stream",
     "text": [
      "[0, 0, 0, 0, 0, 0, 0, 0, 0, 0, 0, 0, 0, 0, 0, 0, 0, 0, 0, 0, 0, 0, 0, 0, 0, 0, 0, 0, 0, 0, 0, 0, 0, 0, 0, 0, 0, 0, 0, 0, 1, 1, 1, 1, 1, 1, 1, 1, 1, 2, 2, 2, 2, 2, 2, 2, 3, 3, 3, 3, 4, 4, 4, 6, 6, 7, 7, 7]\n"
     ]
    }
   ],
   "source": [
    "## Create array of node times\n",
    "\n",
    "time_array = []\n",
    "\n",
    "for node in sts.nodes():\n",
    "    time_array.append(int(node.time))\n",
    "\n",
    "print (time_array)"
   ]
  },
  {
   "cell_type": "code",
   "execution_count": 15,
   "id": "3487a892-cd61-436c-90a9-8c07861f967d",
   "metadata": {
    "collapsed": true,
    "jupyter": {
     "outputs_hidden": true
    },
    "tags": []
   },
   "outputs": [
    {
     "name": "stdout",
     "output_type": "stream",
     "text": [
      "Individual(id=0, flags=196608, location=array([0.72382112, 0.2454417 , 0.        ]), parents=array([], dtype=int32), nodes=array([0, 1], dtype=int32), metadata={'pedigree_id': 180, 'age': -1, 'subpopulation': 1, 'sex': -1, 'flags': 0})\n",
      "Individual(id=1, flags=196608, location=array([0.1145785 , 0.58706439, 0.        ]), parents=array([], dtype=int32), nodes=array([2, 3], dtype=int32), metadata={'pedigree_id': 181, 'age': -1, 'subpopulation': 1, 'sex': -1, 'flags': 0})\n",
      "Individual(id=2, flags=196608, location=array([0.7671865 , 0.22441584, 0.        ]), parents=array([], dtype=int32), nodes=array([4, 5], dtype=int32), metadata={'pedigree_id': 182, 'age': -1, 'subpopulation': 1, 'sex': -1, 'flags': 0})\n",
      "Individual(id=3, flags=196608, location=array([0.77441855, 0.25202644, 0.        ]), parents=array([], dtype=int32), nodes=array([6, 7], dtype=int32), metadata={'pedigree_id': 183, 'age': -1, 'subpopulation': 1, 'sex': -1, 'flags': 0})\n",
      "Individual(id=4, flags=196608, location=array([0.73278211, 0.18174257, 0.        ]), parents=array([], dtype=int32), nodes=array([8, 9], dtype=int32), metadata={'pedigree_id': 184, 'age': -1, 'subpopulation': 1, 'sex': -1, 'flags': 0})\n",
      "Individual(id=5, flags=196608, location=array([0.6861373 , 0.56587198, 0.        ]), parents=array([], dtype=int32), nodes=array([10, 11], dtype=int32), metadata={'pedigree_id': 185, 'age': -1, 'subpopulation': 1, 'sex': -1, 'flags': 0})\n",
      "Individual(id=6, flags=196608, location=array([0.72986576, 0.21486449, 0.        ]), parents=array([], dtype=int32), nodes=array([12, 13], dtype=int32), metadata={'pedigree_id': 186, 'age': -1, 'subpopulation': 1, 'sex': -1, 'flags': 0})\n",
      "Individual(id=7, flags=196608, location=array([0.60364716, 0.5675226 , 0.        ]), parents=array([], dtype=int32), nodes=array([14, 15], dtype=int32), metadata={'pedigree_id': 187, 'age': -1, 'subpopulation': 1, 'sex': -1, 'flags': 0})\n",
      "Individual(id=8, flags=196608, location=array([0.74827516, 0.25186965, 0.        ]), parents=array([], dtype=int32), nodes=array([16, 17], dtype=int32), metadata={'pedigree_id': 188, 'age': -1, 'subpopulation': 1, 'sex': -1, 'flags': 0})\n",
      "Individual(id=9, flags=196608, location=array([0.7670342 , 0.17669777, 0.        ]), parents=array([], dtype=int32), nodes=array([18, 19], dtype=int32), metadata={'pedigree_id': 189, 'age': -1, 'subpopulation': 1, 'sex': -1, 'flags': 0})\n",
      "Individual(id=10, flags=196608, location=array([0.71579101, 0.21568983, 0.        ]), parents=array([], dtype=int32), nodes=array([20, 21], dtype=int32), metadata={'pedigree_id': 190, 'age': -1, 'subpopulation': 1, 'sex': -1, 'flags': 0})\n",
      "Individual(id=11, flags=196608, location=array([0.74864991, 0.22379185, 0.        ]), parents=array([], dtype=int32), nodes=array([22, 23], dtype=int32), metadata={'pedigree_id': 191, 'age': -1, 'subpopulation': 1, 'sex': -1, 'flags': 0})\n",
      "Individual(id=12, flags=196608, location=array([0.6461277 , 0.58941739, 0.        ]), parents=array([], dtype=int32), nodes=array([24, 25], dtype=int32), metadata={'pedigree_id': 192, 'age': -1, 'subpopulation': 1, 'sex': -1, 'flags': 0})\n",
      "Individual(id=13, flags=196608, location=array([7.03660256e-001, 5.58838626e-001, 1.26618200e-255]), parents=array([], dtype=int32), nodes=array([26, 27], dtype=int32), metadata={'pedigree_id': 193, 'age': -1, 'subpopulation': 1, 'sex': -1, 'flags': 0})\n",
      "Individual(id=14, flags=196608, location=array([7.69135262e-001, 2.22862019e-001, 1.28822983e-231]), parents=array([], dtype=int32), nodes=array([28, 29], dtype=int32), metadata={'pedigree_id': 194, 'age': -1, 'subpopulation': 1, 'sex': -1, 'flags': 0})\n",
      "Individual(id=15, flags=196608, location=array([1.20343296e-001, 5.60015243e-001, 1.28822981e-231]), parents=array([], dtype=int32), nodes=array([30, 31], dtype=int32), metadata={'pedigree_id': 195, 'age': -1, 'subpopulation': 1, 'sex': -1, 'flags': 0})\n",
      "Individual(id=16, flags=196608, location=array([0.75253951, 0.27391788, 0.        ]), parents=array([], dtype=int32), nodes=array([32, 33], dtype=int32), metadata={'pedigree_id': 196, 'age': -1, 'subpopulation': 1, 'sex': -1, 'flags': 0})\n",
      "Individual(id=17, flags=196608, location=array([0.63111073, 0.584616  , 0.        ]), parents=array([], dtype=int32), nodes=array([34, 35], dtype=int32), metadata={'pedigree_id': 197, 'age': -1, 'subpopulation': 1, 'sex': -1, 'flags': 0})\n",
      "Individual(id=18, flags=196608, location=array([0.62421705, 0.60309208, 0.        ]), parents=array([], dtype=int32), nodes=array([36, 37], dtype=int32), metadata={'pedigree_id': 198, 'age': -1, 'subpopulation': 1, 'sex': -1, 'flags': 0})\n",
      "Individual(id=19, flags=196608, location=array([0.77743937, 0.24330447, 0.        ]), parents=array([], dtype=int32), nodes=array([38, 39], dtype=int32), metadata={'pedigree_id': 199, 'age': -1, 'subpopulation': 1, 'sex': -1, 'flags': 0})\n",
      "Individual(id=20, flags=131072, location=array([0.09877166, 0.55959556, 0.        ]), parents=array([], dtype=int32), nodes=array([65], dtype=int32), metadata={'pedigree_id': 55, 'age': -1, 'subpopulation': 1, 'sex': -1, 'flags': 0})\n",
      "Individual(id=21, flags=131072, location=array([0.6640421 , 0.52166155, 0.        ]), parents=array([], dtype=int32), nodes=array([66], dtype=int32), metadata={'pedigree_id': 57, 'age': -1, 'subpopulation': 1, 'sex': -1, 'flags': 0})\n",
      "Individual(id=22, flags=131072, location=array([0.78496644, 0.24646257, 0.        ]), parents=array([], dtype=int32), nodes=array([67], dtype=int32), metadata={'pedigree_id': 59, 'age': -1, 'subpopulation': 1, 'sex': -1, 'flags': 0})\n",
      "Individual(id=23, flags=131072, location=array([0.77354797, 0.27569481, 0.        ]), parents=array([], dtype=int32), nodes=array([63], dtype=int32), metadata={'pedigree_id': 62, 'age': -1, 'subpopulation': 1, 'sex': -1, 'flags': 0})\n",
      "Individual(id=24, flags=131072, location=array([7.28260754e-001, 1.72479948e-001, 1.28822983e-231]), parents=array([], dtype=int32), nodes=array([64], dtype=int32), metadata={'pedigree_id': 74, 'age': -1, 'subpopulation': 1, 'sex': -1, 'flags': 0})\n",
      "Individual(id=25, flags=131072, location=array([0.10944047, 0.53944882, 0.        ]), parents=array([], dtype=int32), nodes=array([60], dtype=int32), metadata={'pedigree_id': 100, 'age': -1, 'subpopulation': 1, 'sex': -1, 'flags': 0})\n",
      "Individual(id=26, flags=131072, location=array([0.74440976, 0.22217613, 0.        ]), parents=array([], dtype=int32), nodes=array([61], dtype=int32), metadata={'pedigree_id': 110, 'age': -1, 'subpopulation': 1, 'sex': -1, 'flags': 0})\n",
      "Individual(id=27, flags=131072, location=array([0.74321014, 0.20989165, 0.        ]), parents=array([], dtype=int32), nodes=array([62], dtype=int32), metadata={'pedigree_id': 111, 'age': -1, 'subpopulation': 1, 'sex': -1, 'flags': 0})\n",
      "Individual(id=28, flags=131072, location=array([0.81653466, 0.27698017, 0.        ]), parents=array([], dtype=int32), nodes=array([56], dtype=int32), metadata={'pedigree_id': 127, 'age': -1, 'subpopulation': 1, 'sex': -1, 'flags': 0})\n",
      "Individual(id=29, flags=131072, location=array([0.65470059, 0.58068616, 0.        ]), parents=array([], dtype=int32), nodes=array([57], dtype=int32), metadata={'pedigree_id': 129, 'age': -1, 'subpopulation': 1, 'sex': -1, 'flags': 0})\n",
      "Individual(id=30, flags=131072, location=array([0.76696097, 0.25464675, 0.        ]), parents=array([], dtype=int32), nodes=array([58], dtype=int32), metadata={'pedigree_id': 131, 'age': -1, 'subpopulation': 1, 'sex': -1, 'flags': 0})\n",
      "Individual(id=31, flags=131072, location=array([0.74554181, 0.23763587, 0.        ]), parents=array([], dtype=int32), nodes=array([59], dtype=int32), metadata={'pedigree_id': 134, 'age': -1, 'subpopulation': 1, 'sex': -1, 'flags': 0})\n",
      "Individual(id=32, flags=131072, location=array([0.73886604, 0.25931126, 0.        ]), parents=array([], dtype=int32), nodes=array([49, 50], dtype=int32), metadata={'pedigree_id': 146, 'age': -1, 'subpopulation': 1, 'sex': -1, 'flags': 0})\n",
      "Individual(id=33, flags=131072, location=array([0.63629863, 0.60243857, 0.        ]), parents=array([], dtype=int32), nodes=array([51, 52], dtype=int32), metadata={'pedigree_id': 150, 'age': -1, 'subpopulation': 1, 'sex': -1, 'flags': 0})\n",
      "Individual(id=34, flags=131072, location=array([6.67201341e-001, 5.43323903e-001, 1.28822983e-231]), parents=array([], dtype=int32), nodes=array([53], dtype=int32), metadata={'pedigree_id': 154, 'age': -1, 'subpopulation': 1, 'sex': -1, 'flags': 0})\n",
      "Individual(id=35, flags=131072, location=array([0.79746628, 0.28275275, 0.        ]), parents=array([], dtype=int32), nodes=array([54], dtype=int32), metadata={'pedigree_id': 157, 'age': -1, 'subpopulation': 1, 'sex': -1, 'flags': 0})\n",
      "Individual(id=36, flags=131072, location=array([0.1208612 , 0.57721707, 0.        ]), parents=array([], dtype=int32), nodes=array([55], dtype=int32), metadata={'pedigree_id': 158, 'age': -1, 'subpopulation': 1, 'sex': -1, 'flags': 0})\n",
      "Individual(id=37, flags=131072, location=array([0.74720255, 0.23176166, 0.        ]), parents=array([], dtype=int32), nodes=array([40], dtype=int32), metadata={'pedigree_id': 164, 'age': -1, 'subpopulation': 1, 'sex': -1, 'flags': 0})\n",
      "Individual(id=38, flags=131072, location=array([0.14065665, 0.55528445, 0.        ]), parents=array([], dtype=int32), nodes=array([41], dtype=int32), metadata={'pedigree_id': 166, 'age': -1, 'subpopulation': 1, 'sex': -1, 'flags': 0})\n",
      "Individual(id=39, flags=131072, location=array([0.76904871, 0.25218478, 0.        ]), parents=array([], dtype=int32), nodes=array([42], dtype=int32), metadata={'pedigree_id': 167, 'age': -1, 'subpopulation': 1, 'sex': -1, 'flags': 0})\n",
      "Individual(id=40, flags=131072, location=array([0.73394143, 0.26323689, 0.        ]), parents=array([], dtype=int32), nodes=array([43], dtype=int32), metadata={'pedigree_id': 168, 'age': -1, 'subpopulation': 1, 'sex': -1, 'flags': 0})\n",
      "Individual(id=41, flags=131072, location=array([0.60355074, 0.55200434, 0.        ]), parents=array([], dtype=int32), nodes=array([44], dtype=int32), metadata={'pedigree_id': 170, 'age': -1, 'subpopulation': 1, 'sex': -1, 'flags': 0})\n",
      "Individual(id=42, flags=131072, location=array([0.79986717, 0.18199064, 0.        ]), parents=array([], dtype=int32), nodes=array([45], dtype=int32), metadata={'pedigree_id': 172, 'age': -1, 'subpopulation': 1, 'sex': -1, 'flags': 0})\n",
      "Individual(id=43, flags=131072, location=array([0.6797453 , 0.56299594, 0.        ]), parents=array([], dtype=int32), nodes=array([46], dtype=int32), metadata={'pedigree_id': 173, 'age': -1, 'subpopulation': 1, 'sex': -1, 'flags': 0})\n",
      "Individual(id=44, flags=131072, location=array([0.75045913, 0.24435543, 0.        ]), parents=array([], dtype=int32), nodes=array([47], dtype=int32), metadata={'pedigree_id': 175, 'age': -1, 'subpopulation': 1, 'sex': -1, 'flags': 0})\n",
      "Individual(id=45, flags=131072, location=array([0.63154956, 0.59111574, 0.        ]), parents=array([], dtype=int32), nodes=array([48], dtype=int32), metadata={'pedigree_id': 178, 'age': -1, 'subpopulation': 1, 'sex': -1, 'flags': 0})\n"
     ]
    }
   ],
   "source": [
    "## This iterates through every individual in the simplified tree sequence and prints their info.\n",
    "\n",
    "for individual in sts.individuals():\n",
    "    print(individual)"
   ]
  },
  {
   "cell_type": "code",
   "execution_count": 17,
   "id": "b0293a5e-9217-4f3f-90e7-fec92c21e281",
   "metadata": {},
   "outputs": [
    {
     "name": "stdout",
     "output_type": "stream",
     "text": [
      "[0.72382112 0.2454417  0.        ]\n",
      "[0.1145785  0.58706439 0.        ]\n",
      "[0.7671865  0.22441584 0.        ]\n",
      "[0.77441855 0.25202644 0.        ]\n",
      "[0.73278211 0.18174257 0.        ]\n",
      "[0.6861373  0.56587198 0.        ]\n",
      "[0.72986576 0.21486449 0.        ]\n",
      "[0.60364716 0.5675226  0.        ]\n",
      "[0.74827516 0.25186965 0.        ]\n",
      "[0.7670342  0.17669777 0.        ]\n",
      "[0.71579101 0.21568983 0.        ]\n",
      "[0.74864991 0.22379185 0.        ]\n",
      "[0.6461277  0.58941739 0.        ]\n",
      "[7.03660256e-001 5.58838626e-001 1.26618200e-255]\n",
      "[7.69135262e-001 2.22862019e-001 1.28822983e-231]\n",
      "[1.20343296e-001 5.60015243e-001 1.28822981e-231]\n",
      "[0.75253951 0.27391788 0.        ]\n",
      "[0.63111073 0.584616   0.        ]\n",
      "[0.62421705 0.60309208 0.        ]\n",
      "[0.77743937 0.24330447 0.        ]\n",
      "[0.09877166 0.55959556 0.        ]\n",
      "[0.6640421  0.52166155 0.        ]\n",
      "[0.78496644 0.24646257 0.        ]\n",
      "[0.77354797 0.27569481 0.        ]\n",
      "[7.28260754e-001 1.72479948e-001 1.28822983e-231]\n",
      "[0.10944047 0.53944882 0.        ]\n",
      "[0.74440976 0.22217613 0.        ]\n",
      "[0.74321014 0.20989165 0.        ]\n",
      "[0.81653466 0.27698017 0.        ]\n",
      "[0.65470059 0.58068616 0.        ]\n",
      "[0.76696097 0.25464675 0.        ]\n",
      "[0.74554181 0.23763587 0.        ]\n",
      "[0.73886604 0.25931126 0.        ]\n",
      "[0.63629863 0.60243857 0.        ]\n",
      "[6.67201341e-001 5.43323903e-001 1.28822983e-231]\n",
      "[0.79746628 0.28275275 0.        ]\n",
      "[0.1208612  0.57721707 0.        ]\n",
      "[0.74720255 0.23176166 0.        ]\n",
      "[0.14065665 0.55528445 0.        ]\n",
      "[0.76904871 0.25218478 0.        ]\n",
      "[0.73394143 0.26323689 0.        ]\n",
      "[0.60355074 0.55200434 0.        ]\n",
      "[0.79986717 0.18199064 0.        ]\n",
      "[0.6797453  0.56299594 0.        ]\n",
      "[0.75045913 0.24435543 0.        ]\n",
      "[0.63154956 0.59111574 0.        ]\n"
     ]
    }
   ],
   "source": [
    "for individual in sts.individuals():\n",
    "    \n",
    "    if individual.id in ind_array:\n",
    "        print ((individual.location))"
   ]
  },
  {
   "cell_type": "code",
   "execution_count": 51,
   "id": "5b8f8c82-43de-4c4a-9d24-f92c670b77fe",
   "metadata": {},
   "outputs": [
    {
     "data": {
      "image/png": "[encoded data removed]",
      "text/plain": [
       "<Figure size 432x288 with 1 Axes>"
      ]
     },
     "metadata": {
      "needs_background": "light"
     },
     "output_type": "display_data"
    }
   ],
   "source": [
    "for individual in sts.individuals():\n",
    "    x = individual.location[0]\n",
    "    y = individual.location[1]\n",
    "    plt.scatter(x,y, color = 'pink')\n",
    "    \n",
    "plt.title(\"All Individuals\")\n",
    "plt.show()"
   ]
  },
  {
   "cell_type": "code",
   "execution_count": 21,
   "id": "c5defc14-0617-4be0-b42c-9d7ef331d503",
   "metadata": {},
   "outputs": [
    {
     "name": "stdout",
     "output_type": "stream",
     "text": [
      "Edge(left=0.0, right=10000.0, parent=40, child=1, metadata=b'', id=0)\n",
      "Edge(left=0.0, right=10000.0, parent=40, child=5, metadata=b'', id=1)\n",
      "Edge(left=0.0, right=10000.0, parent=40, child=22, metadata=b'', id=2)\n",
      "Edge(left=0.0, right=10000.0, parent=41, child=21, metadata=b'', id=3)\n",
      "Edge(left=0.0, right=10000.0, parent=41, child=30, metadata=b'', id=4)\n",
      "Edge(left=0.0, right=10000.0, parent=42, child=6, metadata=b'', id=5)\n",
      "Edge(left=0.0, right=10000.0, parent=42, child=38, metadata=b'', id=6)\n",
      "Edge(left=0.0, right=10000.0, parent=43, child=13, metadata=b'', id=7)\n",
      "Edge(left=0.0, right=10000.0, parent=43, child=33, metadata=b'', id=8)\n",
      "Edge(left=0.0, right=10000.0, parent=44, child=14, metadata=b'', id=9)\n",
      "Edge(left=0.0, right=10000.0, parent=44, child=29, metadata=b'', id=10)\n",
      "Edge(left=0.0, right=10000.0, parent=45, child=4, metadata=b'', id=11)\n",
      "Edge(left=0.0, right=10000.0, parent=45, child=37, metadata=b'', id=12)\n",
      "Edge(left=0.0, right=10000.0, parent=46, child=7, metadata=b'', id=13)\n",
      "Edge(left=0.0, right=10000.0, parent=46, child=26, metadata=b'', id=14)\n",
      "Edge(left=0.0, right=10000.0, parent=47, child=25, metadata=b'', id=15)\n",
      "Edge(left=0.0, right=10000.0, parent=47, child=32, metadata=b'', id=16)\n",
      "Edge(left=0.0, right=10000.0, parent=48, child=11, metadata=b'', id=17)\n",
      "Edge(left=0.0, right=10000.0, parent=48, child=36, metadata=b'', id=18)\n",
      "Edge(left=0.0, right=10000.0, parent=49, child=16, metadata=b'', id=19)\n",
      "Edge(left=0.0, right=10000.0, parent=49, child=28, metadata=b'', id=20)\n",
      "Edge(left=0.0, right=10000.0, parent=50, child=12, metadata=b'', id=21)\n",
      "Edge(left=0.0, right=10000.0, parent=50, child=15, metadata=b'', id=22)\n",
      "Edge(left=0.0, right=10000.0, parent=51, child=17, metadata=b'', id=23)\n",
      "Edge(left=0.0, right=10000.0, parent=51, child=43, metadata=b'', id=24)\n",
      "Edge(left=0.0, right=10000.0, parent=52, child=9, metadata=b'', id=25)\n",
      "Edge(left=0.0, right=10000.0, parent=52, child=34, metadata=b'', id=26)\n",
      "Edge(left=0.0, right=10000.0, parent=53, child=10, metadata=b'', id=27)\n",
      "Edge(left=0.0, right=10000.0, parent=53, child=46, metadata=b'', id=28)\n",
      "Edge(left=0.0, right=10000.0, parent=54, child=0, metadata=b'', id=29)\n",
      "Edge(left=0.0, right=10000.0, parent=54, child=20, metadata=b'', id=30)\n",
      "Edge(left=0.0, right=10000.0, parent=55, child=2, metadata=b'', id=31)\n",
      "Edge(left=0.0, right=10000.0, parent=55, child=41, metadata=b'', id=32)\n",
      "Edge(left=0.0, right=10000.0, parent=56, child=24, metadata=b'', id=33)\n",
      "Edge(left=0.0, right=10000.0, parent=56, child=27, metadata=b'', id=34)\n",
      "Edge(left=0.0, right=10000.0, parent=57, child=3, metadata=b'', id=35)\n",
      "Edge(left=0.0, right=10000.0, parent=57, child=19, metadata=b'', id=36)\n",
      "Edge(left=0.0, right=10000.0, parent=57, child=47, metadata=b'', id=37)\n",
      "Edge(left=0.0, right=10000.0, parent=58, child=39, metadata=b'', id=38)\n",
      "Edge(left=0.0, right=10000.0, parent=58, child=45, metadata=b'', id=39)\n",
      "Edge(left=0.0, right=10000.0, parent=58, child=53, metadata=b'', id=40)\n",
      "Edge(left=0.0, right=10000.0, parent=59, child=44, metadata=b'', id=41)\n",
      "Edge(left=0.0, right=10000.0, parent=59, child=49, metadata=b'', id=42)\n",
      "Edge(left=0.0, right=10000.0, parent=60, child=23, metadata=b'', id=43)\n",
      "Edge(left=0.0, right=10000.0, parent=60, child=52, metadata=b'', id=44)\n",
      "Edge(left=0.0, right=10000.0, parent=61, child=35, metadata=b'', id=45)\n",
      "Edge(left=0.0, right=10000.0, parent=61, child=59, metadata=b'', id=46)\n",
      "Edge(left=0.0, right=10000.0, parent=62, child=18, metadata=b'', id=47)\n",
      "Edge(left=0.0, right=10000.0, parent=62, child=48, metadata=b'', id=48)\n",
      "Edge(left=0.0, right=10000.0, parent=62, child=56, metadata=b'', id=49)\n",
      "Edge(left=0.0, right=10000.0, parent=63, child=54, metadata=b'', id=50)\n",
      "Edge(left=0.0, right=10000.0, parent=63, child=58, metadata=b'', id=51)\n",
      "Edge(left=0.0, right=10000.0, parent=64, child=31, metadata=b'', id=52)\n",
      "Edge(left=0.0, right=10000.0, parent=64, child=51, metadata=b'', id=53)\n",
      "Edge(left=0.0, right=10000.0, parent=65, child=55, metadata=b'', id=54)\n",
      "Edge(left=0.0, right=10000.0, parent=65, child=63, metadata=b'', id=55)\n",
      "Edge(left=0.0, right=10000.0, parent=66, child=57, metadata=b'', id=56)\n",
      "Edge(left=0.0, right=10000.0, parent=66, child=62, metadata=b'', id=57)\n",
      "Edge(left=0.0, right=10000.0, parent=67, child=60, metadata=b'', id=58)\n",
      "Edge(left=0.0, right=10000.0, parent=67, child=64, metadata=b'', id=59)\n"
     ]
    }
   ],
   "source": [
    "for edge in sts.edges():\n",
    "    print(edge)\n",
    "    \n",
    "## Look at the Edge Table for clarity."
   ]
  },
  {
   "cell_type": "markdown",
   "id": "87ea5060-f67a-469a-a6e3-ea880f4b823e",
   "metadata": {},
   "source": [
    "Parent is node 67, child is node 64."
   ]
  },
  {
   "cell_type": "markdown",
   "id": "c0fd10e9-c45d-4530-9923-d11c8de7f93c",
   "metadata": {},
   "source": [
    "## \n",
    "## Making lists of parents and children"
   ]
  },
  {
   "cell_type": "code",
   "execution_count": 22,
   "id": "bb56ac42-5574-4e62-bed8-e7d301dd30f8",
   "metadata": {},
   "outputs": [
    {
     "name": "stdout",
     "output_type": "stream",
     "text": [
      "[40, 40, 40, 41, 41, 42, 42, 43, 43, 44, 44, 45, 45, 46, 46, 47, 47, 48, 48, 49, 49, 50, 50, 51, 51, 52, 52, 53, 53, 54, 54, 55, 55, 56, 56, 57, 57, 57, 58, 58, 58, 59, 59, 60, 60, 61, 61, 62, 62, 62, 63, 63, 64, 64, 65, 65, 66, 66, 67, 67]\n",
      "[1, 5, 22, 21, 30, 6, 38, 13, 33, 14, 29, 4, 37, 7, 26, 25, 32, 11, 36, 16, 28, 12, 15, 17, 43, 9, 34, 10, 46, 0, 20, 2, 41, 24, 27, 3, 19, 47, 39, 45, 53, 44, 49, 23, 52, 35, 59, 18, 48, 56, 54, 58, 31, 51, 55, 63, 57, 62, 60, 64]\n"
     ]
    }
   ],
   "source": [
    "parents = []\n",
    "children = []\n",
    "\n",
    "for edge in sts.edges():\n",
    "    parents.append(edge.parent)\n",
    "    children.append(edge.child)\n",
    "\n",
    "print (parents)\n",
    "\n",
    "print (children)"
   ]
  },
  {
   "cell_type": "code",
   "execution_count": 24,
   "id": "6740c6c1-ffd6-4530-91e6-9bc993e1df3b",
   "metadata": {},
   "outputs": [
    {
     "name": "stdout",
     "output_type": "stream",
     "text": [
      "60\n",
      "60\n"
     ]
    }
   ],
   "source": [
    "print (len(parents))\n",
    "\n",
    "print (len(children))"
   ]
  },
  {
   "cell_type": "markdown",
   "id": "0ede3538-0d7e-41ed-b9b4-c24e8f8735d6",
   "metadata": {},
   "source": [
    "Now to find which individuals these nodes belong to..."
   ]
  },
  {
   "cell_type": "code",
   "execution_count": 44,
   "id": "3b053707-1d8c-47a2-9f1a-97e7c0611a07",
   "metadata": {},
   "outputs": [
    {
     "name": "stdout",
     "output_type": "stream",
     "text": [
      "[37, 37, 37, 38, 38, 39, 39, 40, 40, 41, 41, 42, 42, 43, 43, 44, 44, 45, 45, 32, 32, 32, 32, 33, 33, 33, 33, 34, 34, 35, 35, 36, 36, 28, 28, 29, 29, 29, 30, 30, 30, 31, 31, 25, 25, 26, 26, 27, 27, 27, 23, 23, 24, 24, 20, 20, 21, 21, 22, 22]\n"
     ]
    }
   ],
   "source": [
    "## take each parent node and run it through the nodes list to find the individual to which it belongs\n",
    "p_ind = []\n",
    "\n",
    "for i in parents:\n",
    "    for node in sts.nodes():\n",
    "        if i == node.id:\n",
    "            p_ind.append(node.individual)\n",
    "            \n",
    "print (p_ind)"
   ]
  },
  {
   "cell_type": "code",
   "execution_count": 45,
   "id": "d374e12a-743d-4208-9556-2d37f2d65719",
   "metadata": {
    "tags": []
   },
   "outputs": [
    {
     "name": "stdout",
     "output_type": "stream",
     "text": [
      "[0, 2, 11, 10, 15, 3, 19, 6, 16, 7, 14, 2, 18, 3, 13, 12, 16, 5, 18, 8, 14, 6, 7, 8, 40, 4, 17, 5, 43, 0, 10, 1, 38, 12, 13, 1, 9, 44, 19, 42, 34, 41, 32, 11, 33, 17, 31, 9, 45, 28, 35, 30, 15, 33, 36, 23, 29, 27, 25, 24]\n"
     ]
    }
   ],
   "source": [
    "ch_ind = []\n",
    "\n",
    "for i in children:\n",
    "    for node in sts.nodes():\n",
    "        if i == node.id:\n",
    "            ch_ind.append(node.individual)\n",
    "            \n",
    "print(ch_ind)"
   ]
  },
  {
   "cell_type": "markdown",
   "id": "e7ef2192-0428-4943-93ba-897388a85f9e",
   "metadata": {},
   "source": [
    "## \n",
    "## 3D Scatterplot"
   ]
  },
  {
   "cell_type": "markdown",
   "id": "8b6e346b-a514-42c6-941e-660c1d985d48",
   "metadata": {},
   "source": [
    "I'm still working on this!\n",
    "I have to make the individuals connect correctly, which is going to to require list creation."
   ]
  },
  {
   "cell_type": "code",
   "execution_count": 53,
   "id": "45dd4570-18fa-4f46-8a3a-de121479d731",
   "metadata": {},
   "outputs": [
    {
     "data": {
      "application/vnd.jupyter.widget-view+json": {
       "model_id": "d7c8ddc056224a789da00c7f47753fdc",
       "version_major": 2,
       "version_minor": 0
      },
      "text/plain": [
       "Canvas(toolbar=Toolbar(toolitems=[('Home', 'Reset original view', 'home', 'home'), ('Back', 'Back to previous …"
      ]
     },
     "metadata": {},
     "output_type": "display_data"
    }
   ],
   "source": [
    "%matplotlib widget\n",
    "fig = plt.figure()\n",
    "ax = plt.axes(projection='3d')\n",
    "\n",
    "x, y, z = [], [], []\n",
    "\n",
    "for individual in sts.individuals():\n",
    "    if individual.id in p_ind:\n",
    "        x.append(individual.location[0])\n",
    "        y.append(individual.location[1])\n",
    "        z.append(individual.time)\n",
    "        \n",
    "ch_x, ch_y, ch_z = [], [], []\n",
    "        \n",
    "for individual in sts.individuals():\n",
    "    if individual.id in ch_ind:\n",
    "        ch_x.append(individual.location[0])\n",
    "        ch_y.append(individual.location[1])\n",
    "        ch_z.append(individual.time)\n",
    "\n",
    "ax.scatter3D(x,y,z, color = 'r')\n",
    "ax.plot(x,y,z, linewidth = 0.25, color = 'black') ### Gotta change this to connect each parent to its child \n",
    "\n",
    "ax.set_xlabel('x')\n",
    "ax.set_ylabel('y')\n",
    "ax.set_zlabel('Generation')\n",
    "\n",
    "plt.show()"
   ]
  },
  {
   "cell_type": "code",
   "execution_count": null,
   "id": "f3accd4c-6c24-4835-902d-413dd51217f6",
   "metadata": {},
   "outputs": [],
   "source": [
    "## Alex's Code\n",
    "##for i in range(len(lists)):\n",
    "    ##ax.plot(lists[i][0], lists[i][1], zs=lists[i][2], color=\"black\", linewidth=0.25)"
   ]
  }
 ],
 "metadata": {
  "kernelspec": {
   "display_name": "Python 3",
   "language": "python",
   "name": "python3"
  },
  "language_info": {
   "codemirror_mode": {
    "name": "ipython",
    "version": 3
   },
   "file_extension": ".py",
   "mimetype": "text/x-python",
   "name": "python",
   "nbconvert_exporter": "python",
   "pygments_lexer": "ipython3",
   "version": "3.9.5"
  }
 },
 "nbformat": 4,
 "nbformat_minor": 5
}
