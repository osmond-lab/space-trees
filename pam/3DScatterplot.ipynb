{
 "cells": [
  {
   "cell_type": "markdown",
   "id": "889fd4fe-a932-4f0d-803a-87ef77d8df1d",
   "metadata": {},
   "source": [
    "# Figuring Out How to Plot in 3D"
   ]
  },
  {
   "cell_type": "markdown",
   "id": "e34ac86e-1bc7-4d6d-b660-d54b79c706fe",
   "metadata": {},
   "source": [
    "This is the notebook I used to organize my thoughts and figure out how to make a 3D scatterplot of the coalescent."
   ]
  },
  {
   "cell_type": "markdown",
   "id": "57d81968-c8cd-4b8b-93ea-c5463a198714",
   "metadata": {},
   "source": [
    "Sections:\n",
    "1. Import & Simplify\n",
    "2. 2D Scatterplot\n",
    "3. How is data stored?\n",
    "4. Experimenting with Creating Arrays\n",
    "5. Making lists of parents and children\n",
    "6. 3D Scatterplot"
   ]
  },
  {
   "cell_type": "markdown",
   "id": "e8ebabea-ef1d-42ca-9003-c6e73ec8ae5a",
   "metadata": {},
   "source": [
    "## Import & Simplify"
   ]
  },
  {
   "cell_type": "code",
   "execution_count": 1,
   "id": "97d85e42-9c72-44b6-b570-7c64a96178ab",
   "metadata": {},
   "outputs": [
    {
     "ename": "FileNotFoundError",
     "evalue": "[Errno 2] No such file or directory: '/Users/ARIADNA/Desktop/Attempt3.trees'",
     "output_type": "error",
     "traceback": [
      "\u001b[0;31m---------------------------------------------------------------------------\u001b[0m",
      "\u001b[0;31mFileNotFoundError\u001b[0m                         Traceback (most recent call last)",
      "\u001b[0;32m/var/folders/d2/47jwj1qn1bdgc3krk2m7fr3c0000gn/T/ipykernel_9938/3172594593.py\u001b[0m in \u001b[0;36m<module>\u001b[0;34m\u001b[0m\n\u001b[1;32m      4\u001b[0m \u001b[0;32mfrom\u001b[0m \u001b[0mIPython\u001b[0m\u001b[0;34m.\u001b[0m\u001b[0mdisplay\u001b[0m \u001b[0;32mimport\u001b[0m \u001b[0mSVG\u001b[0m\u001b[0;34m,\u001b[0m \u001b[0mdisplay\u001b[0m\u001b[0;34m\u001b[0m\u001b[0;34m\u001b[0m\u001b[0m\n\u001b[1;32m      5\u001b[0m \u001b[0;34m\u001b[0m\u001b[0m\n\u001b[0;32m----> 6\u001b[0;31m \u001b[0mts\u001b[0m \u001b[0;34m=\u001b[0m \u001b[0mpyslim\u001b[0m\u001b[0;34m.\u001b[0m\u001b[0mload\u001b[0m\u001b[0;34m(\u001b[0m\u001b[0;34m\"/Users/ARIADNA/Desktop/Attempt3.trees\"\u001b[0m\u001b[0;34m)\u001b[0m\u001b[0;34m\u001b[0m\u001b[0;34m\u001b[0m\u001b[0m\n\u001b[0m\u001b[1;32m      7\u001b[0m \u001b[0;34m\u001b[0m\u001b[0m\n\u001b[1;32m      8\u001b[0m \u001b[0mextant\u001b[0m \u001b[0;34m=\u001b[0m \u001b[0mts\u001b[0m\u001b[0;34m.\u001b[0m\u001b[0mindividuals_alive_at\u001b[0m\u001b[0;34m(\u001b[0m\u001b[0;36m0\u001b[0m\u001b[0;34m)\u001b[0m\u001b[0;34m\u001b[0m\u001b[0;34m\u001b[0m\u001b[0m\n",
      "\u001b[0;32m/Library/Frameworks/Python.framework/Versions/3.9/lib/python3.9/site-packages/pyslim/slim_tree_sequence.py\u001b[0m in \u001b[0;36mload\u001b[0;34m(path, legacy_metadata)\u001b[0m\n\u001b[1;32m     36\u001b[0m         \u001b[0moption\u001b[0m \u001b[0;32mis\u001b[0m \u001b[0mdeprecated\u001b[0m \u001b[0;32mand\u001b[0m \u001b[0mwill\u001b[0m \u001b[0mdissappear\u001b[0m \u001b[0mat\u001b[0m \u001b[0msome\u001b[0m \u001b[0mpoint\u001b[0m \u001b[0;32min\u001b[0m \u001b[0mthe\u001b[0m \u001b[0mfuture\u001b[0m\u001b[0;34m.\u001b[0m\u001b[0;34m\u001b[0m\u001b[0;34m\u001b[0m\u001b[0m\n\u001b[1;32m     37\u001b[0m     '''\n\u001b[0;32m---> 38\u001b[0;31m     \u001b[0mts\u001b[0m \u001b[0;34m=\u001b[0m \u001b[0mSlimTreeSequence\u001b[0m\u001b[0;34m.\u001b[0m\u001b[0mload\u001b[0m\u001b[0;34m(\u001b[0m\u001b[0mpath\u001b[0m\u001b[0;34m,\u001b[0m \u001b[0mlegacy_metadata\u001b[0m\u001b[0;34m=\u001b[0m\u001b[0mlegacy_metadata\u001b[0m\u001b[0;34m)\u001b[0m\u001b[0;34m\u001b[0m\u001b[0;34m\u001b[0m\u001b[0m\n\u001b[0m\u001b[1;32m     39\u001b[0m     \u001b[0;32mreturn\u001b[0m \u001b[0mts\u001b[0m\u001b[0;34m\u001b[0m\u001b[0;34m\u001b[0m\u001b[0m\n\u001b[1;32m     40\u001b[0m \u001b[0;34m\u001b[0m\u001b[0m\n",
      "\u001b[0;32m/Library/Frameworks/Python.framework/Versions/3.9/lib/python3.9/site-packages/pyslim/slim_tree_sequence.py\u001b[0m in \u001b[0;36mload\u001b[0;34m(cls, path, legacy_metadata)\u001b[0m\n\u001b[1;32m    215\u001b[0m         \u001b[0;34m:\u001b[0m\u001b[0mrtype\u001b[0m \u001b[0mSlimTreeSequence\u001b[0m\u001b[0;34m:\u001b[0m\u001b[0;34m\u001b[0m\u001b[0;34m\u001b[0m\u001b[0m\n\u001b[1;32m    216\u001b[0m         '''\n\u001b[0;32m--> 217\u001b[0;31m         \u001b[0mts\u001b[0m \u001b[0;34m=\u001b[0m \u001b[0mtskit\u001b[0m\u001b[0;34m.\u001b[0m\u001b[0mload\u001b[0m\u001b[0;34m(\u001b[0m\u001b[0mpath\u001b[0m\u001b[0;34m)\u001b[0m\u001b[0;34m\u001b[0m\u001b[0;34m\u001b[0m\u001b[0m\n\u001b[0m\u001b[1;32m    218\u001b[0m         \u001b[0;31m# extract the reference sequence from the kastore\u001b[0m\u001b[0;34m\u001b[0m\u001b[0;34m\u001b[0m\u001b[0;34m\u001b[0m\u001b[0m\n\u001b[1;32m    219\u001b[0m         \u001b[0mkas\u001b[0m \u001b[0;34m=\u001b[0m \u001b[0mkastore\u001b[0m\u001b[0;34m.\u001b[0m\u001b[0mload\u001b[0m\u001b[0;34m(\u001b[0m\u001b[0mpath\u001b[0m\u001b[0;34m)\u001b[0m\u001b[0;34m\u001b[0m\u001b[0;34m\u001b[0m\u001b[0m\n",
      "\u001b[0;32m/Library/Frameworks/Python.framework/Versions/3.9/lib/python3.9/site-packages/tskit/trees.py\u001b[0m in \u001b[0;36mload\u001b[0;34m(file)\u001b[0m\n\u001b[1;32m   2829\u001b[0m     \u001b[0;34m:\u001b[0m\u001b[0mrtype\u001b[0m\u001b[0;34m:\u001b[0m \u001b[0;34m:\u001b[0m\u001b[0;32mclass\u001b[0m\u001b[0;34m:\u001b[0m\u001b[0;31m`\u001b[0m\u001b[0mtskit\u001b[0m\u001b[0;34m.\u001b[0m\u001b[0mTreeSequence\u001b[0m\u001b[0;31m`\u001b[0m\u001b[0;34m\u001b[0m\u001b[0;34m\u001b[0m\u001b[0m\n\u001b[1;32m   2830\u001b[0m     \"\"\"\n\u001b[0;32m-> 2831\u001b[0;31m     \u001b[0;32mreturn\u001b[0m \u001b[0mTreeSequence\u001b[0m\u001b[0;34m.\u001b[0m\u001b[0mload\u001b[0m\u001b[0;34m(\u001b[0m\u001b[0mfile\u001b[0m\u001b[0;34m)\u001b[0m\u001b[0;34m\u001b[0m\u001b[0;34m\u001b[0m\u001b[0m\n\u001b[0m\u001b[1;32m   2832\u001b[0m \u001b[0;34m\u001b[0m\u001b[0m\n\u001b[1;32m   2833\u001b[0m \u001b[0;34m\u001b[0m\u001b[0m\n",
      "\u001b[0;32m/Library/Frameworks/Python.framework/Versions/3.9/lib/python3.9/site-packages/tskit/trees.py\u001b[0m in \u001b[0;36mload\u001b[0;34m(cls, file_or_path)\u001b[0m\n\u001b[1;32m   3476\u001b[0m     \u001b[0;34m@\u001b[0m\u001b[0mclassmethod\u001b[0m\u001b[0;34m\u001b[0m\u001b[0;34m\u001b[0m\u001b[0m\n\u001b[1;32m   3477\u001b[0m     \u001b[0;32mdef\u001b[0m \u001b[0mload\u001b[0m\u001b[0;34m(\u001b[0m\u001b[0mcls\u001b[0m\u001b[0;34m,\u001b[0m \u001b[0mfile_or_path\u001b[0m\u001b[0;34m)\u001b[0m\u001b[0;34m:\u001b[0m\u001b[0;34m\u001b[0m\u001b[0;34m\u001b[0m\u001b[0m\n\u001b[0;32m-> 3478\u001b[0;31m         \u001b[0mfile\u001b[0m\u001b[0;34m,\u001b[0m \u001b[0mlocal_file\u001b[0m \u001b[0;34m=\u001b[0m \u001b[0mutil\u001b[0m\u001b[0;34m.\u001b[0m\u001b[0mconvert_file_like_to_open_file\u001b[0m\u001b[0;34m(\u001b[0m\u001b[0mfile_or_path\u001b[0m\u001b[0;34m,\u001b[0m \u001b[0;34m\"rb\"\u001b[0m\u001b[0;34m)\u001b[0m\u001b[0;34m\u001b[0m\u001b[0;34m\u001b[0m\u001b[0m\n\u001b[0m\u001b[1;32m   3479\u001b[0m         \u001b[0;32mtry\u001b[0m\u001b[0;34m:\u001b[0m\u001b[0;34m\u001b[0m\u001b[0;34m\u001b[0m\u001b[0m\n\u001b[1;32m   3480\u001b[0m             \u001b[0mts\u001b[0m \u001b[0;34m=\u001b[0m \u001b[0m_tskit\u001b[0m\u001b[0;34m.\u001b[0m\u001b[0mTreeSequence\u001b[0m\u001b[0;34m(\u001b[0m\u001b[0;34m)\u001b[0m\u001b[0;34m\u001b[0m\u001b[0;34m\u001b[0m\u001b[0m\n",
      "\u001b[0;32m/Library/Frameworks/Python.framework/Versions/3.9/lib/python3.9/site-packages/tskit/util.py\u001b[0m in \u001b[0;36mconvert_file_like_to_open_file\u001b[0;34m(file_like, mode)\u001b[0m\n\u001b[1;32m    543\u001b[0m         \u001b[0;31m# First, see if we can interpret the argument as a pathlike object.\u001b[0m\u001b[0;34m\u001b[0m\u001b[0;34m\u001b[0m\u001b[0;34m\u001b[0m\u001b[0m\n\u001b[1;32m    544\u001b[0m         \u001b[0mpath\u001b[0m \u001b[0;34m=\u001b[0m \u001b[0mos\u001b[0m\u001b[0;34m.\u001b[0m\u001b[0mfspath\u001b[0m\u001b[0;34m(\u001b[0m\u001b[0mfile_like\u001b[0m\u001b[0;34m)\u001b[0m\u001b[0;34m\u001b[0m\u001b[0;34m\u001b[0m\u001b[0m\n\u001b[0;32m--> 545\u001b[0;31m         \u001b[0m_file\u001b[0m \u001b[0;34m=\u001b[0m \u001b[0mopen\u001b[0m\u001b[0;34m(\u001b[0m\u001b[0mpath\u001b[0m\u001b[0;34m,\u001b[0m \u001b[0mmode\u001b[0m\u001b[0;34m)\u001b[0m\u001b[0;34m\u001b[0m\u001b[0;34m\u001b[0m\u001b[0m\n\u001b[0m\u001b[1;32m    546\u001b[0m     \u001b[0;32mexcept\u001b[0m \u001b[0mTypeError\u001b[0m\u001b[0;34m:\u001b[0m\u001b[0;34m\u001b[0m\u001b[0;34m\u001b[0m\u001b[0m\n\u001b[1;32m    547\u001b[0m         \u001b[0;32mpass\u001b[0m\u001b[0;34m\u001b[0m\u001b[0;34m\u001b[0m\u001b[0m\n",
      "\u001b[0;31mFileNotFoundError\u001b[0m: [Errno 2] No such file or directory: '/Users/ARIADNA/Desktop/Attempt3.trees'"
     ]
    }
   ],
   "source": [
    "import pyslim, tskit, msprime\n",
    "import numpy as np\n",
    "import matplotlib.pyplot as plt\n",
    "from IPython.display import SVG, display\n",
    "\n",
    "ts = pyslim.load(\"/Users/ARIADNA/Desktop/Attempt3.trees\")\n",
    "\n",
    "extant = ts.individuals_alive_at(0)\n",
    "\n",
    "extant_nodes = []\n",
    "for i in extant:\n",
    "    extant_nodes.extend(ts.individual(i).nodes)\n",
    "    \n",
    "sts = ts.simplify(extant_nodes)"
   ]
  },
  {
   "cell_type": "markdown",
   "id": "9fa7be2e-cba6-47a3-ada1-f43ae0048d5c",
   "metadata": {},
   "source": [
    "This simplifies the tree sequence to just the extant nodes in Generation 10 (the last generation), and all of their ancestor nodes. \n",
    "\n",
    "NOTE: In my SLiM code, I saved every individual from Generation 1 through 10, which later allows me to get the individual for each node in the tree sequence, and that individual's location.\n",
    "\n",
    "Not mutating this time around."
   ]
  },
  {
   "cell_type": "code",
   "execution_count": null,
   "id": "331471e1-4e9d-4840-8421-9cd2368286fc",
   "metadata": {
    "tags": []
   },
   "outputs": [],
   "source": [
    "print (sts)\n",
    "\n",
    "from IPython.display import SVG\n",
    "SVG(sts.draw_svg())"
   ]
  },
  {
   "cell_type": "markdown",
   "id": "f3027fc1-2676-4106-a288-53d7dfa2daeb",
   "metadata": {},
   "source": [
    "## \n",
    "## 2D Scatterplot"
   ]
  },
  {
   "cell_type": "code",
   "execution_count": null,
   "id": "aafe34f9-65b4-48e6-9365-2775b11439ba",
   "metadata": {},
   "outputs": [],
   "source": [
    "%matplotlib inline\n",
    "## ^ if you use this 'magic' thingy, your plot will print in your notebook but it won't be interactive (which is more for 3D plots)\n",
    "\n",
    "gen9 = ts.individuals_alive_at(1)\n",
    "gen9_locs = ts.individual_locations[gen9, : ]\n",
    "\n",
    "x = gen9_locs[:,0]\n",
    "y = gen9_locs [:,1]\n",
    "\n",
    "plt.scatter(x,y, color = 'pink')\n",
    "\n",
    "plt.title(\"Generation 9\")\n",
    "plt.show()"
   ]
  },
  {
   "cell_type": "markdown",
   "id": "7a264d3e-55eb-4594-9af1-d9bd7d303c71",
   "metadata": {},
   "source": [
    "^This code could be used to plot the locations of individuals in each generation (either as different plots, or all in one)"
   ]
  },
  {
   "cell_type": "markdown",
   "id": "85ac752d-bba2-46c5-9dc4-00b24e45ddaa",
   "metadata": {},
   "source": [
    "## \n",
    "## How is data stored?"
   ]
  },
  {
   "cell_type": "markdown",
   "id": "42ef7126-a8b4-47e8-b2c7-0d9ef6641a08",
   "metadata": {},
   "source": [
    "The following code chunks are just me figuring out how data is stored, and what it looks like by printing it. Could be useful to look through."
   ]
  },
  {
   "cell_type": "code",
   "execution_count": null,
   "id": "0f1ab0d8-8fa8-4267-aab0-881516b8d9a4",
   "metadata": {},
   "outputs": [],
   "source": [
    "final_nodes = sts.nodes()\n",
    "\n",
    "for node in sts.nodes():\n",
    "    t = node.time\n",
    "    print (int(t))"
   ]
  },
  {
   "cell_type": "code",
   "execution_count": null,
   "id": "bc55f9b4-6945-456f-ac97-2818168d5195",
   "metadata": {},
   "outputs": [],
   "source": [
    "for individual in sts.individuals():\n",
    "    coordinates = individual.location\n",
    "    print (coordinates)"
   ]
  },
  {
   "cell_type": "code",
   "execution_count": null,
   "id": "b61adafc-52c0-4a0d-8ac0-0c49b4c4b212",
   "metadata": {
    "tags": []
   },
   "outputs": [],
   "source": [
    "for node in final_nodes:\n",
    "    print (node)"
   ]
  },
  {
   "cell_type": "code",
   "execution_count": null,
   "id": "27f02312-719b-40d3-b63a-e4467bfbbf37",
   "metadata": {},
   "outputs": [],
   "source": [
    "for node in sts.nodes():\n",
    "    folk = node.individual\n",
    "    print (folk)"
   ]
  },
  {
   "cell_type": "markdown",
   "id": "7e92cbd2-37ad-4dec-bd86-cbd95e2b5011",
   "metadata": {},
   "source": [
    "##\n",
    "## Experimenting with Creating Arrays"
   ]
  },
  {
   "cell_type": "code",
   "execution_count": null,
   "id": "d9775ffb-252c-4a9e-a701-62b836e71772",
   "metadata": {
    "tags": []
   },
   "outputs": [],
   "source": [
    "##Create array of individuals\n",
    "\n",
    "ind_array = []\n",
    "\n",
    "for node in sts.nodes():\n",
    "    ind_array.append(node.individual)\n",
    "    \n",
    "print (ind_array)"
   ]
  },
  {
   "cell_type": "code",
   "execution_count": null,
   "id": "568e4c6a-45e2-40e7-b703-762eaf5b6447",
   "metadata": {},
   "outputs": [],
   "source": [
    "## Create array of node times\n",
    "\n",
    "time_array = []\n",
    "\n",
    "for node in sts.nodes():\n",
    "    time_array.append(int(node.time))\n",
    "\n",
    "print (time_array)"
   ]
  },
  {
   "cell_type": "code",
   "execution_count": null,
   "id": "3487a892-cd61-436c-90a9-8c07861f967d",
   "metadata": {
    "tags": []
   },
   "outputs": [],
   "source": [
    "## This iterates through every individual in the simplified tree sequence and prints their info.\n",
    "\n",
    "for individual in sts.individuals():\n",
    "    print(individual)"
   ]
  },
  {
   "cell_type": "code",
   "execution_count": null,
   "id": "b0293a5e-9217-4f3f-90e7-fec92c21e281",
   "metadata": {},
   "outputs": [],
   "source": [
    "for individual in sts.individuals():\n",
    "    \n",
    "    if individual.id in ind_array:\n",
    "        print ((individual.location))"
   ]
  },
  {
   "cell_type": "code",
   "execution_count": null,
   "id": "5b8f8c82-43de-4c4a-9d24-f92c670b77fe",
   "metadata": {},
   "outputs": [],
   "source": [
    "for individual in sts.individuals():\n",
    "    x = individual.location[0]\n",
    "    y = individual.location[1]\n",
    "    plt.scatter(x,y, color = 'pink')\n",
    "    \n",
    "plt.title(\"All Individuals\")\n",
    "plt.show()"
   ]
  },
  {
   "cell_type": "code",
   "execution_count": null,
   "id": "c5defc14-0617-4be0-b42c-9d7ef331d503",
   "metadata": {},
   "outputs": [],
   "source": [
    "for edge in sts.edges():\n",
    "    print(edge)\n",
    "    \n",
    "## Look at the Edge Table for clarity."
   ]
  },
  {
   "cell_type": "markdown",
   "id": "87ea5060-f67a-469a-a6e3-ea880f4b823e",
   "metadata": {},
   "source": [
    "Parent is node 67, child is node 64."
   ]
  },
  {
   "cell_type": "markdown",
   "id": "c0fd10e9-c45d-4530-9923-d11c8de7f93c",
   "metadata": {},
   "source": [
    "## \n",
    "## Making lists of parents and children"
   ]
  },
  {
   "cell_type": "code",
   "execution_count": null,
   "id": "bb56ac42-5574-4e62-bed8-e7d301dd30f8",
   "metadata": {},
   "outputs": [],
   "source": [
    "parents = []\n",
    "children = []\n",
    "\n",
    "for edge in sts.edges():\n",
    "    parents.append(edge.parent)\n",
    "    children.append(edge.child)\n",
    "\n",
    "print (parents)\n",
    "\n",
    "print (children)"
   ]
  },
  {
   "cell_type": "code",
   "execution_count": null,
   "id": "6740c6c1-ffd6-4530-91e6-9bc993e1df3b",
   "metadata": {},
   "outputs": [],
   "source": [
    "print (len(parents))\n",
    "\n",
    "print (len(children))"
   ]
  },
  {
   "cell_type": "markdown",
   "id": "0ede3538-0d7e-41ed-b9b4-c24e8f8735d6",
   "metadata": {},
   "source": [
    "Now to find which individuals these nodes belong to..."
   ]
  },
  {
   "cell_type": "code",
   "execution_count": null,
   "id": "3b053707-1d8c-47a2-9f1a-97e7c0611a07",
   "metadata": {},
   "outputs": [],
   "source": [
    "## take each parent node and run it through the nodes list to find the individual to which it belongs\n",
    "p_ind = []\n",
    "\n",
    "for i in parents:\n",
    "    for node in sts.nodes():\n",
    "        if i == node.id:\n",
    "            p_ind.append(node.individual)\n",
    "            \n",
    "print (p_ind)"
   ]
  },
  {
   "cell_type": "code",
   "execution_count": null,
   "id": "d374e12a-743d-4208-9556-2d37f2d65719",
   "metadata": {
    "tags": []
   },
   "outputs": [],
   "source": [
    "ch_ind = []\n",
    "\n",
    "for i in children:\n",
    "    for node in sts.nodes():\n",
    "        if i == node.id:\n",
    "            ch_ind.append(node.individual)\n",
    "            \n",
    "print(ch_ind)"
   ]
  },
  {
   "cell_type": "markdown",
   "id": "e7ef2192-0428-4943-93ba-897388a85f9e",
   "metadata": {},
   "source": [
    "## \n",
    "## 3D Scatterplot"
   ]
  },
  {
   "cell_type": "markdown",
   "id": "bb265dd2-1139-4124-b2ad-a726b5dd47b1",
   "metadata": {},
   "source": [
    "### Node Array"
   ]
  },
  {
   "cell_type": "code",
   "execution_count": null,
   "id": "16d2f872-9d95-4949-8e6c-d36f2aa0b5ff",
   "metadata": {},
   "outputs": [],
   "source": [
    "p_ch_nodes = []\n",
    "\n",
    "for edge in sts.edges():\n",
    "    p_ch_nodes.append(edge.parent)\n",
    "    p_ch_nodes.append(edge.child)\n",
    "\n",
    "print (p_ch_nodes)\n",
    "len(p_ch_nodes)\n",
    "\n",
    "# each parent node is followed by its child node"
   ]
  },
  {
   "cell_type": "markdown",
   "id": "a562fdfe-4baf-4eb1-ab91-43cc052d92ef",
   "metadata": {},
   "source": [
    "### Individual Array"
   ]
  },
  {
   "cell_type": "code",
   "execution_count": null,
   "id": "aa7fb3d9-1819-46aa-9539-33bce20685a1",
   "metadata": {},
   "outputs": [],
   "source": [
    "p_ch_inds = []\n",
    "\n",
    "for i in p_ch_nodes:\n",
    "    for node in sts.nodes():\n",
    "        if i == node.id:\n",
    "            p_ch_inds.append(node.individual)\n",
    "            \n",
    "print(p_ch_inds)\n",
    "len(p_ch_inds)\n",
    "\n",
    "# each parent individual is followed by its child individual"
   ]
  },
  {
   "cell_type": "markdown",
   "id": "f445a9b3-702a-45dc-b774-487ec2029fe5",
   "metadata": {},
   "source": [
    "### [Parent, Child] Array"
   ]
  },
  {
   "cell_type": "code",
   "execution_count": null,
   "id": "24270106-5697-44d8-a6e9-6e3a6306e881",
   "metadata": {},
   "outputs": [],
   "source": [
    "np.column_stack((p_ind, ch_ind))\n",
    "\n",
    "##this is an array of [parent, child]"
   ]
  },
  {
   "cell_type": "markdown",
   "id": "bc807db0-5f18-40a9-8b35-44b5f972150f",
   "metadata": {},
   "source": [
    "## Plot"
   ]
  },
  {
   "cell_type": "code",
   "execution_count": null,
   "id": "879fd7fb-7173-474c-b4d1-db05b58d2785",
   "metadata": {},
   "outputs": [],
   "source": [
    "%matplotlib widget\n",
    "fig = plt.figure()\n",
    "ax = plt.axes(projection='3d')\n",
    "\n",
    "p_ch_x = []\n",
    "p_ch_y = []\n",
    "p_ch_z = []\n",
    "\n",
    "for i in p_ch_inds:\n",
    "    p_ch_x.append(sts.individual_locations[i][0])\n",
    "    p_ch_y.append(sts.individual_locations[i][1])\n",
    "    p_ch_z.append(sts.individual_times[i])\n",
    "\n",
    "ax.scatter3D(p_ch_x,p_ch_y,p_ch_z, color = 'r')\n",
    "\n",
    "for i in range(0, len(p_ch_inds), 2):\n",
    "    ax.plot(p_ch_x[i:i+2], p_ch_y[i:i+2], p_ch_z[i:i+2], linewidth = 0.25, color = 'black')\n",
    "    ax.text(p_ch_x[i],p_ch_y[i],p_ch_z[i],  '%s' % (str(p_ch_nodes[i])), size=10, zorder=1, color='black')\n",
    "    \n",
    "ax.set_xlabel('x')\n",
    "ax.set_ylabel('y')\n",
    "ax.set_zlabel('Generation')\n",
    "##ax.grid(False)\n",
    "\n",
    "plt.show()"
   ]
  },
  {
   "cell_type": "code",
   "execution_count": null,
   "id": "d27ccd42-9187-4d16-8014-58ff65bd1d5d",
   "metadata": {},
   "outputs": [],
   "source": [
    "len(p_ch_x)"
   ]
  },
  {
   "cell_type": "code",
   "execution_count": null,
   "id": "b452c9a9-f553-4ede-9c5b-1324872849c0",
   "metadata": {},
   "outputs": [],
   "source": []
  }
 ],
 "metadata": {
  "kernelspec": {
   "display_name": "Python 3 (ipykernel)",
   "language": "python",
   "name": "python3"
  },
  "language_info": {
   "codemirror_mode": {
    "name": "ipython",
    "version": 3
   },
   "file_extension": ".py",
   "mimetype": "text/x-python",
   "name": "python",
   "nbconvert_exporter": "python",
   "pygments_lexer": "ipython3",
   "version": "3.9.6"
  }
 },
 "nbformat": 4,
 "nbformat_minor": 5
}
