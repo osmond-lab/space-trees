{
 "cells": [
  {
   "cell_type": "markdown",
   "id": "5351ec5b-2ac7-4c27-b50a-a34dafdef280",
   "metadata": {},
   "source": [
    "## Load Tree Sequence from SLiM"
   ]
  },
  {
   "cell_type": "code",
   "execution_count": 9,
   "id": "c4778f52-4723-4c5e-986f-e3b16d8dc1a6",
   "metadata": {
    "tags": []
   },
   "outputs": [
    {
     "name": "stdout",
     "output_type": "stream",
     "text": [
      "There are 200 individuals and 400 sample genomes.\n"
     ]
    }
   ],
   "source": [
    "import pyslim, tskit, msprime\n",
    "import numpy as np\n",
    "\n",
    "slim_ts = pyslim.load(\"/Users/ARIADNA/Desktop/spatial_sim.trees\")\n",
    "\n",
    "print(f'There are {slim_ts.num_individuals} individuals and {slim_ts.num_samples} sample genomes.')"
   ]
  },
  {
   "cell_type": "markdown",
   "id": "fcbe55de-689d-469f-9243-c14927383373",
   "metadata": {},
   "source": [
    "## Simplify"
   ]
  },
  {
   "cell_type": "code",
   "execution_count": 10,
   "id": "d6a938d1-bf3f-428f-aad6-514bd265c112",
   "metadata": {},
   "outputs": [
    {
     "name": "stdout",
     "output_type": "stream",
     "text": [
      "Individuals [93 67  6 64 96] were selected.\n"
     ]
    }
   ],
   "source": [
    "np.random.seed(3)\n",
    "alive_inds = slim_ts.individuals_alive_at(0)\n",
    "fab_five = np.random.choice(alive_inds, 5, replace=False)\n",
    "keep_nodes = []\n",
    "for i in fab_five:\n",
    "    keep_nodes.extend(slim_ts.individual(i).nodes)\n",
    "simple_ts = slim_ts.simplify(keep_nodes)\n",
    "\n",
    "print (f\"Individuals {fab_five} were selected.\")"
   ]
  },
  {
   "cell_type": "markdown",
   "id": "81fdf12e-2a89-4721-ad6a-6b68559f8afe",
   "metadata": {},
   "source": [
    "## Mutate"
   ]
  },
  {
   "cell_type": "code",
   "execution_count": 12,
   "id": "f34c9300-235b-4a7f-b1ef-509e091a9761",
   "metadata": {},
   "outputs": [],
   "source": [
    "mutant_ts = pyslim.SlimTreeSequence(msprime.mutate(simple_ts, rate=1e-8, keep=True))\n",
    "mutant_ts.dump(\"/Users/ARIADNA/Desktop/fabfive.recap.trees\")"
   ]
  },
  {
   "cell_type": "code",
   "execution_count": 27,
   "id": "3156cc92-18ef-4941-93f8-c51b53d14599",
   "metadata": {},
   "outputs": [
    {
     "name": "stdout",
     "output_type": "stream",
     "text": [
      "╔════════════════════════╗\n",
      "║TreeSequence            ║\n",
      "╠═══════════════╤════════╣\n",
      "║Trees          │       1║\n",
      "╟───────────────┼────────╢\n",
      "║Sequence Length│ 10000.0║\n",
      "╟───────────────┼────────╢\n",
      "║Sample Nodes   │      10║\n",
      "╟───────────────┼────────╢\n",
      "║Total Size     │12.5 KiB║\n",
      "╚═══════════════╧════════╝\n",
      "╔═══════════╤════╤═════════╤════════════╗\n",
      "║Table      │Rows│Size     │Has Metadata║\n",
      "╠═══════════╪════╪═════════╪════════════╣\n",
      "║Edges      │  18│508 Bytes│          No║\n",
      "╟───────────┼────┼─────────┼────────────╢\n",
      "║Individuals│   5│  1.8 KiB│         Yes║\n",
      "╟───────────┼────┼─────────┼────────────╢\n",
      "║Migrations │   0│  4 Bytes│          No║\n",
      "╟───────────┼────┼─────────┼────────────╢\n",
      "║Mutations  │   0│  1.2 KiB│          No║\n",
      "╟───────────┼────┼─────────┼────────────╢\n",
      "║Nodes      │  19│  1.3 KiB│         Yes║\n",
      "╟───────────┼────┼─────────┼────────────╢\n",
      "║Populations│   1│  2.8 KiB│         Yes║\n",
      "╟───────────┼────┼─────────┼────────────╢\n",
      "║Provenances│   2│  3.1 KiB│          No║\n",
      "╟───────────┼────┼─────────┼────────────╢\n",
      "║Sites      │   0│  8 Bytes│          No║\n",
      "╚═══════════╧════╧═════════╧════════════╝\n",
      "\n"
     ]
    },
    {
     "data": {
      "image/svg+xml": [
       "<svg xmlns=\"http://www.w3.org/2000/svg\" xmlns:ev=\"http://www.w3.org/2001/xml-events\" xmlns:xlink=\"http://www.w3.org/1999/xlink\" baseProfile=\"full\" height=\"200\" version=\"1.1\" width=\"200\"><defs><style type=\"text/css\"><![CDATA[.background path {fill: #808080; fill-opacity:0}.background path:nth-child(odd) {fill-opacity:.1}.axes {font-size: 14px}.x-axis .tick .lab {font-weight: bold}.axes, .tree {font-size: 14px; text-anchor:middle}.y-axis line.grid {stroke: #FAFAFA}.y-axis > .lab text {transform: translateX(0.8em) rotate(-90deg)}.x-axis .tick g {transform: translateY(0.9em)}.x-axis > .lab text {transform: translateY(-0.8em)}.axes line, .edge {stroke:black; fill:none}.node > .sym {fill: black; stroke: none}.site > .sym {stroke: black}.mut text {fill: red; font-style: italic}.mut.extra text {fill: hotpink}.mut line {fill: none; stroke: none}.mut .sym {fill: none; stroke: red}.mut.extra .sym {stroke: hotpink}.node .mut .sym {stroke-width: 1.5px}.tree text, .tree-sequence text {dominant-baseline: central}.plotbox .lab.lft {text-anchor: end}.plotbox .lab.rgt {text-anchor: start}]]></style></defs><g class=\"tree-sequence\"><g class=\"background\"><path d=\"M20,0 l160,0 l0,138.2 l0,25 l0,5 l-160,0 l0,-5 l0,-25 l0,-138.2z\"/></g><g class=\"axes\"><g class=\"x-axis\"><g class=\"lab\" transform=\"translate(100,200)\"><text text-anchor=\"middle\">Genome position</text></g><line x1=\"20\" x2=\"180\" y1=\"163.2\" y2=\"163.2\"/><g class=\"tick\" transform=\"translate(20 163.2)\"><line x1=\"0\" x2=\"0\" y1=\"0\" y2=\"5\"/><g class=\"lab\" transform=\"translate(0,5)\"><text>0</text></g></g><g class=\"tick\" transform=\"translate(180 163.2)\"><line x1=\"0\" x2=\"0\" y1=\"0\" y2=\"5\"/><g class=\"lab\" transform=\"translate(0,5)\"><text>10000</text></g></g></g></g><g class=\"plotbox trees\"><g class=\"tree t0\" transform=\"translate(20 0)\"><g class=\"plotbox\"><g class=\"node n18 p0 root\" transform=\"translate(101.188 26.8)\"><g class=\"a18 node n11 p0\" transform=\"translate(23.8125 90.0592)\"><g class=\"a11 i4 leaf node n8 p0 sample\" transform=\"translate(9 4.5408)\"><path class=\"edge\" d=\"M 0 0 V -4.5408 H -9\"/><rect class=\"sym\" height=\"6\" width=\"6\" x=\"-3\" y=\"-3\"/><text class=\"lab\" transform=\"translate(0 11)\">8</text></g><g class=\"a11 node n10 p0\" transform=\"translate(-9 1.5136)\"><g class=\"a10 i0 leaf node n5 p0 sample\" transform=\"translate(-6 3.0272)\"><path class=\"edge\" d=\"M 0 0 V -3.0272 H 6\"/><rect class=\"sym\" height=\"6\" width=\"6\" x=\"-3\" y=\"-3\"/><text class=\"lab\" transform=\"translate(0 11)\">5</text></g><g class=\"a10 i1 leaf node n7 p0 sample\" transform=\"translate(6 3.0272)\"><path class=\"edge\" d=\"M 0 0 V -3.0272 H -6\"/><rect class=\"sym\" height=\"6\" width=\"6\" x=\"-3\" y=\"-3\"/><text class=\"lab\" transform=\"translate(0 11)\">7</text></g><path class=\"edge\" d=\"M 0 0 V -1.5136 H 9\"/><circle class=\"sym\" cx=\"0\" cy=\"0\" r=\"3\"/><text class=\"lab lft\" transform=\"translate(-3 -7.0)\">10</text></g><path class=\"edge\" d=\"M 0 0 V -90.0592 H -23.8125\"/><circle class=\"sym\" cx=\"0\" cy=\"0\" r=\"3\"/><text class=\"lab rgt\" transform=\"translate(3 -7.0)\">11</text></g><g class=\"a18 node n17 p0\" transform=\"translate(-23.8125 49.9488)\"><g class=\"a17 node n12 p0\" transform=\"translate(14.625 36.8309)\"><g class=\"a12 i2 leaf node n3 p0 sample\" transform=\"translate(-6 7.82027)\"><path class=\"edge\" d=\"M 0 0 V -7.82027 H 6\"/><rect class=\"sym\" height=\"6\" width=\"6\" x=\"-3\" y=\"-3\"/><text class=\"lab\" transform=\"translate(0 11)\">3</text></g><g class=\"a12 i4 leaf node n9 p0 sample\" transform=\"translate(6 7.82027)\"><path class=\"edge\" d=\"M 0 0 V -7.82027 H -6\"/><rect class=\"sym\" height=\"6\" width=\"6\" x=\"-3\" y=\"-3\"/><text class=\"lab\" transform=\"translate(0 11)\">9</text></g><path class=\"edge\" d=\"M 0 0 V -36.8309 H -14.625\"/><circle class=\"sym\" cx=\"0\" cy=\"0\" r=\"3\"/><text class=\"lab rgt\" transform=\"translate(3 -7.0)\">12</text></g><g class=\"a17 node n16 p0\" transform=\"translate(-14.625 22.704)\"><g class=\"a16 i2 leaf node n2 p0 sample\" transform=\"translate(11.25 21.9472)\"><path class=\"edge\" d=\"M 0 0 V -21.9472 H -11.25\"/><rect class=\"sym\" height=\"6\" width=\"6\" x=\"-3\" y=\"-3\"/><text class=\"lab\" transform=\"translate(0 11)\">2</text></g><g class=\"a16 node n15 p0\" transform=\"translate(-11.25 1.00907)\"><g class=\"a15 i0 leaf node n4 p0 sample\" transform=\"translate(10.5 20.9381)\"><path class=\"edge\" d=\"M 0 0 V -20.9381 H -10.5\"/><rect class=\"sym\" height=\"6\" width=\"6\" x=\"-3\" y=\"-3\"/><text class=\"lab\" transform=\"translate(0 11)\">4</text></g><g class=\"a15 node n14 p0\" transform=\"translate(-10.5 2.52267)\"><g class=\"a14 i3 leaf node n1 p0 sample\" transform=\"translate(9 18.4155)\"><path class=\"edge\" d=\"M 0 0 V -18.4155 H -9\"/><rect class=\"sym\" height=\"6\" width=\"6\" x=\"-3\" y=\"-3\"/><text class=\"lab\" transform=\"translate(0 11)\">1</text></g><g class=\"a14 node n13 p0\" transform=\"translate(-9 3.784)\"><g class=\"a13 i3 leaf node n0 p0 sample\" transform=\"translate(-6 14.6315)\"><path class=\"edge\" d=\"M 0 0 V -14.6315 H 6\"/><rect class=\"sym\" height=\"6\" width=\"6\" x=\"-3\" y=\"-3\"/><text class=\"lab\" transform=\"translate(0 11)\">0</text></g><g class=\"a13 i1 leaf node n6 p0 sample\" transform=\"translate(6 14.6315)\"><path class=\"edge\" d=\"M 0 0 V -14.6315 H -6\"/><rect class=\"sym\" height=\"6\" width=\"6\" x=\"-3\" y=\"-3\"/><text class=\"lab\" transform=\"translate(0 11)\">6</text></g><path class=\"edge\" d=\"M 0 0 V -3.784 H 9\"/><circle class=\"sym\" cx=\"0\" cy=\"0\" r=\"3\"/><text class=\"lab lft\" transform=\"translate(-3 -7.0)\">13</text></g><path class=\"edge\" d=\"M 0 0 V -2.52267 H 10.5\"/><circle class=\"sym\" cx=\"0\" cy=\"0\" r=\"3\"/><text class=\"lab lft\" transform=\"translate(-3 -7.0)\">14</text></g><path class=\"edge\" d=\"M 0 0 V -1.00907 H 11.25\"/><circle class=\"sym\" cx=\"0\" cy=\"0\" r=\"3\"/><text class=\"lab lft\" transform=\"translate(-3 -7.0)\">15</text></g><path class=\"edge\" d=\"M 0 0 V -22.704 H 14.625\"/><circle class=\"sym\" cx=\"0\" cy=\"0\" r=\"3\"/><text class=\"lab lft\" transform=\"translate(-3 -7.0)\">16</text></g><path class=\"edge\" d=\"M 0 0 V -49.9488 H 23.8125\"/><circle class=\"sym\" cx=\"0\" cy=\"0\" r=\"3\"/><text class=\"lab lft\" transform=\"translate(-3 -7.0)\">17</text></g><circle class=\"sym\" cx=\"0\" cy=\"0\" r=\"3\"/><text class=\"lab\" transform=\"translate(0 -11)\">18</text></g></g></g></g></g></svg>"
      ],
      "text/plain": [
       "<IPython.core.display.SVG object>"
      ]
     },
     "execution_count": 27,
     "metadata": {},
     "output_type": "execute_result"
    }
   ],
   "source": [
    "print(simple_ts)\n",
    "\n",
    "from IPython.display import SVG\n",
    "SVG(mutant_ts.draw_svg())"
   ]
  },
  {
   "cell_type": "code",
   "execution_count": 16,
   "id": "79f65ff7-bc1d-4650-b31b-0d859948f89b",
   "metadata": {},
   "outputs": [
    {
     "data": {
      "text/plain": [
       "array([[0.78639263, 0.58068143,        nan],\n",
       "       [0.69859986, 0.74271037,        nan],\n",
       "       [0.71401235, 0.73893232,        nan],\n",
       "       [0.76667571, 0.93841398,        nan],\n",
       "       [0.74735954, 0.8541277 ,        nan]])"
      ]
     },
     "execution_count": 16,
     "metadata": {},
     "output_type": "execute_result"
    }
   ],
   "source": [
    "alive = slim_ts.individuals_alive_at(0)\n",
    "alive_locs = slim_ts.individual_locations[alive, : ]\n",
    "\n",
    "ff_locs = slim_ts.individual_locations[fab_five, : ]\n",
    "ff_locs"
   ]
  },
  {
   "cell_type": "markdown",
   "id": "3ba8b792-10bb-479c-bcb4-190543c2a995",
   "metadata": {},
   "source": [
    "## Plot Locations"
   ]
  },
  {
   "cell_type": "code",
   "execution_count": 17,
   "id": "a8fe4324-2333-4432-ad4b-73ca68a7d834",
   "metadata": {},
   "outputs": [
    {
     "data": {
      "image/png": "[encoded data removed]",
      "text/plain": [
       "<Figure size 432x288 with 1 Axes>"
      ]
     },
     "metadata": {
      "needs_background": "light"
     },
     "output_type": "display_data"
    }
   ],
   "source": [
    "import matplotlib.pyplot as plt\n",
    "%matplotlib inline\n",
    "\n",
    "x = alive_locs[:,0]\n",
    "y = alive_locs [:,1]\n",
    "plt.scatter(x,y, color = 'cyan')\n",
    "\n",
    "x = ff_locs[:,0]\n",
    "y = ff_locs[:,1]\n",
    "plt.scatter(x,y, color = 'red')\n",
    "\n",
    "plt.title(\"Generation 2000\")\n",
    "plt.show()"
   ]
  },
  {
   "cell_type": "markdown",
   "id": "e6d88b7b-545a-43cf-a5c6-fb5264f22051",
   "metadata": {},
   "source": [
    "This scatter plot shows the locations of all extant individuals (cyan) and sampled individuals (red)."
   ]
  },
  {
   "cell_type": "code",
   "execution_count": 24,
   "id": "be5166dd-4906-403a-be2b-69d2d116f205",
   "metadata": {},
   "outputs": [
    {
     "data": {
      "image/png": "[encoded data removed]",
      "text/plain": [
       "<Figure size 432x288 with 1 Axes>"
      ]
     },
     "metadata": {
      "needs_background": "light"
     },
     "output_type": "display_data"
    }
   ],
   "source": [
    "olds = slim_ts.individuals_alive_at(1000)\n",
    "olds_locs = slim_ts.individual_locations[olds, : ]\n",
    "\n",
    "x = olds_locs[:,0]\n",
    "y = olds_locs [:,1]\n",
    "plt.scatter(x,y, color = 'pink')\n",
    "\n",
    "plt.title(\"Generation 1000\")\n",
    "plt.show()"
   ]
  },
  {
   "cell_type": "markdown",
   "id": "9098b5f7-7a7b-4802-b9a8-714ca5879b4e",
   "metadata": {},
   "source": [
    "This scatter plot shows the locations of all individuals at Generation 1000 (pink)."
   ]
  },
  {
   "cell_type": "code",
   "execution_count": 26,
   "id": "3ccdaf95-d021-4384-83c0-7657989b4d65",
   "metadata": {},
   "outputs": [
    {
     "name": "stdout",
     "output_type": "stream",
     "text": [
      "Individual(id=0, flags=65536, location=array([0.71401235, 0.73893232,        nan]), parents=array([], dtype=int32), nodes=array([4, 5], dtype=int32), metadata={'pedigree_id': 199906, 'age': -1, 'subpopulation': 1, 'sex': -1, 'flags': 0})\n"
     ]
    }
   ],
   "source": [
    "print(simple_ts.individual(0))"
   ]
  },
  {
   "cell_type": "markdown",
   "id": "9c16c211-f72a-4b40-9400-f453eb8547f3",
   "metadata": {},
   "source": [
    "## Next Steps\n",
    "\n",
    "Now, how do I find the ancestor(s) of the fab five that was alive in Generation 1000?\n",
    "\n",
    "Ideas:\n",
    "- look through the 19 nodes, find the one that occured in Generation 1000\n",
    "- OR maybe extant individuals have a record of their ancestors? Probably not"
   ]
  }
 ],
 "metadata": {
  "kernelspec": {
   "display_name": "Python 3",
   "language": "python",
   "name": "python3"
  },
  "language_info": {
   "codemirror_mode": {
    "name": "ipython",
    "version": 3
   },
   "file_extension": ".py",
   "mimetype": "text/x-python",
   "name": "python",
   "nbconvert_exporter": "python",
   "pygments_lexer": "ipython3",
   "version": "3.9.5"
  }
 },
 "nbformat": 4,
 "nbformat_minor": 5
}
