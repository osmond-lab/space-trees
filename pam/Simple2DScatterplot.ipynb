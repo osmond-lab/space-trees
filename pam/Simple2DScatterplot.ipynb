{
 "cells": [
  {
   "cell_type": "markdown",
   "id": "e9b16bc0-df4a-4553-86b6-29d12d3c4c80",
   "metadata": {},
   "source": [
    "# Simple 2D Scatterplot"
   ]
  },
  {
   "cell_type": "markdown",
   "id": "5351ec5b-2ac7-4c27-b50a-a34dafdef280",
   "metadata": {},
   "source": [
    "## Load Tree Sequence from SLiM"
   ]
  },
  {
   "cell_type": "code",
   "execution_count": 3,
   "id": "c4778f52-4723-4c5e-986f-e3b16d8dc1a6",
   "metadata": {
    "tags": []
   },
   "outputs": [
    {
     "name": "stdout",
     "output_type": "stream",
     "text": [
      "There are 200 individuals and 400 sample genomes.\n"
     ]
    }
   ],
   "source": [
    "import pyslim, tskit\n",
    "import numpy as np\n",
    "\n",
    "slim_ts = pyslim.load(\"/Users/ARIADNA/Desktop/spatial_sim.trees\")\n",
    "\n",
    "print(f'There are {slim_ts.num_individuals} individuals and {slim_ts.num_samples} sample genomes.')"
   ]
  },
  {
   "cell_type": "markdown",
   "id": "097ad5ce-1ede-47e8-b512-58da1dc97af2",
   "metadata": {},
   "source": [
    "## Sample 5 Alive Individuals"
   ]
  },
  {
   "cell_type": "code",
   "execution_count": 4,
   "id": "ced57d1f-3587-48e2-b403-1611b0ea6b2d",
   "metadata": {},
   "outputs": [
    {
     "name": "stdout",
     "output_type": "stream",
     "text": [
      "Individuals [38 93 79  6 88] were selected.\n"
     ]
    }
   ],
   "source": [
    "alive = slim_ts.individuals_alive_at(0)\n",
    "fab_five = np.random.choice(alive, size=5)\n",
    "\n",
    "print (f\"Individuals {fab_five} were selected.\")"
   ]
  },
  {
   "cell_type": "code",
   "execution_count": 5,
   "id": "79f65ff7-bc1d-4650-b31b-0d859948f89b",
   "metadata": {},
   "outputs": [
    {
     "data": {
      "text/plain": [
       "array([[0.63949921, 0.79519468,        nan],\n",
       "       [0.78639263, 0.58068143,        nan],\n",
       "       [0.88122843, 0.62921851,        nan],\n",
       "       [0.71401235, 0.73893232,        nan],\n",
       "       [0.72795921, 0.89815758,        nan]])"
      ]
     },
     "execution_count": 5,
     "metadata": {},
     "output_type": "execute_result"
    }
   ],
   "source": [
    "locs = slim_ts.individual_locations[fab_five, : ]\n",
    "locs"
   ]
  },
  {
   "cell_type": "code",
   "execution_count": 11,
   "id": "a4b77a5b-25f7-4d0c-80b7-8071462378c6",
   "metadata": {},
   "outputs": [],
   "source": [
    "alive_locs = slim_ts.individual_locations[alive, : ]"
   ]
  },
  {
   "cell_type": "markdown",
   "id": "3ba8b792-10bb-479c-bcb4-190543c2a995",
   "metadata": {},
   "source": [
    "## Plot Locations"
   ]
  },
  {
   "cell_type": "code",
   "execution_count": 18,
   "id": "a8fe4324-2333-4432-ad4b-73ca68a7d834",
   "metadata": {},
   "outputs": [
    {
     "data": {
      "image/png": "[encoded data removed]",
      "text/plain": [
       "<Figure size 432x288 with 1 Axes>"
      ]
     },
     "metadata": {
      "needs_background": "light"
     },
     "output_type": "display_data"
    }
   ],
   "source": [
    "import matplotlib.pyplot as plt\n",
    "%matplotlib inline\n",
    "\n",
    "x = alive_locs[:,0]\n",
    "y = alive_locs [:,1]\n",
    "plt.scatter(x,y, color = 'cyan')\n",
    "\n",
    "x = locs[:,0]\n",
    "y = locs[:,1]\n",
    "plt.scatter(x,y, color = 'red')\n",
    "\n",
    "plt.title(\"Generation 2000\")\n",
    "plt.show()"
   ]
  },
  {
   "cell_type": "markdown",
   "id": "e6d88b7b-545a-43cf-a5c6-fb5264f22051",
   "metadata": {},
   "source": [
    "This scatter plot shows the locations of all extant individuals (cyan) and sampled individuals (red)."
   ]
  }
 ],
 "metadata": {
  "kernelspec": {
   "display_name": "Python 3",
   "language": "python",
   "name": "python3"
  },
  "language_info": {
   "codemirror_mode": {
    "name": "ipython",
    "version": 3
   },
   "file_extension": ".py",
   "mimetype": "text/x-python",
   "name": "python",
   "nbconvert_exporter": "python",
   "pygments_lexer": "ipython3",
   "version": "3.9.5"
  }
 },
 "nbformat": 4,
 "nbformat_minor": 5
}
