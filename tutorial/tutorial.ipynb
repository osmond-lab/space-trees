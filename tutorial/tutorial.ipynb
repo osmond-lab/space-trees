{
 "cells": [
  {
   "cell_type": "markdown",
   "id": "c187475d-44b2-432b-8fcf-2db035e8ae95",
   "metadata": {},
   "source": [
    "# tutorial"
   ]
  },
  {
   "cell_type": "markdown",
   "id": "1398698b-a64b-473c-a0f0-4e54b2fc433e",
   "metadata": {},
   "source": [
    "### A. link to helpful python docs\n",
    "\n",
    "Recapitation, Simplification, and Mutation: https://pyslim.readthedocs.io/en/latest/tutorial.html#recapitation-simplification-and-mutation\n",
    "\n",
    "Saving Individuals in .trees file: https://pyslim.readthedocs.io/en/latest/tutorial.html#obtaining-and-saving-individuals\n",
    "\n",
    "Some Basic Plotting:\n",
    "https://www.geeksforgeeks.org/graph-plotting-in-python-set-1/\n",
    "(Esther's note: I'm not sure if this site is reliable but it helped me, so feel free to remove!)"
   ]
  },
  {
   "cell_type": "markdown",
   "id": "0e2cd9f5-8143-4178-8e30-f08d0ca39501",
   "metadata": {},
   "source": [
    "### B. Which packages you need and what they do and link to docs\n",
    "\n",
    "What is pyslim + how to install: https://pypi.org/project/pyslim/\n",
    "\n",
    "What is tskit: https://tskit.dev/tskit/docs/stable/introduction.html\n",
    "    + Install tskit: https://tskit.dev/tskit/docs/stable/installation.html\n",
    "\n",
    "What is NumPy, install, import: https://numpy.org/doc/stable/user/absolute_beginners.html\n",
    "\n",
    "What is Msprime: https://tskit.dev/msprime/docs/stable/quickstart.html\n",
    "    + Install Msprime: https://tskit.dev/msprime/docs/stable/installation.html#sec-installation\n",
    "\n",
    "Install IPython: https://ipython.org/install.html\n",
    "\t(SVG from IPython.display allows us to display trees in SVG format)\n",
    "    \n",
    "What is Matplotlib: https://matplotlib.org/stable/index.html\n",
    "    + Install Matplotlib: https://matplotlib.org/stable/users/installing.html\n",
    "    (We can use things like matplotlib.pyplot as plt for plotting, matplotlib.cm as cm \n",
    "    for color maps, and various widgets)"
   ]
  },
  {
   "cell_type": "code",
   "execution_count": 1,
   "id": "8e0e8c86-5b70-4ac2-b3a4-51885c0e9f1b",
   "metadata": {},
   "outputs": [],
   "source": [
    "#If we want to be able to rotate 3D plots, we can set up the matplotlib widget tool.\n",
    "%matplotlib widget\n",
    "#We can import these packages in our notebooks like this:\n",
    "import pyslim, tskit\n",
    "import numpy as np\n",
    "import msprime\n",
    "from IPython.display import SVG #for displaying trees in svg format\n",
    "import matplotlib\n",
    "import matplotlib.pyplot as plt #plotting\n",
    "import matplotlib.cm as cm #color maps\n",
    "#%matplotlib inline"
   ]
  },
  {
   "cell_type": "code",
   "execution_count": 2,
   "id": "42890186-b7bb-463c-9812-5eec580a5f0d",
   "metadata": {},
   "outputs": [],
   "source": [
    "import os #module to run commands on the code line from within python\n",
    "SLiM = 'slim' #command to run SLiM from your command line"
   ]
  },
  {
   "cell_type": "markdown",
   "id": "3f2ec760-0a82-4bc6-b75e-9ca0ed56feed",
   "metadata": {},
   "source": [
    "# BASICS"
   ]
  },
  {
   "cell_type": "markdown",
   "id": "32df76dc-c224-44ac-bc0c-048fc81070a2",
   "metadata": {},
   "source": [
    "## 0. run a slim sim (Matt)"
   ]
  },
  {
   "cell_type": "markdown",
   "id": "efb43539-1eb8-46d1-a059-ae0bbdb0a1aa",
   "metadata": {},
   "source": [
    "We first write out our SLiM script as text"
   ]
  },
  {
   "cell_type": "code",
   "execution_count": 3,
   "id": "f78f7058-fbb0-4ca5-adf6-c21877b2c550",
   "metadata": {},
   "outputs": [],
   "source": [
    "SLiM_script = \"\"\"\n",
    "initialize() {\n",
    "\n",
    "   setSeed(1);                                    // set seed for repeatability\n",
    "   initializeSLiMModelType(\"nonWF\");              // non-Wright-Fisher to allow for local density-dependence and prevent clumping\n",
    "   initializeSLiMOptions(dimensionality=\"xy\");    // 2 dimensions\n",
    "   initializeTreeSeq(retainCoalescentOnly=F);     // keep all ancestors that remain in tree sequence\n",
    "   initializeMutationRate(0.0);                   // we will ignore mutations for now and just deal with the trees\n",
    "   initializeMutationType(\"m1\", 0.5, \"f\", 0.0);\n",
    "   initializeGenomicElementType(\"g1\", m1, 1.0);\n",
    "   initializeGenomicElement(g1, 0, 999999);       // 1Mb chromosome\n",
    "   initializeRecombinationRate(1e-8);             // some recombination so we get multiple trees\n",
    "\n",
    "   // parameter values\n",
    "   defineConstant(\"LAMBDA\", 4.0); // birth rate\n",
    "   defineConstant(\"K\", 2.0);      // carrying capacity per unit area\n",
    "   defineConstant(\"W\", 10);       // width and height of the area\n",
    "   defineConstant(\"SIGMA\", 0.1);  // interaction and dispersal distance\n",
    "   \n",
    "   // spatial interaction for local competition\n",
    "   initializeInteractionType(\"i1\", \"xy\", reciprocal=T, maxDistance = 10 * SIGMA);  // interaction for both mate choice and density dependence\n",
    "   i1.setInteractionFunction(\"n\", 1.0/(2*PI*SIGMA^2), SIGMA);                      // normally distributed around the focal individual with variance SIGMA^2 along both axes\n",
    "}\n",
    "\n",
    "reproduction() {\n",
    "   neighbor_density = i1.totalOfNeighborStrengths(individual);     // strength of competition felt from neighbours\n",
    "   num_offspring = rpois(1, LAMBDA / (1 + neighbor_density / K));  // number of offspring is Poisson distributed with a mean depending on LAMBDA, neighbor_density, and K\n",
    "   mate = i1.drawByStrength(individual, 1);                        // single mate drawn randomly weighted by interaction strengths\n",
    "   if (size(mate) > 0) {                                           // if there is a mate (might not be if no neighbors)\n",
    "       for (k in seqLen(num_offspring)) {                          // for each offspring\n",
    "           offspring = p1.addCrossed(individual, mate);            // create by recombination\n",
    "           pos = individual.spatialPosition + rnorm(2, 0, SIGMA);  // position of offspring is normally distributed around \"mother\" with variance SIGMA in both axes\n",
    "           offspring.setSpatialPosition(p1.pointReflected(pos));   // reflecting boundaries\n",
    "       }\n",
    "   }\n",
    "}\n",
    "\n",
    "1 early() {\n",
    "   \n",
    "   \n",
    "   sim.addSubpop(\"p1\", 2);  //start with just two ancestors (helps make everyone coalesce in a short time)                     \n",
    "\n",
    "   p1.setSpatialBounds(c(0.0, 0.0, W, W)); // set spatial bounds (square with width W)\n",
    "   \n",
    "   // start ancestors in 1x1 square in the center of range\n",
    "   p1.individuals.x = runif(p1.individualCount) + (W-1)/2; \n",
    "   p1.individuals.y = runif(p1.individualCount) + (W-1)/2;\n",
    "}\n",
    "\n",
    "early() { \n",
    "    p1.fitnessScaling = 1;                   // density dependence occurs in fecundity\n",
    "    inds = sim.subpopulations.individuals;\n",
    "    inds[inds.age > 0].fitnessScaling = 0.0; // enforce discrete generations\n",
    "}\n",
    "\n",
    "late() {\n",
    "   i1.evaluate(); //evaluate interaction strengths for next generation\n",
    "}\n",
    "\n",
    "late() {\n",
    "   sim.treeSeqRememberIndividuals(p1.individuals, permanent=F); // retain individuals remaining in the tree sequence\n",
    "}\n",
    "\n",
    "1000 late() { \n",
    "   sim.treeSeqOutput(\"spatial_sim.trees\"); //save the tree sequence\n",
    "   catn(\"Done.\");\n",
    "   sim.simulationFinished();\n",
    "}\n",
    "\n",
    "\"\"\""
   ]
  },
  {
   "cell_type": "markdown",
   "id": "c6feefc5-4dd7-4600-a77a-01a3f99693e2",
   "metadata": {},
   "source": [
    "now we run this from the command line (should get a \"0\" if it worked)"
   ]
  },
  {
   "cell_type": "code",
   "execution_count": 4,
   "id": "fce83054-7110-4726-bcd9-8ab10c11cdcf",
   "metadata": {},
   "outputs": [
    {
     "data": {
      "text/plain": [
       "0"
      ]
     },
     "execution_count": 4,
     "metadata": {},
     "output_type": "execute_result"
    }
   ],
   "source": [
    "os.system(\"echo '\" + SLiM_script + \"' | \" + SLiM) #we \"echo\" the text above and \"pipe\" it to SLiM"
   ]
  },
  {
   "cell_type": "markdown",
   "id": "e4fd2858-9f8c-40f6-9dba-35096b07da7e",
   "metadata": {},
   "source": [
    "## 1. load and simplify tree sequence to a sample (Nadine)"
   ]
  },
  {
   "cell_type": "markdown",
   "id": "32126575-8c35-47fc-8c1d-11915bfdf3da",
   "metadata": {},
   "source": [
    "just writing a very brief version here in the meantime, Nadine, so we can work on the sections below, but go ahead and update and annotate this as you like"
   ]
  },
  {
   "cell_type": "code",
   "execution_count": 5,
   "id": "9cc1cd68-5875-4477-940b-6cc5ec913f46",
   "metadata": {},
   "outputs": [
    {
     "data": {
      "text/html": [
       "\n",
       "            <div>\n",
       "              <style>\n",
       "                .tskit-table thead tr th {text-align: left;padding: 0.5em 0.5em;}\n",
       "                .tskit-table tbody tr td {padding: 0.5em 0.5em;}\n",
       "                .tskit-table tbody tr td:first-of-type {text-align: left;}\n",
       "                .tskit-details-label {vertical-align: top; padding-right:5px;}\n",
       "                .tskit-table-set {display: inline-flex;flex-wrap: wrap;margin: -12px 0 0 -12px;width: calc(100% + 12px);}\n",
       "                .tskit-table-set-table {margin: 12px 0 0 12px;}\n",
       "                details {display: inline-block;}\n",
       "                summary {cursor: pointer; outline: 0; display: list-item;}\n",
       "              </style>\n",
       "              <div class=\"tskit-table-set\">\n",
       "                <div class=\"tskit-table-set-table\">\n",
       "                  <table class=\"tskit-table\">\n",
       "                    <thead>\n",
       "                      <tr>\n",
       "                        <th style=\"padding:0;line-height:21px;\">\n",
       "                          <img style=\"height: 32px;display: inline-block;padding: 3px 5px 3px 0;\" src=\"https://raw.githubusercontent.com/tskit-dev/administrative/main/tskit_logo.svg\"/>\n",
       "                          <a target=\"_blank\" href=\"https://tskit.readthedocs.io/en/latest/python-api.html#the-treesequence-class\"> Tree Sequence </a>\n",
       "                        </th>\n",
       "                      </tr>\n",
       "                    </thead>\n",
       "                    <tbody>\n",
       "                      <tr><td>Trees</td><td>27</td></tr>\n",
       "                      <tr><td>Sequence Length</td><td>1000000.0</td></tr>\n",
       "                      <tr><td>Sample Nodes</td><td>5</td></tr>\n",
       "                      <tr><td>Total Size</td><td>348.2 KiB</td></tr>\n",
       "                      <tr>\n",
       "                        <td>Metadata</td><td style=\"text-align: left;\">\n",
       "                <div>\n",
       "                  <span class=\"tskit-details-label\"></span>\n",
       "                  <details open>\n",
       "                    <summary>dict</summary>\n",
       "                    \n",
       "                <div>\n",
       "                  <span class=\"tskit-details-label\">SLiM:</span>\n",
       "                  <details >\n",
       "                    <summary>dict</summary>\n",
       "                    file_version: 0.6<br/>generation: 1000<br/>model_type: nonWF<br/>nucleotide_based: False<br/>separate_sexes: False<br/>spatial_dimensionality: xy<br/>spatial_periodicity: <br/>stage: late<br/>\n",
       "                  </details>\n",
       "                </div>\n",
       "                <br/>\n",
       "                  </details>\n",
       "                </div>\n",
       "                </td></tr>\n",
       "                    </tbody>\n",
       "                  </table>\n",
       "                </div>\n",
       "                <div class=\"tskit-table-set-table\">\n",
       "                  <table class=\"tskit-table\">\n",
       "                    <thead>\n",
       "                      <tr>\n",
       "                        <th style=\"line-height:21px;\">Table</th>\n",
       "                        <th>Rows</th>\n",
       "                        <th>Size</th>\n",
       "                        <th>Has Metadata</th>\n",
       "                      </tr>\n",
       "                    </thead>\n",
       "                    <tbody>\n",
       "                    \n",
       "                  <tr>\n",
       "                    <td>Edges</td>\n",
       "                      <td>2616</td>\n",
       "                      <td>71.5 KiB</td>\n",
       "                      <td style=\"text-align: center;\">\n",
       "                        \n",
       "                      </td>\n",
       "                    </tr>\n",
       "                \n",
       "                  <tr>\n",
       "                    <td>Individuals</td>\n",
       "                      <td>2517</td>\n",
       "                      <td>158.8 KiB</td>\n",
       "                      <td style=\"text-align: center;\">\n",
       "                        ✅\n",
       "                      </td>\n",
       "                    </tr>\n",
       "                \n",
       "                  <tr>\n",
       "                    <td>Migrations</td>\n",
       "                      <td>0</td>\n",
       "                      <td>4 Bytes</td>\n",
       "                      <td style=\"text-align: center;\">\n",
       "                        \n",
       "                      </td>\n",
       "                    </tr>\n",
       "                \n",
       "                  <tr>\n",
       "                    <td>Mutations</td>\n",
       "                      <td>0</td>\n",
       "                      <td>1.2 KiB</td>\n",
       "                      <td style=\"text-align: center;\">\n",
       "                        \n",
       "                      </td>\n",
       "                    </tr>\n",
       "                \n",
       "                  <tr>\n",
       "                    <td>Nodes</td>\n",
       "                      <td>2575</td>\n",
       "                      <td>86.2 KiB</td>\n",
       "                      <td style=\"text-align: center;\">\n",
       "                        ✅\n",
       "                      </td>\n",
       "                    </tr>\n",
       "                \n",
       "                  <tr>\n",
       "                    <td>Populations</td>\n",
       "                      <td>1</td>\n",
       "                      <td>2.8 KiB</td>\n",
       "                      <td style=\"text-align: center;\">\n",
       "                        ✅\n",
       "                      </td>\n",
       "                    </tr>\n",
       "                \n",
       "                  <tr>\n",
       "                    <td>Provenances</td>\n",
       "                      <td>2</td>\n",
       "                      <td>5.6 KiB</td>\n",
       "                      <td style=\"text-align: center;\">\n",
       "                        \n",
       "                      </td>\n",
       "                    </tr>\n",
       "                \n",
       "                  <tr>\n",
       "                    <td>Sites</td>\n",
       "                      <td>0</td>\n",
       "                      <td>8 Bytes</td>\n",
       "                      <td style=\"text-align: center;\">\n",
       "                        \n",
       "                      </td>\n",
       "                    </tr>\n",
       "                \n",
       "                    </tbody>\n",
       "                  </table>\n",
       "                </div>\n",
       "              </div>\n",
       "            </div>\n",
       "            "
      ],
      "text/plain": [
       "<pyslim.slim_tree_sequence.SlimTreeSequence at 0x7faaf813ddf0>"
      ]
     },
     "execution_count": 5,
     "metadata": {},
     "output_type": "execute_result"
    }
   ],
   "source": [
    "ts = pyslim.load('spatial_sim.trees') #load tree sequence\n",
    "np.random.seed(1); n = 5; sampled_nodes = np.random.choice(ts.samples(), 5, replace=False) #take sample of n nodes without replacement (set seed for repeatability)\n",
    "sts = ts.simplify(sampled_nodes, keep_unary=True) #simplify but keep unary nodes & individuals\n",
    "# SVG(sts.draw_svg()) #draw if you wish (but kind of ugly with all the unary nodes)\n",
    "sts #print some summaries of the simplified tree sequence"
   ]
  },
  {
   "cell_type": "code",
   "execution_count": 6,
   "id": "bdde15f6-cb97-4c80-895c-01fc5ccaaba7",
   "metadata": {},
   "outputs": [
    {
     "data": {
      "image/svg+xml": [
       "<svg xmlns=\"http://www.w3.org/2000/svg\" xmlns:ev=\"http://www.w3.org/2001/xml-events\" xmlns:xlink=\"http://www.w3.org/1999/xlink\" baseProfile=\"full\" height=\"200\" version=\"1.1\" width=\"400\"><defs><style type=\"text/css\"><![CDATA[.background path {fill: #808080; fill-opacity:0}.background path:nth-child(odd) {fill-opacity:.1}.axes {font-size: 14px}.x-axis .tick .lab {font-weight: bold}.axes, .tree {font-size: 14px; text-anchor:middle}.y-axis line.grid {stroke: #FAFAFA}.y-axis > .lab text {transform: translateX(0.8em) rotate(-90deg)}.x-axis .tick g {transform: translateY(0.9em)}.x-axis > .lab text {transform: translateY(-0.8em)}.axes line, .edge {stroke:black; fill:none}.node > .sym {fill: black; stroke: none}.site > .sym {stroke: black}.mut text {fill: red; font-style: italic}.mut.extra text {fill: hotpink}.mut line {fill: none; stroke: none}.mut .sym {fill: none; stroke: red}.mut.extra .sym {stroke: hotpink}.node .mut .sym {stroke-width: 1.5px}.tree text, .tree-sequence text {dominant-baseline: central}.plotbox .lab.lft {text-anchor: end}.plotbox .lab.rgt {text-anchor: start}]]></style></defs><g class=\"tree-sequence\"><g class=\"background\"><path d=\"M20,0 l180,0 l0,138.2 l91.6218,25 l0,5 l-271.622,0 l0,-5 l0,-25 l0,-138.2z\"/><path d=\"M200,0 l180,0 l0,138.2 l0,25 l0,5 l-88.3782,0 l0,-5 l-91.6218,-25 l0,-138.2z\"/></g><g class=\"axes\"><g class=\"x-axis\"><g class=\"lab\" transform=\"translate(200,200)\"><text text-anchor=\"middle\">Genome position</text></g><line x1=\"20\" x2=\"380\" y1=\"163.2\" y2=\"163.2\"/><g class=\"tick\" transform=\"translate(20 163.2)\"><line x1=\"0\" x2=\"0\" y1=\"0\" y2=\"5\"/><g class=\"lab\" transform=\"translate(0,5)\"><text>0</text></g></g><g class=\"tick\" transform=\"translate(291.622 163.2)\"><line x1=\"0\" x2=\"0\" y1=\"0\" y2=\"5\"/><g class=\"lab\" transform=\"translate(0,5)\"><text>754505</text></g></g><g class=\"tick\" transform=\"translate(380 163.2)\"><line x1=\"0\" x2=\"0\" y1=\"0\" y2=\"5\"/><g class=\"lab\" transform=\"translate(0,5)\"><text>1000000</text></g></g></g></g><g class=\"plotbox trees\"><g class=\"tree t0\" transform=\"translate(20 0)\"><g class=\"plotbox\"><g class=\"i5 node n9 p0 root\" transform=\"translate(93.5 26.8)\"><g class=\"a9 i8 node n6 p0\" transform=\"translate(38.5 93.4051)\"><g class=\"a6 i3 leaf node n1 p0 sample\" transform=\"translate(-14 1.19495)\"><path class=\"edge\" d=\"M 0 0 V -1.19495 H 14\"/><rect class=\"sym\" height=\"6\" width=\"6\" x=\"-3\" y=\"-3\"/><text class=\"lab\" transform=\"translate(0 11)\">1</text></g><g class=\"a6 i4 leaf node n4 p0 sample\" transform=\"translate(14 1.19495)\"><path class=\"edge\" d=\"M 0 0 V -1.19495 H -14\"/><rect class=\"sym\" height=\"6\" width=\"6\" x=\"-3\" y=\"-3\"/><text class=\"lab\" transform=\"translate(0 11)\">4</text></g><path class=\"edge\" d=\"M 0 0 V -93.4051 H -38.5\"/><circle class=\"sym\" cx=\"0\" cy=\"0\" r=\"3\"/><text class=\"lab rgt\" transform=\"translate(3 -7.0)\">6</text></g><g class=\"a9 i6 node n8 p0\" transform=\"translate(-38.5 88.2269)\"><g class=\"a8 i0 leaf node n0 p0 sample\" transform=\"translate(-21 6.37305)\"><path class=\"edge\" d=\"M 0 0 V -6.37305 H 21\"/><rect class=\"sym\" height=\"6\" width=\"6\" x=\"-3\" y=\"-3\"/><text class=\"lab\" transform=\"translate(0 11)\">0</text></g><g class=\"a8 i9 node n5 p0\" transform=\"translate(21 5.37726)\"><g class=\"a5 i1 leaf node n2 p0 sample\" transform=\"translate(-14 0.995789)\"><path class=\"edge\" d=\"M 0 0 V -0.995789 H 14\"/><rect class=\"sym\" height=\"6\" width=\"6\" x=\"-3\" y=\"-3\"/><text class=\"lab\" transform=\"translate(0 11)\">2</text></g><g class=\"a5 i2 leaf node n3 p0 sample\" transform=\"translate(14 0.995789)\"><path class=\"edge\" d=\"M 0 0 V -0.995789 H -14\"/><rect class=\"sym\" height=\"6\" width=\"6\" x=\"-3\" y=\"-3\"/><text class=\"lab\" transform=\"translate(0 11)\">3</text></g><path class=\"edge\" d=\"M 0 0 V -5.37726 H -21\"/><circle class=\"sym\" cx=\"0\" cy=\"0\" r=\"3\"/><text class=\"lab rgt\" transform=\"translate(3 -7.0)\">5</text></g><path class=\"edge\" d=\"M 0 0 V -88.2269 H 38.5\"/><circle class=\"sym\" cx=\"0\" cy=\"0\" r=\"3\"/><text class=\"lab lft\" transform=\"translate(-3 -7.0)\">8</text></g><circle class=\"sym\" cx=\"0\" cy=\"0\" r=\"3\"/><text class=\"lab\" transform=\"translate(0 -11)\">9</text></g></g></g><g class=\"tree t1\" transform=\"translate(200 0)\"><g class=\"plotbox\"><g class=\"i5 node n9 p0 root\" transform=\"translate(93.5 26.8)\"><g class=\"a9 i8 node n6 p0\" transform=\"translate(38.5 93.4051)\"><g class=\"a6 i3 leaf node n1 p0 sample\" transform=\"translate(-14 1.19495)\"><path class=\"edge\" d=\"M 0 0 V -1.19495 H 14\"/><rect class=\"sym\" height=\"6\" width=\"6\" x=\"-3\" y=\"-3\"/><text class=\"lab\" transform=\"translate(0 11)\">1</text></g><g class=\"a6 i4 leaf node n4 p0 sample\" transform=\"translate(14 1.19495)\"><path class=\"edge\" d=\"M 0 0 V -1.19495 H -14\"/><rect class=\"sym\" height=\"6\" width=\"6\" x=\"-3\" y=\"-3\"/><text class=\"lab\" transform=\"translate(0 11)\">4</text></g><path class=\"edge\" d=\"M 0 0 V -93.4051 H -38.5\"/><circle class=\"sym\" cx=\"0\" cy=\"0\" r=\"3\"/><text class=\"lab rgt\" transform=\"translate(3 -7.0)\">6</text></g><g class=\"a9 i7 node n7 p0\" transform=\"translate(-38.5 88.8244)\"><g class=\"a7 i0 leaf node n0 p0 sample\" transform=\"translate(-21 5.77558)\"><path class=\"edge\" d=\"M 0 0 V -5.77558 H 21\"/><rect class=\"sym\" height=\"6\" width=\"6\" x=\"-3\" y=\"-3\"/><text class=\"lab\" transform=\"translate(0 11)\">0</text></g><g class=\"a7 i9 node n5 p0\" transform=\"translate(21 4.77979)\"><g class=\"a5 i1 leaf node n2 p0 sample\" transform=\"translate(-14 0.995789)\"><path class=\"edge\" d=\"M 0 0 V -0.995789 H 14\"/><rect class=\"sym\" height=\"6\" width=\"6\" x=\"-3\" y=\"-3\"/><text class=\"lab\" transform=\"translate(0 11)\">2</text></g><g class=\"a5 i2 leaf node n3 p0 sample\" transform=\"translate(14 0.995789)\"><path class=\"edge\" d=\"M 0 0 V -0.995789 H -14\"/><rect class=\"sym\" height=\"6\" width=\"6\" x=\"-3\" y=\"-3\"/><text class=\"lab\" transform=\"translate(0 11)\">3</text></g><path class=\"edge\" d=\"M 0 0 V -4.77979 H -21\"/><circle class=\"sym\" cx=\"0\" cy=\"0\" r=\"3\"/><text class=\"lab rgt\" transform=\"translate(3 -7.0)\">5</text></g><path class=\"edge\" d=\"M 0 0 V -88.8244 H 38.5\"/><circle class=\"sym\" cx=\"0\" cy=\"0\" r=\"3\"/><text class=\"lab lft\" transform=\"translate(-3 -7.0)\">7</text></g><circle class=\"sym\" cx=\"0\" cy=\"0\" r=\"3\"/><text class=\"lab\" transform=\"translate(0 -11)\">9</text></g></g></g></g></g></svg>"
      ],
      "text/plain": [
       "<IPython.core.display.SVG object>"
      ]
     },
     "execution_count": 6,
     "metadata": {},
     "output_type": "execute_result"
    }
   ],
   "source": [
    "# draw the tree sequence without the unary nodes if you'd like! (there will likely be many fewer trees)\n",
    "SVG(sts.simplify(keep_unary=False).draw_svg())"
   ]
  },
  {
   "cell_type": "markdown",
   "id": "f2d9d0fb-5e6d-4a32-9f00-cd5c03e9d5b2",
   "metadata": {},
   "source": [
    "## 2. locate children and parents (Pam)"
   ]
  },
  {
   "cell_type": "markdown",
   "id": "60a3de03-e408-4f18-84e3-c8695789b62c",
   "metadata": {},
   "source": [
    "### traversing up a tree"
   ]
  },
  {
   "cell_type": "code",
   "execution_count": 7,
   "id": "e8891fe2-737f-4e74-85f9-a5aca170d15b",
   "metadata": {},
   "outputs": [
    {
     "data": {
      "text/html": [
       "\n",
       "            <div>\n",
       "              <style>\n",
       "                .tskit-table thead tr th {text-align: left;padding: 0.5em 0.5em;}\n",
       "                .tskit-table tbody tr td {padding: 0.5em 0.5em;}\n",
       "                .tskit-table tbody tr td:first-of-type {text-align: left;}\n",
       "                .tskit-details-label {vertical-align: top; padding-right:5px;}\n",
       "                .tskit-table-set {display: inline-flex;flex-wrap: wrap;margin: -12px 0 0 -12px;width: calc(100% + 12px);}\n",
       "                .tskit-table-set-table {margin: 12px 0 0 12px;}\n",
       "                details {display: inline-block;}\n",
       "                summary {cursor: pointer; outline: 0; display: list-item;}\n",
       "              </style>\n",
       "              <div class=\"tskit-table-set\">\n",
       "                <div class=\"tskit-table-set-table\">\n",
       "                  <table class=\"tskit-table\">\n",
       "                    <thead>\n",
       "                      <tr>\n",
       "                        <th style=\"padding:0;line-height:21px;\">\n",
       "                          <img style=\"height: 32px;display: inline-block;padding: 3px 5px 3px 0;\" src=\"https://raw.githubusercontent.com/tskit-dev/administrative/main/tskit_logo.svg\"/>\n",
       "                          <a target=\"_blank\" href=\"https://tskit.readthedocs.io/en/latest/python-api.html#the-tree-class\"> Tree </a>\n",
       "                        </th>\n",
       "                      </tr>\n",
       "                    </thead>\n",
       "                    <tbody>\n",
       "                      <tr><td>Index</td><td>0</td></tr>\n",
       "                      <tr><td>Interval</td><td>0-26539 (26539)</td></tr>\n",
       "                      <tr><td>Roots</td><td>1</td></tr>\n",
       "                      <tr><td>Nodes</td><td>2575</td></tr>\n",
       "                      <tr><td>Sites</td><td>0</td></tr>\n",
       "                      <tr><td>Mutations</td><td>0</td></tr>\n",
       "                      <tr><td>Total Branch Length</td><td>2035</td></tr>\n",
       "                    </tbody>\n",
       "                  </table>\n",
       "                </div>\n",
       "              </div>\n",
       "            </div>\n",
       "            "
      ],
      "text/plain": [
       "<tskit.trees.Tree at 0x11c3fefd0>"
      ]
     },
     "execution_count": 7,
     "metadata": {},
     "output_type": "execute_result"
    }
   ],
   "source": [
    "sts.at_index(0)\n"
   ]
  },
  {
   "cell_type": "markdown",
   "id": "47418916-457b-4e17-985c-eb0d0dcb158d",
   "metadata": {},
   "source": [
    "### all edges in the tree sequence"
   ]
  },
  {
   "cell_type": "markdown",
   "id": "45a9ec63-7e8f-43db-9138-20d36674ecb0",
   "metadata": {},
   "source": [
    "I gotta fix this code because it's really slowing down the notebook."
   ]
  },
  {
   "cell_type": "code",
   "execution_count": 8,
   "id": "c04454d4-bac9-4b45-be6c-be947cfe1c89",
   "metadata": {},
   "outputs": [],
   "source": [
    "#p_ch_nodes = [] #we make an empty array to hold parent and child nodes\n",
    "\n",
    "#for edge in sts.edges():\n",
    " #   p_ch_nodes.append(edge.parent) #we append the parent node for the edge\n",
    " #   p_ch_nodes.append(edge.child) #we append the child node for the edge\n",
    "# now each parent node is followed by its child node\n",
    "\n",
    "\n",
    "\n",
    "#p_ch_inds = []\n",
    "\n",
    "#for i in p_ch_nodes:\n",
    " #   for node in sts.nodes():\n",
    " #       if i == node.id:\n",
    "#            p_ch_inds.append(node.individual)\n",
    "# now each parent individual is followed by its child individual"
   ]
  },
  {
   "cell_type": "markdown",
   "id": "ac394228-3ab1-40a5-b3bc-4705407ead04",
   "metadata": {},
   "source": [
    "## 3. 2D plotting space trees (Esther)"
   ]
  },
  {
   "cell_type": "markdown",
   "id": "af3fd192-fe54-4a84-a181-82b09a4dae9a",
   "metadata": {},
   "source": [
    "Let's use some of this information and plot some individuals!"
   ]
  },
  {
   "cell_type": "markdown",
   "id": "86f813a8-7dbb-4535-9ab7-ed52044202ae",
   "metadata": {},
   "source": [
    "Esther's note: Hm... for some reason there is no plot showing up! In shows up in my rough draft though...If anyone knows what's wrong then any help would be greatly appreciated! ^_^"
   ]
  },
  {
   "cell_type": "markdown",
   "id": "c20b3302-f80f-4015-aa87-5475273f23b4",
   "metadata": {},
   "source": [
    "### A. Basic 2D plot"
   ]
  },
  {
   "cell_type": "code",
   "execution_count": null,
   "id": "74e1c2ab-eb20-4856-a925-f91c53a184dd",
   "metadata": {},
   "outputs": [],
   "source": [
    "#for t in np.unique(sts.individual_times):\n",
    "    #print(f\"There are {np.sum(sts.individual_times == t)} individuals from time {t}.\")\n",
    "    \n",
    "#This shows the amount of individuals after recapitating tree sequence; this specific code goes til t=999\n",
    "#The list is very long so the code is \"#\"ed to reduce the length of this notebook. Remove the first two #'s to see the list!\n"
   ]
  },
  {
   "cell_type": "code",
   "execution_count": 23,
   "id": "39287fab-83b3-4969-878c-f4d477617b1d",
   "metadata": {},
   "outputs": [],
   "source": [
    "#First, we need to define some groups that we want to work with:\n",
    "alive = sts.individuals_alive_at(0) #all individuals alive at t=0\n",
    "locs = sts.individual_locations[alive, :] #the locations of individuals from alive \n",
    "\n",
    "#Next, set up the scatter plot! We will use present day individuals (alive/locs):\n",
    "x=locs[:,0] # x-axis values of plot\n",
    "y=locs[:,1] # y-axis values of plot\n",
    "\n",
    "#Now add some labels:\n",
    "plt.xlabel('x position') # x-axis label\n",
    "plt.ylabel('y position') # y-axis label\n",
    "plt.title('Individual locations at present day t=0') # plot title\n",
    "\n",
    "#generate our scatter plot:\n",
    "plt.scatter(x, y, color= \"cornflowerblue\", marker= \"*\", s=50)\n",
    "#this function generates plot, with the basic format (x axis, y axis) and additions:\n",
    "#customize color with \"color = __\" or c = \"xkcd:____\"; e.g. c=\"xkcd:cornflower blue\" & color=\"cornflowerblue\"\n",
    "#customize shape of points with \"marker = <shape of points>\", * = stars!\n",
    "#s = size of points\n",
    "\n",
    "# function to show the plot\n",
    "plt.show()\n",
    "\n",
    "#Note: feel free to replace the t value inside <alive> to plot other time stamps."
   ]
  },
  {
   "cell_type": "markdown",
   "id": "55c9ea51-ec9f-49e2-b318-dac155f17939",
   "metadata": {},
   "source": [
    "### B. Some Useful Applications"
   ]
  },
  {
   "cell_type": "markdown",
   "id": "3255949d-b852-4d9b-b9ce-c4f127e92d07",
   "metadata": {},
   "source": [
    "This section builds on from the code above, with minor adjustments: 1. Plot two or more time stamps on one plot. 2. Plot subplots for each time stamp on one line. 3. Plot children and their parents from time stamps and trace them back with lines."
   ]
  },
  {
   "cell_type": "code",
   "execution_count": 21,
   "id": "88356ce5-6ac3-4012-929b-6cebee4b447c",
   "metadata": {},
   "outputs": [],
   "source": [
    "#1. Plot two or more different time stamps on one plot (Demonstrated using t=0, t=350, & t=999):\n",
    "#Note: This plot is a simple way to compare relative locations of individuals on a single plot.\n",
    "\n",
    "#Our first set of x,y for t=0 (already defined above)\n",
    "x1 = locs[:,0]\n",
    "y1 = locs[:,1]\n",
    "plt.scatter(x1, y1,label= \"t=0\", color=\"cornflowerblue\", marker= \"*\", s=50) #label=legend\n",
    "\n",
    "#x,y for t=350\n",
    "then = sts.individuals_alive_at(350)\n",
    "two = sts.individual_locations[then, :] \n",
    "x2 = two[:,0]\n",
    "y2 = two[:,1]\n",
    "plt.scatter(x2, y2, label= \"t=350\", color=\"pink\", marker= \"^\", s=50)\n",
    "\n",
    "#x,y for t=999\n",
    "final = sts.individuals_alive_at(999)\n",
    "three = sts.individual_locations[final, :] \n",
    "x3 = three[:,0]\n",
    "y3 = three[:,1]\n",
    "plt.scatter(x3, y3, label= \"t=999\", c= \"xkcd:seafoam green\", marker= \"s\", s=50)\n",
    "\n",
    "\n",
    "#Finally, label the plot:\n",
    "plt.xlabel('x position')\n",
    "plt.ylabel('y position')\n",
    "plt.title('Individual locations of individuals at t=0, t=350, and t=999')\n",
    "plt.legend()\n",
    "\n",
    "plt.show()\n",
    "\n",
    "#^We can keep using this method to plot as many time stamps as we want!\n",
    "\n",
    "#Note: Sometimes, individual locations are the same at different time points and they may overlap\n",
    "    #Try using different sizes of points (s) to see if this is happening!"
   ]
  },
  {
   "cell_type": "code",
   "execution_count": null,
   "id": "7e4c370c-7968-4092-8b6e-3b4a81c372ec",
   "metadata": {},
   "outputs": [],
   "source": [
    "#2. Plot 2+ subplots on one line (Demonstrated using t=0, t=350, & t=999):\n",
    "#Note: the same time stamps are used to directly compare the layout to the previous one.\n",
    "#This method requires no legend as each time stamp gets its own subplot, but relative locations across time may be a bit more difficult to see.\n",
    "\n",
    "#Use the same variables as above\n",
    "x1=locs[:,0]\n",
    "y1=locs[:,1]\n",
    "\n",
    "x2=two[:,0]\n",
    "y2=two[:,1]\n",
    "\n",
    "x3 = three[:,0]\n",
    "y3 = three[:,1]\n",
    "\n",
    "#Set 3 subplots in 1 row\n",
    "fig, ax = plt.subplots(1, 3, figsize=(20, 5)) # 1 row, 3 columns. set figure size (length, width)\n",
    "\n",
    "#Defining custom 'xlim' and 'ylim' values to better match our individuals' locations.\n",
    "custom_xlim = (0, 6) #range from (min, max)\n",
    "custom_ylim = (0, 7.5) #range from (min, max)\n",
    "#Note: the previous plot does not start at the origin. For a more direct comparison, set different ranges.\n",
    "\n",
    "#Now, Set the custom values for all axes.\n",
    "plt.setp(ax, xlim=custom_xlim, ylim=custom_ylim)\n",
    "\n",
    "#Set three subplots, each with different (x,y) data, titles, axis labels.\n",
    "ax[0].scatter(x1, y1, color=\"cornflowerblue\", marker= \"*\", s=50)\n",
    "ax[0].set_xlabel('x position')\n",
    "ax[0].set_ylabel('y position')\n",
    "ax[0].set_title('Individual locations of individuals at t=0')\n",
    "\n",
    "ax[1].scatter(x2, y2, color=\"pink\", marker= \"^\", s=50)\n",
    "ax[1].set_xlabel('x position')\n",
    "ax[1].set_ylabel('y position')\n",
    "ax[1].set_title('Individual locations of individuals at t=350')\n",
    "\n",
    "ax[2].scatter(x3, y3, color= \"xkcd:seafoam green\", marker= \"s\", s=50)\n",
    "ax[2].set_xlabel('x position')\n",
    "ax[2].set_ylabel('y position')\n",
    "ax[2].set_title('Individual locations of individuals at t=999')\n",
    "\n",
    "plt.show()"
   ]
  },
  {
   "cell_type": "markdown",
   "id": "9f518b4b-8b69-4059-b8cf-a85823e4c155",
   "metadata": {},
   "source": [
    "Something super weird is happening!! Help!!"
   ]
  },
  {
   "cell_type": "code",
   "execution_count": 18,
   "id": "d26a4d47-ce85-454c-bf4f-0783b6b1b9ed",
   "metadata": {},
   "outputs": [],
   "source": [
    "#3. Child-Parent locations, connected together with lines (Need Pam's code from section above to do!)"
   ]
  },
  {
   "cell_type": "markdown",
   "id": "4b2498ca-ce1d-46e2-922d-437ae593d9d8",
   "metadata": {},
   "source": [
    "## 4. 3D plotting (Alex)"
   ]
  },
  {
   "cell_type": "code",
   "execution_count": 19,
   "id": "9befcf0f-7c1f-4355-bfb2-024fae933c5e",
   "metadata": {},
   "outputs": [
    {
     "data": {
      "application/vnd.jupyter.widget-view+json": {
       "model_id": "c4f3d019075b4dcc979ee12371835133",
       "version_major": 2,
       "version_minor": 0
      },
      "text/plain": [
       "Canvas(toolbar=Toolbar(toolitems=[('Home', 'Reset original view', 'home', 'home'), ('Back', 'Back to previous …"
      ]
     },
     "metadata": {},
     "output_type": "display_data"
    }
   ],
   "source": [
    "#Now it's time to plot something! 3d plots are great for looking at changes in patterns over time.\n",
    "#Let's say we want to see how the positions of individuals in the tree sequence change over time.\n",
    "#It's easiest and cleanest to set this up by defining a function in Python, then running it for the tree sequence.\n",
    "\n",
    "def positions(ts):\n",
    "    #First, we set up the plot using matplotlib.\n",
    "    fig = plt.figure()\n",
    "    threed = fig.add_subplot(projection='3d')\n",
    "\n",
    "    #We need to create lists in which we will hold the x- and y-coordinates of individuals & the time they were born.\n",
    "    x, y, t = [], [], []\n",
    "    \n",
    "    #Now, we iterate over the individuals in the tree sequence and get their positions & birthdates.\n",
    "    for ind in ts.individuals():\n",
    "        #The location attribute of the individual class is an array of the coordinates where the individual is located.\n",
    "        x_pos = ind.location[0]\n",
    "        y_pos = ind.location[1]\n",
    "        time = ind.time\n",
    "        #Now, we append these values to the lists we created.\n",
    "        x.append(x_pos)\n",
    "        y.append(y_pos)\n",
    "        t.append(time)\n",
    "    #Time to put it on the plot! First, let's set the z-axis to include all of the generational numbers in our simulation.\n",
    "    #Because tree sequences count generations backwards, we put the axis in reverse so the final gen is on the top.\n",
    "    threed.set_zlim([1000,0])\n",
    "    #So that we can see our data, let's set the size of the points to 2.0. The default size is 10.0.\n",
    "    threed.scatter3D(x, y, t, s=2.0)\n",
    "\n",
    "#Let's give our function a go with the simplified tree sequence now:\n",
    "positions(sts)\n",
    "#With the %matplotlib widget feature at the very beginning of the code, we can rotate our graph\n",
    "# & see precisely how individuals are positioned in each generation."
   ]
  },
  {
   "cell_type": "markdown",
   "id": "3b5b94ee-5e06-4403-b851-b31d655dc3ea",
   "metadata": {},
   "source": [
    "# EXTENSIONS"
   ]
  },
  {
   "cell_type": "markdown",
   "id": "4f7f14fd-4d0a-45bd-afe7-1632b222fed4",
   "metadata": {},
   "source": [
    "## mutations/selected alleles (Alex)"
   ]
  },
  {
   "cell_type": "code",
   "execution_count": 18,
   "id": "07f76aa0-fbf1-46e9-83c6-35552aa33017",
   "metadata": {},
   "outputs": [
    {
     "name": "stdout",
     "output_type": "stream",
     "text": [
      "╔═════════════════════════╗\n",
      "║TreeSequence             ║\n",
      "╠═══════════════╤═════════╣\n",
      "║Trees          │       27║\n",
      "╟───────────────┼─────────╢\n",
      "║Sequence Length│1000000.0║\n",
      "╟───────────────┼─────────╢\n",
      "║Sample Nodes   │        5║\n",
      "╟───────────────┼─────────╢\n",
      "║Total Size     │358.5 KiB║\n",
      "╚═══════════════╧═════════╝\n",
      "╔═══════════╤════╤═════════╤════════════╗\n",
      "║Table      │Rows│Size     │Has Metadata║\n",
      "╠═══════════╪════╪═════════╪════════════╣\n",
      "║Edges      │2616│ 71.5 KiB│          No║\n",
      "╟───────────┼────┼─────────┼────────────╢\n",
      "║Individuals│2517│158.8 KiB│         Yes║\n",
      "╟───────────┼────┼─────────┼────────────╢\n",
      "║Migrations │   0│  4 Bytes│          No║\n",
      "╟───────────┼────┼─────────┼────────────╢\n",
      "║Mutations  │ 211│  7.2 KiB│          No║\n",
      "╟───────────┼────┼─────────┼────────────╢\n",
      "║Nodes      │2575│ 86.2 KiB│         Yes║\n",
      "╟───────────┼────┼─────────┼────────────╢\n",
      "║Populations│   1│  2.8 KiB│         Yes║\n",
      "╟───────────┼────┼─────────┼────────────╢\n",
      "║Provenances│   3│  6.4 KiB│          No║\n",
      "╟───────────┼────┼─────────┼────────────╢\n",
      "║Sites      │ 211│  3.5 KiB│          No║\n",
      "╚═══════════╧════╧═════════╧════════════╝\n",
      "\n"
     ]
    }
   ],
   "source": [
    "#One of the tools available from msprime is the \"sim_mutations\" function, which overlays neutral mutations.\n",
    "#Let's use this function on our tree sequence.\n",
    "mts = msprime.sim_mutations(sts, rate=1e-7, random_seed=1) #Seed number added for replicability.\n",
    "print(mts)"
   ]
  },
  {
   "cell_type": "code",
   "execution_count": 21,
   "id": "a12d28e4-f4b7-4708-b887-c3c66b092708",
   "metadata": {},
   "outputs": [
    {
     "name": "stdout",
     "output_type": "stream",
     "text": [
      "Mutation(id=0, site=0, node=2535, derived_state='T', parent=-1, metadata={'mutation_list': []}, time=960.8744981496129)\n"
     ]
    }
   ],
   "source": [
    "#Now, let's take a look at one of our mutations.\n",
    "print(mts.mutation(0))"
   ]
  },
  {
   "cell_type": "code",
   "execution_count": null,
   "id": "82c17b8c-863c-4df0-8aca-d24e4ff4fd51",
   "metadata": {},
   "outputs": [],
   "source": []
  },
  {
   "cell_type": "markdown",
   "id": "9112a716-220f-4b59-96a8-e16b0514dc2e",
   "metadata": {},
   "source": [
    "## discrete space / metapopulations (Pam)"
   ]
  },
  {
   "cell_type": "markdown",
   "id": "3792ed1a-31dd-49ba-8d8b-9752377d8e5b",
   "metadata": {},
   "source": [
    "## slendr (fair game!)"
   ]
  }
 ],
 "metadata": {
  "kernelspec": {
   "display_name": "Python 3",
   "language": "python",
   "name": "python3"
  },
  "language_info": {
   "codemirror_mode": {
    "name": "ipython",
    "version": 3
   },
   "file_extension": ".py",
   "mimetype": "text/x-python",
   "name": "python",
   "nbconvert_exporter": "python",
   "pygments_lexer": "ipython3",
   "version": "3.9.5"
  }
 },
 "nbformat": 4,
 "nbformat_minor": 5
}
