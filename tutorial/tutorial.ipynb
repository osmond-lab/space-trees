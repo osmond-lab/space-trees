{
 "cells": [
  {
   "cell_type": "markdown",
   "id": "c187475d-44b2-432b-8fcf-2db035e8ae95",
   "metadata": {},
   "source": [
    "# tutorial"
   ]
  },
  {
   "cell_type": "markdown",
   "id": "1398698b-a64b-473c-a0f0-4e54b2fc433e",
   "metadata": {},
   "source": [
    "link to helpful python docs"
   ]
  },
  {
   "cell_type": "markdown",
   "id": "0e2cd9f5-8143-4178-8e30-f08d0ca39501",
   "metadata": {},
   "source": [
    "which packages you need and what they do and link to docs"
   ]
  },
  {
   "cell_type": "markdown",
   "id": "e4fd2858-9f8c-40f6-9dba-35096b07da7e",
   "metadata": {},
   "source": [
    "## 1. load and simplify tree sequence to a sample"
   ]
  },
  {
   "cell_type": "markdown",
   "id": "55b370a7-1cb9-479b-a9a4-e6529ab9fc4d",
   "metadata": {},
   "source": [
    "include slim code? or in github"
   ]
  },
  {
   "cell_type": "markdown",
   "id": "f2d9d0fb-5e6d-4a32-9f00-cd5c03e9d5b2",
   "metadata": {},
   "source": [
    "## 2. locate children and parents"
   ]
  },
  {
   "cell_type": "markdown",
   "id": "ac394228-3ab1-40a5-b3bc-4705407ead04",
   "metadata": {},
   "source": [
    "## 3. 2D plotting space trees"
   ]
  },
  {
   "cell_type": "markdown",
   "id": "4b2498ca-ce1d-46e2-922d-437ae593d9d8",
   "metadata": {},
   "source": [
    "## 4. 3D plotting"
   ]
  },
  {
   "cell_type": "markdown",
   "id": "3b5b94ee-5e06-4403-b851-b31d655dc3ea",
   "metadata": {},
   "source": [
    "# extensions"
   ]
  },
  {
   "cell_type": "markdown",
   "id": "4f7f14fd-4d0a-45bd-afe7-1632b222fed4",
   "metadata": {},
   "source": [
    "## mutations/selected alleles"
   ]
  },
  {
   "cell_type": "markdown",
   "id": "9112a716-220f-4b59-96a8-e16b0514dc2e",
   "metadata": {},
   "source": [
    "## discrete space / metapopulations"
   ]
  },
  {
   "cell_type": "markdown",
   "id": "3792ed1a-31dd-49ba-8d8b-9752377d8e5b",
   "metadata": {},
   "source": [
    "## slendr"
   ]
  },
  {
   "cell_type": "markdown",
   "id": "345051b1-d990-4cc4-bdc6-517c535488c1",
   "metadata": {},
   "source": []
  }
 ],
 "metadata": {
  "kernelspec": {
   "display_name": "Python 3",
   "language": "python",
   "name": "python3"
  },
  "language_info": {
   "codemirror_mode": {
    "name": "ipython",
    "version": 3
   },
   "file_extension": ".py",
   "mimetype": "text/x-python",
   "name": "python",
   "nbconvert_exporter": "python",
   "pygments_lexer": "ipython3",
   "version": "3.9.1"
  }
 },
 "nbformat": 4,
 "nbformat_minor": 5
}
