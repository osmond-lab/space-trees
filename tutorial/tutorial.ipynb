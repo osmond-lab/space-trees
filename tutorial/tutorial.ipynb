{
 "cells": [
  {
   "cell_type": "markdown",
   "id": "c187475d-44b2-432b-8fcf-2db035e8ae95",
   "metadata": {},
   "source": [
    "# tutorial"
   ]
  },
  {
   "cell_type": "markdown",
   "id": "1398698b-a64b-473c-a0f0-4e54b2fc433e",
   "metadata": {},
   "source": [
    "A. link to helpful python docs\n",
    "\n",
    "Recapitation, Simplification, and Mutation: https://pyslim.readthedocs.io/en/latest/tutorial.html#recapitation-simplification-and-mutation\n",
    "\n",
    "Saving Individuals in .trees file: https://pyslim.readthedocs.io/en/latest/tutorial.html#obtaining-and-saving-individuals\n",
    "\n",
    "Some Basic Plotting:\n",
    "https://www.geeksforgeeks.org/graph-plotting-in-python-set-1/\n",
    "(Esther's note: I'm not sure if this site is reliable but it helped me, so feel free to remove!)"
   ]
  },
  {
   "cell_type": "markdown",
   "id": "0e2cd9f5-8143-4178-8e30-f08d0ca39501",
   "metadata": {},
   "source": [
    "B. Which packages you need and what they do and link to docs\n",
    "\n",
    "What is pyslim + how to install: https://pypi.org/project/pyslim/\n",
    "\n",
    "What is tskit: https://tskit.dev/tskit/docs/stable/introduction.html\n",
    "    + Install tskit: https://tskit.dev/tskit/docs/stable/installation.html\n",
    "\n",
    "What is NumPy, install, import: https://numpy.org/doc/stable/user/absolute_beginners.html\n",
    "\n",
    "What is Msprime: https://tskit.dev/msprime/docs/stable/quickstart.html\n",
    "    + Install Msprime: https://tskit.dev/msprime/docs/stable/installation.html#sec-installation\n",
    "\n",
    "Install IPython: https://ipython.org/install.html\n",
    "\t(SVG from IPython.display allows us to display trees in SVG format)\n",
    "    \n",
    "What is Matplotlib: https://matplotlib.org/stable/index.html\n",
    "    + Install Matplotlib: https://matplotlib.org/stable/users/installing.html\n",
    "    (We can use things like matplotlib.pyplot as plt for plotting, matplotlib.cm as cm \n",
    "    for color maps, and various widgets)"
   ]
  },
  {
   "cell_type": "code",
   "execution_count": 1,
   "id": "8e0e8c86-5b70-4ac2-b3a4-51885c0e9f1b",
   "metadata": {},
   "outputs": [],
   "source": [
    "#We can import these packages in our notebooks like this:\n",
    "import pyslim, tskit\n",
    "import numpy as np\n",
    "import msprime\n",
    "from IPython.display import SVG #for displaying trees in svg format\n",
    "import matplotlib\n",
    "import matplotlib.pyplot as plt #plotting\n",
    "import matplotlib.cm as cm #color maps\n",
    "%matplotlib inline"
   ]
  },
  {
   "cell_type": "code",
   "execution_count": 2,
   "id": "42890186-b7bb-463c-9812-5eec580a5f0d",
   "metadata": {},
   "outputs": [],
   "source": [
    "import os #module to run commands on the code line from within python\n",
    "SLiM = 'slim' #command to run SLiM from your command line"
   ]
  },
  {
   "cell_type": "markdown",
   "id": "3f2ec760-0a82-4bc6-b75e-9ca0ed56feed",
   "metadata": {},
   "source": [
    "# BASICS"
   ]
  },
  {
   "cell_type": "markdown",
   "id": "32df76dc-c224-44ac-bc0c-048fc81070a2",
   "metadata": {},
   "source": [
    "## 0. run a slim sim (Matt)"
   ]
  },
  {
   "cell_type": "markdown",
   "id": "efb43539-1eb8-46d1-a059-ae0bbdb0a1aa",
   "metadata": {},
   "source": [
    "We first write out our SLiM script as text"
   ]
  },
  {
   "cell_type": "code",
   "execution_count": 5,
   "id": "f78f7058-fbb0-4ca5-adf6-c21877b2c550",
   "metadata": {},
   "outputs": [],
   "source": [
    "SLiM_script = \"\"\"\n",
    "initialize() {\n",
    "\n",
    "   setSeed(1);                                    // set seed for repeatability\n",
    "   initializeSLiMModelType(\"nonWF\");              // non-Wright-Fisher to allow for local density-dependence and prevent clumping\n",
    "   initializeSLiMOptions(dimensionality=\"xy\");    // 2 dimensions\n",
    "   initializeTreeSeq(retainCoalescentOnly=F);     // keep all ancestors that remain in tree sequence\n",
    "   initializeMutationRate(0.0);                   // we will ignore mutations for now and just deal with the trees\n",
    "   initializeMutationType(\"m1\", 0.5, \"f\", 0.0);\n",
    "   initializeGenomicElementType(\"g1\", m1, 1.0);\n",
    "   initializeGenomicElement(g1, 0, 999999);       // 1Mb chromosome\n",
    "   initializeRecombinationRate(1e-8);             // some recombination so we get multiple trees\n",
    "\n",
    "   // parameter values\n",
    "   defineConstant(\"LAMBDA\", 4.0); // birth rate\n",
    "   defineConstant(\"K\", 2.0);      // carrying capacity per unit area\n",
    "   defineConstant(\"W\", 10);       // width and height of the area\n",
    "   defineConstant(\"SIGMA\", 0.1);  // interaction and dispersal distance\n",
    "   \n",
    "   // spatial interaction for local competition\n",
    "   initializeInteractionType(\"i1\", \"xy\", reciprocal=T, maxDistance = 10 * SIGMA);  // interaction for both mate choice and density dependence\n",
    "   i1.setInteractionFunction(\"n\", 1.0/(2*PI*SIGMA^2), SIGMA);                      // normally distributed around the focal individual with variance SIGMA^2 along both axes\n",
    "}\n",
    "\n",
    "reproduction() {\n",
    "   neighbor_density = i1.totalOfNeighborStrengths(individual);     // strength of competition felt from neighbours\n",
    "   num_offspring = rpois(1, LAMBDA / (1 + neighbor_density / K));  // number of offspring is Poisson distributed with a mean depending on LAMBDA, neighbor_density, and K\n",
    "   mate = i1.drawByStrength(individual, 1);                        // single mate drawn randomly weighted by interaction strengths\n",
    "   if (size(mate) > 0) {                                           // if there is a mate (might not be if no neighbors)\n",
    "       for (k in seqLen(num_offspring)) {                          // for each offspring\n",
    "           offspring = p1.addCrossed(individual, mate);            // create by recombination\n",
    "           pos = individual.spatialPosition + rnorm(2, 0, SIGMA);  // position of offspring is normally distributed around \"mother\" with variance SIGMA in both axes\n",
    "           offspring.setSpatialPosition(p1.pointReflected(pos));   // reflecting boundaries\n",
    "       }\n",
    "   }\n",
    "}\n",
    "\n",
    "1 early() {\n",
    "   \n",
    "   \n",
    "   sim.addSubpop(\"p1\", 2);  //start with just two ancestors (helps make everyone coalesce in a short time)                     \n",
    "\n",
    "   p1.setSpatialBounds(c(0.0, 0.0, W, W)); // set spatial bounds (square with width W)\n",
    "   \n",
    "   // start ancestors in 1x1 square in the center of range\n",
    "   p1.individuals.x = runif(p1.individualCount) + (W-1)/2; \n",
    "   p1.individuals.y = runif(p1.individualCount) + (W-1)/2;\n",
    "}\n",
    "\n",
    "early() { \n",
    "    p1.fitnessScaling = 1;                   // density dependence occurs in fecundity\n",
    "    inds = sim.subpopulations.individuals;\n",
    "    inds[inds.age > 0].fitnessScaling = 0.0; // enforce discrete generations\n",
    "}\n",
    "\n",
    "late() {\n",
    "   i1.evaluate(); //evaluate interaction strengths for next generation\n",
    "}\n",
    "\n",
    "late() {\n",
    "   sim.treeSeqRememberIndividuals(p1.individuals, permanent=F); // retain individuals remaining in the tree sequence\n",
    "}\n",
    "\n",
    "1000 late() { \n",
    "   sim.treeSeqOutput(\"spatial_sim.trees\"); //save the tree sequence\n",
    "   catn(\"Done.\");\n",
    "   sim.simulationFinished();\n",
    "}\n",
    "\n",
    "\"\"\""
   ]
  },
  {
   "cell_type": "markdown",
   "id": "c6feefc5-4dd7-4600-a77a-01a3f99693e2",
   "metadata": {},
   "source": [
    "now we run this from the command line (should get a \"0\" if it worked)"
   ]
  },
  {
   "cell_type": "code",
   "execution_count": 7,
   "id": "fce83054-7110-4726-bcd9-8ab10c11cdcf",
   "metadata": {},
   "outputs": [
    {
     "data": {
      "text/plain": [
       "0"
      ]
     },
     "execution_count": 7,
     "metadata": {},
     "output_type": "execute_result"
    }
   ],
   "source": [
    "os.system(\"echo '\" + SLiM_script + \"' | \" + SLiM) #we \"echo\" the text above and \"pipe\" it to SLiM"
   ]
  },
  {
   "cell_type": "markdown",
   "id": "e4fd2858-9f8c-40f6-9dba-35096b07da7e",
   "metadata": {},
   "source": [
    "## 1. load and simplify tree sequence to a sample (Nadine)"
   ]
  },
  {
   "cell_type": "markdown",
   "id": "32126575-8c35-47fc-8c1d-11915bfdf3da",
   "metadata": {},
   "source": [
    "just writing a very brief version here in the meantime, Nadine, so we can work on the sections below, but go ahead and update and annotate this as you like"
   ]
  },
  {
   "cell_type": "code",
   "execution_count": 12,
   "id": "9cc1cd68-5875-4477-940b-6cc5ec913f46",
   "metadata": {},
   "outputs": [
    {
     "data": {
      "text/html": [
       "\n",
       "            <div>\n",
       "              <style>\n",
       "                .tskit-table thead tr th {text-align: left;}\n",
       "                .tskit-table tbody tr td:first-of-type {text-align: left;}\n",
       "                .tskit-details-label {vertical-align: top; padding-right:5px;}\n",
       "                .tskit-table-set {display: inline-flex;flex-wrap: wrap;margin: -12px 0 0 -12px;width: calc(100% + 12px);}\n",
       "                .tskit-table-set-table {margin: 12px 0 0 12px;}\n",
       "                details {display: inline-block;}\n",
       "                summary {cursor: pointer; outline: 0; display: list-item;}\n",
       "              </style>\n",
       "              <div class=\"tskit-table-set\">\n",
       "                <div class=\"tskit-table-set-table\">\n",
       "                  <table class=\"tskit-table\">\n",
       "                    <thead>\n",
       "                      <tr>\n",
       "                        <th style=\"padding:0;line-height:21px;\">\n",
       "                          <img style=\"height: 32px;display: inline-block;padding: 3px 5px 3px 0;\"src=\"https://raw.githubusercontent.com/tskit-dev/administrative/main/tskit_logo.svg\"/>\n",
       "                          <a target=\"_blank\" href=\"https://tskit.readthedocs.io/en/latest/python-api.html#the-treesequence-class\"> Tree Sequence\n",
       "                        </th>\n",
       "                      </tr>\n",
       "                    </thead>\n",
       "                    <tbody>\n",
       "                      <tr><td>Trees</td><td>27</td></tr>\n",
       "                      <tr><td>Sequence Length</td><td>1000000.0</td></tr>\n",
       "                      <tr><td>Sample Nodes</td><td>5</td></tr>\n",
       "                      <tr><td>Total Size</td><td>338.4 KiB</td></tr>\n",
       "                      <tr>\n",
       "                        <td>Metadata</td><td style=\"text-align: left;\">\n",
       "                <div>\n",
       "                  <span class=\"tskit-details-label\"></span>\n",
       "                  <details open>\n",
       "                    <summary>dict</summary>\n",
       "                    \n",
       "                <div>\n",
       "                  <span class=\"tskit-details-label\">SLiM:</span>\n",
       "                  <details >\n",
       "                    <summary>dict</summary>\n",
       "                    file_version: 0.6<br/>generation: 1000<br/>model_type: nonWF<br/>nucleotide_based: False<br/>separate_sexes: False<br/>spatial_dimensionality: xy<br/>spatial_periodicity: <br/>stage: late<br/>\n",
       "                  </details>\n",
       "                </div>\n",
       "                <br/>\n",
       "                  </details>\n",
       "                </div>\n",
       "                </td></tr>\n",
       "                    </tbody>\n",
       "                  </table>\n",
       "                </div>\n",
       "                <div class=\"tskit-table-set-table\">\n",
       "                  <table class=\"tskit-table\">\n",
       "                    <thead>\n",
       "                      <tr>\n",
       "                        <th style=\"line-height:21px;\">Table</th>\n",
       "                        <th>Rows</th>\n",
       "                        <th>Size</th>\n",
       "                        <th>Has Metadata</th>\n",
       "                      </tr>\n",
       "                    </thead>\n",
       "                    <tbody>\n",
       "                    \n",
       "                  <tr>\n",
       "                    <td>Edges</td>\n",
       "                      <td>2616</td>\n",
       "                      <td>71.5 KiB</td>\n",
       "                      <td style=\"text-align: center;\">\n",
       "                        \n",
       "                      </td>\n",
       "                    </tr>\n",
       "                \n",
       "                  <tr>\n",
       "                    <td>Individuals</td>\n",
       "                      <td>2517</td>\n",
       "                      <td>148.9 KiB</td>\n",
       "                      <td style=\"text-align: center;\">\n",
       "                        ✅\n",
       "                      </td>\n",
       "                    </tr>\n",
       "                \n",
       "                  <tr>\n",
       "                    <td>Migrations</td>\n",
       "                      <td>0</td>\n",
       "                      <td>4 Bytes</td>\n",
       "                      <td style=\"text-align: center;\">\n",
       "                        \n",
       "                      </td>\n",
       "                    </tr>\n",
       "                \n",
       "                  <tr>\n",
       "                    <td>Mutations</td>\n",
       "                      <td>0</td>\n",
       "                      <td>1.2 KiB</td>\n",
       "                      <td style=\"text-align: center;\">\n",
       "                        \n",
       "                      </td>\n",
       "                    </tr>\n",
       "                \n",
       "                  <tr>\n",
       "                    <td>Nodes</td>\n",
       "                      <td>2575</td>\n",
       "                      <td>86.2 KiB</td>\n",
       "                      <td style=\"text-align: center;\">\n",
       "                        ✅\n",
       "                      </td>\n",
       "                    </tr>\n",
       "                \n",
       "                  <tr>\n",
       "                    <td>Populations</td>\n",
       "                      <td>1</td>\n",
       "                      <td>2.8 KiB</td>\n",
       "                      <td style=\"text-align: center;\">\n",
       "                        ✅\n",
       "                      </td>\n",
       "                    </tr>\n",
       "                \n",
       "                  <tr>\n",
       "                    <td>Provenances</td>\n",
       "                      <td>2</td>\n",
       "                      <td>5.6 KiB</td>\n",
       "                      <td style=\"text-align: center;\">\n",
       "                        \n",
       "                      </td>\n",
       "                    </tr>\n",
       "                \n",
       "                  <tr>\n",
       "                    <td>Sites</td>\n",
       "                      <td>0</td>\n",
       "                      <td>8 Bytes</td>\n",
       "                      <td style=\"text-align: center;\">\n",
       "                        \n",
       "                      </td>\n",
       "                    </tr>\n",
       "                \n",
       "                    </tbody>\n",
       "                  </table>\n",
       "                </div>\n",
       "              </div>\n",
       "            </div>\n",
       "            "
      ],
      "text/plain": [
       "<pyslim.slim_tree_sequence.SlimTreeSequence at 0x1279e01f0>"
      ]
     },
     "execution_count": 12,
     "metadata": {},
     "output_type": "execute_result"
    }
   ],
   "source": [
    "ts = pyslim.load('spatial_sim.trees') #load tree sequence\n",
    "np.random.seed(1); n = 5; sampled_nodes = np.random.choice(ts.samples(), 5, replace=False) #take sample of n nodes without replacement (set seed for repeatability)\n",
    "sts = ts.simplify(sampled_nodes, keep_unary=True) #simplify but keep unary nodes & individuals\n",
    "# SVG(sts.draw_svg()) #draw if you wish (but kind of ugly with all the unary nodes)\n",
    "sts #print some summaries of the simplified tree sequence"
   ]
  },
  {
   "cell_type": "code",
   "execution_count": 19,
   "id": "bdde15f6-cb97-4c80-895c-01fc5ccaaba7",
   "metadata": {},
   "outputs": [
    {
     "data": {
      "image/svg+xml": [
       "<svg xmlns=\"http://www.w3.org/2000/svg\" xmlns:ev=\"http://www.w3.org/2001/xml-events\" xmlns:xlink=\"http://www.w3.org/1999/xlink\" baseProfile=\"full\" height=\"200\" version=\"1.1\" width=\"400\"><defs><style type=\"text/css\"><![CDATA[.axis {font-weight: bold}.tree, .axis {font-size: 14px; text-anchor:middle}.edge {stroke: black; fill: none}.node > .sym {fill: black; stroke: none}.tree text {dominant-baseline: middle}.tree .lab.lft {text-anchor: end}.tree .lab.rgt {text-anchor: start}.mut {fill: red; font-style: italic}]]></style></defs><g class=\"tree-sequence\"><g class=\"background\"><polygon fill=\"#F1F1F1\" points=\"20,185 20,180 20,160 20,0 200.0,0 200.0,160 291.622,180 291.622,185\"/></g><g class=\"trees\"><g class=\"treebox t0\" transform=\"translate(20 30)\"><g class=\"tree t0\"><g class=\"i5 node n9 p0 root\" transform=\"translate(93.3333 30.0)\"><g class=\"a9 i8 node n6 p0\" transform=\"translate(36.6667 78.9895)\"><g class=\"a6 i3 leaf node n1 p0 sample\" transform=\"translate(-13.3333 1.01053)\"><path class=\"edge\" d=\"M 0 0 V -1.01053 H 13.3333\"/><circle class=\"sym\" cx=\"0\" cy=\"0\" r=\"3\"/><text class=\"lab\" transform=\"translate(0 12)\">1</text></g><g class=\"a6 i4 leaf node n4 p0 sample\" transform=\"translate(13.3333 1.01053)\"><path class=\"edge\" d=\"M 0 0 V -1.01053 H -13.3333\"/><circle class=\"sym\" cx=\"0\" cy=\"0\" r=\"3\"/><text class=\"lab\" transform=\"translate(0 12)\">4</text></g><path class=\"edge\" d=\"M 0 0 V -78.9895 H -36.6667\"/><circle class=\"sym\" cx=\"0\" cy=\"0\" r=\"3\"/><text class=\"lab rgt\" transform=\"translate(3 -6)\">6</text></g><g class=\"a9 i6 node n8 p0\" transform=\"translate(-36.6667 74.6105)\"><g class=\"a8 i0 leaf node n0 p0 sample\" transform=\"translate(-20.0 5.38947)\"><path class=\"edge\" d=\"M 0 0 V -5.38947 H 20.0\"/><circle class=\"sym\" cx=\"0\" cy=\"0\" r=\"3\"/><text class=\"lab\" transform=\"translate(0 12)\">0</text></g><g class=\"a8 i9 node n5 p0\" transform=\"translate(20.0 4.54737)\"><g class=\"a5 i1 leaf node n2 p0 sample\" transform=\"translate(-13.3333 0.842105)\"><path class=\"edge\" d=\"M 0 0 V -0.842105 H 13.3333\"/><circle class=\"sym\" cx=\"0\" cy=\"0\" r=\"3\"/><text class=\"lab\" transform=\"translate(0 12)\">2</text></g><g class=\"a5 i2 leaf node n3 p0 sample\" transform=\"translate(13.3333 0.842105)\"><path class=\"edge\" d=\"M 0 0 V -0.842105 H -13.3333\"/><circle class=\"sym\" cx=\"0\" cy=\"0\" r=\"3\"/><text class=\"lab\" transform=\"translate(0 12)\">3</text></g><path class=\"edge\" d=\"M 0 0 V -4.54737 H -20.0\"/><circle class=\"sym\" cx=\"0\" cy=\"0\" r=\"3\"/><text class=\"lab rgt\" transform=\"translate(3 -6)\">5</text></g><path class=\"edge\" d=\"M 0 0 V -74.6105 H 36.6667\"/><circle class=\"sym\" cx=\"0\" cy=\"0\" r=\"3\"/><text class=\"lab lft\" transform=\"translate(-3 -6)\">8</text></g><circle class=\"sym\" cx=\"0\" cy=\"0\" r=\"3\"/><text class=\"lab\" transform=\"translate(0 -10)\">9</text></g></g></g><g class=\"treebox t1\" transform=\"translate(200.0 30)\"><g class=\"tree t1\"><g class=\"i5 node n9 p0 root\" transform=\"translate(93.3333 30.0)\"><g class=\"a9 i8 node n6 p0\" transform=\"translate(36.6667 78.9895)\"><g class=\"a6 i3 leaf node n1 p0 sample\" transform=\"translate(-13.3333 1.01053)\"><path class=\"edge\" d=\"M 0 0 V -1.01053 H 13.3333\"/><circle class=\"sym\" cx=\"0\" cy=\"0\" r=\"3\"/><text class=\"lab\" transform=\"translate(0 12)\">1</text></g><g class=\"a6 i4 leaf node n4 p0 sample\" transform=\"translate(13.3333 1.01053)\"><path class=\"edge\" d=\"M 0 0 V -1.01053 H -13.3333\"/><circle class=\"sym\" cx=\"0\" cy=\"0\" r=\"3\"/><text class=\"lab\" transform=\"translate(0 12)\">4</text></g><path class=\"edge\" d=\"M 0 0 V -78.9895 H -36.6667\"/><circle class=\"sym\" cx=\"0\" cy=\"0\" r=\"3\"/><text class=\"lab rgt\" transform=\"translate(3 -6)\">6</text></g><g class=\"a9 i7 node n7 p0\" transform=\"translate(-36.6667 75.1158)\"><g class=\"a7 i0 leaf node n0 p0 sample\" transform=\"translate(-20.0 4.88421)\"><path class=\"edge\" d=\"M 0 0 V -4.88421 H 20.0\"/><circle class=\"sym\" cx=\"0\" cy=\"0\" r=\"3\"/><text class=\"lab\" transform=\"translate(0 12)\">0</text></g><g class=\"a7 i9 node n5 p0\" transform=\"translate(20.0 4.04211)\"><g class=\"a5 i1 leaf node n2 p0 sample\" transform=\"translate(-13.3333 0.842105)\"><path class=\"edge\" d=\"M 0 0 V -0.842105 H 13.3333\"/><circle class=\"sym\" cx=\"0\" cy=\"0\" r=\"3\"/><text class=\"lab\" transform=\"translate(0 12)\">2</text></g><g class=\"a5 i2 leaf node n3 p0 sample\" transform=\"translate(13.3333 0.842105)\"><path class=\"edge\" d=\"M 0 0 V -0.842105 H -13.3333\"/><circle class=\"sym\" cx=\"0\" cy=\"0\" r=\"3\"/><text class=\"lab\" transform=\"translate(0 12)\">3</text></g><path class=\"edge\" d=\"M 0 0 V -4.04211 H -20.0\"/><circle class=\"sym\" cx=\"0\" cy=\"0\" r=\"3\"/><text class=\"lab rgt\" transform=\"translate(3 -6)\">5</text></g><path class=\"edge\" d=\"M 0 0 V -75.1158 H 36.6667\"/><circle class=\"sym\" cx=\"0\" cy=\"0\" r=\"3\"/><text class=\"lab lft\" transform=\"translate(-3 -6)\">7</text></g><circle class=\"sym\" cx=\"0\" cy=\"0\" r=\"3\"/><text class=\"lab\" transform=\"translate(0 -10)\">9</text></g></g></g></g><g class=\"axis\"><line stroke=\"black\" x1=\"20\" x2=\"380\" y1=\"180\" y2=\"180\"/><line stroke=\"black\" x1=\"20\" x2=\"20\" y1=\"180\" y2=\"185\"/><g transform=\"translate(20, 200)\"><text font-size=\"14\" font-weight=\"bold\" text-anchor=\"middle\">0</text></g><line stroke=\"black\" x1=\"291.622\" x2=\"291.622\" y1=\"180\" y2=\"185\"/><g transform=\"translate(291.622, 200)\"><text font-size=\"14\" font-weight=\"bold\" text-anchor=\"middle\">754505</text></g><line stroke=\"black\" x1=\"380.0\" x2=\"380.0\" y1=\"180\" y2=\"185\"/><g transform=\"translate(380.0, 200)\"><text font-size=\"14\" font-weight=\"bold\" text-anchor=\"middle\">1000000</text></g></g></g></svg>"
      ],
      "text/plain": [
       "<IPython.core.display.SVG object>"
      ]
     },
     "execution_count": 19,
     "metadata": {},
     "output_type": "execute_result"
    }
   ],
   "source": [
    "# draw the tree sequence without the unary nodes if you'd like! (there will likely be many fewer trees)\n",
    "SVG(sts.simplify(keep_unary=False).draw_svg())"
   ]
  },
  {
   "cell_type": "markdown",
   "id": "f2d9d0fb-5e6d-4a32-9f00-cd5c03e9d5b2",
   "metadata": {},
   "source": [
    "## 2. locate children and parents (Pam)"
   ]
  },
  {
   "cell_type": "markdown",
   "id": "60a3de03-e408-4f18-84e3-c8695789b62c",
   "metadata": {},
   "source": [
    "### traversing up a tree"
   ]
  },
  {
   "cell_type": "markdown",
   "id": "47418916-457b-4e17-985c-eb0d0dcb158d",
   "metadata": {},
   "source": [
    "### all edges in the tree sequence"
   ]
  },
  {
   "cell_type": "markdown",
   "id": "ac394228-3ab1-40a5-b3bc-4705407ead04",
   "metadata": {},
   "source": [
    "## 3. 2D plotting space trees (Esther)"
   ]
  },
  {
   "cell_type": "markdown",
   "id": "4b2498ca-ce1d-46e2-922d-437ae593d9d8",
   "metadata": {},
   "source": [
    "## 4. 3D plotting (Alex)"
   ]
  },
  {
   "cell_type": "markdown",
   "id": "3b5b94ee-5e06-4403-b851-b31d655dc3ea",
   "metadata": {},
   "source": [
    "# EXTENSIONS"
   ]
  },
  {
   "cell_type": "markdown",
   "id": "4f7f14fd-4d0a-45bd-afe7-1632b222fed4",
   "metadata": {},
   "source": [
    "## mutations/selected alleles (Alex)"
   ]
  },
  {
   "cell_type": "markdown",
   "id": "9112a716-220f-4b59-96a8-e16b0514dc2e",
   "metadata": {},
   "source": [
    "## discrete space / metapopulations (Pam)"
   ]
  },
  {
   "cell_type": "markdown",
   "id": "3792ed1a-31dd-49ba-8d8b-9752377d8e5b",
   "metadata": {},
   "source": [
    "## slendr (fair game!)"
   ]
  },
  {
   "cell_type": "markdown",
   "id": "345051b1-d990-4cc4-bdc6-517c535488c1",
   "metadata": {},
   "source": []
  }
 ],
 "metadata": {
  "kernelspec": {
   "display_name": "Python 3",
   "language": "python",
   "name": "python3"
  },
  "language_info": {
   "codemirror_mode": {
    "name": "ipython",
    "version": 3
   },
   "file_extension": ".py",
   "mimetype": "text/x-python",
   "name": "python",
   "nbconvert_exporter": "python",
   "pygments_lexer": "ipython3",
   "version": "3.9.1"
  }
 },
 "nbformat": 4,
 "nbformat_minor": 5
}
