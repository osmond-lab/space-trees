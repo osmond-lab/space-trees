{
 "cells": [
  {
   "cell_type": "markdown",
   "id": "c187475d-44b2-432b-8fcf-2db035e8ae95",
   "metadata": {},
   "source": [
    "# tutorial"
   ]
  },
  {
   "cell_type": "markdown",
   "id": "1398698b-a64b-473c-a0f0-4e54b2fc433e",
   "metadata": {},
   "source": [
    "### A. Links to helpful python docs\n",
    "\n",
    "Recapitation, Simplification, and Mutation: https://pyslim.readthedocs.io/en/latest/tutorial.html#recapitation-simplification-and-mutation\n",
    "\n",
    "Saving Individuals in .trees file: https://pyslim.readthedocs.io/en/latest/tutorial.html#obtaining-and-saving-individuals\n",
    "\n",
    "Python tutorial on lists, functions, loops, and more: https://docs.python.org/3/tutorial/\n",
    "\n",
    "Python API for pyslim: https://pyslim.readthedocs.io/en/latest/python_api.html"
   ]
  },
  {
   "cell_type": "markdown",
   "id": "0e2cd9f5-8143-4178-8e30-f08d0ca39501",
   "metadata": {},
   "source": [
    "### B. Which packages you need + what they do and link to docs\n",
    "\n",
    "What is pyslim + how to install: https://pypi.org/project/pyslim/\n",
    "\n",
    "What is tskit: https://tskit.dev/tskit/docs/stable/introduction.html\n",
    "    + Install tskit: https://tskit.dev/tskit/docs/stable/installation.html\n",
    "\n",
    "What is NumPy, install, import: https://numpy.org/doc/stable/user/absolute_beginners.html\n",
    "\n",
    "What is Msprime: https://tskit.dev/msprime/docs/stable/quickstart.html\n",
    "    + Install Msprime: https://tskit.dev/msprime/docs/stable/installation.html#sec-installation\n",
    "\n",
    "Install IPython: https://ipython.org/install.html\n",
    "\t(SVG from IPython.display allows us to display trees in SVG format)\n",
    "    \n",
    "What is Matplotlib: https://matplotlib.org/stable/index.html\n",
    "    + Install Matplotlib: https://matplotlib.org/stable/users/installing.html\n",
    "    (We can use things like matplotlib.pyplot as plt for plotting https://matplotlib.org/stable/tutorials/introductory/pyplot.html#sphx-glr-tutorials-introductory-pyplot-py, matplotlib.cm as cm \n",
    "    for color maps, and various widgets)"
   ]
  },
  {
   "cell_type": "code",
   "execution_count": 1,
   "id": "8e0e8c86-5b70-4ac2-b3a4-51885c0e9f1b",
   "metadata": {},
   "outputs": [],
   "source": [
    "#We can import these packages into our notebook like this:\n",
    "\n",
    "import pyslim, tskit\n",
    "import numpy as np\n",
    "import msprime\n",
    "from IPython.display import SVG #for displaying trees in svg format\n",
    "import matplotlib\n",
    "import matplotlib.pyplot as plt #plotting\n",
    "import matplotlib.cm as cm #color maps\n",
    "#If we want to be able to rotate 3D plots, we can set up the matplotlib widget tool:\n",
    "%matplotlib widget\n",
    "#%matplotlib inline"
   ]
  },
  {
   "cell_type": "code",
   "execution_count": 2,
   "id": "42890186-b7bb-463c-9812-5eec580a5f0d",
   "metadata": {},
   "outputs": [],
   "source": [
    "import os #module to run commands on the code line from within python\n",
    "SLiM = 'slim' #command to run SLiM from your command line"
   ]
  },
  {
   "cell_type": "markdown",
   "id": "3f2ec760-0a82-4bc6-b75e-9ca0ed56feed",
   "metadata": {},
   "source": [
    "# BASICS"
   ]
  },
  {
   "cell_type": "markdown",
   "id": "32df76dc-c224-44ac-bc0c-048fc81070a2",
   "metadata": {},
   "source": [
    "## 0. run a slim sim (Matt)"
   ]
  },
  {
   "cell_type": "markdown",
   "id": "efb43539-1eb8-46d1-a059-ae0bbdb0a1aa",
   "metadata": {},
   "source": [
    "We first write out our SLiM script as text"
   ]
  },
  {
   "cell_type": "code",
   "execution_count": 3,
   "id": "f78f7058-fbb0-4ca5-adf6-c21877b2c550",
   "metadata": {},
   "outputs": [],
   "source": [
    "SLiM_script = \"\"\"\n",
    "initialize() {\n",
    "\n",
    "   setSeed(1);                                    // set seed for repeatability\n",
    "   initializeSLiMModelType(\"nonWF\");              // non-Wright-Fisher to allow for local density-dependence and prevent clumping\n",
    "   initializeSLiMOptions(dimensionality=\"xy\");    // 2 dimensions\n",
    "   initializeTreeSeq(retainCoalescentOnly=F);     // keep all ancestors that remain in tree sequence\n",
    "   initializeMutationRate(0.0);                   // we will ignore mutations for now and just deal with the trees\n",
    "   initializeMutationType(\"m1\", 0.5, \"f\", 0.0);\n",
    "   initializeGenomicElementType(\"g1\", m1, 1.0);\n",
    "   initializeGenomicElement(g1, 0, 999999);       // 1Mb chromosome\n",
    "   initializeRecombinationRate(1e-8);             // some recombination so we get multiple trees\n",
    "\n",
    "   // parameter values\n",
    "   defineConstant(\"LAMBDA\", 4.0); // birth rate\n",
    "   defineConstant(\"K\", 2.0);      // carrying capacity per unit area\n",
    "   defineConstant(\"W\", 10);       // width and height of the area\n",
    "   defineConstant(\"SIGMA\", 0.1);  // interaction and dispersal distance\n",
    "   \n",
    "   // spatial interaction for local competition\n",
    "   initializeInteractionType(\"i1\", \"xy\", reciprocal=T, maxDistance = 10 * SIGMA);  // interaction for both mate choice and density dependence\n",
    "   i1.setInteractionFunction(\"n\", 1.0/(2*PI*SIGMA^2), SIGMA);                      // normally distributed around the focal individual with variance SIGMA^2 along both axes\n",
    "}\n",
    "\n",
    "reproduction() {\n",
    "   neighbor_density = i1.totalOfNeighborStrengths(individual);     // strength of competition felt from neighbours\n",
    "   num_offspring = rpois(1, LAMBDA / (1 + neighbor_density / K));  // number of offspring is Poisson distributed with a mean depending on LAMBDA, neighbor_density, and K\n",
    "   mate = i1.drawByStrength(individual, 1);                        // single mate drawn randomly weighted by interaction strengths\n",
    "   if (size(mate) > 0) {                                           // if there is a mate (might not be if no neighbors)\n",
    "       for (k in seqLen(num_offspring)) {                          // for each offspring\n",
    "           offspring = p1.addCrossed(individual, mate);            // create by recombination\n",
    "           pos = individual.spatialPosition + rnorm(2, 0, SIGMA);  // position of offspring is normally distributed around \"mother\" with variance SIGMA in both axes\n",
    "           offspring.setSpatialPosition(p1.pointReflected(pos));   // reflecting boundaries\n",
    "       }\n",
    "   }\n",
    "}\n",
    "\n",
    "1 early() {\n",
    "   \n",
    "   \n",
    "   sim.addSubpop(\"p1\", 2);  //start with just two ancestors (helps make everyone coalesce in a short time)                     \n",
    "\n",
    "   p1.setSpatialBounds(c(0.0, 0.0, W, W)); // set spatial bounds (square with width W)\n",
    "   \n",
    "   // start ancestors in 1x1 square in the center of range\n",
    "   p1.individuals.x = runif(p1.individualCount) + (W-1)/2; \n",
    "   p1.individuals.y = runif(p1.individualCount) + (W-1)/2;\n",
    "}\n",
    "\n",
    "early() { \n",
    "    p1.fitnessScaling = 1;                   // density dependence occurs in fecundity\n",
    "    inds = sim.subpopulations.individuals;\n",
    "    inds[inds.age > 0].fitnessScaling = 0.0; // enforce discrete generations\n",
    "}\n",
    "\n",
    "late() {\n",
    "   i1.evaluate(); //evaluate interaction strengths for next generation\n",
    "}\n",
    "\n",
    "late() {\n",
    "   sim.treeSeqRememberIndividuals(p1.individuals, permanent=F); // retain individuals remaining in the tree sequence\n",
    "}\n",
    "\n",
    "1000 late() { \n",
    "   sim.treeSeqOutput(\"spatial_sim.trees\"); //save the tree sequence\n",
    "   catn(\"Done.\");\n",
    "   sim.simulationFinished();\n",
    "}\n",
    "\n",
    "\"\"\""
   ]
  },
  {
   "cell_type": "markdown",
   "id": "c6feefc5-4dd7-4600-a77a-01a3f99693e2",
   "metadata": {},
   "source": [
    "now we run this from the command line (should get a \"0\" if it worked)"
   ]
  },
  {
   "cell_type": "code",
   "execution_count": 4,
   "id": "fce83054-7110-4726-bcd9-8ab10c11cdcf",
   "metadata": {},
   "outputs": [
    {
     "data": {
      "text/plain": [
       "0"
      ]
     },
     "execution_count": 4,
     "metadata": {},
     "output_type": "execute_result"
    }
   ],
   "source": [
    "os.system(\"echo '\" + SLiM_script + \"' | \" + SLiM) #we \"echo\" the text above and \"pipe\" it to SLiM"
   ]
  },
  {
   "cell_type": "markdown",
   "id": "e4fd2858-9f8c-40f6-9dba-35096b07da7e",
   "metadata": {},
   "source": [
    "## 1. load and simplify tree sequence to a sample (Nadine)"
   ]
  },
  {
   "cell_type": "markdown",
   "id": "32126575-8c35-47fc-8c1d-11915bfdf3da",
   "metadata": {},
   "source": [
    "just writing a very brief version here in the meantime, Nadine, so we can work on the sections below, but go ahead and update and annotate this as you like"
   ]
  },
  {
   "cell_type": "code",
   "execution_count": 5,
   "id": "9cc1cd68-5875-4477-940b-6cc5ec913f46",
   "metadata": {},
   "outputs": [
    {
     "data": {
      "text/html": [
       "\n",
       "            <div>\n",
       "              <style>\n",
       "                .tskit-table thead tr th {text-align: left;padding: 0.5em 0.5em;}\n",
       "                .tskit-table tbody tr td {padding: 0.5em 0.5em;}\n",
       "                .tskit-table tbody tr td:first-of-type {text-align: left;}\n",
       "                .tskit-details-label {vertical-align: top; padding-right:5px;}\n",
       "                .tskit-table-set {display: inline-flex;flex-wrap: wrap;margin: -12px 0 0 -12px;width: calc(100% + 12px);}\n",
       "                .tskit-table-set-table {margin: 12px 0 0 12px;}\n",
       "                details {display: inline-block;}\n",
       "                summary {cursor: pointer; outline: 0; display: list-item;}\n",
       "              </style>\n",
       "              <div class=\"tskit-table-set\">\n",
       "                <div class=\"tskit-table-set-table\">\n",
       "                  <table class=\"tskit-table\">\n",
       "                    <thead>\n",
       "                      <tr>\n",
       "                        <th style=\"padding:0;line-height:21px;\">\n",
       "                          <img style=\"height: 32px;display: inline-block;padding: 3px 5px 3px 0;\" src=\"https://raw.githubusercontent.com/tskit-dev/administrative/main/tskit_logo.svg\"/>\n",
       "                          <a target=\"_blank\" href=\"https://tskit.readthedocs.io/en/latest/python-api.html#the-treesequence-class\"> Tree Sequence </a>\n",
       "                        </th>\n",
       "                      </tr>\n",
       "                    </thead>\n",
       "                    <tbody>\n",
       "                      <tr><td>Trees</td><td>27</td></tr>\n",
       "                      <tr><td>Sequence Length</td><td>1000000.0</td></tr>\n",
       "                      <tr><td>Sample Nodes</td><td>5</td></tr>\n",
       "                      <tr><td>Total Size</td><td>348.2 KiB</td></tr>\n",
       "                      <tr>\n",
       "                        <td>Metadata</td><td style=\"text-align: left;\">\n",
       "                <div>\n",
       "                  <span class=\"tskit-details-label\"></span>\n",
       "                  <details open>\n",
       "                    <summary>dict</summary>\n",
       "                    \n",
       "                <div>\n",
       "                  <span class=\"tskit-details-label\">SLiM:</span>\n",
       "                  <details >\n",
       "                    <summary>dict</summary>\n",
       "                    file_version: 0.6<br/>generation: 1000<br/>model_type: nonWF<br/>nucleotide_based: False<br/>separate_sexes: False<br/>spatial_dimensionality: xy<br/>spatial_periodicity: <br/>stage: late<br/>\n",
       "                  </details>\n",
       "                </div>\n",
       "                <br/>\n",
       "                  </details>\n",
       "                </div>\n",
       "                </td></tr>\n",
       "                    </tbody>\n",
       "                  </table>\n",
       "                </div>\n",
       "                <div class=\"tskit-table-set-table\">\n",
       "                  <table class=\"tskit-table\">\n",
       "                    <thead>\n",
       "                      <tr>\n",
       "                        <th style=\"line-height:21px;\">Table</th>\n",
       "                        <th>Rows</th>\n",
       "                        <th>Size</th>\n",
       "                        <th>Has Metadata</th>\n",
       "                      </tr>\n",
       "                    </thead>\n",
       "                    <tbody>\n",
       "                    \n",
       "                  <tr>\n",
       "                    <td>Edges</td>\n",
       "                      <td>2616</td>\n",
       "                      <td>71.5 KiB</td>\n",
       "                      <td style=\"text-align: center;\">\n",
       "                        \n",
       "                      </td>\n",
       "                    </tr>\n",
       "                \n",
       "                  <tr>\n",
       "                    <td>Individuals</td>\n",
       "                      <td>2517</td>\n",
       "                      <td>158.8 KiB</td>\n",
       "                      <td style=\"text-align: center;\">\n",
       "                        ✅\n",
       "                      </td>\n",
       "                    </tr>\n",
       "                \n",
       "                  <tr>\n",
       "                    <td>Migrations</td>\n",
       "                      <td>0</td>\n",
       "                      <td>4 Bytes</td>\n",
       "                      <td style=\"text-align: center;\">\n",
       "                        \n",
       "                      </td>\n",
       "                    </tr>\n",
       "                \n",
       "                  <tr>\n",
       "                    <td>Mutations</td>\n",
       "                      <td>0</td>\n",
       "                      <td>1.2 KiB</td>\n",
       "                      <td style=\"text-align: center;\">\n",
       "                        \n",
       "                      </td>\n",
       "                    </tr>\n",
       "                \n",
       "                  <tr>\n",
       "                    <td>Nodes</td>\n",
       "                      <td>2575</td>\n",
       "                      <td>86.2 KiB</td>\n",
       "                      <td style=\"text-align: center;\">\n",
       "                        ✅\n",
       "                      </td>\n",
       "                    </tr>\n",
       "                \n",
       "                  <tr>\n",
       "                    <td>Populations</td>\n",
       "                      <td>1</td>\n",
       "                      <td>2.8 KiB</td>\n",
       "                      <td style=\"text-align: center;\">\n",
       "                        ✅\n",
       "                      </td>\n",
       "                    </tr>\n",
       "                \n",
       "                  <tr>\n",
       "                    <td>Provenances</td>\n",
       "                      <td>2</td>\n",
       "                      <td>5.6 KiB</td>\n",
       "                      <td style=\"text-align: center;\">\n",
       "                        \n",
       "                      </td>\n",
       "                    </tr>\n",
       "                \n",
       "                  <tr>\n",
       "                    <td>Sites</td>\n",
       "                      <td>0</td>\n",
       "                      <td>8 Bytes</td>\n",
       "                      <td style=\"text-align: center;\">\n",
       "                        \n",
       "                      </td>\n",
       "                    </tr>\n",
       "                \n",
       "                    </tbody>\n",
       "                  </table>\n",
       "                </div>\n",
       "              </div>\n",
       "            </div>\n",
       "            "
      ],
      "text/plain": [
       "<pyslim.slim_tree_sequence.SlimTreeSequence at 0x7faee12f01f0>"
      ]
     },
     "execution_count": 5,
     "metadata": {},
     "output_type": "execute_result"
    }
   ],
   "source": [
    "ts = pyslim.load('spatial_sim.trees') #load tree sequence\n",
    "np.random.seed(1); n = 5; sampled_nodes = np.random.choice(ts.samples(), 5, replace=False) #take sample of n nodes without replacement (set seed for repeatability)\n",
    "sts = ts.simplify(sampled_nodes, keep_unary=True) #simplify but keep unary nodes & individuals\n",
    "# SVG(sts.draw_svg()) #draw if you wish (but kind of ugly with all the unary nodes)\n",
    "sts #print some summaries of the simplified tree sequence"
   ]
  },
  {
   "cell_type": "code",
   "execution_count": 6,
   "id": "bdde15f6-cb97-4c80-895c-01fc5ccaaba7",
   "metadata": {},
   "outputs": [
    {
     "data": {
      "image/svg+xml": [
       "<svg xmlns=\"http://www.w3.org/2000/svg\" xmlns:ev=\"http://www.w3.org/2001/xml-events\" xmlns:xlink=\"http://www.w3.org/1999/xlink\" baseProfile=\"full\" height=\"200\" version=\"1.1\" width=\"400\"><defs><style type=\"text/css\"><![CDATA[.background path {fill: #808080; fill-opacity:0}.background path:nth-child(odd) {fill-opacity:.1}.axes {font-size: 14px}.x-axis .tick .lab {font-weight: bold}.axes, .tree {font-size: 14px; text-anchor:middle}.y-axis line.grid {stroke: #FAFAFA}.y-axis > .lab text {transform: translateX(0.8em) rotate(-90deg)}.x-axis .tick g {transform: translateY(0.9em)}.x-axis > .lab text {transform: translateY(-0.8em)}.axes line, .edge {stroke:black; fill:none}.node > .sym {fill: black; stroke: none}.site > .sym {stroke: black}.mut text {fill: red; font-style: italic}.mut.extra text {fill: hotpink}.mut line {fill: none; stroke: none}.mut .sym {fill: none; stroke: red}.mut.extra .sym {stroke: hotpink}.node .mut .sym {stroke-width: 1.5px}.tree text, .tree-sequence text {dominant-baseline: central}.plotbox .lab.lft {text-anchor: end}.plotbox .lab.rgt {text-anchor: start}]]></style></defs><g class=\"tree-sequence\"><g class=\"background\"><path d=\"M20,0 l180,0 l0,138.2 l91.6218,25 l0,5 l-271.622,0 l0,-5 l0,-25 l0,-138.2z\"/><path d=\"M200,0 l180,0 l0,138.2 l0,25 l0,5 l-88.3782,0 l0,-5 l-91.6218,-25 l0,-138.2z\"/></g><g class=\"axes\"><g class=\"x-axis\"><g class=\"lab\" transform=\"translate(200,200)\"><text text-anchor=\"middle\">Genome position</text></g><line x1=\"20\" x2=\"380\" y1=\"163.2\" y2=\"163.2\"/><g class=\"tick\" transform=\"translate(20 163.2)\"><line x1=\"0\" x2=\"0\" y1=\"0\" y2=\"5\"/><g class=\"lab\" transform=\"translate(0,5)\"><text>0</text></g></g><g class=\"tick\" transform=\"translate(291.622 163.2)\"><line x1=\"0\" x2=\"0\" y1=\"0\" y2=\"5\"/><g class=\"lab\" transform=\"translate(0,5)\"><text>754505</text></g></g><g class=\"tick\" transform=\"translate(380 163.2)\"><line x1=\"0\" x2=\"0\" y1=\"0\" y2=\"5\"/><g class=\"lab\" transform=\"translate(0,5)\"><text>1000000</text></g></g></g></g><g class=\"plotbox trees\"><g class=\"tree t0\" transform=\"translate(20 0)\"><g class=\"plotbox\"><g class=\"i5 node n9 p0 root\" transform=\"translate(93.5 26.8)\"><g class=\"a9 i8 node n6 p0\" transform=\"translate(38.5 93.4051)\"><g class=\"a6 i3 leaf node n1 p0 sample\" transform=\"translate(-14 1.19495)\"><path class=\"edge\" d=\"M 0 0 V -1.19495 H 14\"/><rect class=\"sym\" height=\"6\" width=\"6\" x=\"-3\" y=\"-3\"/><text class=\"lab\" transform=\"translate(0 11)\">1</text></g><g class=\"a6 i4 leaf node n4 p0 sample\" transform=\"translate(14 1.19495)\"><path class=\"edge\" d=\"M 0 0 V -1.19495 H -14\"/><rect class=\"sym\" height=\"6\" width=\"6\" x=\"-3\" y=\"-3\"/><text class=\"lab\" transform=\"translate(0 11)\">4</text></g><path class=\"edge\" d=\"M 0 0 V -93.4051 H -38.5\"/><circle class=\"sym\" cx=\"0\" cy=\"0\" r=\"3\"/><text class=\"lab rgt\" transform=\"translate(3 -7.0)\">6</text></g><g class=\"a9 i6 node n8 p0\" transform=\"translate(-38.5 88.2269)\"><g class=\"a8 i0 leaf node n0 p0 sample\" transform=\"translate(-21 6.37305)\"><path class=\"edge\" d=\"M 0 0 V -6.37305 H 21\"/><rect class=\"sym\" height=\"6\" width=\"6\" x=\"-3\" y=\"-3\"/><text class=\"lab\" transform=\"translate(0 11)\">0</text></g><g class=\"a8 i9 node n5 p0\" transform=\"translate(21 5.37726)\"><g class=\"a5 i1 leaf node n2 p0 sample\" transform=\"translate(-14 0.995789)\"><path class=\"edge\" d=\"M 0 0 V -0.995789 H 14\"/><rect class=\"sym\" height=\"6\" width=\"6\" x=\"-3\" y=\"-3\"/><text class=\"lab\" transform=\"translate(0 11)\">2</text></g><g class=\"a5 i2 leaf node n3 p0 sample\" transform=\"translate(14 0.995789)\"><path class=\"edge\" d=\"M 0 0 V -0.995789 H -14\"/><rect class=\"sym\" height=\"6\" width=\"6\" x=\"-3\" y=\"-3\"/><text class=\"lab\" transform=\"translate(0 11)\">3</text></g><path class=\"edge\" d=\"M 0 0 V -5.37726 H -21\"/><circle class=\"sym\" cx=\"0\" cy=\"0\" r=\"3\"/><text class=\"lab rgt\" transform=\"translate(3 -7.0)\">5</text></g><path class=\"edge\" d=\"M 0 0 V -88.2269 H 38.5\"/><circle class=\"sym\" cx=\"0\" cy=\"0\" r=\"3\"/><text class=\"lab lft\" transform=\"translate(-3 -7.0)\">8</text></g><circle class=\"sym\" cx=\"0\" cy=\"0\" r=\"3\"/><text class=\"lab\" transform=\"translate(0 -11)\">9</text></g></g></g><g class=\"tree t1\" transform=\"translate(200 0)\"><g class=\"plotbox\"><g class=\"i5 node n9 p0 root\" transform=\"translate(93.5 26.8)\"><g class=\"a9 i8 node n6 p0\" transform=\"translate(38.5 93.4051)\"><g class=\"a6 i3 leaf node n1 p0 sample\" transform=\"translate(-14 1.19495)\"><path class=\"edge\" d=\"M 0 0 V -1.19495 H 14\"/><rect class=\"sym\" height=\"6\" width=\"6\" x=\"-3\" y=\"-3\"/><text class=\"lab\" transform=\"translate(0 11)\">1</text></g><g class=\"a6 i4 leaf node n4 p0 sample\" transform=\"translate(14 1.19495)\"><path class=\"edge\" d=\"M 0 0 V -1.19495 H -14\"/><rect class=\"sym\" height=\"6\" width=\"6\" x=\"-3\" y=\"-3\"/><text class=\"lab\" transform=\"translate(0 11)\">4</text></g><path class=\"edge\" d=\"M 0 0 V -93.4051 H -38.5\"/><circle class=\"sym\" cx=\"0\" cy=\"0\" r=\"3\"/><text class=\"lab rgt\" transform=\"translate(3 -7.0)\">6</text></g><g class=\"a9 i7 node n7 p0\" transform=\"translate(-38.5 88.8244)\"><g class=\"a7 i0 leaf node n0 p0 sample\" transform=\"translate(-21 5.77558)\"><path class=\"edge\" d=\"M 0 0 V -5.77558 H 21\"/><rect class=\"sym\" height=\"6\" width=\"6\" x=\"-3\" y=\"-3\"/><text class=\"lab\" transform=\"translate(0 11)\">0</text></g><g class=\"a7 i9 node n5 p0\" transform=\"translate(21 4.77979)\"><g class=\"a5 i1 leaf node n2 p0 sample\" transform=\"translate(-14 0.995789)\"><path class=\"edge\" d=\"M 0 0 V -0.995789 H 14\"/><rect class=\"sym\" height=\"6\" width=\"6\" x=\"-3\" y=\"-3\"/><text class=\"lab\" transform=\"translate(0 11)\">2</text></g><g class=\"a5 i2 leaf node n3 p0 sample\" transform=\"translate(14 0.995789)\"><path class=\"edge\" d=\"M 0 0 V -0.995789 H -14\"/><rect class=\"sym\" height=\"6\" width=\"6\" x=\"-3\" y=\"-3\"/><text class=\"lab\" transform=\"translate(0 11)\">3</text></g><path class=\"edge\" d=\"M 0 0 V -4.77979 H -21\"/><circle class=\"sym\" cx=\"0\" cy=\"0\" r=\"3\"/><text class=\"lab rgt\" transform=\"translate(3 -7.0)\">5</text></g><path class=\"edge\" d=\"M 0 0 V -88.8244 H 38.5\"/><circle class=\"sym\" cx=\"0\" cy=\"0\" r=\"3\"/><text class=\"lab lft\" transform=\"translate(-3 -7.0)\">7</text></g><circle class=\"sym\" cx=\"0\" cy=\"0\" r=\"3\"/><text class=\"lab\" transform=\"translate(0 -11)\">9</text></g></g></g></g></g></svg>"
      ],
      "text/plain": [
       "<IPython.core.display.SVG object>"
      ]
     },
     "execution_count": 6,
     "metadata": {},
     "output_type": "execute_result"
    }
   ],
   "source": [
    "# draw the tree sequence without the unary nodes if you'd like! (there will likely be many fewer trees)\n",
    "SVG(sts.simplify(keep_unary=False).draw_svg())"
   ]
  },
  {
   "cell_type": "markdown",
   "id": "f2d9d0fb-5e6d-4a32-9f00-cd5c03e9d5b2",
   "metadata": {},
   "source": [
    "## 2. Locate Children and Parents (Pam)"
   ]
  },
  {
   "cell_type": "markdown",
   "id": "1207c42a-7b3b-4fb1-9137-becf4319d30a",
   "metadata": {},
   "source": [
    "*a few words here*"
   ]
  },
  {
   "cell_type": "markdown",
   "id": "60a3de03-e408-4f18-84e3-c8695789b62c",
   "metadata": {},
   "source": [
    "### Traversing Up a Specific Tree"
   ]
  },
  {
   "cell_type": "markdown",
   "id": "f4e86b7b-405d-4ec2-a024-9439caedf553",
   "metadata": {},
   "source": [
    "Often, we want to access a specific tree from the Tree Sequence that pertains to a certain genomic region. This can be done by specifying the index of the tree, or which genomic region it covers. Here, we will extract the relationships between nodes of the first tree (at index 0)."
   ]
  },
  {
   "cell_type": "code",
   "execution_count": 30,
   "id": "e8891fe2-737f-4e74-85f9-a5aca170d15b",
   "metadata": {},
   "outputs": [
    {
     "data": {
      "image/svg+xml": [
       "<svg xmlns=\"http://www.w3.org/2000/svg\" xmlns:ev=\"http://www.w3.org/2001/xml-events\" xmlns:xlink=\"http://www.w3.org/1999/xlink\" baseProfile=\"full\" height=\"200\" version=\"1.1\" width=\"200\"><defs><style type=\"text/css\"><![CDATA[.background path {fill: #808080; fill-opacity:0}.background path:nth-child(odd) {fill-opacity:.1}.axes {font-size: 14px}.x-axis .tick .lab {font-weight: bold}.axes, .tree {font-size: 14px; text-anchor:middle}.y-axis line.grid {stroke: #FAFAFA}.y-axis > .lab text {transform: translateX(0.8em) rotate(-90deg)}.x-axis .tick g {transform: translateY(0.9em)}.x-axis > .lab text {transform: translateY(-0.8em)}.axes line, .edge {stroke:black; fill:none}.node > .sym {fill: black; stroke: none}.site > .sym {stroke: black}.mut text {fill: red; font-style: italic}.mut.extra text {fill: hotpink}.mut line {fill: none; stroke: none}.mut .sym {fill: none; stroke: red}.mut.extra .sym {stroke: hotpink}.node .mut .sym {stroke-width: 1.5px}.tree text, .tree-sequence text {dominant-baseline: central}.plotbox .lab.lft {text-anchor: end}.plotbox .lab.rgt {text-anchor: start}]]></style></defs><g class=\"tree t0\"><g class=\"plotbox\"><g class=\"i3 m0 node n109 p0 root s0\" transform=\"translate(52 27.5778)\"><g class=\"a109 i7 m3 node n104 p1 s0\" transform=\"translate(0.0 22.8014)\"><g class=\"a104 i9 node n102 p1\" transform=\"translate(0.0 1.2983)\"><g class=\"a102 i10 node n101 p1\" transform=\"translate(0.0 2.10974)\"><g class=\"a101 i12 node n99 p1\" transform=\"translate(-16 2.19088)\"><g class=\"a99 i14 node n97 p1\" transform=\"translate(0.0 0.405719)\"><g class=\"a97 i15 node n96 p1\" transform=\"translate(0.0 0.0811438)\"><g class=\"a96 i16 node n95 p1\" transform=\"translate(0.0 1.2983)\"><g class=\"a95 i19 node n91 p1\" transform=\"translate(0.0 0.973726)\"><g class=\"a91 i21 node n90 p1\" transform=\"translate(0.0 0.568007)\"><g class=\"a90 i22 node n89 p1\" transform=\"translate(0.0 0.0811438)\"><g class=\"a89 i23 node n87 p1\" transform=\"translate(0.0 0.0811438)\"><g class=\"a87 i27 node n85 p1\" transform=\"translate(0.0 0.243431)\"><g class=\"a85 i30 node n79 p1\" transform=\"translate(0.0 0.243431)\"><g class=\"a79 i33 node n76 p1\" transform=\"translate(0.0 0.0811438)\"><g class=\"a76 i40 node n71 p1\" transform=\"translate(0.0 28.8061)\"><g class=\"a71 i44 node n67 p1\" transform=\"translate(0.0 2.92118)\"><g class=\"a67 i47 node n65 p1\" transform=\"translate(0.0 0.64915)\"><g class=\"a65 i53 m6 node n57 p3 s0\" transform=\"translate(0.0 2.35317)\"><g class=\"a57 i55 node n55 p3\" transform=\"translate(0.0 0.0811438)\"><g class=\"a55 i57 node n53 p3\" transform=\"translate(0.0 0.0811438)\"><g class=\"a53 i59 node n52 p3\" transform=\"translate(0.0 0.0811438)\"><g class=\"a52 i61 node n51 p3\" transform=\"translate(0.0 0.0811438)\"><g class=\"a51 i62 leaf node n0 p3 sample\" transform=\"translate(0.0 0.0811438)\"><path class=\"edge\" d=\"M 0 0 V -0.0811438 H 0.0\"/><rect class=\"sym\" height=\"6\" width=\"6\" x=\"-3\" y=\"-3\"/><text class=\"lab\" transform=\"translate(0 11)\">0</text></g><path class=\"edge\" d=\"M 0 0 V -0.0811438 H 0.0\"/><circle class=\"sym\" cx=\"0\" cy=\"0\" r=\"3\"/><text class=\"lab lft\" transform=\"translate(-3 -7.0)\">51</text></g><path class=\"edge\" d=\"M 0 0 V -0.0811438 H 0.0\"/><circle class=\"sym\" cx=\"0\" cy=\"0\" r=\"3\"/><text class=\"lab lft\" transform=\"translate(-3 -7.0)\">52</text></g><path class=\"edge\" d=\"M 0 0 V -0.0811438 H 0.0\"/><circle class=\"sym\" cx=\"0\" cy=\"0\" r=\"3\"/><text class=\"lab lft\" transform=\"translate(-3 -7.0)\">53</text></g><path class=\"edge\" d=\"M 0 0 V -0.0811438 H 0.0\"/><circle class=\"sym\" cx=\"0\" cy=\"0\" r=\"3\"/><text class=\"lab lft\" transform=\"translate(-3 -7.0)\">55</text></g><path class=\"edge\" d=\"M 0 0 V -2.35317 H 0.0\"/><g class=\"mut m6 s0\" transform=\"translate(0 -2.27203)\"><line x1=\"0\" x2=\"0\" y1=\"0\" y2=\"2.27203\"/><path class=\"sym\" d=\"M -3,-3 l 6,6 M -3,3 l 6,-6\"/><text class=\"lab lft\" transform=\"translate(-5 0)\">6</text></g><circle class=\"sym\" cx=\"0\" cy=\"0\" r=\"3\"/><text class=\"lab lft\" transform=\"translate(-3 -7.0)\">57</text></g><path class=\"edge\" d=\"M 0 0 V -0.64915 H 0.0\"/><circle class=\"sym\" cx=\"0\" cy=\"0\" r=\"3\"/><text class=\"lab lft\" transform=\"translate(-3 -7.0)\">65</text></g><path class=\"edge\" d=\"M 0 0 V -2.92118 H 0.0\"/><circle class=\"sym\" cx=\"0\" cy=\"0\" r=\"3\"/><text class=\"lab lft\" transform=\"translate(-3 -7.0)\">67</text></g><path class=\"edge\" d=\"M 0 0 V -28.8061 H 0.0\"/><circle class=\"sym\" cx=\"0\" cy=\"0\" r=\"3\"/><text class=\"lab lft\" transform=\"translate(-3 -7.0)\">71</text></g><path class=\"edge\" d=\"M 0 0 V -0.0811438 H 0.0\"/><circle class=\"sym\" cx=\"0\" cy=\"0\" r=\"3\"/><text class=\"lab lft\" transform=\"translate(-3 -7.0)\">76</text></g><path class=\"edge\" d=\"M 0 0 V -0.243431 H 0.0\"/><circle class=\"sym\" cx=\"0\" cy=\"0\" r=\"3\"/><text class=\"lab lft\" transform=\"translate(-3 -7.0)\">79</text></g><path class=\"edge\" d=\"M 0 0 V -0.243431 H 0.0\"/><circle class=\"sym\" cx=\"0\" cy=\"0\" r=\"3\"/><text class=\"lab lft\" transform=\"translate(-3 -7.0)\">85</text></g><path class=\"edge\" d=\"M 0 0 V -0.0811438 H 0.0\"/><circle class=\"sym\" cx=\"0\" cy=\"0\" r=\"3\"/><text class=\"lab lft\" transform=\"translate(-3 -7.0)\">87</text></g><path class=\"edge\" d=\"M 0 0 V -0.0811438 H 0.0\"/><circle class=\"sym\" cx=\"0\" cy=\"0\" r=\"3\"/><text class=\"lab lft\" transform=\"translate(-3 -7.0)\">89</text></g><path class=\"edge\" d=\"M 0 0 V -0.568007 H 0.0\"/><circle class=\"sym\" cx=\"0\" cy=\"0\" r=\"3\"/><text class=\"lab lft\" transform=\"translate(-3 -7.0)\">90</text></g><path class=\"edge\" d=\"M 0 0 V -0.973726 H 0.0\"/><circle class=\"sym\" cx=\"0\" cy=\"0\" r=\"3\"/><text class=\"lab lft\" transform=\"translate(-3 -7.0)\">91</text></g><path class=\"edge\" d=\"M 0 0 V -1.2983 H 0.0\"/><circle class=\"sym\" cx=\"0\" cy=\"0\" r=\"3\"/><text class=\"lab lft\" transform=\"translate(-3 -7.0)\">95</text></g><path class=\"edge\" d=\"M 0 0 V -0.0811438 H 0.0\"/><circle class=\"sym\" cx=\"0\" cy=\"0\" r=\"3\"/><text class=\"lab lft\" transform=\"translate(-3 -7.0)\">96</text></g><path class=\"edge\" d=\"M 0 0 V -0.405719 H 0.0\"/><circle class=\"sym\" cx=\"0\" cy=\"0\" r=\"3\"/><text class=\"lab lft\" transform=\"translate(-3 -7.0)\">97</text></g><path class=\"edge\" d=\"M 0 0 V -2.19088 H 16\"/><circle class=\"sym\" cx=\"0\" cy=\"0\" r=\"3\"/><text class=\"lab lft\" transform=\"translate(-3 -7.0)\">99</text></g><g class=\"a101 i11 node n100 p1\" transform=\"translate(16 0.568007)\"><g class=\"a100 i13 node n98 p1\" transform=\"translate(0.0 1.78516)\"><g class=\"a98 i18 node n93 p1\" transform=\"translate(0.0 2.51546)\"><g class=\"a93 i29 node n82 p1\" transform=\"translate(0.0 1.21716)\"><g class=\"a82 i32 node n81 p1\" transform=\"translate(0.0 0.0811438)\"><g class=\"a81 i35 node n78 p1\" transform=\"translate(0.0 0.0811438)\"><g class=\"a78 i38 node n73 p1\" transform=\"translate(0.0 23.9374)\"><g class=\"a73 i39 node n72 p1\" transform=\"translate(0.0 3.97605)\"><g class=\"a72 i42 node n69 p1\" transform=\"translate(0.0 2.35317)\"><g class=\"a69 i45 node n66 p1\" transform=\"translate(0.0 2.0286)\"><g class=\"a66 i48 node n63 p1\" transform=\"translate(0.0 0.162288)\"><g class=\"a63 i49 m7 node n62 p3 s0\" transform=\"translate(0.0 0.486863)\"><g class=\"a62 i54 node n58 p3\" transform=\"translate(0.0 1.78516)\"><g class=\"a58 i56 node n56 p3\" transform=\"translate(0.0 0.0811438)\"><g class=\"a56 i58 node n54 p3\" transform=\"translate(0.0 0.0811438)\"><g class=\"a54 i63 leaf node n3 p3 sample\" transform=\"translate(0.0 0.243431)\"><path class=\"edge\" d=\"M 0 0 V -0.243431 H 0.0\"/><rect class=\"sym\" height=\"6\" width=\"6\" x=\"-3\" y=\"-3\"/><text class=\"lab\" transform=\"translate(0 11)\">3</text></g><path class=\"edge\" d=\"M 0 0 V -0.0811438 H 0.0\"/><circle class=\"sym\" cx=\"0\" cy=\"0\" r=\"3\"/><text class=\"lab lft\" transform=\"translate(-3 -7.0)\">54</text></g><path class=\"edge\" d=\"M 0 0 V -0.0811438 H 0.0\"/><circle class=\"sym\" cx=\"0\" cy=\"0\" r=\"3\"/><text class=\"lab lft\" transform=\"translate(-3 -7.0)\">56</text></g><path class=\"edge\" d=\"M 0 0 V -1.78516 H 0.0\"/><circle class=\"sym\" cx=\"0\" cy=\"0\" r=\"3\"/><text class=\"lab lft\" transform=\"translate(-3 -7.0)\">58</text></g><path class=\"edge\" d=\"M 0 0 V -0.486863 H 0.0\"/><g class=\"mut m7 s0\" transform=\"translate(0 -0.486861)\"><line x1=\"0\" x2=\"0\" y1=\"0\" y2=\"0.486861\"/><path class=\"sym\" d=\"M -3,-3 l 6,6 M -3,3 l 6,-6\"/><text class=\"lab lft\" transform=\"translate(-5 0)\">7</text></g><circle class=\"sym\" cx=\"0\" cy=\"0\" r=\"3\"/><text class=\"lab lft\" transform=\"translate(-3 -7.0)\">62</text></g><path class=\"edge\" d=\"M 0 0 V -0.162288 H 0.0\"/><circle class=\"sym\" cx=\"0\" cy=\"0\" r=\"3\"/><text class=\"lab lft\" transform=\"translate(-3 -7.0)\">63</text></g><path class=\"edge\" d=\"M 0 0 V -2.0286 H 0.0\"/><circle class=\"sym\" cx=\"0\" cy=\"0\" r=\"3\"/><text class=\"lab lft\" transform=\"translate(-3 -7.0)\">66</text></g><path class=\"edge\" d=\"M 0 0 V -2.35317 H 0.0\"/><circle class=\"sym\" cx=\"0\" cy=\"0\" r=\"3\"/><text class=\"lab lft\" transform=\"translate(-3 -7.0)\">69</text></g><path class=\"edge\" d=\"M 0 0 V -3.97605 H 0.0\"/><circle class=\"sym\" cx=\"0\" cy=\"0\" r=\"3\"/><text class=\"lab lft\" transform=\"translate(-3 -7.0)\">72</text></g><path class=\"edge\" d=\"M 0 0 V -23.9374 H 0.0\"/><circle class=\"sym\" cx=\"0\" cy=\"0\" r=\"3\"/><text class=\"lab lft\" transform=\"translate(-3 -7.0)\">73</text></g><path class=\"edge\" d=\"M 0 0 V -0.0811438 H 0.0\"/><circle class=\"sym\" cx=\"0\" cy=\"0\" r=\"3\"/><text class=\"lab lft\" transform=\"translate(-3 -7.0)\">78</text></g><path class=\"edge\" d=\"M 0 0 V -0.0811438 H 0.0\"/><circle class=\"sym\" cx=\"0\" cy=\"0\" r=\"3\"/><text class=\"lab lft\" transform=\"translate(-3 -7.0)\">81</text></g><path class=\"edge\" d=\"M 0 0 V -1.21716 H 0.0\"/><circle class=\"sym\" cx=\"0\" cy=\"0\" r=\"3\"/><text class=\"lab lft\" transform=\"translate(-3 -7.0)\">82</text></g><path class=\"edge\" d=\"M 0 0 V -2.51546 H 0.0\"/><circle class=\"sym\" cx=\"0\" cy=\"0\" r=\"3\"/><text class=\"lab lft\" transform=\"translate(-3 -7.0)\">93</text></g><path class=\"edge\" d=\"M 0 0 V -1.78516 H 0.0\"/><circle class=\"sym\" cx=\"0\" cy=\"0\" r=\"3\"/><text class=\"lab lft\" transform=\"translate(-3 -7.0)\">98</text></g><path class=\"edge\" d=\"M 0 0 V -0.568007 H -16\"/><circle class=\"sym\" cx=\"0\" cy=\"0\" r=\"3\"/><text class=\"lab rgt\" transform=\"translate(3 -7.0)\">100</text></g><path class=\"edge\" d=\"M 0 0 V -2.10974 H 0.0\"/><circle class=\"sym\" cx=\"0\" cy=\"0\" r=\"3\"/><text class=\"lab lft\" transform=\"translate(-3 -7.0)\">101</text></g><path class=\"edge\" d=\"M 0 0 V -1.2983 H 0.0\"/><circle class=\"sym\" cx=\"0\" cy=\"0\" r=\"3\"/><text class=\"lab lft\" transform=\"translate(-3 -7.0)\">102</text></g><path class=\"edge\" d=\"M 0 0 V -22.8014 H 0.0\"/><g class=\"mut m3 s0\" transform=\"translate(0 -20.1237)\"><line x1=\"0\" x2=\"0\" y1=\"0\" y2=\"20.1237\"/><path class=\"sym\" d=\"M -3,-3 l 6,6 M -3,3 l 6,-6\"/><text class=\"lab lft\" transform=\"translate(-5 0)\">3</text></g><circle class=\"sym\" cx=\"0\" cy=\"0\" r=\"3\"/><text class=\"lab lft\" transform=\"translate(-3 -7.0)\">104</text></g><path class=\"edge\" d=\"M 0 0 V -17.5778 H 0\"/><g class=\"mut m0 s0\" transform=\"translate(0 0.0)\"><line x1=\"0\" x2=\"0\" y1=\"0\" y2=\"-0.0\"/><path class=\"sym\" d=\"M -3,-3 l 6,6 M -3,3 l 6,-6\"/><text class=\"lab rgt\" transform=\"translate(5 0)\">0</text></g><circle class=\"sym\" cx=\"0\" cy=\"0\" r=\"3\"/><text class=\"lab rgt\" transform=\"translate(3 -7.0)\">109</text></g><g class=\"i2 m2 node n108 p0 root s0\" transform=\"translate(116 27.5778)\"><g class=\"a108 i4 m4 node n107 p1 s0\" transform=\"translate(0.0 15.0116)\"><g class=\"a107 i5 node n106 p1\" transform=\"translate(0.0 3.65147)\"><g class=\"a106 i6 node n105 p1\" transform=\"translate(0.0 0.892582)\"><g class=\"a105 i8 node n103 p1\" transform=\"translate(0.0 3.3269)\"><g class=\"a103 i17 node n94 p1\" transform=\"translate(0.0 7.70866)\"><g class=\"a94 i20 node n92 p1\" transform=\"translate(0.0 0.568007)\"><g class=\"a92 i24 node n88 p1\" transform=\"translate(0.0 0.730294)\"><g class=\"a88 i25 node n86 p1\" transform=\"translate(0.0 0.162288)\"><g class=\"a86 i26 node n84 p1\" transform=\"translate(0.0 0.0811438)\"><g class=\"a84 i28 node n83 p1\" transform=\"translate(0.0 0.0811438)\"><g class=\"a83 i31 node n80 p1\" transform=\"translate(0.0 0.162288)\"><g class=\"a80 i34 node n77 p1\" transform=\"translate(0.0 0.0811438)\"><g class=\"a77 i36 node n75 p1\" transform=\"translate(0.0 4.38177)\"><g class=\"a75 i37 node n74 p1\" transform=\"translate(0.0 18.1762)\"><g class=\"a74 i41 node n70 p1\" transform=\"translate(0.0 6.73494)\"><g class=\"a70 i43 node n68 p1\" transform=\"translate(0.0 2.0286)\"><g class=\"a68 i46 node n64 p1\" transform=\"translate(0.0 1.05487)\"><g class=\"a64 i50 m5 node n61 p2 s0\" transform=\"translate(0.0 0.973726)\"><g class=\"a61 i51 node n60 p2\" transform=\"translate(0.0 0.324575)\"><g class=\"a60 i52 node n59 p2\" transform=\"translate(0.0 0.568007)\"><g class=\"a59 i60 node n50 p2\" transform=\"translate(0.0 0.811438)\"><g class=\"a50 i64 node n49 p2\" transform=\"translate(0.0 0.0811438)\"><g class=\"a49 i65 node n48 p2\" transform=\"translate(0.0 1.54173)\"><g class=\"a48 i66 node n47 p2\" transform=\"translate(0.0 0.973726)\"><g class=\"a47 i67 node n46 p2\" transform=\"translate(0.0 1.13601)\"><g class=\"a46 i68 node n45 p2\" transform=\"translate(0.0 18.9065)\"><g class=\"a45 i69 node n44 p2\" transform=\"translate(0.0 11.7659)\"><g class=\"a44 i70 node n43 p2\" transform=\"translate(0.0 10.3864)\"><g class=\"a43 i71 node n42 p2\" transform=\"translate(0.0 0.324575)\"><g class=\"a42 i72 node n41 p2\" transform=\"translate(0.0 2.19088)\"><g class=\"a41 i73 node n40 p2\" transform=\"translate(0.0 0.973726)\"><g class=\"a40 i74 node n39 p2\" transform=\"translate(0.0 0.811438)\"><g class=\"a39 i75 node n38 p2\" transform=\"translate(0.0 0.973726)\"><g class=\"a38 i76 node n37 p2\" transform=\"translate(0.0 0.243431)\"><g class=\"a37 i77 node n36 p2\" transform=\"translate(0.0 3.00232)\"><g class=\"a36 i78 node n35 p2\" transform=\"translate(0.0 0.0811438)\"><g class=\"a35 i79 m8 node n34 p5 s0\" transform=\"translate(0.0 1.70402)\"><g class=\"a34 i80 node n33 p5\" transform=\"translate(0.0 0.243431)\"><g class=\"a33 i81 node n32 p5\" transform=\"translate(0.0 0.243431)\"><g class=\"a32 i82 node n31 p5\" transform=\"translate(0.0 1.05487)\"><g class=\"a31 i83 node n30 p5\" transform=\"translate(0.0 0.568007)\"><g class=\"a30 i85 node n28 p5\" transform=\"translate(-16 3.00232)\"><g class=\"a28 i86 node n27 p5\" transform=\"translate(0.0 0.324575)\"><g class=\"a27 i87 node n26 p5\" transform=\"translate(0.0 0.243431)\"><g class=\"a26 i89 node n24 p5\" transform=\"translate(0.0 0.405719)\"><g class=\"a24 i91 node n21 p5\" transform=\"translate(0.0 0.811438)\"><g class=\"a21 i93 node n20 p5\" transform=\"translate(0.0 0.0811438)\"><g class=\"a20 i96 leaf node n1 p5 sample\" transform=\"translate(0.0 0.243431)\"><path class=\"edge\" d=\"M 0 0 V -0.243431 H 0.0\"/><rect class=\"sym\" height=\"6\" width=\"6\" x=\"-3\" y=\"-3\"/><text class=\"lab\" transform=\"translate(0 11)\">1</text></g><path class=\"edge\" d=\"M 0 0 V -0.0811438 H 0.0\"/><circle class=\"sym\" cx=\"0\" cy=\"0\" r=\"3\"/><text class=\"lab lft\" transform=\"translate(-3 -7.0)\">20</text></g><path class=\"edge\" d=\"M 0 0 V -0.811438 H 0.0\"/><circle class=\"sym\" cx=\"0\" cy=\"0\" r=\"3\"/><text class=\"lab lft\" transform=\"translate(-3 -7.0)\">21</text></g><path class=\"edge\" d=\"M 0 0 V -0.405719 H 0.0\"/><circle class=\"sym\" cx=\"0\" cy=\"0\" r=\"3\"/><text class=\"lab lft\" transform=\"translate(-3 -7.0)\">24</text></g><path class=\"edge\" d=\"M 0 0 V -0.243431 H 0.0\"/><circle class=\"sym\" cx=\"0\" cy=\"0\" r=\"3\"/><text class=\"lab lft\" transform=\"translate(-3 -7.0)\">26</text></g><path class=\"edge\" d=\"M 0 0 V -0.324575 H 0.0\"/><circle class=\"sym\" cx=\"0\" cy=\"0\" r=\"3\"/><text class=\"lab lft\" transform=\"translate(-3 -7.0)\">27</text></g><path class=\"edge\" d=\"M 0 0 V -3.00232 H 16\"/><circle class=\"sym\" cx=\"0\" cy=\"0\" r=\"3\"/><text class=\"lab lft\" transform=\"translate(-3 -7.0)\">28</text></g><g class=\"a30 i84 node n29 p5\" transform=\"translate(16 2.19088)\"><g class=\"a29 i88 node n25 p5\" transform=\"translate(0.0 1.46059)\"><g class=\"a25 i90 node n23 p5\" transform=\"translate(0.0 0.405719)\"><g class=\"a23 i92 node n22 p5\" transform=\"translate(0.0 0.730294)\"><g class=\"a22 i94 node n19 p5\" transform=\"translate(0.0 0.243431)\"><g class=\"a19 i95 node n18 p5\" transform=\"translate(0.0 0.0811438)\"><g class=\"a18 i97 node n17 p5\" transform=\"translate(0.0 0.0811438)\"><g class=\"a17 i98 node n16 p5\" transform=\"translate(0.0 1.13601)\"><g class=\"a16 i99 node n15 p4\" transform=\"translate(0.0 2.43431)\"><g class=\"a15 i100 node n14 p4\" transform=\"translate(0.0 3.08346)\"><g class=\"a14 i101 node n13 p4\" transform=\"translate(0.0 0.486863)\"><g class=\"a13 i102 node n12 p4\" transform=\"translate(0.0 0.568007)\"><g class=\"a12 i103 node n11 p4\" transform=\"translate(0.0 0.486863)\"><g class=\"a11 i104 node n10 p4\" transform=\"translate(0.0 0.324575)\"><g class=\"a10 i105 node n9 p4\" transform=\"translate(0.0 0.0811438)\"><g class=\"a9 i106 node n8 p4\" transform=\"translate(0.0 1.13601)\"><g class=\"a8 i107 node n7 p4\" transform=\"translate(0.0 0.568007)\"><g class=\"a7 i108 node n6 p4\" transform=\"translate(0.0 0.0811438)\"><g class=\"a6 i109 node n5 p4\" transform=\"translate(0.0 0.243431)\"><g class=\"a5 i0 leaf node n2 p4 sample\" transform=\"translate(0.0 0.0811438)\"><path class=\"edge\" d=\"M 0 0 V -0.0811438 H 0.0\"/><rect class=\"sym\" height=\"6\" width=\"6\" x=\"-3\" y=\"-3\"/><text class=\"lab\" transform=\"translate(0 11)\">2</text></g><path class=\"edge\" d=\"M 0 0 V -0.243431 H 0.0\"/><circle class=\"sym\" cx=\"0\" cy=\"0\" r=\"3\"/><text class=\"lab lft\" transform=\"translate(-3 -7.0)\">5</text></g><path class=\"edge\" d=\"M 0 0 V -0.0811438 H 0.0\"/><circle class=\"sym\" cx=\"0\" cy=\"0\" r=\"3\"/><text class=\"lab lft\" transform=\"translate(-3 -7.0)\">6</text></g><path class=\"edge\" d=\"M 0 0 V -0.568007 H 0.0\"/><circle class=\"sym\" cx=\"0\" cy=\"0\" r=\"3\"/><text class=\"lab lft\" transform=\"translate(-3 -7.0)\">7</text></g><path class=\"edge\" d=\"M 0 0 V -1.13601 H 0.0\"/><circle class=\"sym\" cx=\"0\" cy=\"0\" r=\"3\"/><text class=\"lab lft\" transform=\"translate(-3 -7.0)\">8</text></g><path class=\"edge\" d=\"M 0 0 V -0.0811438 H 0.0\"/><circle class=\"sym\" cx=\"0\" cy=\"0\" r=\"3\"/><text class=\"lab lft\" transform=\"translate(-3 -7.0)\">9</text></g><path class=\"edge\" d=\"M 0 0 V -0.324575 H 0.0\"/><circle class=\"sym\" cx=\"0\" cy=\"0\" r=\"3\"/><text class=\"lab lft\" transform=\"translate(-3 -7.0)\">10</text></g><path class=\"edge\" d=\"M 0 0 V -0.486863 H 0.0\"/><circle class=\"sym\" cx=\"0\" cy=\"0\" r=\"3\"/><text class=\"lab lft\" transform=\"translate(-3 -7.0)\">11</text></g><path class=\"edge\" d=\"M 0 0 V -0.568007 H 0.0\"/><circle class=\"sym\" cx=\"0\" cy=\"0\" r=\"3\"/><text class=\"lab lft\" transform=\"translate(-3 -7.0)\">12</text></g><path class=\"edge\" d=\"M 0 0 V -0.486863 H 0.0\"/><circle class=\"sym\" cx=\"0\" cy=\"0\" r=\"3\"/><text class=\"lab lft\" transform=\"translate(-3 -7.0)\">13</text></g><path class=\"edge\" d=\"M 0 0 V -3.08346 H 0.0\"/><circle class=\"sym\" cx=\"0\" cy=\"0\" r=\"3\"/><text class=\"lab lft\" transform=\"translate(-3 -7.0)\">14</text></g><path class=\"edge\" d=\"M 0 0 V -2.43431 H 0.0\"/><circle class=\"sym\" cx=\"0\" cy=\"0\" r=\"3\"/><text class=\"lab lft\" transform=\"translate(-3 -7.0)\">15</text></g><path class=\"edge\" d=\"M 0 0 V -1.13601 H 0.0\"/><circle class=\"sym\" cx=\"0\" cy=\"0\" r=\"3\"/><text class=\"lab lft\" transform=\"translate(-3 -7.0)\">16</text></g><path class=\"edge\" d=\"M 0 0 V -0.0811438 H 0.0\"/><circle class=\"sym\" cx=\"0\" cy=\"0\" r=\"3\"/><text class=\"lab lft\" transform=\"translate(-3 -7.0)\">17</text></g><path class=\"edge\" d=\"M 0 0 V -0.0811438 H 0.0\"/><circle class=\"sym\" cx=\"0\" cy=\"0\" r=\"3\"/><text class=\"lab lft\" transform=\"translate(-3 -7.0)\">18</text></g><path class=\"edge\" d=\"M 0 0 V -0.243431 H 0.0\"/><circle class=\"sym\" cx=\"0\" cy=\"0\" r=\"3\"/><text class=\"lab lft\" transform=\"translate(-3 -7.0)\">19</text></g><path class=\"edge\" d=\"M 0 0 V -0.730294 H 0.0\"/><circle class=\"sym\" cx=\"0\" cy=\"0\" r=\"3\"/><text class=\"lab lft\" transform=\"translate(-3 -7.0)\">22</text></g><path class=\"edge\" d=\"M 0 0 V -0.405719 H 0.0\"/><circle class=\"sym\" cx=\"0\" cy=\"0\" r=\"3\"/><text class=\"lab lft\" transform=\"translate(-3 -7.0)\">23</text></g><path class=\"edge\" d=\"M 0 0 V -1.46059 H 0.0\"/><circle class=\"sym\" cx=\"0\" cy=\"0\" r=\"3\"/><text class=\"lab lft\" transform=\"translate(-3 -7.0)\">25</text></g><path class=\"edge\" d=\"M 0 0 V -2.19088 H -16\"/><circle class=\"sym\" cx=\"0\" cy=\"0\" r=\"3\"/><text class=\"lab rgt\" transform=\"translate(3 -7.0)\">29</text></g><path class=\"edge\" d=\"M 0 0 V -0.568007 H 0.0\"/><circle class=\"sym\" cx=\"0\" cy=\"0\" r=\"3\"/><text class=\"lab lft\" transform=\"translate(-3 -7.0)\">30</text></g><path class=\"edge\" d=\"M 0 0 V -1.05487 H 0.0\"/><circle class=\"sym\" cx=\"0\" cy=\"0\" r=\"3\"/><text class=\"lab lft\" transform=\"translate(-3 -7.0)\">31</text></g><path class=\"edge\" d=\"M 0 0 V -0.243431 H 0.0\"/><circle class=\"sym\" cx=\"0\" cy=\"0\" r=\"3\"/><text class=\"lab lft\" transform=\"translate(-3 -7.0)\">32</text></g><path class=\"edge\" d=\"M 0 0 V -0.243431 H 0.0\"/><circle class=\"sym\" cx=\"0\" cy=\"0\" r=\"3\"/><text class=\"lab lft\" transform=\"translate(-3 -7.0)\">33</text></g><path class=\"edge\" d=\"M 0 0 V -1.70402 H 0.0\"/><g class=\"mut m8 s0\" transform=\"translate(0 -0.892581)\"><line x1=\"0\" x2=\"0\" y1=\"0\" y2=\"0.892581\"/><path class=\"sym\" d=\"M -3,-3 l 6,6 M -3,3 l 6,-6\"/><text class=\"lab lft\" transform=\"translate(-5 0)\">8</text></g><circle class=\"sym\" cx=\"0\" cy=\"0\" r=\"3\"/><text class=\"lab lft\" transform=\"translate(-3 -7.0)\">34</text></g><path class=\"edge\" d=\"M 0 0 V -0.0811438 H 0.0\"/><circle class=\"sym\" cx=\"0\" cy=\"0\" r=\"3\"/><text class=\"lab lft\" transform=\"translate(-3 -7.0)\">35</text></g><path class=\"edge\" d=\"M 0 0 V -3.00232 H 0.0\"/><circle class=\"sym\" cx=\"0\" cy=\"0\" r=\"3\"/><text class=\"lab lft\" transform=\"translate(-3 -7.0)\">36</text></g><path class=\"edge\" d=\"M 0 0 V -0.243431 H 0.0\"/><circle class=\"sym\" cx=\"0\" cy=\"0\" r=\"3\"/><text class=\"lab lft\" transform=\"translate(-3 -7.0)\">37</text></g><path class=\"edge\" d=\"M 0 0 V -0.973726 H 0.0\"/><circle class=\"sym\" cx=\"0\" cy=\"0\" r=\"3\"/><text class=\"lab lft\" transform=\"translate(-3 -7.0)\">38</text></g><path class=\"edge\" d=\"M 0 0 V -0.811438 H 0.0\"/><circle class=\"sym\" cx=\"0\" cy=\"0\" r=\"3\"/><text class=\"lab lft\" transform=\"translate(-3 -7.0)\">39</text></g><path class=\"edge\" d=\"M 0 0 V -0.973726 H 0.0\"/><circle class=\"sym\" cx=\"0\" cy=\"0\" r=\"3\"/><text class=\"lab lft\" transform=\"translate(-3 -7.0)\">40</text></g><path class=\"edge\" d=\"M 0 0 V -2.19088 H 0.0\"/><circle class=\"sym\" cx=\"0\" cy=\"0\" r=\"3\"/><text class=\"lab lft\" transform=\"translate(-3 -7.0)\">41</text></g><path class=\"edge\" d=\"M 0 0 V -0.324575 H 0.0\"/><circle class=\"sym\" cx=\"0\" cy=\"0\" r=\"3\"/><text class=\"lab lft\" transform=\"translate(-3 -7.0)\">42</text></g><path class=\"edge\" d=\"M 0 0 V -10.3864 H 0.0\"/><circle class=\"sym\" cx=\"0\" cy=\"0\" r=\"3\"/><text class=\"lab lft\" transform=\"translate(-3 -7.0)\">43</text></g><path class=\"edge\" d=\"M 0 0 V -11.7659 H 0.0\"/><circle class=\"sym\" cx=\"0\" cy=\"0\" r=\"3\"/><text class=\"lab lft\" transform=\"translate(-3 -7.0)\">44</text></g><path class=\"edge\" d=\"M 0 0 V -18.9065 H 0.0\"/><circle class=\"sym\" cx=\"0\" cy=\"0\" r=\"3\"/><text class=\"lab lft\" transform=\"translate(-3 -7.0)\">45</text></g><path class=\"edge\" d=\"M 0 0 V -1.13601 H 0.0\"/><circle class=\"sym\" cx=\"0\" cy=\"0\" r=\"3\"/><text class=\"lab lft\" transform=\"translate(-3 -7.0)\">46</text></g><path class=\"edge\" d=\"M 0 0 V -0.973726 H 0.0\"/><circle class=\"sym\" cx=\"0\" cy=\"0\" r=\"3\"/><text class=\"lab lft\" transform=\"translate(-3 -7.0)\">47</text></g><path class=\"edge\" d=\"M 0 0 V -1.54173 H 0.0\"/><circle class=\"sym\" cx=\"0\" cy=\"0\" r=\"3\"/><text class=\"lab lft\" transform=\"translate(-3 -7.0)\">48</text></g><path class=\"edge\" d=\"M 0 0 V -0.0811438 H 0.0\"/><circle class=\"sym\" cx=\"0\" cy=\"0\" r=\"3\"/><text class=\"lab lft\" transform=\"translate(-3 -7.0)\">49</text></g><path class=\"edge\" d=\"M 0 0 V -0.811438 H 0.0\"/><circle class=\"sym\" cx=\"0\" cy=\"0\" r=\"3\"/><text class=\"lab lft\" transform=\"translate(-3 -7.0)\">50</text></g><path class=\"edge\" d=\"M 0 0 V -0.568007 H 0.0\"/><circle class=\"sym\" cx=\"0\" cy=\"0\" r=\"3\"/><text class=\"lab lft\" transform=\"translate(-3 -7.0)\">59</text></g><path class=\"edge\" d=\"M 0 0 V -0.324575 H 0.0\"/><circle class=\"sym\" cx=\"0\" cy=\"0\" r=\"3\"/><text class=\"lab lft\" transform=\"translate(-3 -7.0)\">60</text></g><path class=\"edge\" d=\"M 0 0 V -0.973726 H 0.0\"/><g class=\"mut m5 s0\" transform=\"translate(0 -0.892581)\"><line x1=\"0\" x2=\"0\" y1=\"0\" y2=\"0.892581\"/><path class=\"sym\" d=\"M -3,-3 l 6,6 M -3,3 l 6,-6\"/><text class=\"lab lft\" transform=\"translate(-5 0)\">5</text></g><circle class=\"sym\" cx=\"0\" cy=\"0\" r=\"3\"/><text class=\"lab lft\" transform=\"translate(-3 -7.0)\">61</text></g><path class=\"edge\" d=\"M 0 0 V -1.05487 H 0.0\"/><circle class=\"sym\" cx=\"0\" cy=\"0\" r=\"3\"/><text class=\"lab lft\" transform=\"translate(-3 -7.0)\">64</text></g><path class=\"edge\" d=\"M 0 0 V -2.0286 H 0.0\"/><circle class=\"sym\" cx=\"0\" cy=\"0\" r=\"3\"/><text class=\"lab lft\" transform=\"translate(-3 -7.0)\">68</text></g><path class=\"edge\" d=\"M 0 0 V -6.73494 H 0.0\"/><circle class=\"sym\" cx=\"0\" cy=\"0\" r=\"3\"/><text class=\"lab lft\" transform=\"translate(-3 -7.0)\">70</text></g><path class=\"edge\" d=\"M 0 0 V -18.1762 H 0.0\"/><circle class=\"sym\" cx=\"0\" cy=\"0\" r=\"3\"/><text class=\"lab lft\" transform=\"translate(-3 -7.0)\">74</text></g><path class=\"edge\" d=\"M 0 0 V -4.38177 H 0.0\"/><circle class=\"sym\" cx=\"0\" cy=\"0\" r=\"3\"/><text class=\"lab lft\" transform=\"translate(-3 -7.0)\">75</text></g><path class=\"edge\" d=\"M 0 0 V -0.0811438 H 0.0\"/><circle class=\"sym\" cx=\"0\" cy=\"0\" r=\"3\"/><text class=\"lab lft\" transform=\"translate(-3 -7.0)\">77</text></g><path class=\"edge\" d=\"M 0 0 V -0.162288 H 0.0\"/><circle class=\"sym\" cx=\"0\" cy=\"0\" r=\"3\"/><text class=\"lab lft\" transform=\"translate(-3 -7.0)\">80</text></g><path class=\"edge\" d=\"M 0 0 V -0.0811438 H 0.0\"/><circle class=\"sym\" cx=\"0\" cy=\"0\" r=\"3\"/><text class=\"lab lft\" transform=\"translate(-3 -7.0)\">83</text></g><path class=\"edge\" d=\"M 0 0 V -0.0811438 H 0.0\"/><circle class=\"sym\" cx=\"0\" cy=\"0\" r=\"3\"/><text class=\"lab lft\" transform=\"translate(-3 -7.0)\">84</text></g><path class=\"edge\" d=\"M 0 0 V -0.162288 H 0.0\"/><circle class=\"sym\" cx=\"0\" cy=\"0\" r=\"3\"/><text class=\"lab lft\" transform=\"translate(-3 -7.0)\">86</text></g><path class=\"edge\" d=\"M 0 0 V -0.730294 H 0.0\"/><circle class=\"sym\" cx=\"0\" cy=\"0\" r=\"3\"/><text class=\"lab lft\" transform=\"translate(-3 -7.0)\">88</text></g><path class=\"edge\" d=\"M 0 0 V -0.568007 H 0.0\"/><circle class=\"sym\" cx=\"0\" cy=\"0\" r=\"3\"/><text class=\"lab lft\" transform=\"translate(-3 -7.0)\">92</text></g><path class=\"edge\" d=\"M 0 0 V -7.70866 H 0.0\"/><circle class=\"sym\" cx=\"0\" cy=\"0\" r=\"3\"/><text class=\"lab lft\" transform=\"translate(-3 -7.0)\">94</text></g><path class=\"edge\" d=\"M 0 0 V -3.3269 H 0.0\"/><circle class=\"sym\" cx=\"0\" cy=\"0\" r=\"3\"/><text class=\"lab lft\" transform=\"translate(-3 -7.0)\">103</text></g><path class=\"edge\" d=\"M 0 0 V -0.892582 H 0.0\"/><circle class=\"sym\" cx=\"0\" cy=\"0\" r=\"3\"/><text class=\"lab lft\" transform=\"translate(-3 -7.0)\">105</text></g><path class=\"edge\" d=\"M 0 0 V -3.65147 H 0.0\"/><circle class=\"sym\" cx=\"0\" cy=\"0\" r=\"3\"/><text class=\"lab lft\" transform=\"translate(-3 -7.0)\">106</text></g><path class=\"edge\" d=\"M 0 0 V -15.0116 H 0.0\"/><g class=\"mut m4 s0\" transform=\"translate(0 -12.3339)\"><line x1=\"0\" x2=\"0\" y1=\"0\" y2=\"12.3339\"/><path class=\"sym\" d=\"M -3,-3 l 6,6 M -3,3 l 6,-6\"/><text class=\"lab lft\" transform=\"translate(-5 0)\">4</text></g><circle class=\"sym\" cx=\"0\" cy=\"0\" r=\"3\"/><text class=\"lab lft\" transform=\"translate(-3 -7.0)\">107</text></g><path class=\"edge\" d=\"M 0 0 V -17.5778 H 0\"/><g class=\"mut m2 s0\" transform=\"translate(0 0.0)\"><line x1=\"0\" x2=\"0\" y1=\"0\" y2=\"-0.0\"/><path class=\"sym\" d=\"M -3,-3 l 6,6 M -3,3 l 6,-6\"/><text class=\"lab rgt\" transform=\"translate(5 0)\">2</text></g><circle class=\"sym\" cx=\"0\" cy=\"0\" r=\"3\"/><text class=\"lab rgt\" transform=\"translate(3 -7.0)\">108</text></g><g class=\"i1 leaf m1 node n4 p0 root s0 sample\" transform=\"translate(164 27.5778)\"><path class=\"edge\" d=\"M 0 0 V -17.5778 H 0\"/><g class=\"mut m1 s0\" transform=\"translate(0 0.0)\"><line x1=\"0\" x2=\"0\" y1=\"0\" y2=\"-0.0\"/><path class=\"sym\" d=\"M -3,-3 l 6,6 M -3,3 l 6,-6\"/><text class=\"lab rgt\" transform=\"translate(5 0)\">1</text></g><rect class=\"sym\" height=\"6\" width=\"6\" x=\"-3\" y=\"-3\"/><text class=\"lab\" transform=\"translate(0 11)\">4</text></g></g></g></svg>"
      ],
      "text/plain": [
       "<IPython.core.display.SVG object>"
      ]
     },
     "execution_count": 30,
     "metadata": {},
     "output_type": "execute_result"
    }
   ],
   "source": [
    "tree0 = sts.at_index(0) #lets look at the very first tree\n",
    "# print(tree0) #get some more info about this tree\n",
    "SVG(tree0.draw_svg()) #display the tree"
   ]
  },
  {
   "cell_type": "markdown",
   "id": "961affef-61af-49d2-9bf9-b257a027929e",
   "metadata": {},
   "source": [
    "Now we will take each sample node, find its parent, find that parent's parent, and so on. This will help us to plot the parent-child relationships of the tree, and their locations, in 2D and 3D later."
   ]
  },
  {
   "cell_type": "code",
   "execution_count": 31,
   "id": "0eeaf48e-594b-4684-90fa-51217a47c795",
   "metadata": {
    "tags": []
   },
   "outputs": [
    {
     "ename": "ValueError",
     "evalue": "More than one root exists. Use tree.roots instead",
     "output_type": "error",
     "traceback": [
      "\u001b[0;31m---------------------------------------------------------------------------\u001b[0m",
      "\u001b[0;31mValueError\u001b[0m                                Traceback (most recent call last)",
      "\u001b[0;32m<ipython-input-31-9b7672c7020a>\u001b[0m in \u001b[0;36m<module>\u001b[0;34m\u001b[0m\n\u001b[1;32m      1\u001b[0m \u001b[0msamps\u001b[0m \u001b[0;34m=\u001b[0m \u001b[0mtree0\u001b[0m\u001b[0;34m.\u001b[0m\u001b[0msamples\u001b[0m\u001b[0;34m(\u001b[0m\u001b[0;34m)\u001b[0m \u001b[0;31m#retrieve all samples in the tree\u001b[0m\u001b[0;34m\u001b[0m\u001b[0;34m\u001b[0m\u001b[0m\n\u001b[0;32m----> 2\u001b[0;31m \u001b[0mroot_t\u001b[0m \u001b[0;34m=\u001b[0m \u001b[0msts\u001b[0m\u001b[0;34m.\u001b[0m\u001b[0mnode\u001b[0m\u001b[0;34m(\u001b[0m\u001b[0mtree0\u001b[0m\u001b[0;34m.\u001b[0m\u001b[0mroot\u001b[0m\u001b[0;34m)\u001b[0m\u001b[0;34m.\u001b[0m\u001b[0mtime\u001b[0m \u001b[0;31m#find how many generations ago the root existed\u001b[0m\u001b[0;34m\u001b[0m\u001b[0;34m\u001b[0m\u001b[0m\n\u001b[0m\u001b[1;32m      3\u001b[0m \u001b[0;34m\u001b[0m\u001b[0m\n\u001b[1;32m      4\u001b[0m \u001b[0mlist_of_nodes\u001b[0m \u001b[0;34m=\u001b[0m \u001b[0;34m[\u001b[0m\u001b[0;34m]\u001b[0m\u001b[0;34m\u001b[0m\u001b[0;34m\u001b[0m\u001b[0m\n\u001b[1;32m      5\u001b[0m \u001b[0mlist_of_inds\u001b[0m \u001b[0;34m=\u001b[0m \u001b[0;34m[\u001b[0m\u001b[0;34m]\u001b[0m\u001b[0;34m\u001b[0m\u001b[0;34m\u001b[0m\u001b[0m\n",
      "\u001b[0;32m/Library/Frameworks/Python.framework/Versions/3.9/lib/python3.9/site-packages/tskit/trees.py\u001b[0m in \u001b[0;36mroot\u001b[0;34m(self)\u001b[0m\n\u001b[1;32m   1429\u001b[0m         \"\"\"\n\u001b[1;32m   1430\u001b[0m         \u001b[0;32mif\u001b[0m \u001b[0mself\u001b[0m\u001b[0;34m.\u001b[0m\u001b[0mhas_multiple_roots\u001b[0m\u001b[0;34m:\u001b[0m\u001b[0;34m\u001b[0m\u001b[0;34m\u001b[0m\u001b[0m\n\u001b[0;32m-> 1431\u001b[0;31m             \u001b[0;32mraise\u001b[0m \u001b[0mValueError\u001b[0m\u001b[0;34m(\u001b[0m\u001b[0;34m\"More than one root exists. Use tree.roots instead\"\u001b[0m\u001b[0;34m)\u001b[0m\u001b[0;34m\u001b[0m\u001b[0;34m\u001b[0m\u001b[0m\n\u001b[0m\u001b[1;32m   1432\u001b[0m         \u001b[0;32mreturn\u001b[0m \u001b[0mself\u001b[0m\u001b[0;34m.\u001b[0m\u001b[0mleft_root\u001b[0m\u001b[0;34m\u001b[0m\u001b[0;34m\u001b[0m\u001b[0m\n\u001b[1;32m   1433\u001b[0m \u001b[0;34m\u001b[0m\u001b[0m\n",
      "\u001b[0;31mValueError\u001b[0m: More than one root exists. Use tree.roots instead"
     ]
    }
   ],
   "source": [
    "samps = tree0.samples() #retrieve all samples in the tree\n",
    "root_t = sts.node(tree0.root).time #find how many generations ago the root existed\n",
    "\n",
    "list_of_nodes = []\n",
    "list_of_inds = []\n",
    "    \n",
    "for i in samps:\n",
    "    \n",
    "    nodes = []\n",
    "    inds = []\n",
    "    \n",
    "    samp_node = sts.node(i).id #find the node id of the sample in question\n",
    "    nodes.append(samp_node) #add it to the list of nodes\n",
    "    ind = sts.node(i).individual #find the individual this sample node is in\n",
    "    inds.append(ind) #add it to the list of individuals\n",
    "    \n",
    "    parent = tree0.parent(i) #find the parent node of the sample node in question\n",
    "    nodes.append(parent) #add it to the list of nodes\n",
    "    p_ind = sts.node(parent).individual #find the individual that parent node is in\n",
    "    inds.append(p_ind) #add it to the list of individuals\n",
    "    \n",
    "    t = sts.node(parent).time #find how many generations ago the parent existed\n",
    "    \n",
    "    while t < root_t: #Ensure we find parents of parents until we hit the root\n",
    "        parent = tree0.parent(parent) #overwrite the parent variable to its parent\n",
    "        nodes.append(parent) #add it to the list of nodes\n",
    "        p_ind = sts.node(parent).individual #find the individual that parent node is in\n",
    "        inds.append(p_ind) #add it to the list of individuals\n",
    "                 \n",
    "        t = sts.node(parent).time #overwrite the t variable to the time of the parent's parent\n",
    "        \n",
    "    list_of_nodes.append(nodes)\n",
    "    list_of_inds.append(inds)\n",
    "        \n",
    "#print (list_of_nodes) # You can uncomment this to see the list of ancestral nodes for each sample\n",
    "#print (list_of_inds)"
   ]
  },
  {
   "cell_type": "markdown",
   "id": "47418916-457b-4e17-985c-eb0d0dcb158d",
   "metadata": {},
   "source": [
    "### Traversing the Entire Tree Sequence"
   ]
  },
  {
   "cell_type": "markdown",
   "id": "45a9ec63-7e8f-43db-9138-20d36674ecb0",
   "metadata": {},
   "source": [
    "Working on this!"
   ]
  },
  {
   "cell_type": "markdown",
   "id": "ac394228-3ab1-40a5-b3bc-4705407ead04",
   "metadata": {},
   "source": [
    "## 3. 2D plotting space trees (Esther)"
   ]
  },
  {
   "cell_type": "markdown",
   "id": "af3fd192-fe54-4a84-a181-82b09a4dae9a",
   "metadata": {},
   "source": [
    "This section will cover the basics of 2D plotting for a tree sequence. Feel free to check out https://matplotlib.org/stable/gallery/color/named_colors.html for colors,\n",
    "https://xkcd.com/color/rgb/ for xkcd colors, and \n",
    "https://matplotlib.org/2.0.2/api/_as_gen/matplotlib.axes.Axes.plot.html#matplotlib.axes.Axes.plot for some cool data point markers!"
   ]
  },
  {
   "cell_type": "markdown",
   "id": "c20b3302-f80f-4015-aa87-5475273f23b4",
   "metadata": {},
   "source": [
    "### A. Basic 2D plot"
   ]
  },
  {
   "cell_type": "markdown",
   "id": "c3518114-54fd-4bec-b66f-86fac0f20e64",
   "metadata": {},
   "source": [
    "Let's use our tree sequence to plot some individuals!"
   ]
  },
  {
   "cell_type": "code",
   "execution_count": 9,
   "id": "74e1c2ab-eb20-4856-a925-f91c53a184dd",
   "metadata": {},
   "outputs": [],
   "source": [
    "#for t in np.unique(sts.individual_times):\n",
    "    #print(f\"There are {np.sum(sts.individual_times == t)} individuals from time {t}.\")\n",
    "\n",
    "#^This prints the number of individuals per time stamp in the simplified tree sequence (obtained from pyslim vignette:https://pyslim.readthedocs.io/en/latest/vignette_space.html)\n",
    "#Beware! The printed list is very long.\n",
    "\n",
    "#pySLiM developers Revision ced27369 (2020). Vignette: A spatial simulation. https://pyslim.readthedocs.io/en/latest/vignette_space.html "
   ]
  },
  {
   "cell_type": "code",
   "execution_count": 10,
   "id": "39287fab-83b3-4969-878c-f4d477617b1d",
   "metadata": {},
   "outputs": [
    {
     "data": {
      "application/vnd.jupyter.widget-view+json": {
       "model_id": "7074bcfe40dd43fba76975ad570d4a2f",
       "version_major": 2,
       "version_minor": 0
      },
      "text/plain": [
       "Canvas(toolbar=Toolbar(toolitems=[('Home', 'Reset original view', 'home', 'home'), ('Back', 'Back to previous …"
      ]
     },
     "metadata": {},
     "output_type": "display_data"
    }
   ],
   "source": [
    "#First, we need to define our plot and the groups that we want to work with:\n",
    "figure1 = plt.figure()\n",
    "time = 0 #choose the desired time step (we will use time = 0, or 0 time steps ago)\n",
    "alive = sts.individuals_alive_at(time) #all individuals alive at time (defined above)\n",
    "locs = sts.individual_locations[alive] #the locations of individuals from alive \n",
    "\n",
    "#Next, set up the x-y coordinates for our chosen individuals:\n",
    "x=locs[:, 0] #x-axis values of plot using locs\n",
    "y=locs[:, 1] #y-axis values of plot using locs\n",
    "\n",
    "#Generate the scatter plot:\n",
    "plt.scatter(x, y, color= 'cornflowerblue', marker= '*', s=50)\n",
    "#this function generates a scatter plot, and we can add some customizations:\n",
    "#customize color with \"color = __\" or c = \"xkcd:____\"; e.g. c=\"xkcd:cornflower blue\" or color=\"cornflowerblue\"\n",
    "#customize shape of points with \"marker = <shape of points>\" (* = stars!)\n",
    "#customize size of points with \"s = <size of point>\"\n",
    "\n",
    "#Finally, add some labels (plot axes and title):\n",
    "plt.xlabel('x position') \n",
    "plt.ylabel('y position') \n",
    "plt.title('Individual locations at time = %d' %time) #Title uses the specific time chosen\n",
    "\n",
    "plt.show() #display our plot\n",
    "\n",
    "#Note: feel free to change the value inside <time> to plot other time steps from 0-999.\n"
   ]
  },
  {
   "cell_type": "markdown",
   "id": "55c9ea51-ec9f-49e2-b318-dac155f17939",
   "metadata": {},
   "source": [
    "### B. Some Useful Applications"
   ]
  },
  {
   "cell_type": "markdown",
   "id": "3255949d-b852-4d9b-b9ce-c4f127e92d07",
   "metadata": {},
   "source": [
    "#### 1. Plot multiple time stamps on one plot (demonstrated using t=0, t=350, & t=999).\n",
    "\n",
    "Suppose that you would like to compare the locations of individuals from 15 different time stamps on a single plot; could you imagine how tedius it would be to define individuals, their locations, x-y coordinates, and plot customizations 15 different times? To combat this, we can use a for-loop and plot as many data sets as we desire with ease! \n",
    "\n",
    "Note: Because we want to customize each data set's markers, colors, etc., we need to use the zip() function in the loop. For more info on zip():https://realpython.com/python-zip-function/"
   ]
  },
  {
   "cell_type": "code",
   "execution_count": 11,
   "id": "f6fdc577-9a76-4c42-a000-70e8c054832e",
   "metadata": {},
   "outputs": [
    {
     "data": {
      "text/plain": [
       "[(0, 'cornflowerblue'), (350, 'pink'), (999, 'xkcd:seafoam green')]"
      ]
     },
     "execution_count": 11,
     "metadata": {},
     "output_type": "execute_result"
    }
   ],
   "source": [
    "#a quick example of using zip():\n",
    "times = [0, 350, 999] \n",
    "colors = ['cornflowerblue','pink', 'xkcd:seafoam green'] \n",
    "assign = zip(times, colors)\n",
    "list(assign)\n",
    "#^The output confirms that each element in color is correctly assigned to each element in time. "
   ]
  },
  {
   "cell_type": "code",
   "execution_count": 12,
   "id": "c44aa74a-1c65-4ea2-9ce1-0b73c549dac2",
   "metadata": {},
   "outputs": [
    {
     "data": {
      "application/vnd.jupyter.widget-view+json": {
       "model_id": "33207427063c4412934c85e2686a9ccd",
       "version_major": 2,
       "version_minor": 0
      },
      "text/plain": [
       "Canvas(toolbar=Toolbar(toolitems=[('Home', 'Reset original view', 'home', 'home'), ('Back', 'Back to previous …"
      ]
     },
     "metadata": {},
     "output_type": "display_data"
    }
   ],
   "source": [
    "figure2 = plt.figure()\n",
    "\n",
    "times = [0, 350, 999] #create a list of the times we want to plot (we can do as many as we want)\n",
    "colors = ['cornflowerblue','pink', 'xkcd:seafoam green'] #colors that match the times above\n",
    "markers = ['*', '^', 's'] #markers that match the times above\n",
    "#^We can keep doing this to add more customizations (e.g., size of points)\n",
    "\n",
    "#Now, loop!\n",
    "for time, color, marker in zip(times, colors, markers): \n",
    "    alive = sts.individuals_alive_at(time) #insert \"time\" and not a single time stamp to iterate through the list of times.\n",
    "    where = sts.individual_locations[alive] \n",
    "    x = where[:,0] \n",
    "    y = where[:,1] \n",
    "    plt.scatter(x, y, label= 't=%d' %time, color=color, marker=marker, s=50) #input defined indices\n",
    "    #the label uses whatever times we define in our list.   \n",
    "    \n",
    "#Finally, some plotting formalities:\n",
    "plt.xlabel('x position')\n",
    "plt.ylabel('y position')\n",
    "plt.title('Locations of individuals at multiple different time steps')\n",
    "plt.legend() #legend for the labels we created above\n",
    "plt.show()\n",
    "\n",
    "\n",
    "#Note: Sometimes, individual locations are the same at different time points and they may overlap\n",
    "    #Try using different sizes of points (s) to see if this is happening!"
   ]
  },
  {
   "cell_type": "markdown",
   "id": "f8eb0fda-b325-4fb8-8f0e-691ab0c599d6",
   "metadata": {},
   "source": [
    "#### 2. Plot Children and Parent locations\n",
    "\n",
    "The following plots show how we can use the information retrieved from \"2. Locate Children and Parents\" to plot their locations. We will connect children and parents with lines to show their relations.\n",
    "\n",
    "Note: Remember that we will be using lists obtained from the first tree within the genome."
   ]
  },
  {
   "cell_type": "code",
   "execution_count": 13,
   "id": "0604147d-94ec-4ccc-8538-1dea3e8fdfeb",
   "metadata": {},
   "outputs": [],
   "source": [
    "#Uncomment to see the lists containing individuals (child + parents):\n",
    "\n",
    "#print (list_of_inds[0][:]) #prints one list\n",
    "\n",
    "#lists = [list_of_inds[0][:], list_of_inds[1][:]] #prints two lists\n",
    "#for i in lists:\n",
    "    #print (i)"
   ]
  },
  {
   "cell_type": "code",
   "execution_count": 14,
   "id": "2c4e2f10-741b-483b-a15d-277f3bf1d981",
   "metadata": {},
   "outputs": [
    {
     "data": {
      "application/vnd.jupyter.widget-view+json": {
       "model_id": "15adcb1a44244105aace0738ee64fa51",
       "version_major": 2,
       "version_minor": 0
      },
      "text/plain": [
       "Canvas(toolbar=Toolbar(toolitems=[('Home', 'Reset original view', 'home', 'home'), ('Back', 'Back to previous …"
      ]
     },
     "metadata": {},
     "output_type": "display_data"
    }
   ],
   "source": [
    "#Plotting a list of child-parents (we will use the first list):\n",
    "\n",
    "figure3 = plt.figure()\n",
    "ind_ancestors = list_of_inds[0][:] #Access the first list (index 0) in the list of lists\n",
    "loc_an = sts.individual_locations[ind_ancestors] #the locations of individuals from ind_ancestors\n",
    "\n",
    "x = loc_an[:,0] #x, y values\n",
    "y = loc_an[:,1] \n",
    "\n",
    "#Introducing more plotting functions:\n",
    "plt.plot(x, y, linewidth = 0.3, color = 'black') #add line that connects individuals\n",
    "plt.xlim(0, 9) #Set axes limits to match the scale of the upcoming graph (for better comparison):\n",
    "plt.ylim(0, 9)\n",
    "\n",
    "plt.scatter(x, y, color = 'cornflowerblue', s = 15)\n",
    "plt.xlabel('x position')\n",
    "plt.ylabel('y position')\n",
    "plt.title('Locating children and parents from list #1')\n",
    "plt.show()"
   ]
  },
  {
   "cell_type": "code",
   "execution_count": 15,
   "id": "8491c15e-2ecc-43f1-a6f2-b740401a55cc",
   "metadata": {},
   "outputs": [
    {
     "data": {
      "application/vnd.jupyter.widget-view+json": {
       "model_id": "5df38ebfb98743d8814438a99e81c43e",
       "version_major": 2,
       "version_minor": 0
      },
      "text/plain": [
       "Canvas(toolbar=Toolbar(toolitems=[('Home', 'Reset original view', 'home', 'home'), ('Back', 'Back to previous …"
      ]
     },
     "metadata": {},
     "output_type": "display_data"
    }
   ],
   "source": [
    "#Comparing two different lists of individuals:\n",
    "\n",
    "figure4 = plt.figure()\n",
    "lists = [list_of_inds[0][:], list_of_inds[4][:]] #put our two desired lists in one list, for which we will loop over.\n",
    "colors = ['cornflowerblue', 'orange']\n",
    "labels = ['individuals from list #1', 'individuals from list #5'] #recall that list 1 = index 0\n",
    "#same as above, but now add a for-loop:\n",
    "for i, j, k in zip(lists, colors, labels):\n",
    "    locs = sts.individual_locations[i] \n",
    "    x = locs[:,0] \n",
    "    y = locs[:,1] \n",
    "    plt.plot(x, y, linewidth = 0.3, color = 'black')\n",
    "    plt.scatter(x, y, label = k, color = j, s = 10)\n",
    "\n",
    "    \n",
    "#NOTE: Parents/ancestors may overlap for different lists. We can use another loop to highlight these individuals:\n",
    "\n",
    "one = list_of_inds[0][:] #First, separate the two lists\n",
    "two = list_of_inds[4][:]\n",
    "\n",
    "common = [] #create an empty list where we will append common individuals\n",
    "for o in one:\n",
    "    if o in two:\n",
    "        common.append(o) #if an individual in one exists in two, then append it to the list.\n",
    "\n",
    "new = sts.individual_locations[common] #use our new list and access locations.\n",
    "x1 = new[:, 0] \n",
    "y1 = new[:, 1]\n",
    "plt.scatter(x1, y1, label = 'common individuals', color = 'red', s=5) #plot them onto the same plot.\n",
    "\n",
    "#We can also put this chunk inside the first for-loop to condense things--try it as an exercise! :^)     \n",
    "          \n",
    "plt.xlabel('x position')\n",
    "plt.ylabel('y position')\n",
    "plt.title('Locating children and parents from two different lists')\n",
    "plt.legend()\n",
    "plt.show()"
   ]
  },
  {
   "cell_type": "markdown",
   "id": "504660c0-57b5-438e-810e-f4a70e2e3eb6",
   "metadata": {},
   "source": [
    "While 2D plots help us visualize and compare individuals using their locations, we are unable to see where they are with respect to time. Instead of cluttering a 2D plot with all the time stamps, it would be more useful to, say, create a plot for each time and stack them chronologically--we need a 3D plot!"
   ]
  },
  {
   "cell_type": "markdown",
   "id": "4b2498ca-ce1d-46e2-922d-437ae593d9d8",
   "metadata": {},
   "source": [
    "## 4. 3D plotting (Alex)"
   ]
  },
  {
   "cell_type": "code",
   "execution_count": 16,
   "id": "9befcf0f-7c1f-4355-bfb2-024fae933c5e",
   "metadata": {},
   "outputs": [
    {
     "data": {
      "application/vnd.jupyter.widget-view+json": {
       "model_id": "c55ca91c4d914d7d8743fa092078021e",
       "version_major": 2,
       "version_minor": 0
      },
      "text/plain": [
       "Canvas(toolbar=Toolbar(toolitems=[('Home', 'Reset original view', 'home', 'home'), ('Back', 'Back to previous …"
      ]
     },
     "metadata": {},
     "output_type": "display_data"
    }
   ],
   "source": [
    "#Now it's time to plot something! 3d plots are great for looking at changes in patterns over time.\n",
    "#Let's say we want to see how the positions of individuals in the tree sequence change over time.\n",
    "#It's easiest and cleanest to set this up by defining a function in Python, then running it for the tree sequence.\n",
    "\n",
    "def positions(ts):\n",
    "    #First, we set up the plot using matplotlib.\n",
    "    fig = plt.figure()\n",
    "    threed = fig.add_subplot(projection='3d')\n",
    "\n",
    "    #We need to create lists in which we will hold the x- and y-coordinates of individuals & the time they were born.\n",
    "    x, y, t = [], [], []\n",
    "    \n",
    "    #Now, we iterate over the individuals in the tree sequence and get their positions & birthdates.\n",
    "    for ind in ts.individuals():\n",
    "        #The location attribute of the individual class is an array of the coordinates where the individual is located.\n",
    "        x_pos = ind.location[0]\n",
    "        y_pos = ind.location[1]\n",
    "        time = ind.time\n",
    "        #Now, we append these values to the lists we created.\n",
    "        x.append(x_pos)\n",
    "        y.append(y_pos)\n",
    "        t.append(time)\n",
    "    #Time to put it on the plot! First, let's set the z-axis to include all of the generational numbers in our simulation.\n",
    "    #Because tree sequences count generations backwards, we put the axis in reverse so the final gen is on the top.\n",
    "    threed.set_zlim([1000,0])\n",
    "    #So that we can see our data, let's set the size of the points to 2.0. The default size is 10.0.\n",
    "    threed.scatter3D(x, y, t, s=2.0)\n",
    "\n",
    "#Let's give our function a go with the simplified tree sequence now:\n",
    "positions(sts)\n",
    "#With the %matplotlib widget feature at the very beginning of the code, we can rotate our graph\n",
    "# & see precisely how individuals are positioned in each generation."
   ]
  },
  {
   "cell_type": "markdown",
   "id": "3b5b94ee-5e06-4403-b851-b31d655dc3ea",
   "metadata": {},
   "source": [
    "# EXTENSIONS"
   ]
  },
  {
   "cell_type": "markdown",
   "id": "4f7f14fd-4d0a-45bd-afe7-1632b222fed4",
   "metadata": {},
   "source": [
    "## mutations/selected alleles (Alex)"
   ]
  },
  {
   "cell_type": "code",
   "execution_count": 17,
   "id": "07f76aa0-fbf1-46e9-83c6-35552aa33017",
   "metadata": {},
   "outputs": [
    {
     "name": "stdout",
     "output_type": "stream",
     "text": [
      "╔═════════════════════════╗\n",
      "║TreeSequence             ║\n",
      "╠═══════════════╤═════════╣\n",
      "║Trees          │       27║\n",
      "╟───────────────┼─────────╢\n",
      "║Sequence Length│1000000.0║\n",
      "╟───────────────┼─────────╢\n",
      "║Sample Nodes   │        5║\n",
      "╟───────────────┼─────────╢\n",
      "║Total Size     │358.5 KiB║\n",
      "╚═══════════════╧═════════╝\n",
      "╔═══════════╤════╤═════════╤════════════╗\n",
      "║Table      │Rows│Size     │Has Metadata║\n",
      "╠═══════════╪════╪═════════╪════════════╣\n",
      "║Edges      │2616│ 71.5 KiB│          No║\n",
      "╟───────────┼────┼─────────┼────────────╢\n",
      "║Individuals│2517│158.8 KiB│         Yes║\n",
      "╟───────────┼────┼─────────┼────────────╢\n",
      "║Migrations │   0│  4 Bytes│          No║\n",
      "╟───────────┼────┼─────────┼────────────╢\n",
      "║Mutations  │ 211│  7.2 KiB│          No║\n",
      "╟───────────┼────┼─────────┼────────────╢\n",
      "║Nodes      │2575│ 86.2 KiB│         Yes║\n",
      "╟───────────┼────┼─────────┼────────────╢\n",
      "║Populations│   1│  2.8 KiB│         Yes║\n",
      "╟───────────┼────┼─────────┼────────────╢\n",
      "║Provenances│   3│  6.4 KiB│          No║\n",
      "╟───────────┼────┼─────────┼────────────╢\n",
      "║Sites      │ 211│  3.5 KiB│          No║\n",
      "╚═══════════╧════╧═════════╧════════════╝\n",
      "\n"
     ]
    }
   ],
   "source": [
    "#One of the tools available from msprime is the \"sim_mutations\" function, which overlays neutral mutations.\n",
    "#Let's use this function on our tree sequence.\n",
    "mts = msprime.sim_mutations(sts, rate=1e-7, random_seed=1) #Seed number added for replicability.\n",
    "print(mts)"
   ]
  },
  {
   "cell_type": "code",
   "execution_count": 18,
   "id": "a12d28e4-f4b7-4708-b887-c3c66b092708",
   "metadata": {},
   "outputs": [
    {
     "name": "stdout",
     "output_type": "stream",
     "text": [
      "Mutation(id=0, site=0, node=2535, derived_state='T', parent=-1, metadata={'mutation_list': []}, time=960.8744981496129)\n"
     ]
    }
   ],
   "source": [
    "#Now, let's take a look at one of our mutations.\n",
    "print(mts.mutation(0))"
   ]
  },
  {
   "cell_type": "code",
   "execution_count": null,
   "id": "82c17b8c-863c-4df0-8aca-d24e4ff4fd51",
   "metadata": {},
   "outputs": [],
   "source": []
  },
  {
   "cell_type": "markdown",
   "id": "9112a716-220f-4b59-96a8-e16b0514dc2e",
   "metadata": {},
   "source": [
    "## discrete space / metapopulations (Pam)"
   ]
  },
  {
   "cell_type": "markdown",
   "id": "3792ed1a-31dd-49ba-8d8b-9752377d8e5b",
   "metadata": {},
   "source": [
    "## slendr (Esther)"
   ]
  },
  {
   "cell_type": "markdown",
   "id": "9fb03c50-4b48-428e-811d-caa5ccab3e49",
   "metadata": {},
   "source": [
    "slendr is an R package that we can use to generate spatial simulations and analyze the genomic data. Slendr is currently under development, and this tutorial uses the 0.0.0.9000 version.\n",
    "\n",
    "We can use these spatial models developed by slendr and create a .trees file through SLiM, all under the R environment!\n",
    "\n",
    "For simplicity, we will use the spatial simulation from \"Introduction and basic tutorial\", with a few modifications:\n",
    "- incorporated the sampling() function from the tutorial, \"Tree-sequence processing and statistics\" to remember individuals at key points.\n",
    "- extra comments added for clarification.\n",
    "\n",
    "Please refer to the actual tutorial to understand certain functions and visualize the plots, as the code below is condensed for the purposes of this tutorial. Visit https://bodkan.net/slendr/index.html for more details, installation instructions, and tutorials."
   ]
  },
  {
   "cell_type": "markdown",
   "id": "6c51bf1d-9fdc-4ffa-8f90-9623ac83fd62",
   "metadata": {},
   "source": [
    "#### slendr script:"
   ]
  },
  {
   "cell_type": "code",
   "execution_count": 19,
   "id": "13228249-5986-464d-a0d6-208257f70ba2",
   "metadata": {},
   "outputs": [],
   "source": [
    "slendr = \"\"\"\n",
    "library(slendr) #First, open the slendr package in R\n",
    "\n",
    "#Define our world map and its dimensions:\n",
    "map <- world(\n",
    "  xrange = c(-15, 60), # min-max longitude\n",
    "  yrange = c(20, 65),  # min-max latitude\n",
    "  crs = \"EPSG:3035\"    # real projected CRS used internally\n",
    ")\n",
    "\n",
    "\n",
    "#define our regions: africa, europe, anatolia\n",
    "africa <- region(\n",
    "  \"Africa\", map,\n",
    "  polygon = list(c(-18, 20), c(40, 20), c(30, 33),\n",
    "                 c(20, 32), c(10, 35), c(-8, 35))\n",
    ")\n",
    "europe <- region(\n",
    "  \"Europe\", map,\n",
    "  polygon = list(\n",
    "    c(-8, 35), c(-5, 36), c(10, 38), c(20, 35), c(25, 35),\n",
    "    c(33, 45), c(20, 58), c(-5, 60), c(-15, 50)\n",
    "  )\n",
    ")\n",
    "anatolia <- region(\n",
    "  \"Anatolia\", map,\n",
    "  polygon = list(c(28, 35), c(40, 35), c(42, 40),\n",
    "                 c(30, 43), c(27, 40), c(25, 38))\n",
    ")\n",
    "\n",
    "\n",
    "#define our six populations (afr, ooa, ehg, eur, ana, yam) as well as their movements:\n",
    "afr <- population(\n",
    "  \"AFR\", parent = \"ancestor\", time = 52000, N = 3000,\n",
    "  map = map, polygon = africa\n",
    ")\n",
    "ooa <- population(\n",
    "  \"OOA\", parent = afr, time = 51000, N = 500, remove = 25000,\n",
    "  center = c(33, 30), radius = 400e3\n",
    ")\n",
    "ooa <- ooa %>% move(\n",
    "  trajectory = list(c(40, 30), c(50, 30), c(60, 40)),\n",
    "  start = 50000, end = 40000\n",
    ")\n",
    "ehg <- population(\n",
    "  \"EHG\", parent = ooa, time = 28000, N = 1000, remove = 6000,\n",
    "  polygon = list(\n",
    "    c(26, 55), c(38, 53), c(48, 53), c(60, 53),\n",
    "    c(60, 60), c(48, 63), c(38, 63), c(26, 60))\n",
    ")\n",
    "eur <- population( # European population\n",
    "  name = \"EUR\", parent = ehg, time = 25000, N = 2000,\n",
    "  polygon = europe\n",
    ")\n",
    "ana <- population( # Anatolian farmers\n",
    "  name = \"ANA\", time = 28000, N = 3000, parent = ooa, remove = 4000,\n",
    "  center = c(34, 38), radius = 500e3, polygon = anatolia\n",
    ") %>%\n",
    "  expand( # expand the range by 2.500 km\n",
    "    by = 2500e3, start = 10000, end = 7000,\n",
    "    polygon = join(europe, anatolia)\n",
    "  )\n",
    "yam <- population( # Yamnaya steppe population\n",
    "  name = \"YAM\", time = 7000, N = 500, parent = ehg, remove = 2500,\n",
    "  polygon = list(c(26, 50), c(38, 49), c(48, 50),\n",
    "                 c(48, 56), c(38, 59), c(26, 56))\n",
    ")\n",
    "yam <- yam %>%\n",
    "  move(\n",
    "    trajectory = c(15, 50),\n",
    "    start = 5000, end = 3000, snapshots = 8\n",
    "  )\n",
    "\n",
    "\n",
    "#simulate geneflow between populations. NOTE: in order for geneflow to occur, population ranges must overlap. If not, an error will occur.\n",
    "gf <- list(\n",
    "  geneflow(from = ana, to = yam, rate = 0.5, start = 6500, end = 6400, overlap = FALSE),\n",
    "  geneflow(from = ana, to = eur, rate = 0.5, start = 8000, end = 6000),\n",
    "  geneflow(from = yam, to = eur, rate = 0.75, start = 4000, end = 3000)\n",
    ")\n",
    "\n",
    "#create our spatial model using compile() in folder \"slendr-model\"\n",
    "model <- compile(\n",
    "  populations = list(afr, ooa, ehg, eur, ana, yam), # populations defined above\n",
    "  geneflow = gf, # geneflow events defined above\n",
    "  generation_time = 30,\n",
    "  resolution = 10e3, # resolution in meters per pixel\n",
    "  competition_dist = 130e3, mate_dist = 100e3, # spatial interaction in SLiM\n",
    "  dispersal_dist = 70e3, # how far will offspring end up from their parents\n",
    "  dir = file.path(tempdir(), \"slendr-model\"),  overwrite = TRUE\n",
    ")\n",
    "\n",
    "#try reading files in our model; you should get an output of the existing files\n",
    "list.files(file.path(tempdir(), \"slendr-model\"), pattern = \"*.png\")\n",
    "\n",
    "#plot the geneflow graph for our model\n",
    "plot_graph(model)\n",
    "\n",
    "\n",
    "#SAMPLING (extra addition)\n",
    "#We need to sample all populations in order to remember the individuals.\n",
    "#For simplicity, populations were sampled when they were generated/split or when geneflow occured.\n",
    "#Used initial population numbers from above and times from plot_graph(model).\n",
    "afr_sample <- sampling(model, times=c(0,51999), list(afr, 3000))\n",
    "ooa_samples <- sampling(model, times=c(51000, 40000), list(ooa, 500))\n",
    "ehg_samples <- sampling(model, times=27000, list(ehg, 1000))\n",
    "eur_samples <- sampling(model, times=24000, list(eur, 2000))\n",
    "ana_samples <- sampling(model, times=c(27000,7000), list(ana, 3000))\n",
    "yam_samples <- sampling(model, times=c(6500, 4000), list(yam, 500))\n",
    "\n",
    "#Finally, load everything onto SLiM\n",
    "slim(\n",
    "  model,\n",
    "  seq_length = 1, recomb_rate = 0, # simulate only a single locus\n",
    "  ts_recording = TRUE, #generate a .trees file\n",
    "  save_locations = TRUE, # save the location of everyone who ever lived\n",
    "  track_ancestry = 1,\n",
    "  sampling = rbind(afr_sample, ooa_samples, ehg_samples, eur_samples, ana_samples, yam_samples),\n",
    "  method = \"batch\", # change to \"gui\" to execute the model in SLiMgui\n",
    "  seed = 314159\n",
    ")\n",
    "\"\"\"\n",
    "\n",
    "#Done! After running this in slendr, you should find output_ts.trees in slendr-model\n",
    "#The original tutorial uses animate(), which shows a gif of the populations moving!"
   ]
  },
  {
   "cell_type": "markdown",
   "id": "b751b131-d65b-4f24-ade7-676f09210cb2",
   "metadata": {},
   "source": [
    "#### IMPORTANT NOTE ON {OUTPUT} FOLDER:\n",
    "\n",
    "The output folder \"slendr-model\" contains all of our files (map images, model data, .slim file, .trees file) but may be difficult to find. Try:\n",
    "1. Change method to \"gui\" and open in SLiMgui to see the code.\n",
    "2. Constants and parameters will refer to a folder (e.g., defineConstant(\"MODEL_DIR\", \"/var/folders/t2.........tutorial-model\"); this is the location of our folder of interest.\n",
    "3. press COMMAND SHIFT G and type in the entire folder name \n",
    "4. If step 3 does not work, type the first few parts (e.g., just /var/folders/) and keep clicking on the folder names that match the subsequent parts of the directory. \n",
    "5. You should find \"slendr-model\"!"
   ]
  },
  {
   "cell_type": "markdown",
   "id": "d7f3f546-929e-498f-bde5-a8bedda2d4e8",
   "metadata": {},
   "source": [
    "### A. Analyze the tree sequence"
   ]
  },
  {
   "cell_type": "code",
   "execution_count": 20,
   "id": "b756ef38-2038-464b-9da8-301cdd659b06",
   "metadata": {},
   "outputs": [
    {
     "data": {
      "text/html": [
       "\n",
       "            <div>\n",
       "              <style>\n",
       "                .tskit-table thead tr th {text-align: left;padding: 0.5em 0.5em;}\n",
       "                .tskit-table tbody tr td {padding: 0.5em 0.5em;}\n",
       "                .tskit-table tbody tr td:first-of-type {text-align: left;}\n",
       "                .tskit-details-label {vertical-align: top; padding-right:5px;}\n",
       "                .tskit-table-set {display: inline-flex;flex-wrap: wrap;margin: -12px 0 0 -12px;width: calc(100% + 12px);}\n",
       "                .tskit-table-set-table {margin: 12px 0 0 12px;}\n",
       "                details {display: inline-block;}\n",
       "                summary {cursor: pointer; outline: 0; display: list-item;}\n",
       "              </style>\n",
       "              <div class=\"tskit-table-set\">\n",
       "                <div class=\"tskit-table-set-table\">\n",
       "                  <table class=\"tskit-table\">\n",
       "                    <thead>\n",
       "                      <tr>\n",
       "                        <th style=\"padding:0;line-height:21px;\">\n",
       "                          <img style=\"height: 32px;display: inline-block;padding: 3px 5px 3px 0;\" src=\"https://raw.githubusercontent.com/tskit-dev/administrative/main/tskit_logo.svg\"/>\n",
       "                          <a target=\"_blank\" href=\"https://tskit.readthedocs.io/en/latest/python-api.html#the-treesequence-class\"> Tree Sequence </a>\n",
       "                        </th>\n",
       "                      </tr>\n",
       "                    </thead>\n",
       "                    <tbody>\n",
       "                      <tr><td>Trees</td><td>1</td></tr>\n",
       "                      <tr><td>Sequence Length</td><td>1.0</td></tr>\n",
       "                      <tr><td>Sample Nodes</td><td>5</td></tr>\n",
       "                      <tr><td>Total Size</td><td>52.9 KiB</td></tr>\n",
       "                      <tr>\n",
       "                        <td>Metadata</td><td style=\"text-align: left;\">\n",
       "                <div>\n",
       "                  <span class=\"tskit-details-label\"></span>\n",
       "                  <details open>\n",
       "                    <summary>dict</summary>\n",
       "                    \n",
       "                <div>\n",
       "                  <span class=\"tskit-details-label\">SLiM:</span>\n",
       "                  <details >\n",
       "                    <summary>dict</summary>\n",
       "                    file_version: 0.6<br/>generation: 1734<br/>model_type: WF<br/>nucleotide_based: False<br/>separate_sexes: False<br/>spatial_dimensionality: xy<br/>spatial_periodicity: <br/>stage: late<br/>\n",
       "                <div>\n",
       "                  <span class=\"tskit-details-label\">user_metadata:</span>\n",
       "                  <details >\n",
       "                    <summary>dict</summary>\n",
       "                    \n",
       "                <div>\n",
       "                  <span class=\"tskit-details-label\">sampling:</span>\n",
       "                  <details >\n",
       "                    <summary>list</summary>\n",
       "                    \n",
       "                <div>\n",
       "                  <span class=\"tskit-details-label\"></span>\n",
       "                  <details >\n",
       "                    <summary>dict</summary>\n",
       "                    \n",
       "                <div>\n",
       "                  <span class=\"tskit-details-label\">n:</span>\n",
       "                  <details >\n",
       "                    <summary>list</summary>\n",
       "                     3000.0<br/> 500.0<br/> 3000.0<br/> 1000.0<br/> 2000.0<br/> 3000.0<br/> 500.0<br/> 500.0<br/> 3000.0<br/>\n",
       "                  </details>\n",
       "                </div>\n",
       "                <br/>\n",
       "                <div>\n",
       "                  <span class=\"tskit-details-label\">pop:</span>\n",
       "                  <details >\n",
       "                    <summary>list</summary>\n",
       "                     AFR<br/> OOA<br/> ANA<br/> EHG<br/> EUR<br/> ANA<br/> YAM<br/> YAM<br/> AFR<br/>\n",
       "                  </details>\n",
       "                </div>\n",
       "                <br/>\n",
       "                <div>\n",
       "                  <span class=\"tskit-details-label\">time:</span>\n",
       "                  <details >\n",
       "                    <summary>list</summary>\n",
       "                     1<br/> 401<br/> 834<br/> 834<br/> 934<br/> 1501<br/> 1518<br/> 1601<br/> 1734<br/>\n",
       "                  </details>\n",
       "                </div>\n",
       "                <br/>\n",
       "                <div>\n",
       "                  <span class=\"tskit-details-label\">time_gen:</span>\n",
       "                  <details >\n",
       "                    <summary>list</summary>\n",
       "                     1<br/> 401<br/> 834<br/> 834<br/> 934<br/> 1501<br/> 1518<br/> 1601<br/> 1734<br/>\n",
       "                  </details>\n",
       "                </div>\n",
       "                <br/>\n",
       "                <div>\n",
       "                  <span class=\"tskit-details-label\">time_orig:</span>\n",
       "                  <details >\n",
       "                    <summary>list</summary>\n",
       "                     51999<br/> 40000<br/> 27000<br/> 27000<br/> 24000<br/> 7000<br/> 6500<br/> 4000<br/> 0<br/>\n",
       "                  </details>\n",
       "                </div>\n",
       "                <br/>\n",
       "                  </details>\n",
       "                </div>\n",
       "                <br/>\n",
       "                  </details>\n",
       "                </div>\n",
       "                <br/>\n",
       "                  </details>\n",
       "                </div>\n",
       "                <br/>\n",
       "                  </details>\n",
       "                </div>\n",
       "                <br/>\n",
       "                  </details>\n",
       "                </div>\n",
       "                </td></tr>\n",
       "                    </tbody>\n",
       "                  </table>\n",
       "                </div>\n",
       "                <div class=\"tskit-table-set-table\">\n",
       "                  <table class=\"tskit-table\">\n",
       "                    <thead>\n",
       "                      <tr>\n",
       "                        <th style=\"line-height:21px;\">Table</th>\n",
       "                        <th>Rows</th>\n",
       "                        <th>Size</th>\n",
       "                        <th>Has Metadata</th>\n",
       "                      </tr>\n",
       "                    </thead>\n",
       "                    <tbody>\n",
       "                    \n",
       "                  <tr>\n",
       "                    <td>Edges</td>\n",
       "                      <td>107</td>\n",
       "                      <td>2.9 KiB</td>\n",
       "                      <td style=\"text-align: center;\">\n",
       "                        \n",
       "                      </td>\n",
       "                    </tr>\n",
       "                \n",
       "                  <tr>\n",
       "                    <td>Individuals</td>\n",
       "                      <td>110</td>\n",
       "                      <td>8.3 KiB</td>\n",
       "                      <td style=\"text-align: center;\">\n",
       "                        ✅\n",
       "                      </td>\n",
       "                    </tr>\n",
       "                \n",
       "                  <tr>\n",
       "                    <td>Migrations</td>\n",
       "                      <td>0</td>\n",
       "                      <td>4 Bytes</td>\n",
       "                      <td style=\"text-align: center;\">\n",
       "                        \n",
       "                      </td>\n",
       "                    </tr>\n",
       "                \n",
       "                  <tr>\n",
       "                    <td>Mutations</td>\n",
       "                      <td>9</td>\n",
       "                      <td>1.6 KiB</td>\n",
       "                      <td style=\"text-align: center;\">\n",
       "                        ✅\n",
       "                      </td>\n",
       "                    </tr>\n",
       "                \n",
       "                  <tr>\n",
       "                    <td>Nodes</td>\n",
       "                      <td>110</td>\n",
       "                      <td>4.3 KiB</td>\n",
       "                      <td style=\"text-align: center;\">\n",
       "                        ✅\n",
       "                      </td>\n",
       "                    </tr>\n",
       "                \n",
       "                  <tr>\n",
       "                    <td>Populations</td>\n",
       "                      <td>6</td>\n",
       "                      <td>2.9 KiB</td>\n",
       "                      <td style=\"text-align: center;\">\n",
       "                        ✅\n",
       "                      </td>\n",
       "                    </tr>\n",
       "                \n",
       "                  <tr>\n",
       "                    <td>Provenances</td>\n",
       "                      <td>2</td>\n",
       "                      <td>30.0 KiB</td>\n",
       "                      <td style=\"text-align: center;\">\n",
       "                        \n",
       "                      </td>\n",
       "                    </tr>\n",
       "                \n",
       "                  <tr>\n",
       "                    <td>Sites</td>\n",
       "                      <td>1</td>\n",
       "                      <td>24 Bytes</td>\n",
       "                      <td style=\"text-align: center;\">\n",
       "                        \n",
       "                      </td>\n",
       "                    </tr>\n",
       "                \n",
       "                    </tbody>\n",
       "                  </table>\n",
       "                </div>\n",
       "              </div>\n",
       "            </div>\n",
       "            "
      ],
      "text/plain": [
       "<pyslim.slim_tree_sequence.SlimTreeSequence at 0x7faedf6523a0>"
      ]
     },
     "execution_count": 20,
     "metadata": {},
     "output_type": "execute_result"
    }
   ],
   "source": [
    "#let's look at our resulting tree sequence, using the same code from 1. load and simplify tree sequence to a sample\n",
    "ts = pyslim.load(\"output_ts.trees\")\n",
    "np.random.seed(314159); n = 5; sampled_nodes = np.random.choice(ts.samples(), 5, replace=False)\n",
    "sts = ts.simplify(sampled_nodes, keep_unary=True) \n",
    "sts"
   ]
  },
  {
   "cell_type": "code",
   "execution_count": 21,
   "id": "c766f085-49b1-41a2-8332-e551cb0d7abe",
   "metadata": {},
   "outputs": [
    {
     "data": {
      "image/svg+xml": [
       "<svg xmlns=\"http://www.w3.org/2000/svg\" xmlns:ev=\"http://www.w3.org/2001/xml-events\" xmlns:xlink=\"http://www.w3.org/1999/xlink\" baseProfile=\"full\" height=\"200\" version=\"1.1\" width=\"200\"><defs><style type=\"text/css\"><![CDATA[.background path {fill: #808080; fill-opacity:0}.background path:nth-child(odd) {fill-opacity:.1}.axes {font-size: 14px}.x-axis .tick .lab {font-weight: bold}.axes, .tree {font-size: 14px; text-anchor:middle}.y-axis line.grid {stroke: #FAFAFA}.y-axis > .lab text {transform: translateX(0.8em) rotate(-90deg)}.x-axis .tick g {transform: translateY(0.9em)}.x-axis > .lab text {transform: translateY(-0.8em)}.axes line, .edge {stroke:black; fill:none}.node > .sym {fill: black; stroke: none}.site > .sym {stroke: black}.mut text {fill: red; font-style: italic}.mut.extra text {fill: hotpink}.mut line {fill: none; stroke: none}.mut .sym {fill: none; stroke: red}.mut.extra .sym {stroke: hotpink}.node .mut .sym {stroke-width: 1.5px}.tree text, .tree-sequence text {dominant-baseline: central}.plotbox .lab.lft {text-anchor: end}.plotbox .lab.rgt {text-anchor: start}]]></style></defs><g class=\"tree-sequence\"><g class=\"background\"><path d=\"M20,0 l160,0 l0,138.2 l0,25 l0,5 l-160,0 l0,-5 l0,-25 l0,-138.2z\"/></g><g class=\"axes\"><g class=\"x-axis\"><g class=\"lab\" transform=\"translate(100,200)\"><text text-anchor=\"middle\">Genome position</text></g><line x1=\"20\" x2=\"180\" y1=\"163.2\" y2=\"163.2\"/><g class=\"tick\" transform=\"translate(20 163.2)\"><line x1=\"0\" x2=\"0\" y1=\"0\" y2=\"5\"/><g class=\"lab\" transform=\"translate(0,5)\"><text>0</text></g></g><g class=\"tick\" transform=\"translate(180 163.2)\"><line x1=\"0\" x2=\"0\" y1=\"0\" y2=\"5\"/><g class=\"lab\" transform=\"translate(0,5)\"><text>1</text></g></g><g class=\"site s0\" transform=\"translate(20 163.2)\"><line class=\"sym\" x1=\"0\" x2=\"0\" y1=\"0\" y2=\"-10\"/><g class=\"mut m8\"><polyline class=\"sym\" points=\"2.5,-6.5 0,-1.5 -2.5,-6.5\"/></g><g class=\"mut m7\"><polyline class=\"sym\" points=\"2.5,-10.5 0,-5.5 -2.5,-10.5\"/></g><g class=\"mut m6\"><polyline class=\"sym\" points=\"2.5,-14.5 0,-9.5 -2.5,-14.5\"/></g><g class=\"mut m5\"><polyline class=\"sym\" points=\"2.5,-18.5 0,-13.5 -2.5,-18.5\"/></g><g class=\"mut m4\"><polyline class=\"sym\" points=\"2.5,-22.5 0,-17.5 -2.5,-22.5\"/></g><g class=\"mut m3\"><polyline class=\"sym\" points=\"2.5,-26.5 0,-21.5 -2.5,-26.5\"/></g><g class=\"mut m2\"><polyline class=\"sym\" points=\"2.5,-30.5 0,-25.5 -2.5,-30.5\"/></g><g class=\"mut m1\"><polyline class=\"sym\" points=\"2.5,-34.5 0,-29.5 -2.5,-34.5\"/></g><g class=\"mut m0\"><polyline class=\"sym\" points=\"2.5,-38.5 0,-33.5 -2.5,-38.5\"/></g></g></g></g><g class=\"plotbox trees\"><g class=\"tree t0\" transform=\"translate(20 0)\"><g class=\"plotbox\"><g class=\"i2 m0 m3 node n6 p1 root s0\" transform=\"translate(44 40.8337)\"><g class=\"a6 i3 leaf m6 node n0 p2 s0 sample\" transform=\"translate(-12 29.141)\"><path class=\"edge\" d=\"M 0 0 V -29.141 H 12\"/><g class=\"mut m6 s0\" transform=\"translate(0 -1.88559)\"><line x1=\"0\" x2=\"0\" y1=\"0\" y2=\"1.88559\"/><path class=\"sym\" d=\"M -3,-3 l 6,6 M -3,3 l 6,-6\"/><text class=\"lab lft\" transform=\"translate(-5 0)\">6</text></g><rect class=\"sym\" height=\"6\" width=\"6\" x=\"-3\" y=\"-3\"/><text class=\"lab\" transform=\"translate(0 11)\">0</text></g><g class=\"a6 i4 leaf m7 node n3 p2 s0 sample\" transform=\"translate(12 29.141)\"><path class=\"edge\" d=\"M 0 0 V -29.141 H -12\"/><g class=\"mut m7 s0\" transform=\"translate(0 -1.88559)\"><line x1=\"0\" x2=\"0\" y1=\"0\" y2=\"1.88559\"/><path class=\"sym\" d=\"M -3,-3 l 6,6 M -3,3 l 6,-6\"/><text class=\"lab rgt\" transform=\"translate(5 0)\">7</text></g><rect class=\"sym\" height=\"6\" width=\"6\" x=\"-3\" y=\"-3\"/><text class=\"lab\" transform=\"translate(0 11)\">3</text></g><path class=\"edge\" d=\"M 0 0 V -18.456 H 0\"/><g class=\"mut m0 s0\" transform=\"translate(0 -18.456)\"><line x1=\"0\" x2=\"0\" y1=\"0\" y2=\"18.456\"/><path class=\"sym\" d=\"M -3,-3 l 6,6 M -3,3 l 6,-6\"/><text class=\"lab rgt\" transform=\"translate(5 0)\">0</text></g><g class=\"mut m3 s0\" transform=\"translate(0 -16.5704)\"><line x1=\"0\" x2=\"0\" y1=\"0\" y2=\"16.5704\"/><path class=\"sym\" d=\"M -3,-3 l 6,6 M -3,3 l 6,-6\"/><text class=\"lab rgt\" transform=\"translate(5 0)\">3</text></g><circle class=\"sym\" cx=\"0\" cy=\"0\" r=\"3\"/><text class=\"lab rgt\" transform=\"translate(3 -7.0)\">6</text></g><g class=\"i5 m2 m4 m5 m8 node n5 p4 root s0\" transform=\"translate(92 110.201)\"><g class=\"a5 i6 leaf node n1 p4 sample\" transform=\"translate(-12 3.59977)\"><path class=\"edge\" d=\"M 0 0 V -3.59977 H 12\"/><rect class=\"sym\" height=\"6\" width=\"6\" x=\"-3\" y=\"-3\"/><text class=\"lab\" transform=\"translate(0 11)\">1</text></g><g class=\"a5 i0 leaf node n2 p3 sample\" transform=\"translate(12 11.1993)\"><path class=\"edge\" d=\"M 0 0 V -11.1993 H -12\"/><rect class=\"sym\" height=\"6\" width=\"6\" x=\"-3\" y=\"-3\"/><text class=\"lab\" transform=\"translate(0 11)\">2</text></g><path class=\"edge\" d=\"M 0 0 V -87.8229 H 0\"/><g class=\"mut m2 s0\" transform=\"translate(0 -87.8229)\"><line x1=\"0\" x2=\"0\" y1=\"0\" y2=\"87.8229\"/><path class=\"sym\" d=\"M -3,-3 l 6,6 M -3,3 l 6,-6\"/><text class=\"lab rgt\" transform=\"translate(5 0)\">2</text></g><g class=\"mut m4 s0\" transform=\"translate(0 -85.9373)\"><line x1=\"0\" x2=\"0\" y1=\"0\" y2=\"85.9373\"/><path class=\"sym\" d=\"M -3,-3 l 6,6 M -3,3 l 6,-6\"/><text class=\"lab rgt\" transform=\"translate(5 0)\">4</text></g><g class=\"mut m5 s0\" transform=\"translate(0 -42.1116)\"><line x1=\"0\" x2=\"0\" y1=\"0\" y2=\"42.1116\"/><path class=\"sym\" d=\"M -3,-3 l 6,6 M -3,3 l 6,-6\"/><text class=\"lab rgt\" transform=\"translate(5 0)\">5</text></g><g class=\"mut m8 s0\" transform=\"translate(0 -2.11415)\"><line x1=\"0\" x2=\"0\" y1=\"0\" y2=\"2.11415\"/><path class=\"sym\" d=\"M -3,-3 l 6,6 M -3,3 l 6,-6\"/><text class=\"lab rgt\" transform=\"translate(5 0)\">8</text></g><circle class=\"sym\" cx=\"0\" cy=\"0\" r=\"3\"/><text class=\"lab rgt\" transform=\"translate(3 -7.0)\">5</text></g><g class=\"i1 leaf m1 node n4 p0 root s0 sample\" transform=\"translate(128 22.3778)\"><path class=\"edge\" d=\"M 0 0 V -12.3778 H 0\"/><g class=\"mut m1 s0\" transform=\"translate(0 0.0)\"><line x1=\"0\" x2=\"0\" y1=\"0\" y2=\"-0.0\"/><path class=\"sym\" d=\"M -3,-3 l 6,6 M -3,3 l 6,-6\"/><text class=\"lab rgt\" transform=\"translate(5 0)\">1</text></g><rect class=\"sym\" height=\"6\" width=\"6\" x=\"-3\" y=\"-3\"/><text class=\"lab\" transform=\"translate(0 11)\">4</text></g></g></g></g></g></svg>"
      ],
      "text/plain": [
       "<IPython.core.display.SVG object>"
      ]
     },
     "execution_count": 21,
     "metadata": {},
     "output_type": "execute_result"
    }
   ],
   "source": [
    "#let's look at our tree!\n",
    "SVG(sts.simplify(keep_unary=False).draw_svg())"
   ]
  },
  {
   "cell_type": "code",
   "execution_count": 22,
   "id": "3aa0e978-4c91-4dc7-b9bd-b21a05ed77f5",
   "metadata": {},
   "outputs": [
    {
     "data": {
      "image/svg+xml": [
       "<svg xmlns=\"http://www.w3.org/2000/svg\" xmlns:ev=\"http://www.w3.org/2001/xml-events\" xmlns:xlink=\"http://www.w3.org/1999/xlink\" baseProfile=\"full\" height=\"200\" version=\"1.1\" width=\"200\"><defs><style type=\"text/css\"><![CDATA[.background path {fill: #808080; fill-opacity:0}.background path:nth-child(odd) {fill-opacity:.1}.axes {font-size: 14px}.x-axis .tick .lab {font-weight: bold}.axes, .tree {font-size: 14px; text-anchor:middle}.y-axis line.grid {stroke: #FAFAFA}.y-axis > .lab text {transform: translateX(0.8em) rotate(-90deg)}.x-axis .tick g {transform: translateY(0.9em)}.x-axis > .lab text {transform: translateY(-0.8em)}.axes line, .edge {stroke:black; fill:none}.node > .sym {fill: black; stroke: none}.site > .sym {stroke: black}.mut text {fill: red; font-style: italic}.mut.extra text {fill: hotpink}.mut line {fill: none; stroke: none}.mut .sym {fill: none; stroke: red}.mut.extra .sym {stroke: hotpink}.node .mut .sym {stroke-width: 1.5px}.tree text, .tree-sequence text {dominant-baseline: central}.plotbox .lab.lft {text-anchor: end}.plotbox .lab.rgt {text-anchor: start}]]></style></defs><g class=\"tree-sequence\"><g class=\"background\"><path d=\"M20,0 l160,0 l0,138.2 l0,25 l0,5 l-160,0 l0,-5 l0,-25 l0,-138.2z\"/></g><g class=\"axes\"><g class=\"x-axis\"><g class=\"lab\" transform=\"translate(100,200)\"><text text-anchor=\"middle\">Genome position</text></g><line x1=\"20\" x2=\"180\" y1=\"163.2\" y2=\"163.2\"/><g class=\"tick\" transform=\"translate(20 163.2)\"><line x1=\"0\" x2=\"0\" y1=\"0\" y2=\"5\"/><g class=\"lab\" transform=\"translate(0,5)\"><text>0</text></g></g><g class=\"tick\" transform=\"translate(180 163.2)\"><line x1=\"0\" x2=\"0\" y1=\"0\" y2=\"5\"/><g class=\"lab\" transform=\"translate(0,5)\"><text>1</text></g></g><g class=\"site s0\" transform=\"translate(20 163.2)\"><line class=\"sym\" x1=\"0\" x2=\"0\" y1=\"0\" y2=\"-10\"/><g class=\"mut m8\"><polyline class=\"sym\" points=\"2.5,-6.5 0,-1.5 -2.5,-6.5\"/></g><g class=\"mut m7\"><polyline class=\"sym\" points=\"2.5,-10.5 0,-5.5 -2.5,-10.5\"/></g><g class=\"mut m6\"><polyline class=\"sym\" points=\"2.5,-14.5 0,-9.5 -2.5,-14.5\"/></g><g class=\"mut m5\"><polyline class=\"sym\" points=\"2.5,-18.5 0,-13.5 -2.5,-18.5\"/></g><g class=\"mut m4\"><polyline class=\"sym\" points=\"2.5,-22.5 0,-17.5 -2.5,-22.5\"/></g><g class=\"mut m3\"><polyline class=\"sym\" points=\"2.5,-26.5 0,-21.5 -2.5,-26.5\"/></g><g class=\"mut m2\"><polyline class=\"sym\" points=\"2.5,-30.5 0,-25.5 -2.5,-30.5\"/></g><g class=\"mut m1\"><polyline class=\"sym\" points=\"2.5,-34.5 0,-29.5 -2.5,-34.5\"/></g><g class=\"mut m0\"><polyline class=\"sym\" points=\"2.5,-38.5 0,-33.5 -2.5,-38.5\"/></g></g></g></g><g class=\"plotbox trees\"><g class=\"tree t0\" transform=\"translate(20 0)\"><g class=\"plotbox\"><g class=\"node n8 p0 root\" transform=\"translate(89 26.8)\"><g class=\"a8 i5 m2 m4 m5 m8 node n5 p4 s0\" transform=\"translate(27 87.1217)\"><g class=\"a5 i6 leaf node n1 p4 sample\" transform=\"translate(-12 2.40374)\"><path class=\"edge\" d=\"M 0 0 V -2.40374 H 12\"/><rect class=\"sym\" height=\"6\" width=\"6\" x=\"-3\" y=\"-3\"/><text class=\"lab\" transform=\"translate(0 11)\">1</text></g><g class=\"a5 i0 leaf node n2 p3 sample\" transform=\"translate(12 7.4783)\"><path class=\"edge\" d=\"M 0 0 V -7.4783 H -12\"/><rect class=\"sym\" height=\"6\" width=\"6\" x=\"-3\" y=\"-3\"/><text class=\"lab\" transform=\"translate(0 11)\">2</text></g><path class=\"edge\" d=\"M 0 0 V -87.1217 H -27\"/><g class=\"mut m2 s0\" transform=\"translate(0 -58.6436)\"><line x1=\"0\" x2=\"0\" y1=\"0\" y2=\"58.6436\"/><path class=\"sym\" d=\"M -3,-3 l 6,6 M -3,3 l 6,-6\"/><text class=\"lab rgt\" transform=\"translate(5 0)\">2</text></g><g class=\"mut m4 s0\" transform=\"translate(0 -57.3845)\"><line x1=\"0\" x2=\"0\" y1=\"0\" y2=\"57.3845\"/><path class=\"sym\" d=\"M -3,-3 l 6,6 M -3,3 l 6,-6\"/><text class=\"lab rgt\" transform=\"translate(5 0)\">4</text></g><g class=\"mut m5 s0\" transform=\"translate(0 -28.1199)\"><line x1=\"0\" x2=\"0\" y1=\"0\" y2=\"28.1199\"/><path class=\"sym\" d=\"M -3,-3 l 6,6 M -3,3 l 6,-6\"/><text class=\"lab rgt\" transform=\"translate(5 0)\">5</text></g><g class=\"mut m8 s0\" transform=\"translate(0 -1.41172)\"><line x1=\"0\" x2=\"0\" y1=\"0\" y2=\"1.41172\"/><path class=\"sym\" d=\"M -3,-3 l 6,6 M -3,3 l 6,-6\"/><text class=\"lab rgt\" transform=\"translate(5 0)\">8</text></g><circle class=\"sym\" cx=\"0\" cy=\"0\" r=\"3\"/><text class=\"lab rgt\" transform=\"translate(3 -7.0)\">5</text></g><g class=\"a8 node n7 p0\" transform=\"translate(-27 27.163)\"><g class=\"a7 i1 leaf m1 node n4 p0 s0 sample\" transform=\"translate(18 1.31516)\"><path class=\"edge\" d=\"M 0 0 V -1.31516 H -18\"/><g class=\"mut m1 s0\" transform=\"translate(0 0.0)\"><line x1=\"0\" x2=\"0\" y1=\"0\" y2=\"-0.0\"/><path class=\"sym\" d=\"M -3,-3 l 6,6 M -3,3 l 6,-6\"/><text class=\"lab rgt\" transform=\"translate(5 0)\">1</text></g><rect class=\"sym\" height=\"6\" width=\"6\" x=\"-3\" y=\"-3\"/><text class=\"lab\" transform=\"translate(0 11)\">4</text></g><g class=\"a7 i2 m0 m3 node n6 p1 s0\" transform=\"translate(-18 13.6391)\"><g class=\"a6 i3 leaf m6 node n0 p2 s0 sample\" transform=\"translate(-12 19.4588)\"><path class=\"edge\" d=\"M 0 0 V -19.4588 H 12\"/><g class=\"mut m6 s0\" transform=\"translate(0 -1.2591)\"><line x1=\"0\" x2=\"0\" y1=\"0\" y2=\"1.2591\"/><path class=\"sym\" d=\"M -3,-3 l 6,6 M -3,3 l 6,-6\"/><text class=\"lab lft\" transform=\"translate(-5 0)\">6</text></g><rect class=\"sym\" height=\"6\" width=\"6\" x=\"-3\" y=\"-3\"/><text class=\"lab\" transform=\"translate(0 11)\">0</text></g><g class=\"a6 i4 leaf m7 node n3 p2 s0 sample\" transform=\"translate(12 19.4588)\"><path class=\"edge\" d=\"M 0 0 V -19.4588 H -12\"/><g class=\"mut m7 s0\" transform=\"translate(0 -1.2591)\"><line x1=\"0\" x2=\"0\" y1=\"0\" y2=\"1.2591\"/><path class=\"sym\" d=\"M -3,-3 l 6,6 M -3,3 l 6,-6\"/><text class=\"lab rgt\" transform=\"translate(5 0)\">7</text></g><rect class=\"sym\" height=\"6\" width=\"6\" x=\"-3\" y=\"-3\"/><text class=\"lab\" transform=\"translate(0 11)\">3</text></g><path class=\"edge\" d=\"M 0 0 V -13.6391 H 18\"/><g class=\"mut m0 s0\" transform=\"translate(0 -12.3239)\"><line x1=\"0\" x2=\"0\" y1=\"0\" y2=\"12.3239\"/><path class=\"sym\" d=\"M -3,-3 l 6,6 M -3,3 l 6,-6\"/><text class=\"lab lft\" transform=\"translate(-5 0)\">0</text></g><g class=\"mut m3 s0\" transform=\"translate(0 -11.0648)\"><line x1=\"0\" x2=\"0\" y1=\"0\" y2=\"11.0648\"/><path class=\"sym\" d=\"M -3,-3 l 6,6 M -3,3 l 6,-6\"/><text class=\"lab lft\" transform=\"translate(-5 0)\">3</text></g><circle class=\"sym\" cx=\"0\" cy=\"0\" r=\"3\"/><text class=\"lab lft\" transform=\"translate(-3 -7.0)\">6</text></g><path class=\"edge\" d=\"M 0 0 V -27.163 H 27\"/><circle class=\"sym\" cx=\"0\" cy=\"0\" r=\"3\"/><text class=\"lab lft\" transform=\"translate(-3 -7.0)\">7</text></g><circle class=\"sym\" cx=\"0\" cy=\"0\" r=\"3\"/><text class=\"lab\" transform=\"translate(0 -11)\">8</text></g></g></g></g></g></svg>"
      ],
      "text/plain": [
       "<IPython.core.display.SVG object>"
      ]
     },
     "execution_count": 22,
     "metadata": {},
     "output_type": "execute_result"
    }
   ],
   "source": [
    "#As you can see, the tree does not coalesce to one common ancestor. We can recapitate it:\n",
    "rts = sts.recapitate(recombination_rate = 1e-8, Ne=200, random_seed=5)\n",
    "SVG(rts.simplify(keep_unary=False).draw_svg())"
   ]
  },
  {
   "cell_type": "markdown",
   "id": "ab3130a5-8336-458b-a835-20b10a989251",
   "metadata": {},
   "source": [
    "### B. Plotting the spatial genomic data"
   ]
  },
  {
   "cell_type": "code",
   "execution_count": 23,
   "id": "47535c61-29eb-4fdc-8dc0-7e0b3ed8cc3d",
   "metadata": {},
   "outputs": [],
   "source": [
    "#We will work with ts and not sts to see the populations and their movement more clearly.\n",
    "#Like last time, check how many individuals are present in each time stamp:\n",
    "\n",
    "#for t in np.unique(ts.individual_times):\n",
    "    #print(f\"There are {np.sum(ts.individual_times == t)} individuals from time {t}.\")"
   ]
  },
  {
   "cell_type": "code",
   "execution_count": 24,
   "id": "5a37e109-e745-4f7d-8ceb-6922111c1083",
   "metadata": {},
   "outputs": [
    {
     "data": {
      "application/vnd.jupyter.widget-view+json": {
       "model_id": "fc083ec1913b4ae59b5cbea63b17c50c",
       "version_major": 2,
       "version_minor": 0
      },
      "text/plain": [
       "Canvas(toolbar=Toolbar(toolitems=[('Home', 'Reset original view', 'home', 'home'), ('Back', 'Back to previous …"
      ]
     },
     "metadata": {},
     "output_type": "display_data"
    }
   ],
   "source": [
    "#Using the same 2D plot code from above\n",
    "\n",
    "slendr_plot = plt.figure()\n",
    "\n",
    "times = [900, 1733, 1333, 800, 216] \n",
    "colors = ['seagreen','red', 'goldenrod', 'cornflowerblue', 'pink']\n",
    "#Note: Find the times that match the population sizes we have sampled.\n",
    "#Colors that match the ones in slendr were chosen for better comparison!\n",
    "\n",
    "for time, color in zip(times, colors): \n",
    "    alive = ts.individuals_alive_at(time)\n",
    "    where = ts.individual_locations[alive] \n",
    "    x = where[:,0] \n",
    "    y = where[:,1] \n",
    "    plt.scatter(x, y, label= 't=%d' %time, color=color, s=3) \n",
    "\n",
    "plt.xlabel('x position')\n",
    "plt.ylabel('y position')\n",
    "plt.title('2D plot of slendr spatial simulation')\n",
    "plt.legend() \n",
    "plt.show()"
   ]
  },
  {
   "cell_type": "markdown",
   "id": "7159dcde-e185-429f-b532-288a5ad58d24",
   "metadata": {},
   "source": [
    "Note: There is actually no point in the simulation where all populations are present at the same time! We can see this using a 3d plot:"
   ]
  },
  {
   "cell_type": "code",
   "execution_count": 25,
   "id": "4fe19878-ff07-468f-939e-13de5c05a04a",
   "metadata": {},
   "outputs": [
    {
     "data": {
      "application/vnd.jupyter.widget-view+json": {
       "model_id": "0757b83b9ee24642b2773aa18a374838",
       "version_major": 2,
       "version_minor": 0
      },
      "text/plain": [
       "Canvas(toolbar=Toolbar(toolitems=[('Home', 'Reset original view', 'home', 'home'), ('Back', 'Back to previous …"
      ]
     },
     "metadata": {},
     "output_type": "display_data"
    }
   ],
   "source": [
    "#Using the 3D plot code from above\n",
    "def positions(ts):\n",
    "    \n",
    "    fig = plt.figure()\n",
    "    threed = fig.add_subplot(projection='3d')\n",
    "\n",
    "    x, y, t = [], [], []\n",
    "\n",
    "    for ind in ts.individuals():\n",
    "        \n",
    "        x_pos = ind.location[0]\n",
    "        y_pos = ind.location[1]\n",
    "        time = ind.time\n",
    "        \n",
    "        x.append(x_pos)\n",
    "        y.append(y_pos)\n",
    "        t.append(time)\n",
    "   \n",
    "    threed.set_zlim([1733,0])\n",
    "    threed.scatter3D(x, y, t, color='peru', s=1)\n",
    "\n",
    "positions(ts)"
   ]
  },
  {
   "cell_type": "markdown",
   "id": "2e423bf7-8306-4414-916a-cb3663a8d45d",
   "metadata": {},
   "source": [
    "We can see in much better detail (try moving the plot around) that the simulation starts with one population and ends with two. Because the six populations were only saved when they appeared/split, there is some data missing in between (in contrast to the animation)."
   ]
  },
  {
   "cell_type": "markdown",
   "id": "d8504b5e-3437-4663-9b56-f8bc9dca301c",
   "metadata": {},
   "source": [
    "### Connecting children and their parents"
   ]
  },
  {
   "cell_type": "markdown",
   "id": "3e5f7b64-1549-4cb1-b23a-3efbb3c67247",
   "metadata": {
    "tags": []
   },
   "source": [
    "Let's use our 3D plot and add lines of descent (connect some children to their parents) for present day samples."
   ]
  },
  {
   "cell_type": "code",
   "execution_count": 26,
   "id": "e574114d-24f0-4315-9c9f-7a56adba1612",
   "metadata": {},
   "outputs": [
    {
     "data": {
      "application/vnd.jupyter.widget-view+json": {
       "model_id": "d34924de9fae4f778eca331488bccb0b",
       "version_major": 2,
       "version_minor": 0
      },
      "text/plain": [
       "Canvas(toolbar=Toolbar(toolitems=[('Home', 'Reset original view', 'home', 'home'), ('Back', 'Back to previous …"
      ]
     },
     "metadata": {},
     "output_type": "display_data"
    }
   ],
   "source": [
    "#First, use the 3D plotting code from above:\n",
    "fig = plt.figure()\n",
    "threed = fig.add_subplot(projection='3d')\n",
    "\n",
    "x, y, t = [], [], []\n",
    "\n",
    "for ind in ts.individuals():\n",
    "\n",
    "    x_pos = ind.location[0]\n",
    "    y_pos = ind.location[1]\n",
    "    time = ind.time\n",
    "\n",
    "    x.append(x_pos)\n",
    "    y.append(y_pos)\n",
    "    t.append(time)\n",
    "\n",
    "threed.set_zlim([1733,0])\n",
    "threed.scatter3D(x, y, t, color='peru', s=1)\n",
    "\n",
    "#Create a list of individuals (random; from present day)\n",
    "alivelist = [1, 5, 14, 27, 45, 173, 800, 1539, 3450, 4999]\n",
    "\n",
    "#loop through to make a line of descent for all chosen individuals\n",
    "for i in alivelist:\n",
    "    alive_inds = ts.individuals_alive_at(0) #individuals that are alive at the present\n",
    "    first_node_id = ts.individual(alive_inds[i]).nodes[1] #choose the first node in the list of individuals (random choice)\n",
    "    #print(ts.node(first_node_id)) #we can also print out some info on this node\n",
    "    \n",
    "    first_tree = ts.first() #there is only one tree in this ts, so we'll just look at that\n",
    "    parray = first_tree.parent_array #parent array (the parent of node i is the ith index of this array)\n",
    "    \n",
    "    nodes = [] #lets make a list of nodes that are ancestors of our first node\n",
    "    node = first_node_id #start with the first node\n",
    "    \n",
    "    while node < len(parray) and node > -1: #then, while there exists a parent node\n",
    "        nodes.append(node) #append it to the list\n",
    "        node = parray[node] #and then update the current state so that we can find its parent next\n",
    "    \n",
    "    locs = []\n",
    "    times = []\n",
    "    \n",
    "    for node in nodes: #now loop through our list of node ids\n",
    "        ind_id = ts.node(node).individual #get the individual ids for each\n",
    "        ind = ts.individual(ind_id) #and the individual data\n",
    "        loc = ind.location #we specifically want the location data\n",
    "        time = ind.time #and the time the individual was alive\n",
    "        locs.append(loc) #and append the location to a new list of locations\n",
    "        times.append(time)\n",
    "    \n",
    "    threed.plot(\n",
    "                [loc[0] for loc in locs], #the x locations\n",
    "                [loc[0] for loc in locs], #the y locations\n",
    "                times #the times\n",
    "               )\n",
    "\n",
    "plt.show()"
   ]
  },
  {
   "cell_type": "markdown",
   "id": "cbae6f88-2783-460a-860c-384c8d5b9ca5",
   "metadata": {},
   "source": [
    "### Create a map background for the 2D plot"
   ]
  },
  {
   "cell_type": "markdown",
   "id": "72583ccf-12ec-4d9e-8be5-9324dfcacec6",
   "metadata": {},
   "source": [
    "We will use cartopy to generate a map background to match our 2D plot of the slendr spatial simulation.\n",
    "\n",
    "For more info + installation: https://scitools.org.uk/cartopy/docs/latest/index.html\n",
    "\n",
    "\n",
    "Cartopy. v0.11.2. 22-Aug-2014. Met Office. UK. https://github.com/SciTools/cartopy/archive/v0.11.2.tar.gz"
   ]
  },
  {
   "cell_type": "code",
   "execution_count": 27,
   "id": "6906a8b5-ed82-4dcb-be2d-344f34206338",
   "metadata": {},
   "outputs": [
    {
     "data": {
      "application/vnd.jupyter.widget-view+json": {
       "model_id": "a73bb99feb3a4e83ab28a691d9171067",
       "version_major": 2,
       "version_minor": 0
      },
      "text/plain": [
       "Canvas(toolbar=Toolbar(toolitems=[('Home', 'Reset original view', 'home', 'home'), ('Back', 'Back to previous …"
      ]
     },
     "metadata": {},
     "output_type": "display_data"
    }
   ],
   "source": [
    "#testing map; import cartopy after installation \n",
    "import cartopy.crs as ccrs\n",
    "figmap = plt.figure()\n",
    "mapping = figmap.add_subplot(projection=ccrs.PlateCarree())\n",
    "mapping.coastlines()\n",
    "mapping.set_xlim(-20, 60) #set x, y limits to make the map match the slendr 2D plot\n",
    "mapping.set_ylim(20, 60)\n",
    "plt.show()"
   ]
  },
  {
   "cell_type": "code",
   "execution_count": 28,
   "id": "c1513784-f464-4203-a892-79b002b2ef14",
   "metadata": {},
   "outputs": [
    {
     "data": {
      "application/vnd.jupyter.widget-view+json": {
       "model_id": "a9a92ede52114643855aa4ac36e979b3",
       "version_major": 2,
       "version_minor": 0
      },
      "text/plain": [
       "Canvas(toolbar=Toolbar(toolitems=[('Home', 'Reset original view', 'home', 'home'), ('Back', 'Back to previous …"
      ]
     },
     "metadata": {},
     "output_type": "display_data"
    },
    {
     "name": "stderr",
     "output_type": "stream",
     "text": [
      "/Library/Frameworks/Python.framework/Versions/3.9/lib/python3.9/site-packages/numpy/core/_asarray.py:171: VisibleDeprecationWarning: Creating an ndarray from ragged nested sequences (which is a list-or-tuple of lists-or-tuples-or ndarrays with different lengths or shapes) is deprecated. If you meant to do this, you must specify 'dtype=object' when creating the ndarray.\n",
      "  return array(a, dtype, copy=False, order=order, subok=True)\n"
     ]
    },
    {
     "ename": "ValueError",
     "evalue": "setting an array element with a sequence.",
     "output_type": "error",
     "traceback": [
      "\u001b[0;31m---------------------------------------------------------------------------\u001b[0m",
      "\u001b[0;31mTypeError\u001b[0m                                 Traceback (most recent call last)",
      "\u001b[0;31mTypeError\u001b[0m: only size-1 arrays can be converted to Python scalars",
      "\nThe above exception was the direct cause of the following exception:\n",
      "\u001b[0;31mValueError\u001b[0m                                Traceback (most recent call last)",
      "\u001b[0;32m<ipython-input-28-59ada2f3273b>\u001b[0m in \u001b[0;36m<module>\u001b[0;34m\u001b[0m\n\u001b[1;32m     24\u001b[0m \u001b[0;31m#mapping.set_ylim(20, 60)\u001b[0m\u001b[0;34m\u001b[0m\u001b[0;34m\u001b[0m\u001b[0;34m\u001b[0m\u001b[0m\n\u001b[1;32m     25\u001b[0m \u001b[0;34m\u001b[0m\u001b[0m\n\u001b[0;32m---> 26\u001b[0;31m \u001b[0mplt\u001b[0m\u001b[0;34m.\u001b[0m\u001b[0mplot\u001b[0m\u001b[0;34m(\u001b[0m\u001b[0mx\u001b[0m\u001b[0;34m,\u001b[0m\u001b[0my\u001b[0m\u001b[0;34m,\u001b[0m\u001b[0mtransform\u001b[0m\u001b[0;34m=\u001b[0m\u001b[0mccrs\u001b[0m\u001b[0;34m.\u001b[0m\u001b[0mPlateCarree\u001b[0m\u001b[0;34m(\u001b[0m\u001b[0;34m)\u001b[0m\u001b[0;34m)\u001b[0m\u001b[0;34m\u001b[0m\u001b[0;34m\u001b[0m\u001b[0m\n\u001b[0m\u001b[1;32m     27\u001b[0m \u001b[0mplt\u001b[0m\u001b[0;34m.\u001b[0m\u001b[0mshow\u001b[0m\u001b[0;34m(\u001b[0m\u001b[0;34m)\u001b[0m\u001b[0;34m\u001b[0m\u001b[0;34m\u001b[0m\u001b[0m\n",
      "\u001b[0;32m/Library/Frameworks/Python.framework/Versions/3.9/lib/python3.9/site-packages/matplotlib/pyplot.py\u001b[0m in \u001b[0;36mplot\u001b[0;34m(scalex, scaley, data, *args, **kwargs)\u001b[0m\n\u001b[1;32m   3017\u001b[0m \u001b[0;34m@\u001b[0m\u001b[0m_copy_docstring_and_deprecators\u001b[0m\u001b[0;34m(\u001b[0m\u001b[0mAxes\u001b[0m\u001b[0;34m.\u001b[0m\u001b[0mplot\u001b[0m\u001b[0;34m)\u001b[0m\u001b[0;34m\u001b[0m\u001b[0;34m\u001b[0m\u001b[0m\n\u001b[1;32m   3018\u001b[0m \u001b[0;32mdef\u001b[0m \u001b[0mplot\u001b[0m\u001b[0;34m(\u001b[0m\u001b[0;34m*\u001b[0m\u001b[0margs\u001b[0m\u001b[0;34m,\u001b[0m \u001b[0mscalex\u001b[0m\u001b[0;34m=\u001b[0m\u001b[0;32mTrue\u001b[0m\u001b[0;34m,\u001b[0m \u001b[0mscaley\u001b[0m\u001b[0;34m=\u001b[0m\u001b[0;32mTrue\u001b[0m\u001b[0;34m,\u001b[0m \u001b[0mdata\u001b[0m\u001b[0;34m=\u001b[0m\u001b[0;32mNone\u001b[0m\u001b[0;34m,\u001b[0m \u001b[0;34m**\u001b[0m\u001b[0mkwargs\u001b[0m\u001b[0;34m)\u001b[0m\u001b[0;34m:\u001b[0m\u001b[0;34m\u001b[0m\u001b[0;34m\u001b[0m\u001b[0m\n\u001b[0;32m-> 3019\u001b[0;31m     return gca().plot(\n\u001b[0m\u001b[1;32m   3020\u001b[0m         \u001b[0;34m*\u001b[0m\u001b[0margs\u001b[0m\u001b[0;34m,\u001b[0m \u001b[0mscalex\u001b[0m\u001b[0;34m=\u001b[0m\u001b[0mscalex\u001b[0m\u001b[0;34m,\u001b[0m \u001b[0mscaley\u001b[0m\u001b[0;34m=\u001b[0m\u001b[0mscaley\u001b[0m\u001b[0;34m,\u001b[0m\u001b[0;34m\u001b[0m\u001b[0;34m\u001b[0m\u001b[0m\n\u001b[1;32m   3021\u001b[0m         **({\"data\": data} if data is not None else {}), **kwargs)\n",
      "\u001b[0;32m/Library/Frameworks/Python.framework/Versions/3.9/lib/python3.9/site-packages/matplotlib/axes/_axes.py\u001b[0m in \u001b[0;36mplot\u001b[0;34m(self, scalex, scaley, data, *args, **kwargs)\u001b[0m\n\u001b[1;32m   1605\u001b[0m         \u001b[0mlines\u001b[0m \u001b[0;34m=\u001b[0m \u001b[0;34m[\u001b[0m\u001b[0;34m*\u001b[0m\u001b[0mself\u001b[0m\u001b[0;34m.\u001b[0m\u001b[0m_get_lines\u001b[0m\u001b[0;34m(\u001b[0m\u001b[0;34m*\u001b[0m\u001b[0margs\u001b[0m\u001b[0;34m,\u001b[0m \u001b[0mdata\u001b[0m\u001b[0;34m=\u001b[0m\u001b[0mdata\u001b[0m\u001b[0;34m,\u001b[0m \u001b[0;34m**\u001b[0m\u001b[0mkwargs\u001b[0m\u001b[0;34m)\u001b[0m\u001b[0;34m]\u001b[0m\u001b[0;34m\u001b[0m\u001b[0;34m\u001b[0m\u001b[0m\n\u001b[1;32m   1606\u001b[0m         \u001b[0;32mfor\u001b[0m \u001b[0mline\u001b[0m \u001b[0;32min\u001b[0m \u001b[0mlines\u001b[0m\u001b[0;34m:\u001b[0m\u001b[0;34m\u001b[0m\u001b[0;34m\u001b[0m\u001b[0m\n\u001b[0;32m-> 1607\u001b[0;31m             \u001b[0mself\u001b[0m\u001b[0;34m.\u001b[0m\u001b[0madd_line\u001b[0m\u001b[0;34m(\u001b[0m\u001b[0mline\u001b[0m\u001b[0;34m)\u001b[0m\u001b[0;34m\u001b[0m\u001b[0;34m\u001b[0m\u001b[0m\n\u001b[0m\u001b[1;32m   1608\u001b[0m         \u001b[0mself\u001b[0m\u001b[0;34m.\u001b[0m\u001b[0m_request_autoscale_view\u001b[0m\u001b[0;34m(\u001b[0m\u001b[0mscalex\u001b[0m\u001b[0;34m=\u001b[0m\u001b[0mscalex\u001b[0m\u001b[0;34m,\u001b[0m \u001b[0mscaley\u001b[0m\u001b[0;34m=\u001b[0m\u001b[0mscaley\u001b[0m\u001b[0;34m)\u001b[0m\u001b[0;34m\u001b[0m\u001b[0;34m\u001b[0m\u001b[0m\n\u001b[1;32m   1609\u001b[0m         \u001b[0;32mreturn\u001b[0m \u001b[0mlines\u001b[0m\u001b[0;34m\u001b[0m\u001b[0;34m\u001b[0m\u001b[0m\n",
      "\u001b[0;32m/Library/Frameworks/Python.framework/Versions/3.9/lib/python3.9/site-packages/matplotlib/axes/_base.py\u001b[0m in \u001b[0;36madd_line\u001b[0;34m(self, line)\u001b[0m\n\u001b[1;32m   2099\u001b[0m             \u001b[0mline\u001b[0m\u001b[0;34m.\u001b[0m\u001b[0mset_clip_path\u001b[0m\u001b[0;34m(\u001b[0m\u001b[0mself\u001b[0m\u001b[0;34m.\u001b[0m\u001b[0mpatch\u001b[0m\u001b[0;34m)\u001b[0m\u001b[0;34m\u001b[0m\u001b[0;34m\u001b[0m\u001b[0m\n\u001b[1;32m   2100\u001b[0m \u001b[0;34m\u001b[0m\u001b[0m\n\u001b[0;32m-> 2101\u001b[0;31m         \u001b[0mself\u001b[0m\u001b[0;34m.\u001b[0m\u001b[0m_update_line_limits\u001b[0m\u001b[0;34m(\u001b[0m\u001b[0mline\u001b[0m\u001b[0;34m)\u001b[0m\u001b[0;34m\u001b[0m\u001b[0;34m\u001b[0m\u001b[0m\n\u001b[0m\u001b[1;32m   2102\u001b[0m         \u001b[0;32mif\u001b[0m \u001b[0;32mnot\u001b[0m \u001b[0mline\u001b[0m\u001b[0;34m.\u001b[0m\u001b[0mget_label\u001b[0m\u001b[0;34m(\u001b[0m\u001b[0;34m)\u001b[0m\u001b[0;34m:\u001b[0m\u001b[0;34m\u001b[0m\u001b[0;34m\u001b[0m\u001b[0m\n\u001b[1;32m   2103\u001b[0m             \u001b[0mline\u001b[0m\u001b[0;34m.\u001b[0m\u001b[0mset_label\u001b[0m\u001b[0;34m(\u001b[0m\u001b[0;34m'_line%d'\u001b[0m \u001b[0;34m%\u001b[0m \u001b[0mlen\u001b[0m\u001b[0;34m(\u001b[0m\u001b[0mself\u001b[0m\u001b[0;34m.\u001b[0m\u001b[0mlines\u001b[0m\u001b[0;34m)\u001b[0m\u001b[0;34m)\u001b[0m\u001b[0;34m\u001b[0m\u001b[0;34m\u001b[0m\u001b[0m\n",
      "\u001b[0;32m/Library/Frameworks/Python.framework/Versions/3.9/lib/python3.9/site-packages/matplotlib/axes/_base.py\u001b[0m in \u001b[0;36m_update_line_limits\u001b[0;34m(self, line)\u001b[0m\n\u001b[1;32m   2121\u001b[0m         \u001b[0mFigures\u001b[0m \u001b[0mout\u001b[0m \u001b[0mthe\u001b[0m \u001b[0mdata\u001b[0m \u001b[0mlimit\u001b[0m \u001b[0mof\u001b[0m \u001b[0mthe\u001b[0m \u001b[0mgiven\u001b[0m \u001b[0mline\u001b[0m\u001b[0;34m,\u001b[0m \u001b[0mupdating\u001b[0m \u001b[0mself\u001b[0m\u001b[0;34m.\u001b[0m\u001b[0mdataLim\u001b[0m\u001b[0;34m.\u001b[0m\u001b[0;34m\u001b[0m\u001b[0;34m\u001b[0m\u001b[0m\n\u001b[1;32m   2122\u001b[0m         \"\"\"\n\u001b[0;32m-> 2123\u001b[0;31m         \u001b[0mpath\u001b[0m \u001b[0;34m=\u001b[0m \u001b[0mline\u001b[0m\u001b[0;34m.\u001b[0m\u001b[0mget_path\u001b[0m\u001b[0;34m(\u001b[0m\u001b[0;34m)\u001b[0m\u001b[0;34m\u001b[0m\u001b[0;34m\u001b[0m\u001b[0m\n\u001b[0m\u001b[1;32m   2124\u001b[0m         \u001b[0;32mif\u001b[0m \u001b[0mpath\u001b[0m\u001b[0;34m.\u001b[0m\u001b[0mvertices\u001b[0m\u001b[0;34m.\u001b[0m\u001b[0msize\u001b[0m \u001b[0;34m==\u001b[0m \u001b[0;36m0\u001b[0m\u001b[0;34m:\u001b[0m\u001b[0;34m\u001b[0m\u001b[0;34m\u001b[0m\u001b[0m\n\u001b[1;32m   2125\u001b[0m             \u001b[0;32mreturn\u001b[0m\u001b[0;34m\u001b[0m\u001b[0;34m\u001b[0m\u001b[0m\n",
      "\u001b[0;32m/Library/Frameworks/Python.framework/Versions/3.9/lib/python3.9/site-packages/matplotlib/lines.py\u001b[0m in \u001b[0;36mget_path\u001b[0;34m(self)\u001b[0m\n\u001b[1;32m   1020\u001b[0m         \"\"\"\n\u001b[1;32m   1021\u001b[0m         \u001b[0;32mif\u001b[0m \u001b[0mself\u001b[0m\u001b[0;34m.\u001b[0m\u001b[0m_invalidy\u001b[0m \u001b[0;32mor\u001b[0m \u001b[0mself\u001b[0m\u001b[0;34m.\u001b[0m\u001b[0m_invalidx\u001b[0m\u001b[0;34m:\u001b[0m\u001b[0;34m\u001b[0m\u001b[0;34m\u001b[0m\u001b[0m\n\u001b[0;32m-> 1022\u001b[0;31m             \u001b[0mself\u001b[0m\u001b[0;34m.\u001b[0m\u001b[0mrecache\u001b[0m\u001b[0;34m(\u001b[0m\u001b[0;34m)\u001b[0m\u001b[0;34m\u001b[0m\u001b[0;34m\u001b[0m\u001b[0m\n\u001b[0m\u001b[1;32m   1023\u001b[0m         \u001b[0;32mreturn\u001b[0m \u001b[0mself\u001b[0m\u001b[0;34m.\u001b[0m\u001b[0m_path\u001b[0m\u001b[0;34m\u001b[0m\u001b[0;34m\u001b[0m\u001b[0m\n\u001b[1;32m   1024\u001b[0m \u001b[0;34m\u001b[0m\u001b[0m\n",
      "\u001b[0;32m/Library/Frameworks/Python.framework/Versions/3.9/lib/python3.9/site-packages/matplotlib/lines.py\u001b[0m in \u001b[0;36mrecache\u001b[0;34m(self, always)\u001b[0m\n\u001b[1;32m    661\u001b[0m         \u001b[0;32mif\u001b[0m \u001b[0malways\u001b[0m \u001b[0;32mor\u001b[0m \u001b[0mself\u001b[0m\u001b[0;34m.\u001b[0m\u001b[0m_invalidx\u001b[0m\u001b[0;34m:\u001b[0m\u001b[0;34m\u001b[0m\u001b[0;34m\u001b[0m\u001b[0m\n\u001b[1;32m    662\u001b[0m             \u001b[0mxconv\u001b[0m \u001b[0;34m=\u001b[0m \u001b[0mself\u001b[0m\u001b[0;34m.\u001b[0m\u001b[0mconvert_xunits\u001b[0m\u001b[0;34m(\u001b[0m\u001b[0mself\u001b[0m\u001b[0;34m.\u001b[0m\u001b[0m_xorig\u001b[0m\u001b[0;34m)\u001b[0m\u001b[0;34m\u001b[0m\u001b[0;34m\u001b[0m\u001b[0m\n\u001b[0;32m--> 663\u001b[0;31m             \u001b[0mx\u001b[0m \u001b[0;34m=\u001b[0m \u001b[0m_to_unmasked_float_array\u001b[0m\u001b[0;34m(\u001b[0m\u001b[0mxconv\u001b[0m\u001b[0;34m)\u001b[0m\u001b[0;34m.\u001b[0m\u001b[0mravel\u001b[0m\u001b[0;34m(\u001b[0m\u001b[0;34m)\u001b[0m\u001b[0;34m\u001b[0m\u001b[0;34m\u001b[0m\u001b[0m\n\u001b[0m\u001b[1;32m    664\u001b[0m         \u001b[0;32melse\u001b[0m\u001b[0;34m:\u001b[0m\u001b[0;34m\u001b[0m\u001b[0;34m\u001b[0m\u001b[0m\n\u001b[1;32m    665\u001b[0m             \u001b[0mx\u001b[0m \u001b[0;34m=\u001b[0m \u001b[0mself\u001b[0m\u001b[0;34m.\u001b[0m\u001b[0m_x\u001b[0m\u001b[0;34m\u001b[0m\u001b[0;34m\u001b[0m\u001b[0m\n",
      "\u001b[0;32m/Library/Frameworks/Python.framework/Versions/3.9/lib/python3.9/site-packages/matplotlib/cbook/__init__.py\u001b[0m in \u001b[0;36m_to_unmasked_float_array\u001b[0;34m(x)\u001b[0m\n\u001b[1;32m   1331\u001b[0m         \u001b[0;32mreturn\u001b[0m \u001b[0mnp\u001b[0m\u001b[0;34m.\u001b[0m\u001b[0mma\u001b[0m\u001b[0;34m.\u001b[0m\u001b[0masarray\u001b[0m\u001b[0;34m(\u001b[0m\u001b[0mx\u001b[0m\u001b[0;34m,\u001b[0m \u001b[0mfloat\u001b[0m\u001b[0;34m)\u001b[0m\u001b[0;34m.\u001b[0m\u001b[0mfilled\u001b[0m\u001b[0;34m(\u001b[0m\u001b[0mnp\u001b[0m\u001b[0;34m.\u001b[0m\u001b[0mnan\u001b[0m\u001b[0;34m)\u001b[0m\u001b[0;34m\u001b[0m\u001b[0;34m\u001b[0m\u001b[0m\n\u001b[1;32m   1332\u001b[0m     \u001b[0;32melse\u001b[0m\u001b[0;34m:\u001b[0m\u001b[0;34m\u001b[0m\u001b[0;34m\u001b[0m\u001b[0m\n\u001b[0;32m-> 1333\u001b[0;31m         \u001b[0;32mreturn\u001b[0m \u001b[0mnp\u001b[0m\u001b[0;34m.\u001b[0m\u001b[0masarray\u001b[0m\u001b[0;34m(\u001b[0m\u001b[0mx\u001b[0m\u001b[0;34m,\u001b[0m \u001b[0mfloat\u001b[0m\u001b[0;34m)\u001b[0m\u001b[0;34m\u001b[0m\u001b[0;34m\u001b[0m\u001b[0m\n\u001b[0m\u001b[1;32m   1334\u001b[0m \u001b[0;34m\u001b[0m\u001b[0m\n\u001b[1;32m   1335\u001b[0m \u001b[0;34m\u001b[0m\u001b[0m\n",
      "\u001b[0;32m/Library/Frameworks/Python.framework/Versions/3.9/lib/python3.9/site-packages/numpy/core/_asarray.py\u001b[0m in \u001b[0;36masarray\u001b[0;34m(a, dtype, order, like)\u001b[0m\n\u001b[1;32m    100\u001b[0m         \u001b[0;32mreturn\u001b[0m \u001b[0m_asarray_with_like\u001b[0m\u001b[0;34m(\u001b[0m\u001b[0ma\u001b[0m\u001b[0;34m,\u001b[0m \u001b[0mdtype\u001b[0m\u001b[0;34m=\u001b[0m\u001b[0mdtype\u001b[0m\u001b[0;34m,\u001b[0m \u001b[0morder\u001b[0m\u001b[0;34m=\u001b[0m\u001b[0morder\u001b[0m\u001b[0;34m,\u001b[0m \u001b[0mlike\u001b[0m\u001b[0;34m=\u001b[0m\u001b[0mlike\u001b[0m\u001b[0;34m)\u001b[0m\u001b[0;34m\u001b[0m\u001b[0;34m\u001b[0m\u001b[0m\n\u001b[1;32m    101\u001b[0m \u001b[0;34m\u001b[0m\u001b[0m\n\u001b[0;32m--> 102\u001b[0;31m     \u001b[0;32mreturn\u001b[0m \u001b[0marray\u001b[0m\u001b[0;34m(\u001b[0m\u001b[0ma\u001b[0m\u001b[0;34m,\u001b[0m \u001b[0mdtype\u001b[0m\u001b[0;34m,\u001b[0m \u001b[0mcopy\u001b[0m\u001b[0;34m=\u001b[0m\u001b[0;32mFalse\u001b[0m\u001b[0;34m,\u001b[0m \u001b[0morder\u001b[0m\u001b[0;34m=\u001b[0m\u001b[0morder\u001b[0m\u001b[0;34m)\u001b[0m\u001b[0;34m\u001b[0m\u001b[0;34m\u001b[0m\u001b[0m\n\u001b[0m\u001b[1;32m    103\u001b[0m \u001b[0;34m\u001b[0m\u001b[0m\n\u001b[1;32m    104\u001b[0m \u001b[0;34m\u001b[0m\u001b[0m\n",
      "\u001b[0;31mValueError\u001b[0m: setting an array element with a sequence."
     ]
    }
   ],
   "source": [
    "import matplotlib.pyplot as plt\n",
    "import cartopy.crs as ccrs\n",
    "import cartopy.feature as cfeature \n",
    "\n",
    "times = [900, 1733, 1333, 800, 216] \n",
    "colors = ['seagreen','red', 'goldenrod', 'cornflowerblue', 'pink']\n",
    "\n",
    "x = []\n",
    "y = []\n",
    "\n",
    "for time, color in zip(times, colors): \n",
    "    alive = ts.individuals_alive_at(time)\n",
    "    where = ts.individual_locations[alive] \n",
    "    x_plot = where[:,0] \n",
    "    y_plot = where[:,1] \n",
    "    x.append(x_plot)\n",
    "    y.append(y_plot)\n",
    "    \n",
    "figmap = plt.figure()\n",
    "\n",
    "mapping = figmap.add_subplot(projection=ccrs.PlateCarree())\n",
    "mapping.coastlines()\n",
    "#mapping.set_xlim(-20, 60)\n",
    "#mapping.set_ylim(20, 60)\n",
    "\n",
    "plt.plot(x,y,transform=ccrs.PlateCarree())\n",
    "plt.show()"
   ]
  },
  {
   "cell_type": "code",
   "execution_count": null,
   "id": "18b40685-6d6c-4687-a68f-af787929ec9c",
   "metadata": {},
   "outputs": [],
   "source": [
    "import matplotlib.pyplot as plt\n",
    "import cartopy.crs as ccrs\n",
    "import cartopy.feature as cfeature \n",
    "\n",
    "figmap = plt.figure()\n",
    "\n",
    "mapping = figmap.add_subplot(projection=ccrs.PlateCarree())\n",
    "mapping.coastlines()\n",
    "mapping.set_xlim(-20, 60)\n",
    "mapping.set_ylim(20, 60)\n",
    "\n",
    "plt.plot(x,y,transform=ccrs.PlateCarree())\n",
    "\n",
    "times = [900, 1733, 1333, 800, 216] \n",
    "colors = ['seagreen','red', 'goldenrod', 'cornflowerblue', 'pink']\n",
    "\n",
    "for time, color in zip(times, colors): \n",
    "    alive = ts.individuals_alive_at(time)\n",
    "    where = ts.individual_locations[alive] \n",
    "    x = where[:,0] \n",
    "    y = where[:,1] \n",
    "    plt.scatter(x, y, label= 't=%d' %time, color=color, s=3) \n",
    "\n",
    "\n",
    "plt.show()"
   ]
  },
  {
   "cell_type": "code",
   "execution_count": null,
   "id": "f8de5c31-cc13-4029-85ed-2c6d8543d7b1",
   "metadata": {},
   "outputs": [],
   "source": []
  }
 ],
 "metadata": {
  "kernelspec": {
   "display_name": "Python 3",
   "language": "python",
   "name": "python3"
  },
  "language_info": {
   "codemirror_mode": {
    "name": "ipython",
    "version": 3
   },
   "file_extension": ".py",
   "mimetype": "text/x-python",
   "name": "python",
   "nbconvert_exporter": "python",
   "pygments_lexer": "ipython3",
   "version": "3.9.5"
  }
 },
 "nbformat": 4,
 "nbformat_minor": 5
}
