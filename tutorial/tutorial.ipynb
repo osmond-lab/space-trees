{
 "cells": [
  {
   "cell_type": "markdown",
   "id": "c187475d-44b2-432b-8fcf-2db035e8ae95",
   "metadata": {},
   "source": [
    "# tutorial"
   ]
  },
  {
   "cell_type": "markdown",
   "id": "1398698b-a64b-473c-a0f0-4e54b2fc433e",
   "metadata": {},
   "source": [
    "A. link to helpful python docs\n",
    "\n",
    "Recapitation, Simplification, and Mutation: https://pyslim.readthedocs.io/en/latest/tutorial.html#recapitation-simplification-and-mutation\n",
    "\n",
    "Saving Individuals in .trees file: https://pyslim.readthedocs.io/en/latest/tutorial.html#obtaining-and-saving-individuals\n",
    "\n",
    "Some Basic Plotting:\n",
    "https://www.geeksforgeeks.org/graph-plotting-in-python-set-1/\n",
    "\n",
    "(All this info may feel overwhelming/confusing in the beginning, so feel free to stick to the tutorial and browse through some links for extra detail/help!)"
   ]
  },
  {
   "cell_type": "markdown",
   "id": "0e2cd9f5-8143-4178-8e30-f08d0ca39501",
   "metadata": {},
   "source": [
    "B. Which packages you need and what they do and link to docs\n",
    "\n",
    "What is pyslim + how to install: https://pypi.org/project/pyslim/\n",
    "\n",
    "What is tskit: https://tskit.dev/tskit/docs/stable/introduction.html\n",
    "    + Install tskit: https://tskit.dev/tskit/docs/stable/installation.html\n",
    "\n",
    "What is NumPy, install, import: https://numpy.org/doc/stable/user/absolute_beginners.html\n",
    "\n",
    "What is Msprime: https://tskit.dev/msprime/docs/stable/quickstart.html\n",
    "    + Install Msprime: https://tskit.dev/msprime/docs/stable/installation.html#sec-installation\n",
    "\n",
    "Install IPython: https://ipython.org/install.html\n",
    "\t(SVG from IPython.display allows us to display trees in SVG format)\n",
    "    \n",
    "What is Matplotlib: https://matplotlib.org/stable/index.html\n",
    "    + Install Matplotlib: https://matplotlib.org/stable/users/installing.html\n",
    "    (We can use things like matplotlib.pyplot as plt for plotting, matplotlib.cm as cm \n",
    "    for color maps, and various widgets)"
   ]
  },
  {
   "cell_type": "code",
   "execution_count": 3,
   "id": "8e0e8c86-5b70-4ac2-b3a4-51885c0e9f1b",
   "metadata": {},
   "outputs": [],
   "source": [
    "#We can import these packages in our notebooks like this:\n",
    "import pyslim, tskit\n",
    "import numpy as np\n",
    "import msprime\n",
    "from IPython.display import SVG #for displaying trees in svg format\n",
    "import matplotlib\n",
    "import matplotlib.pyplot as plt #plotting\n",
    "import matplotlib.cm as cm #color maps\n",
    "%matplotlib inline"
   ]
  },
  {
   "cell_type": "markdown",
   "id": "e4fd2858-9f8c-40f6-9dba-35096b07da7e",
   "metadata": {},
   "source": [
    "## 1. load and simplify tree sequence to a sample"
   ]
  },
  {
   "cell_type": "markdown",
   "id": "55b370a7-1cb9-479b-a9a4-e6529ab9fc4d",
   "metadata": {},
   "source": [
    "include slim code? or in github"
   ]
  },
  {
   "cell_type": "markdown",
   "id": "f2d9d0fb-5e6d-4a32-9f00-cd5c03e9d5b2",
   "metadata": {},
   "source": [
    "## 2. locate children and parents"
   ]
  },
  {
   "cell_type": "markdown",
   "id": "ac394228-3ab1-40a5-b3bc-4705407ead04",
   "metadata": {},
   "source": [
    "## 3. 2D plotting space trees"
   ]
  },
  {
   "cell_type": "markdown",
   "id": "4b2498ca-ce1d-46e2-922d-437ae593d9d8",
   "metadata": {},
   "source": [
    "## 4. 3D plotting"
   ]
  },
  {
   "cell_type": "markdown",
   "id": "3b5b94ee-5e06-4403-b851-b31d655dc3ea",
   "metadata": {},
   "source": [
    "# extensions"
   ]
  },
  {
   "cell_type": "markdown",
   "id": "4f7f14fd-4d0a-45bd-afe7-1632b222fed4",
   "metadata": {},
   "source": [
    "## mutations/selected alleles"
   ]
  },
  {
   "cell_type": "markdown",
   "id": "9112a716-220f-4b59-96a8-e16b0514dc2e",
   "metadata": {},
   "source": [
    "## discrete space / metapopulations"
   ]
  },
  {
   "cell_type": "markdown",
   "id": "3792ed1a-31dd-49ba-8d8b-9752377d8e5b",
   "metadata": {},
   "source": [
    "## slendr"
   ]
  },
  {
   "cell_type": "markdown",
   "id": "345051b1-d990-4cc4-bdc6-517c535488c1",
   "metadata": {},
   "source": []
  }
 ],
 "metadata": {
  "kernelspec": {
   "display_name": "Python 3",
   "language": "python",
   "name": "python3"
  },
  "language_info": {
   "codemirror_mode": {
    "name": "ipython",
    "version": 3
   },
   "file_extension": ".py",
   "mimetype": "text/x-python",
   "name": "python",
   "nbconvert_exporter": "python",
   "pygments_lexer": "ipython3",
   "version": "3.9.5"
  }
 },
 "nbformat": 4,
 "nbformat_minor": 5
}
